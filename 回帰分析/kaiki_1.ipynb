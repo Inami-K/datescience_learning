{
  "nbformat": 4,
  "nbformat_minor": 0,
  "metadata": {
    "colab": {
      "provenance": []
    },
    "kernelspec": {
      "name": "python3",
      "display_name": "Python 3"
    },
    "language_info": {
      "name": "python"
    }
  },
  "cells": [
    {
      "cell_type": "markdown",
      "source": [
        "# **# 回帰の手法を学ぼう#1**"
      ],
      "metadata": {
        "id": "0m5qajwYeUM3"
      }
    },
    {
      "cell_type": "markdown",
      "source": [
        "**機械学習を活用した回帰の流れは以下の通り**\n",
        "\n",
        "1.課題把握とゴールの設定\n",
        "\n",
        "2.必要なライブラリのインポート\n",
        "\n",
        "3.データセットの準備\n",
        "\n",
        "4.予測モデルの学習\n",
        "\n",
        "5.予測モデルの評価\n",
        "\n",
        "6.予測"
      ],
      "metadata": {
        "id": "Kyfc76SbCoyn"
      }
    },
    {
      "cell_type": "markdown",
      "source": [
        "**1.課題把握とゴールの設定**\n",
        "\n",
        "*課題*\n",
        "\n",
        "・カリフォルニアにある住宅に関するデータから、住宅価格を予測したい。\n",
        "\n",
        "・住宅価格は、主にどの要素から影響を受けているか知りたい。\n",
        "\n",
        "*ゴール*\n",
        "\n",
        "・住宅価格を予測する計算式を決定する。\n",
        "\n",
        "・住宅に関する各要素が、住宅価格に与える影響度合いについても見解を述べる。"
      ],
      "metadata": {
        "id": "0b1HeMehC0Qs"
      }
    },
    {
      "cell_type": "markdown",
      "source": [
        "**2.必要なライブラリーのインポート**"
      ],
      "metadata": {
        "id": "lDaIfZknDlFX"
      }
    },
    {
      "cell_type": "code",
      "source": [
        "import numpy as np\n",
        "import pandas as pd\n",
        "import seaborn as sns\n",
        "!pip install japanize-matplotlib\n",
        "import japanize_matplotlib"
      ],
      "metadata": {
        "colab": {
          "base_uri": "https://localhost:8080/"
        },
        "id": "KbqIKmK1Dl3V",
        "outputId": "1a4a3d75-79f1-4dc3-f41d-2123866cca02"
      },
      "execution_count": 11,
      "outputs": [
        {
          "output_type": "stream",
          "name": "stdout",
          "text": [
            "Requirement already satisfied: japanize-matplotlib in /usr/local/lib/python3.10/dist-packages (1.1.3)\n",
            "Requirement already satisfied: matplotlib in /usr/local/lib/python3.10/dist-packages (from japanize-matplotlib) (3.7.1)\n",
            "Requirement already satisfied: contourpy>=1.0.1 in /usr/local/lib/python3.10/dist-packages (from matplotlib->japanize-matplotlib) (1.2.0)\n",
            "Requirement already satisfied: cycler>=0.10 in /usr/local/lib/python3.10/dist-packages (from matplotlib->japanize-matplotlib) (0.12.1)\n",
            "Requirement already satisfied: fonttools>=4.22.0 in /usr/local/lib/python3.10/dist-packages (from matplotlib->japanize-matplotlib) (4.49.0)\n",
            "Requirement already satisfied: kiwisolver>=1.0.1 in /usr/local/lib/python3.10/dist-packages (from matplotlib->japanize-matplotlib) (1.4.5)\n",
            "Requirement already satisfied: numpy>=1.20 in /usr/local/lib/python3.10/dist-packages (from matplotlib->japanize-matplotlib) (1.25.2)\n",
            "Requirement already satisfied: packaging>=20.0 in /usr/local/lib/python3.10/dist-packages (from matplotlib->japanize-matplotlib) (24.0)\n",
            "Requirement already satisfied: pillow>=6.2.0 in /usr/local/lib/python3.10/dist-packages (from matplotlib->japanize-matplotlib) (9.4.0)\n",
            "Requirement already satisfied: pyparsing>=2.3.1 in /usr/local/lib/python3.10/dist-packages (from matplotlib->japanize-matplotlib) (3.1.2)\n",
            "Requirement already satisfied: python-dateutil>=2.7 in /usr/local/lib/python3.10/dist-packages (from matplotlib->japanize-matplotlib) (2.8.2)\n",
            "Requirement already satisfied: six>=1.5 in /usr/local/lib/python3.10/dist-packages (from python-dateutil>=2.7->matplotlib->japanize-matplotlib) (1.16.0)\n"
          ]
        }
      ]
    },
    {
      "cell_type": "markdown",
      "source": [
        "**3.データセットの準備**"
      ],
      "metadata": {
        "id": "RW0oSrxYD6iw"
      }
    },
    {
      "cell_type": "code",
      "source": [
        "df = pd.read_csv('/content/california_housing_cleansing.csv')\n",
        "df.head()"
      ],
      "metadata": {
        "colab": {
          "base_uri": "https://localhost:8080/",
          "height": 206
        },
        "id": "M040hOG7FBra",
        "outputId": "cc2e432b-6781-416d-d5b3-47f9d9edcdff"
      },
      "execution_count": 12,
      "outputs": [
        {
          "output_type": "execute_result",
          "data": {
            "text/plain": [
              "   Unnamed: 0      所得   築年数    地域人口     緯度      経度   住宅価格     部屋数/人     寝室数/人\n",
              "0           0  8.3252  41.0   322.0  37.88 -122.23  4.526  2.732919  0.400621\n",
              "1           1  8.3014  21.0  2401.0  37.86 -122.22  3.585  2.956685  0.460641\n",
              "2           8  2.0804  42.0  1206.0  37.84 -122.26  2.267  2.118574  0.551410\n",
              "3          15  2.1250  50.0   697.0  37.85 -122.26  1.400  1.606887  0.406026\n",
              "4          18  1.9911  50.0   990.0  37.84 -122.26  1.587  2.261616  0.459596"
            ],
            "text/html": [
              "\n",
              "  <div id=\"df-a0ac250f-c32a-42bc-a0ba-cbec27cce7cc\" class=\"colab-df-container\">\n",
              "    <div>\n",
              "<style scoped>\n",
              "    .dataframe tbody tr th:only-of-type {\n",
              "        vertical-align: middle;\n",
              "    }\n",
              "\n",
              "    .dataframe tbody tr th {\n",
              "        vertical-align: top;\n",
              "    }\n",
              "\n",
              "    .dataframe thead th {\n",
              "        text-align: right;\n",
              "    }\n",
              "</style>\n",
              "<table border=\"1\" class=\"dataframe\">\n",
              "  <thead>\n",
              "    <tr style=\"text-align: right;\">\n",
              "      <th></th>\n",
              "      <th>Unnamed: 0</th>\n",
              "      <th>所得</th>\n",
              "      <th>築年数</th>\n",
              "      <th>地域人口</th>\n",
              "      <th>緯度</th>\n",
              "      <th>経度</th>\n",
              "      <th>住宅価格</th>\n",
              "      <th>部屋数/人</th>\n",
              "      <th>寝室数/人</th>\n",
              "    </tr>\n",
              "  </thead>\n",
              "  <tbody>\n",
              "    <tr>\n",
              "      <th>0</th>\n",
              "      <td>0</td>\n",
              "      <td>8.3252</td>\n",
              "      <td>41.0</td>\n",
              "      <td>322.0</td>\n",
              "      <td>37.88</td>\n",
              "      <td>-122.23</td>\n",
              "      <td>4.526</td>\n",
              "      <td>2.732919</td>\n",
              "      <td>0.400621</td>\n",
              "    </tr>\n",
              "    <tr>\n",
              "      <th>1</th>\n",
              "      <td>1</td>\n",
              "      <td>8.3014</td>\n",
              "      <td>21.0</td>\n",
              "      <td>2401.0</td>\n",
              "      <td>37.86</td>\n",
              "      <td>-122.22</td>\n",
              "      <td>3.585</td>\n",
              "      <td>2.956685</td>\n",
              "      <td>0.460641</td>\n",
              "    </tr>\n",
              "    <tr>\n",
              "      <th>2</th>\n",
              "      <td>8</td>\n",
              "      <td>2.0804</td>\n",
              "      <td>42.0</td>\n",
              "      <td>1206.0</td>\n",
              "      <td>37.84</td>\n",
              "      <td>-122.26</td>\n",
              "      <td>2.267</td>\n",
              "      <td>2.118574</td>\n",
              "      <td>0.551410</td>\n",
              "    </tr>\n",
              "    <tr>\n",
              "      <th>3</th>\n",
              "      <td>15</td>\n",
              "      <td>2.1250</td>\n",
              "      <td>50.0</td>\n",
              "      <td>697.0</td>\n",
              "      <td>37.85</td>\n",
              "      <td>-122.26</td>\n",
              "      <td>1.400</td>\n",
              "      <td>1.606887</td>\n",
              "      <td>0.406026</td>\n",
              "    </tr>\n",
              "    <tr>\n",
              "      <th>4</th>\n",
              "      <td>18</td>\n",
              "      <td>1.9911</td>\n",
              "      <td>50.0</td>\n",
              "      <td>990.0</td>\n",
              "      <td>37.84</td>\n",
              "      <td>-122.26</td>\n",
              "      <td>1.587</td>\n",
              "      <td>2.261616</td>\n",
              "      <td>0.459596</td>\n",
              "    </tr>\n",
              "  </tbody>\n",
              "</table>\n",
              "</div>\n",
              "    <div class=\"colab-df-buttons\">\n",
              "\n",
              "  <div class=\"colab-df-container\">\n",
              "    <button class=\"colab-df-convert\" onclick=\"convertToInteractive('df-a0ac250f-c32a-42bc-a0ba-cbec27cce7cc')\"\n",
              "            title=\"Convert this dataframe to an interactive table.\"\n",
              "            style=\"display:none;\">\n",
              "\n",
              "  <svg xmlns=\"http://www.w3.org/2000/svg\" height=\"24px\" viewBox=\"0 -960 960 960\">\n",
              "    <path d=\"M120-120v-720h720v720H120Zm60-500h600v-160H180v160Zm220 220h160v-160H400v160Zm0 220h160v-160H400v160ZM180-400h160v-160H180v160Zm440 0h160v-160H620v160ZM180-180h160v-160H180v160Zm440 0h160v-160H620v160Z\"/>\n",
              "  </svg>\n",
              "    </button>\n",
              "\n",
              "  <style>\n",
              "    .colab-df-container {\n",
              "      display:flex;\n",
              "      gap: 12px;\n",
              "    }\n",
              "\n",
              "    .colab-df-convert {\n",
              "      background-color: #E8F0FE;\n",
              "      border: none;\n",
              "      border-radius: 50%;\n",
              "      cursor: pointer;\n",
              "      display: none;\n",
              "      fill: #1967D2;\n",
              "      height: 32px;\n",
              "      padding: 0 0 0 0;\n",
              "      width: 32px;\n",
              "    }\n",
              "\n",
              "    .colab-df-convert:hover {\n",
              "      background-color: #E2EBFA;\n",
              "      box-shadow: 0px 1px 2px rgba(60, 64, 67, 0.3), 0px 1px 3px 1px rgba(60, 64, 67, 0.15);\n",
              "      fill: #174EA6;\n",
              "    }\n",
              "\n",
              "    .colab-df-buttons div {\n",
              "      margin-bottom: 4px;\n",
              "    }\n",
              "\n",
              "    [theme=dark] .colab-df-convert {\n",
              "      background-color: #3B4455;\n",
              "      fill: #D2E3FC;\n",
              "    }\n",
              "\n",
              "    [theme=dark] .colab-df-convert:hover {\n",
              "      background-color: #434B5C;\n",
              "      box-shadow: 0px 1px 3px 1px rgba(0, 0, 0, 0.15);\n",
              "      filter: drop-shadow(0px 1px 2px rgba(0, 0, 0, 0.3));\n",
              "      fill: #FFFFFF;\n",
              "    }\n",
              "  </style>\n",
              "\n",
              "    <script>\n",
              "      const buttonEl =\n",
              "        document.querySelector('#df-a0ac250f-c32a-42bc-a0ba-cbec27cce7cc button.colab-df-convert');\n",
              "      buttonEl.style.display =\n",
              "        google.colab.kernel.accessAllowed ? 'block' : 'none';\n",
              "\n",
              "      async function convertToInteractive(key) {\n",
              "        const element = document.querySelector('#df-a0ac250f-c32a-42bc-a0ba-cbec27cce7cc');\n",
              "        const dataTable =\n",
              "          await google.colab.kernel.invokeFunction('convertToInteractive',\n",
              "                                                    [key], {});\n",
              "        if (!dataTable) return;\n",
              "\n",
              "        const docLinkHtml = 'Like what you see? Visit the ' +\n",
              "          '<a target=\"_blank\" href=https://colab.research.google.com/notebooks/data_table.ipynb>data table notebook</a>'\n",
              "          + ' to learn more about interactive tables.';\n",
              "        element.innerHTML = '';\n",
              "        dataTable['output_type'] = 'display_data';\n",
              "        await google.colab.output.renderOutput(dataTable, element);\n",
              "        const docLink = document.createElement('div');\n",
              "        docLink.innerHTML = docLinkHtml;\n",
              "        element.appendChild(docLink);\n",
              "      }\n",
              "    </script>\n",
              "  </div>\n",
              "\n",
              "\n",
              "<div id=\"df-71f912e7-29d5-4243-85e7-4d22a035ebde\">\n",
              "  <button class=\"colab-df-quickchart\" onclick=\"quickchart('df-71f912e7-29d5-4243-85e7-4d22a035ebde')\"\n",
              "            title=\"Suggest charts\"\n",
              "            style=\"display:none;\">\n",
              "\n",
              "<svg xmlns=\"http://www.w3.org/2000/svg\" height=\"24px\"viewBox=\"0 0 24 24\"\n",
              "     width=\"24px\">\n",
              "    <g>\n",
              "        <path d=\"M19 3H5c-1.1 0-2 .9-2 2v14c0 1.1.9 2 2 2h14c1.1 0 2-.9 2-2V5c0-1.1-.9-2-2-2zM9 17H7v-7h2v7zm4 0h-2V7h2v10zm4 0h-2v-4h2v4z\"/>\n",
              "    </g>\n",
              "</svg>\n",
              "  </button>\n",
              "\n",
              "<style>\n",
              "  .colab-df-quickchart {\n",
              "      --bg-color: #E8F0FE;\n",
              "      --fill-color: #1967D2;\n",
              "      --hover-bg-color: #E2EBFA;\n",
              "      --hover-fill-color: #174EA6;\n",
              "      --disabled-fill-color: #AAA;\n",
              "      --disabled-bg-color: #DDD;\n",
              "  }\n",
              "\n",
              "  [theme=dark] .colab-df-quickchart {\n",
              "      --bg-color: #3B4455;\n",
              "      --fill-color: #D2E3FC;\n",
              "      --hover-bg-color: #434B5C;\n",
              "      --hover-fill-color: #FFFFFF;\n",
              "      --disabled-bg-color: #3B4455;\n",
              "      --disabled-fill-color: #666;\n",
              "  }\n",
              "\n",
              "  .colab-df-quickchart {\n",
              "    background-color: var(--bg-color);\n",
              "    border: none;\n",
              "    border-radius: 50%;\n",
              "    cursor: pointer;\n",
              "    display: none;\n",
              "    fill: var(--fill-color);\n",
              "    height: 32px;\n",
              "    padding: 0;\n",
              "    width: 32px;\n",
              "  }\n",
              "\n",
              "  .colab-df-quickchart:hover {\n",
              "    background-color: var(--hover-bg-color);\n",
              "    box-shadow: 0 1px 2px rgba(60, 64, 67, 0.3), 0 1px 3px 1px rgba(60, 64, 67, 0.15);\n",
              "    fill: var(--button-hover-fill-color);\n",
              "  }\n",
              "\n",
              "  .colab-df-quickchart-complete:disabled,\n",
              "  .colab-df-quickchart-complete:disabled:hover {\n",
              "    background-color: var(--disabled-bg-color);\n",
              "    fill: var(--disabled-fill-color);\n",
              "    box-shadow: none;\n",
              "  }\n",
              "\n",
              "  .colab-df-spinner {\n",
              "    border: 2px solid var(--fill-color);\n",
              "    border-color: transparent;\n",
              "    border-bottom-color: var(--fill-color);\n",
              "    animation:\n",
              "      spin 1s steps(1) infinite;\n",
              "  }\n",
              "\n",
              "  @keyframes spin {\n",
              "    0% {\n",
              "      border-color: transparent;\n",
              "      border-bottom-color: var(--fill-color);\n",
              "      border-left-color: var(--fill-color);\n",
              "    }\n",
              "    20% {\n",
              "      border-color: transparent;\n",
              "      border-left-color: var(--fill-color);\n",
              "      border-top-color: var(--fill-color);\n",
              "    }\n",
              "    30% {\n",
              "      border-color: transparent;\n",
              "      border-left-color: var(--fill-color);\n",
              "      border-top-color: var(--fill-color);\n",
              "      border-right-color: var(--fill-color);\n",
              "    }\n",
              "    40% {\n",
              "      border-color: transparent;\n",
              "      border-right-color: var(--fill-color);\n",
              "      border-top-color: var(--fill-color);\n",
              "    }\n",
              "    60% {\n",
              "      border-color: transparent;\n",
              "      border-right-color: var(--fill-color);\n",
              "    }\n",
              "    80% {\n",
              "      border-color: transparent;\n",
              "      border-right-color: var(--fill-color);\n",
              "      border-bottom-color: var(--fill-color);\n",
              "    }\n",
              "    90% {\n",
              "      border-color: transparent;\n",
              "      border-bottom-color: var(--fill-color);\n",
              "    }\n",
              "  }\n",
              "</style>\n",
              "\n",
              "  <script>\n",
              "    async function quickchart(key) {\n",
              "      const quickchartButtonEl =\n",
              "        document.querySelector('#' + key + ' button');\n",
              "      quickchartButtonEl.disabled = true;  // To prevent multiple clicks.\n",
              "      quickchartButtonEl.classList.add('colab-df-spinner');\n",
              "      try {\n",
              "        const charts = await google.colab.kernel.invokeFunction(\n",
              "            'suggestCharts', [key], {});\n",
              "      } catch (error) {\n",
              "        console.error('Error during call to suggestCharts:', error);\n",
              "      }\n",
              "      quickchartButtonEl.classList.remove('colab-df-spinner');\n",
              "      quickchartButtonEl.classList.add('colab-df-quickchart-complete');\n",
              "    }\n",
              "    (() => {\n",
              "      let quickchartButtonEl =\n",
              "        document.querySelector('#df-71f912e7-29d5-4243-85e7-4d22a035ebde button');\n",
              "      quickchartButtonEl.style.display =\n",
              "        google.colab.kernel.accessAllowed ? 'block' : 'none';\n",
              "    })();\n",
              "  </script>\n",
              "</div>\n",
              "\n",
              "    </div>\n",
              "  </div>\n"
            ],
            "application/vnd.google.colaboratory.intrinsic+json": {
              "type": "dataframe",
              "variable_name": "df",
              "summary": "{\n  \"name\": \"df\",\n  \"rows\": 18572,\n  \"fields\": [\n    {\n      \"column\": \"Unnamed: 0\",\n      \"properties\": {\n        \"dtype\": \"number\",\n        \"std\": 5933,\n        \"min\": 0,\n        \"max\": 20639,\n        \"num_unique_values\": 18572,\n        \"samples\": [\n          12869,\n          8961,\n          20309\n        ],\n        \"semantic_type\": \"\",\n        \"description\": \"\"\n      }\n    },\n    {\n      \"column\": \"\\u6240\\u5f97\",\n      \"properties\": {\n        \"dtype\": \"number\",\n        \"std\": 1.5700448604339163,\n        \"min\": 0.4999,\n        \"max\": 15.0001,\n        \"num_unique_values\": 11739,\n        \"samples\": [\n          6.196,\n          3.6417,\n          6.3639\n        ],\n        \"semantic_type\": \"\",\n        \"description\": \"\"\n      }\n    },\n    {\n      \"column\": \"\\u7bc9\\u5e74\\u6570\",\n      \"properties\": {\n        \"dtype\": \"number\",\n        \"std\": 11.431815300080467,\n        \"min\": 1.0,\n        \"max\": 51.0,\n        \"num_unique_values\": 51,\n        \"samples\": [\n          6.0,\n          25.0,\n          7.0\n        ],\n        \"semantic_type\": \"\",\n        \"description\": \"\"\n      }\n    },\n    {\n      \"column\": \"\\u5730\\u57df\\u4eba\\u53e3\",\n      \"properties\": {\n        \"dtype\": \"number\",\n        \"std\": 1162.944307244388,\n        \"min\": 3.0,\n        \"max\": 35682.0,\n        \"num_unique_values\": 3853,\n        \"samples\": [\n          2294.0,\n          913.0,\n          1901.0\n        ],\n        \"semantic_type\": \"\",\n        \"description\": \"\"\n      }\n    },\n    {\n      \"column\": \"\\u7def\\u5ea6\",\n      \"properties\": {\n        \"dtype\": \"number\",\n        \"std\": 2.147711684136212,\n        \"min\": 32.54,\n        \"max\": 41.95,\n        \"num_unique_values\": 860,\n        \"samples\": [\n          39.9,\n          34.49,\n          38.24\n        ],\n        \"semantic_type\": \"\",\n        \"description\": \"\"\n      }\n    },\n    {\n      \"column\": \"\\u7d4c\\u5ea6\",\n      \"properties\": {\n        \"dtype\": \"number\",\n        \"std\": 1.9808648071162764,\n        \"min\": -124.3,\n        \"max\": -114.31,\n        \"num_unique_values\": 840,\n        \"samples\": [\n          -116.95,\n          -123.0,\n          -122.04\n        ],\n        \"semantic_type\": \"\",\n        \"description\": \"\"\n      }\n    },\n    {\n      \"column\": \"\\u4f4f\\u5b85\\u4fa1\\u683c\",\n      \"properties\": {\n        \"dtype\": \"number\",\n        \"std\": 0.9579023727944934,\n        \"min\": 0.14999,\n        \"max\": 5.0,\n        \"num_unique_values\": 3766,\n        \"samples\": [\n          4.572,\n          4.359,\n          1.358\n        ],\n        \"semantic_type\": \"\",\n        \"description\": \"\"\n      }\n    },\n    {\n      \"column\": \"\\u90e8\\u5c4b\\u6570/\\u4eba\",\n      \"properties\": {\n        \"dtype\": \"number\",\n        \"std\": 1.1224956281068896,\n        \"min\": 0.0025469168900804,\n        \"max\": 55.22222222222222,\n        \"num_unique_values\": 18278,\n        \"samples\": [\n          2.125514403292181,\n          1.538672142368241,\n          1.7852614896988908\n        ],\n        \"semantic_type\": \"\",\n        \"description\": \"\"\n      }\n    },\n    {\n      \"column\": \"\\u5bdd\\u5ba4\\u6570/\\u4eba\",\n      \"properties\": {\n        \"dtype\": \"number\",\n        \"std\": 0.24247920254739955,\n        \"min\": 0.0006702412868632,\n        \"max\": 14.194444444444446,\n        \"num_unique_values\": 17519,\n        \"samples\": [\n          0.349009900990099,\n          0.3653846153846153,\n          0.357830271216098\n        ],\n        \"semantic_type\": \"\",\n        \"description\": \"\"\n      }\n    }\n  ]\n}"
            }
          },
          "metadata": {},
          "execution_count": 12
        }
      ]
    },
    {
      "cell_type": "code",
      "source": [
        "#取り込むデータの列名がブランクの場合、その列は自動的にunnnamed:数字の列名が割り振られる。\n",
        "#不要なのでunnamed:0の列を消去する\n",
        "df = df.drop(columns = ['Unnamed: 0'])\n",
        "df.head()"
      ],
      "metadata": {
        "colab": {
          "base_uri": "https://localhost:8080/",
          "height": 206
        },
        "id": "2GHzdptcFH9N",
        "outputId": "10f48b80-fcb2-44c2-a39e-2da621179c03"
      },
      "execution_count": 13,
      "outputs": [
        {
          "output_type": "execute_result",
          "data": {
            "text/plain": [
              "       所得   築年数    地域人口     緯度      経度   住宅価格     部屋数/人     寝室数/人\n",
              "0  8.3252  41.0   322.0  37.88 -122.23  4.526  2.732919  0.400621\n",
              "1  8.3014  21.0  2401.0  37.86 -122.22  3.585  2.956685  0.460641\n",
              "2  2.0804  42.0  1206.0  37.84 -122.26  2.267  2.118574  0.551410\n",
              "3  2.1250  50.0   697.0  37.85 -122.26  1.400  1.606887  0.406026\n",
              "4  1.9911  50.0   990.0  37.84 -122.26  1.587  2.261616  0.459596"
            ],
            "text/html": [
              "\n",
              "  <div id=\"df-2d9a315b-8e01-4720-b173-f98c0448061d\" class=\"colab-df-container\">\n",
              "    <div>\n",
              "<style scoped>\n",
              "    .dataframe tbody tr th:only-of-type {\n",
              "        vertical-align: middle;\n",
              "    }\n",
              "\n",
              "    .dataframe tbody tr th {\n",
              "        vertical-align: top;\n",
              "    }\n",
              "\n",
              "    .dataframe thead th {\n",
              "        text-align: right;\n",
              "    }\n",
              "</style>\n",
              "<table border=\"1\" class=\"dataframe\">\n",
              "  <thead>\n",
              "    <tr style=\"text-align: right;\">\n",
              "      <th></th>\n",
              "      <th>所得</th>\n",
              "      <th>築年数</th>\n",
              "      <th>地域人口</th>\n",
              "      <th>緯度</th>\n",
              "      <th>経度</th>\n",
              "      <th>住宅価格</th>\n",
              "      <th>部屋数/人</th>\n",
              "      <th>寝室数/人</th>\n",
              "    </tr>\n",
              "  </thead>\n",
              "  <tbody>\n",
              "    <tr>\n",
              "      <th>0</th>\n",
              "      <td>8.3252</td>\n",
              "      <td>41.0</td>\n",
              "      <td>322.0</td>\n",
              "      <td>37.88</td>\n",
              "      <td>-122.23</td>\n",
              "      <td>4.526</td>\n",
              "      <td>2.732919</td>\n",
              "      <td>0.400621</td>\n",
              "    </tr>\n",
              "    <tr>\n",
              "      <th>1</th>\n",
              "      <td>8.3014</td>\n",
              "      <td>21.0</td>\n",
              "      <td>2401.0</td>\n",
              "      <td>37.86</td>\n",
              "      <td>-122.22</td>\n",
              "      <td>3.585</td>\n",
              "      <td>2.956685</td>\n",
              "      <td>0.460641</td>\n",
              "    </tr>\n",
              "    <tr>\n",
              "      <th>2</th>\n",
              "      <td>2.0804</td>\n",
              "      <td>42.0</td>\n",
              "      <td>1206.0</td>\n",
              "      <td>37.84</td>\n",
              "      <td>-122.26</td>\n",
              "      <td>2.267</td>\n",
              "      <td>2.118574</td>\n",
              "      <td>0.551410</td>\n",
              "    </tr>\n",
              "    <tr>\n",
              "      <th>3</th>\n",
              "      <td>2.1250</td>\n",
              "      <td>50.0</td>\n",
              "      <td>697.0</td>\n",
              "      <td>37.85</td>\n",
              "      <td>-122.26</td>\n",
              "      <td>1.400</td>\n",
              "      <td>1.606887</td>\n",
              "      <td>0.406026</td>\n",
              "    </tr>\n",
              "    <tr>\n",
              "      <th>4</th>\n",
              "      <td>1.9911</td>\n",
              "      <td>50.0</td>\n",
              "      <td>990.0</td>\n",
              "      <td>37.84</td>\n",
              "      <td>-122.26</td>\n",
              "      <td>1.587</td>\n",
              "      <td>2.261616</td>\n",
              "      <td>0.459596</td>\n",
              "    </tr>\n",
              "  </tbody>\n",
              "</table>\n",
              "</div>\n",
              "    <div class=\"colab-df-buttons\">\n",
              "\n",
              "  <div class=\"colab-df-container\">\n",
              "    <button class=\"colab-df-convert\" onclick=\"convertToInteractive('df-2d9a315b-8e01-4720-b173-f98c0448061d')\"\n",
              "            title=\"Convert this dataframe to an interactive table.\"\n",
              "            style=\"display:none;\">\n",
              "\n",
              "  <svg xmlns=\"http://www.w3.org/2000/svg\" height=\"24px\" viewBox=\"0 -960 960 960\">\n",
              "    <path d=\"M120-120v-720h720v720H120Zm60-500h600v-160H180v160Zm220 220h160v-160H400v160Zm0 220h160v-160H400v160ZM180-400h160v-160H180v160Zm440 0h160v-160H620v160ZM180-180h160v-160H180v160Zm440 0h160v-160H620v160Z\"/>\n",
              "  </svg>\n",
              "    </button>\n",
              "\n",
              "  <style>\n",
              "    .colab-df-container {\n",
              "      display:flex;\n",
              "      gap: 12px;\n",
              "    }\n",
              "\n",
              "    .colab-df-convert {\n",
              "      background-color: #E8F0FE;\n",
              "      border: none;\n",
              "      border-radius: 50%;\n",
              "      cursor: pointer;\n",
              "      display: none;\n",
              "      fill: #1967D2;\n",
              "      height: 32px;\n",
              "      padding: 0 0 0 0;\n",
              "      width: 32px;\n",
              "    }\n",
              "\n",
              "    .colab-df-convert:hover {\n",
              "      background-color: #E2EBFA;\n",
              "      box-shadow: 0px 1px 2px rgba(60, 64, 67, 0.3), 0px 1px 3px 1px rgba(60, 64, 67, 0.15);\n",
              "      fill: #174EA6;\n",
              "    }\n",
              "\n",
              "    .colab-df-buttons div {\n",
              "      margin-bottom: 4px;\n",
              "    }\n",
              "\n",
              "    [theme=dark] .colab-df-convert {\n",
              "      background-color: #3B4455;\n",
              "      fill: #D2E3FC;\n",
              "    }\n",
              "\n",
              "    [theme=dark] .colab-df-convert:hover {\n",
              "      background-color: #434B5C;\n",
              "      box-shadow: 0px 1px 3px 1px rgba(0, 0, 0, 0.15);\n",
              "      filter: drop-shadow(0px 1px 2px rgba(0, 0, 0, 0.3));\n",
              "      fill: #FFFFFF;\n",
              "    }\n",
              "  </style>\n",
              "\n",
              "    <script>\n",
              "      const buttonEl =\n",
              "        document.querySelector('#df-2d9a315b-8e01-4720-b173-f98c0448061d button.colab-df-convert');\n",
              "      buttonEl.style.display =\n",
              "        google.colab.kernel.accessAllowed ? 'block' : 'none';\n",
              "\n",
              "      async function convertToInteractive(key) {\n",
              "        const element = document.querySelector('#df-2d9a315b-8e01-4720-b173-f98c0448061d');\n",
              "        const dataTable =\n",
              "          await google.colab.kernel.invokeFunction('convertToInteractive',\n",
              "                                                    [key], {});\n",
              "        if (!dataTable) return;\n",
              "\n",
              "        const docLinkHtml = 'Like what you see? Visit the ' +\n",
              "          '<a target=\"_blank\" href=https://colab.research.google.com/notebooks/data_table.ipynb>data table notebook</a>'\n",
              "          + ' to learn more about interactive tables.';\n",
              "        element.innerHTML = '';\n",
              "        dataTable['output_type'] = 'display_data';\n",
              "        await google.colab.output.renderOutput(dataTable, element);\n",
              "        const docLink = document.createElement('div');\n",
              "        docLink.innerHTML = docLinkHtml;\n",
              "        element.appendChild(docLink);\n",
              "      }\n",
              "    </script>\n",
              "  </div>\n",
              "\n",
              "\n",
              "<div id=\"df-6e476ae9-7479-4a28-a03a-89d6cea4ff7d\">\n",
              "  <button class=\"colab-df-quickchart\" onclick=\"quickchart('df-6e476ae9-7479-4a28-a03a-89d6cea4ff7d')\"\n",
              "            title=\"Suggest charts\"\n",
              "            style=\"display:none;\">\n",
              "\n",
              "<svg xmlns=\"http://www.w3.org/2000/svg\" height=\"24px\"viewBox=\"0 0 24 24\"\n",
              "     width=\"24px\">\n",
              "    <g>\n",
              "        <path d=\"M19 3H5c-1.1 0-2 .9-2 2v14c0 1.1.9 2 2 2h14c1.1 0 2-.9 2-2V5c0-1.1-.9-2-2-2zM9 17H7v-7h2v7zm4 0h-2V7h2v10zm4 0h-2v-4h2v4z\"/>\n",
              "    </g>\n",
              "</svg>\n",
              "  </button>\n",
              "\n",
              "<style>\n",
              "  .colab-df-quickchart {\n",
              "      --bg-color: #E8F0FE;\n",
              "      --fill-color: #1967D2;\n",
              "      --hover-bg-color: #E2EBFA;\n",
              "      --hover-fill-color: #174EA6;\n",
              "      --disabled-fill-color: #AAA;\n",
              "      --disabled-bg-color: #DDD;\n",
              "  }\n",
              "\n",
              "  [theme=dark] .colab-df-quickchart {\n",
              "      --bg-color: #3B4455;\n",
              "      --fill-color: #D2E3FC;\n",
              "      --hover-bg-color: #434B5C;\n",
              "      --hover-fill-color: #FFFFFF;\n",
              "      --disabled-bg-color: #3B4455;\n",
              "      --disabled-fill-color: #666;\n",
              "  }\n",
              "\n",
              "  .colab-df-quickchart {\n",
              "    background-color: var(--bg-color);\n",
              "    border: none;\n",
              "    border-radius: 50%;\n",
              "    cursor: pointer;\n",
              "    display: none;\n",
              "    fill: var(--fill-color);\n",
              "    height: 32px;\n",
              "    padding: 0;\n",
              "    width: 32px;\n",
              "  }\n",
              "\n",
              "  .colab-df-quickchart:hover {\n",
              "    background-color: var(--hover-bg-color);\n",
              "    box-shadow: 0 1px 2px rgba(60, 64, 67, 0.3), 0 1px 3px 1px rgba(60, 64, 67, 0.15);\n",
              "    fill: var(--button-hover-fill-color);\n",
              "  }\n",
              "\n",
              "  .colab-df-quickchart-complete:disabled,\n",
              "  .colab-df-quickchart-complete:disabled:hover {\n",
              "    background-color: var(--disabled-bg-color);\n",
              "    fill: var(--disabled-fill-color);\n",
              "    box-shadow: none;\n",
              "  }\n",
              "\n",
              "  .colab-df-spinner {\n",
              "    border: 2px solid var(--fill-color);\n",
              "    border-color: transparent;\n",
              "    border-bottom-color: var(--fill-color);\n",
              "    animation:\n",
              "      spin 1s steps(1) infinite;\n",
              "  }\n",
              "\n",
              "  @keyframes spin {\n",
              "    0% {\n",
              "      border-color: transparent;\n",
              "      border-bottom-color: var(--fill-color);\n",
              "      border-left-color: var(--fill-color);\n",
              "    }\n",
              "    20% {\n",
              "      border-color: transparent;\n",
              "      border-left-color: var(--fill-color);\n",
              "      border-top-color: var(--fill-color);\n",
              "    }\n",
              "    30% {\n",
              "      border-color: transparent;\n",
              "      border-left-color: var(--fill-color);\n",
              "      border-top-color: var(--fill-color);\n",
              "      border-right-color: var(--fill-color);\n",
              "    }\n",
              "    40% {\n",
              "      border-color: transparent;\n",
              "      border-right-color: var(--fill-color);\n",
              "      border-top-color: var(--fill-color);\n",
              "    }\n",
              "    60% {\n",
              "      border-color: transparent;\n",
              "      border-right-color: var(--fill-color);\n",
              "    }\n",
              "    80% {\n",
              "      border-color: transparent;\n",
              "      border-right-color: var(--fill-color);\n",
              "      border-bottom-color: var(--fill-color);\n",
              "    }\n",
              "    90% {\n",
              "      border-color: transparent;\n",
              "      border-bottom-color: var(--fill-color);\n",
              "    }\n",
              "  }\n",
              "</style>\n",
              "\n",
              "  <script>\n",
              "    async function quickchart(key) {\n",
              "      const quickchartButtonEl =\n",
              "        document.querySelector('#' + key + ' button');\n",
              "      quickchartButtonEl.disabled = true;  // To prevent multiple clicks.\n",
              "      quickchartButtonEl.classList.add('colab-df-spinner');\n",
              "      try {\n",
              "        const charts = await google.colab.kernel.invokeFunction(\n",
              "            'suggestCharts', [key], {});\n",
              "      } catch (error) {\n",
              "        console.error('Error during call to suggestCharts:', error);\n",
              "      }\n",
              "      quickchartButtonEl.classList.remove('colab-df-spinner');\n",
              "      quickchartButtonEl.classList.add('colab-df-quickchart-complete');\n",
              "    }\n",
              "    (() => {\n",
              "      let quickchartButtonEl =\n",
              "        document.querySelector('#df-6e476ae9-7479-4a28-a03a-89d6cea4ff7d button');\n",
              "      quickchartButtonEl.style.display =\n",
              "        google.colab.kernel.accessAllowed ? 'block' : 'none';\n",
              "    })();\n",
              "  </script>\n",
              "</div>\n",
              "\n",
              "    </div>\n",
              "  </div>\n"
            ],
            "application/vnd.google.colaboratory.intrinsic+json": {
              "type": "dataframe",
              "variable_name": "df",
              "summary": "{\n  \"name\": \"df\",\n  \"rows\": 18572,\n  \"fields\": [\n    {\n      \"column\": \"\\u6240\\u5f97\",\n      \"properties\": {\n        \"dtype\": \"number\",\n        \"std\": 1.5700448604339163,\n        \"min\": 0.4999,\n        \"max\": 15.0001,\n        \"num_unique_values\": 11739,\n        \"samples\": [\n          6.196,\n          3.6417,\n          6.3639\n        ],\n        \"semantic_type\": \"\",\n        \"description\": \"\"\n      }\n    },\n    {\n      \"column\": \"\\u7bc9\\u5e74\\u6570\",\n      \"properties\": {\n        \"dtype\": \"number\",\n        \"std\": 11.431815300080467,\n        \"min\": 1.0,\n        \"max\": 51.0,\n        \"num_unique_values\": 51,\n        \"samples\": [\n          6.0,\n          25.0,\n          7.0\n        ],\n        \"semantic_type\": \"\",\n        \"description\": \"\"\n      }\n    },\n    {\n      \"column\": \"\\u5730\\u57df\\u4eba\\u53e3\",\n      \"properties\": {\n        \"dtype\": \"number\",\n        \"std\": 1162.944307244388,\n        \"min\": 3.0,\n        \"max\": 35682.0,\n        \"num_unique_values\": 3853,\n        \"samples\": [\n          2294.0,\n          913.0,\n          1901.0\n        ],\n        \"semantic_type\": \"\",\n        \"description\": \"\"\n      }\n    },\n    {\n      \"column\": \"\\u7def\\u5ea6\",\n      \"properties\": {\n        \"dtype\": \"number\",\n        \"std\": 2.147711684136212,\n        \"min\": 32.54,\n        \"max\": 41.95,\n        \"num_unique_values\": 860,\n        \"samples\": [\n          39.9,\n          34.49,\n          38.24\n        ],\n        \"semantic_type\": \"\",\n        \"description\": \"\"\n      }\n    },\n    {\n      \"column\": \"\\u7d4c\\u5ea6\",\n      \"properties\": {\n        \"dtype\": \"number\",\n        \"std\": 1.9808648071162764,\n        \"min\": -124.3,\n        \"max\": -114.31,\n        \"num_unique_values\": 840,\n        \"samples\": [\n          -116.95,\n          -123.0,\n          -122.04\n        ],\n        \"semantic_type\": \"\",\n        \"description\": \"\"\n      }\n    },\n    {\n      \"column\": \"\\u4f4f\\u5b85\\u4fa1\\u683c\",\n      \"properties\": {\n        \"dtype\": \"number\",\n        \"std\": 0.9579023727944934,\n        \"min\": 0.14999,\n        \"max\": 5.0,\n        \"num_unique_values\": 3766,\n        \"samples\": [\n          4.572,\n          4.359,\n          1.358\n        ],\n        \"semantic_type\": \"\",\n        \"description\": \"\"\n      }\n    },\n    {\n      \"column\": \"\\u90e8\\u5c4b\\u6570/\\u4eba\",\n      \"properties\": {\n        \"dtype\": \"number\",\n        \"std\": 1.1224956281068896,\n        \"min\": 0.0025469168900804,\n        \"max\": 55.22222222222222,\n        \"num_unique_values\": 18278,\n        \"samples\": [\n          2.125514403292181,\n          1.538672142368241,\n          1.7852614896988908\n        ],\n        \"semantic_type\": \"\",\n        \"description\": \"\"\n      }\n    },\n    {\n      \"column\": \"\\u5bdd\\u5ba4\\u6570/\\u4eba\",\n      \"properties\": {\n        \"dtype\": \"number\",\n        \"std\": 0.24247920254739955,\n        \"min\": 0.0006702412868632,\n        \"max\": 14.194444444444446,\n        \"num_unique_values\": 17519,\n        \"samples\": [\n          0.349009900990099,\n          0.3653846153846153,\n          0.357830271216098\n        ],\n        \"semantic_type\": \"\",\n        \"description\": \"\"\n      }\n    }\n  ]\n}"
            }
          },
          "metadata": {},
          "execution_count": 13
        }
      ]
    },
    {
      "cell_type": "code",
      "source": [
        "df.shape"
      ],
      "metadata": {
        "colab": {
          "base_uri": "https://localhost:8080/"
        },
        "id": "6g9jy-znFi1u",
        "outputId": "771de3a7-2151-4c20-8f4f-3a96bde12669"
      },
      "execution_count": 14,
      "outputs": [
        {
          "output_type": "execute_result",
          "data": {
            "text/plain": [
              "(18572, 8)"
            ]
          },
          "metadata": {},
          "execution_count": 14
        }
      ]
    },
    {
      "cell_type": "markdown",
      "source": [
        "今回の課題は、カリフォルニアの住宅に関するいくつかのデータから住宅価格を予測すること。\n",
        "\n",
        "したがって、予測モデルにインプットするものは\n",
        "\n",
        "**説明変数X**　＝　住宅価格以外の全列のデータ\n",
        "\n",
        "**目的変数y**　＝　住宅価格のデータ"
      ],
      "metadata": {
        "id": "0sCXigCvFtfA"
      }
    },
    {
      "cell_type": "code",
      "source": [
        "X = df.drop(columns=['住宅価格']).to_numpy()\n",
        "y = df['住宅価格'].to_numpy()"
      ],
      "metadata": {
        "id": "rMxqHX9hGImr"
      },
      "execution_count": 15,
      "outputs": []
    },
    {
      "cell_type": "markdown",
      "source": [
        "このXとyをそれぞれ、学習データとテストデータに分割する。"
      ],
      "metadata": {
        "id": "s2v22NkXGee_"
      }
    },
    {
      "cell_type": "code",
      "source": [
        "#train_test_split関数をインポート\n",
        "from sklearn.model_selection import train_test_split\n",
        "\n",
        "#学習データ：テストデータ　＝　7 : 3 に分割する。\n",
        "#実行ごとに配分されるデータが変わるのを避けたい場合はrandom_stateを指定する。\n",
        "\n",
        "X_train, X_test, y_train, y_test = train_test_split(X, y, test_size=0.3, random_state=0)\n",
        "\n",
        "#データが7:3に分割されたかデータ数を確認する。\n",
        "print(X_train.shape, X_test.shape, y_train.shape, y_test.shape)"
      ],
      "metadata": {
        "colab": {
          "base_uri": "https://localhost:8080/"
        },
        "id": "ZifyWZu_Gpwi",
        "outputId": "d2b3fe77-e4df-4b1c-a54b-b04b8c32906f"
      },
      "execution_count": 16,
      "outputs": [
        {
          "output_type": "stream",
          "name": "stdout",
          "text": [
            "(13000, 7) (5572, 7) (13000,) (5572,)\n"
          ]
        }
      ]
    },
    {
      "cell_type": "markdown",
      "source": [
        "**4.予測モデルの学習**\n",
        "\n",
        "重回帰で分析を行う場合、scikit-learnのLinearRegressionクラスを活用できる。"
      ],
      "metadata": {
        "id": "WZavfKCqIF-J"
      }
    },
    {
      "cell_type": "code",
      "source": [
        "#linear_modelモジュールのLinearRegressionクラスをインポート\n",
        "from sklearn.linear_model import LinearRegression\n",
        "\n",
        "#インポートしたLinerRegressionクラスをインスタンス化してmodelという変数に代入\n",
        "model = LinearRegression()\n",
        "\n",
        "#学習データで学習を実行\n",
        "model.fit(X_train, y_train)"
      ],
      "metadata": {
        "colab": {
          "base_uri": "https://localhost:8080/",
          "height": 74
        },
        "id": "sdaw53V-IXnh",
        "outputId": "e052da5b-a418-46f3-aa20-275e015db5d5"
      },
      "execution_count": 17,
      "outputs": [
        {
          "output_type": "execute_result",
          "data": {
            "text/plain": [
              "LinearRegression()"
            ],
            "text/html": [
              "<style>#sk-container-id-1 {color: black;background-color: white;}#sk-container-id-1 pre{padding: 0;}#sk-container-id-1 div.sk-toggleable {background-color: white;}#sk-container-id-1 label.sk-toggleable__label {cursor: pointer;display: block;width: 100%;margin-bottom: 0;padding: 0.3em;box-sizing: border-box;text-align: center;}#sk-container-id-1 label.sk-toggleable__label-arrow:before {content: \"▸\";float: left;margin-right: 0.25em;color: #696969;}#sk-container-id-1 label.sk-toggleable__label-arrow:hover:before {color: black;}#sk-container-id-1 div.sk-estimator:hover label.sk-toggleable__label-arrow:before {color: black;}#sk-container-id-1 div.sk-toggleable__content {max-height: 0;max-width: 0;overflow: hidden;text-align: left;background-color: #f0f8ff;}#sk-container-id-1 div.sk-toggleable__content pre {margin: 0.2em;color: black;border-radius: 0.25em;background-color: #f0f8ff;}#sk-container-id-1 input.sk-toggleable__control:checked~div.sk-toggleable__content {max-height: 200px;max-width: 100%;overflow: auto;}#sk-container-id-1 input.sk-toggleable__control:checked~label.sk-toggleable__label-arrow:before {content: \"▾\";}#sk-container-id-1 div.sk-estimator input.sk-toggleable__control:checked~label.sk-toggleable__label {background-color: #d4ebff;}#sk-container-id-1 div.sk-label input.sk-toggleable__control:checked~label.sk-toggleable__label {background-color: #d4ebff;}#sk-container-id-1 input.sk-hidden--visually {border: 0;clip: rect(1px 1px 1px 1px);clip: rect(1px, 1px, 1px, 1px);height: 1px;margin: -1px;overflow: hidden;padding: 0;position: absolute;width: 1px;}#sk-container-id-1 div.sk-estimator {font-family: monospace;background-color: #f0f8ff;border: 1px dotted black;border-radius: 0.25em;box-sizing: border-box;margin-bottom: 0.5em;}#sk-container-id-1 div.sk-estimator:hover {background-color: #d4ebff;}#sk-container-id-1 div.sk-parallel-item::after {content: \"\";width: 100%;border-bottom: 1px solid gray;flex-grow: 1;}#sk-container-id-1 div.sk-label:hover label.sk-toggleable__label {background-color: #d4ebff;}#sk-container-id-1 div.sk-serial::before {content: \"\";position: absolute;border-left: 1px solid gray;box-sizing: border-box;top: 0;bottom: 0;left: 50%;z-index: 0;}#sk-container-id-1 div.sk-serial {display: flex;flex-direction: column;align-items: center;background-color: white;padding-right: 0.2em;padding-left: 0.2em;position: relative;}#sk-container-id-1 div.sk-item {position: relative;z-index: 1;}#sk-container-id-1 div.sk-parallel {display: flex;align-items: stretch;justify-content: center;background-color: white;position: relative;}#sk-container-id-1 div.sk-item::before, #sk-container-id-1 div.sk-parallel-item::before {content: \"\";position: absolute;border-left: 1px solid gray;box-sizing: border-box;top: 0;bottom: 0;left: 50%;z-index: -1;}#sk-container-id-1 div.sk-parallel-item {display: flex;flex-direction: column;z-index: 1;position: relative;background-color: white;}#sk-container-id-1 div.sk-parallel-item:first-child::after {align-self: flex-end;width: 50%;}#sk-container-id-1 div.sk-parallel-item:last-child::after {align-self: flex-start;width: 50%;}#sk-container-id-1 div.sk-parallel-item:only-child::after {width: 0;}#sk-container-id-1 div.sk-dashed-wrapped {border: 1px dashed gray;margin: 0 0.4em 0.5em 0.4em;box-sizing: border-box;padding-bottom: 0.4em;background-color: white;}#sk-container-id-1 div.sk-label label {font-family: monospace;font-weight: bold;display: inline-block;line-height: 1.2em;}#sk-container-id-1 div.sk-label-container {text-align: center;}#sk-container-id-1 div.sk-container {/* jupyter's `normalize.less` sets `[hidden] { display: none; }` but bootstrap.min.css set `[hidden] { display: none !important; }` so we also need the `!important` here to be able to override the default hidden behavior on the sphinx rendered scikit-learn.org. See: https://github.com/scikit-learn/scikit-learn/issues/21755 */display: inline-block !important;position: relative;}#sk-container-id-1 div.sk-text-repr-fallback {display: none;}</style><div id=\"sk-container-id-1\" class=\"sk-top-container\"><div class=\"sk-text-repr-fallback\"><pre>LinearRegression()</pre><b>In a Jupyter environment, please rerun this cell to show the HTML representation or trust the notebook. <br />On GitHub, the HTML representation is unable to render, please try loading this page with nbviewer.org.</b></div><div class=\"sk-container\" hidden><div class=\"sk-item\"><div class=\"sk-estimator sk-toggleable\"><input class=\"sk-toggleable__control sk-hidden--visually\" id=\"sk-estimator-id-1\" type=\"checkbox\" checked><label for=\"sk-estimator-id-1\" class=\"sk-toggleable__label sk-toggleable__label-arrow\">LinearRegression</label><div class=\"sk-toggleable__content\"><pre>LinearRegression()</pre></div></div></div></div></div>"
            ]
          },
          "metadata": {},
          "execution_count": 17
        }
      ]
    },
    {
      "cell_type": "markdown",
      "source": [
        "**5.予測モデルの評価**\n",
        "\n",
        "決定係数を用いて予測モデルの評価を行う。\n",
        "\n",
        "決定係数は回帰予測モデルに対する評価指標の１つ。\n",
        "\n",
        "最大値を１とし、予測大に対して実際の値の当てはまりが良いほど高い値となる。\n",
        "\n",
        "また、決定係数によって過学習を察知することも可能。\n",
        "\n",
        "学習データで算出した決定係数と、テストデータで算出した決定係数を比較し、後者が著しく低い場合は過学習の疑いがある。"
      ],
      "metadata": {
        "id": "rP6h766RJNn1"
      }
    },
    {
      "cell_type": "code",
      "source": [
        "#scoreメソッドを利用し決定係数を出力する。\n",
        "\n",
        "#学習データを用いた決定係数の算出\n",
        "model.score(X_train, y_train)"
      ],
      "metadata": {
        "colab": {
          "base_uri": "https://localhost:8080/"
        },
        "id": "dtD3Pc_yJsA9",
        "outputId": "d76e2e16-520d-4bf7-b8fb-6a90d6bfc2a0"
      },
      "execution_count": 18,
      "outputs": [
        {
          "output_type": "execute_result",
          "data": {
            "text/plain": [
              "0.5967954005117011"
            ]
          },
          "metadata": {},
          "execution_count": 18
        }
      ]
    },
    {
      "cell_type": "code",
      "source": [
        "#テストデータを用いた決定係数の算出\n",
        "model.score(X_test, y_test)"
      ],
      "metadata": {
        "colab": {
          "base_uri": "https://localhost:8080/"
        },
        "id": "5e8B4W1nJ49M",
        "outputId": "5640c299-d859-4e01-df9b-640a0027d7c6"
      },
      "execution_count": 19,
      "outputs": [
        {
          "output_type": "execute_result",
          "data": {
            "text/plain": [
              "0.5752388860477959"
            ]
          },
          "metadata": {},
          "execution_count": 19
        }
      ]
    },
    {
      "cell_type": "markdown",
      "source": [
        "学習データ0.59\n",
        "\n",
        "テストデータ0.57\n",
        "\n",
        "大きな乖離は見られない。過学習も発生していないと判断できる。\n",
        "\n",
        "\n",
        "---\n",
        "\n",
        "\n",
        "\n",
        "# **＝＝＝＝＝＝＝＝＝＝＝＝＝＝乖離があると判断される数値は？**\n",
        "\n",
        "# **＝＝＝＝＝＝＝＝＝＝＝＝＝＝過学習が発生した状況とは？**"
      ],
      "metadata": {
        "id": "sUky281jKGJQ"
      }
    },
    {
      "cell_type": "markdown",
      "source": [
        "**6.予測**"
      ],
      "metadata": {
        "id": "yg_ZEyfbKyDh"
      }
    },
    {
      "cell_type": "code",
      "source": [
        "#ndarray形式でX_newという変数に保持させる。\n",
        "X_new = np.array([[8, 41, 500, 37, -120, 1, 0.2],\n",
        "                  [2, 10, 2000, 38, -122, 1.5, 0.5],\n",
        "                  [1, 25, 1000, 38, -121, 2, 1]])\n",
        "\n",
        "#予測モデルを利用して、X_newから予測値を算出する。\n",
        "model.predict(X_new)"
      ],
      "metadata": {
        "colab": {
          "base_uri": "https://localhost:8080/"
        },
        "id": "GG5rntPrK3FA",
        "outputId": "8f9ff569-433c-49b0-b68c-7922a603bda4"
      },
      "execution_count": 20,
      "outputs": [
        {
          "output_type": "execute_result",
          "data": {
            "text/plain": [
              "array([3.2387497 , 1.42228534, 1.43428255])"
            ]
          },
          "metadata": {},
          "execution_count": 20
        }
      ]
    },
    {
      "cell_type": "markdown",
      "source": [
        "それぞれの住宅価格だ出力され予測が完了"
      ],
      "metadata": {
        "id": "61qTMW5ZLimp"
      }
    },
    {
      "cell_type": "markdown",
      "source": [
        "\n",
        "\n",
        "---\n",
        "# **＝＝＝＝＝＝＝＝＝＝＝＝＝＝ここで何をしているのか分かりません。**\n"
      ],
      "metadata": {
        "id": "u8QKxidEgVg_"
      }
    },
    {
      "cell_type": "markdown",
      "source": [
        "＝＝＝＝＝＝＝＝＝＝＝＝＝＝＝＝A.　予測値を用意して、試しているだけ。"
      ],
      "metadata": {
        "id": "oy8C9nCH0urH"
      }
    },
    {
      "cell_type": "markdown",
      "source": [
        "**7.設定したゴールに対する考察**\n",
        "\n",
        "・住宅価格を予測する計算式を決定する。\n",
        "\n",
        "・住宅に関する各要素が、住宅価格に与える影響度合いについても見解を述べる。"
      ],
      "metadata": {
        "id": "WGno8HDuLmdv"
      }
    },
    {
      "cell_type": "code",
      "source": [
        "#住宅価格を予測する計算式の作成\n",
        "#重回帰予測モデル\n",
        "\n",
        "#重み\n",
        "print(model.coef_)\n",
        "#切片\n",
        "print(model.intercept_)"
      ],
      "metadata": {
        "colab": {
          "base_uri": "https://localhost:8080/"
        },
        "id": "O2uFonnSL1OD",
        "outputId": "dde035e6-93db-4285-c482-e4280383e174"
      },
      "execution_count": 21,
      "outputs": [
        {
          "output_type": "stream",
          "name": "stdout",
          "text": [
            "[ 4.08110906e-01  6.92312594e-03  1.70628946e-05 -4.04061927e-01\n",
            " -4.10380169e-01 -2.08486703e-01  1.69589529e+00]\n",
            "-34.74453851952332\n"
          ]
        }
      ]
    },
    {
      "cell_type": "markdown",
      "source": [
        "したがって、住宅かかっくを予測する計算式は\n",
        "\n",
        "住宅価格\n",
        "\n",
        "≒所得×0.4081　＋　築年数×0.006923　＋　地域人口×0.00001706　＋　緯度×(-0.4041)　＋　経度×(-0.4104)　＋部屋数/人×(-0.2085)　＋　寝室数×1.696 －　34.74"
      ],
      "metadata": {
        "id": "dgRFGEZZM9oL"
      }
    },
    {
      "cell_type": "markdown",
      "source": [
        "**予測と同じ結果が得られるかどうか**"
      ],
      "metadata": {
        "id": "ySOf22vIMyDT"
      }
    },
    {
      "cell_type": "code",
      "source": [
        "X_new = pd.DataFrame(X_new, columns=['所得', '築年数', '地域人口', '緯度', '経度', '部屋数/人', '寝室数/人'])\n",
        "\n",
        "# DataFrameを表示\n",
        "X_new"
      ],
      "metadata": {
        "colab": {
          "base_uri": "https://localhost:8080/",
          "height": 143
        },
        "id": "DUKIR30NT2Rm",
        "outputId": "257a1f1f-ebda-4f57-e704-ac9f0dd3afc8"
      },
      "execution_count": 22,
      "outputs": [
        {
          "output_type": "execute_result",
          "data": {
            "text/plain": [
              "    所得   築年数    地域人口    緯度     経度  部屋数/人  寝室数/人\n",
              "0  8.0  41.0   500.0  37.0 -120.0    1.0    0.2\n",
              "1  2.0  10.0  2000.0  38.0 -122.0    1.5    0.5\n",
              "2  1.0  25.0  1000.0  38.0 -121.0    2.0    1.0"
            ],
            "text/html": [
              "\n",
              "  <div id=\"df-df2b7e4e-2a97-47c5-a1b3-e097ea4f1fca\" class=\"colab-df-container\">\n",
              "    <div>\n",
              "<style scoped>\n",
              "    .dataframe tbody tr th:only-of-type {\n",
              "        vertical-align: middle;\n",
              "    }\n",
              "\n",
              "    .dataframe tbody tr th {\n",
              "        vertical-align: top;\n",
              "    }\n",
              "\n",
              "    .dataframe thead th {\n",
              "        text-align: right;\n",
              "    }\n",
              "</style>\n",
              "<table border=\"1\" class=\"dataframe\">\n",
              "  <thead>\n",
              "    <tr style=\"text-align: right;\">\n",
              "      <th></th>\n",
              "      <th>所得</th>\n",
              "      <th>築年数</th>\n",
              "      <th>地域人口</th>\n",
              "      <th>緯度</th>\n",
              "      <th>経度</th>\n",
              "      <th>部屋数/人</th>\n",
              "      <th>寝室数/人</th>\n",
              "    </tr>\n",
              "  </thead>\n",
              "  <tbody>\n",
              "    <tr>\n",
              "      <th>0</th>\n",
              "      <td>8.0</td>\n",
              "      <td>41.0</td>\n",
              "      <td>500.0</td>\n",
              "      <td>37.0</td>\n",
              "      <td>-120.0</td>\n",
              "      <td>1.0</td>\n",
              "      <td>0.2</td>\n",
              "    </tr>\n",
              "    <tr>\n",
              "      <th>1</th>\n",
              "      <td>2.0</td>\n",
              "      <td>10.0</td>\n",
              "      <td>2000.0</td>\n",
              "      <td>38.0</td>\n",
              "      <td>-122.0</td>\n",
              "      <td>1.5</td>\n",
              "      <td>0.5</td>\n",
              "    </tr>\n",
              "    <tr>\n",
              "      <th>2</th>\n",
              "      <td>1.0</td>\n",
              "      <td>25.0</td>\n",
              "      <td>1000.0</td>\n",
              "      <td>38.0</td>\n",
              "      <td>-121.0</td>\n",
              "      <td>2.0</td>\n",
              "      <td>1.0</td>\n",
              "    </tr>\n",
              "  </tbody>\n",
              "</table>\n",
              "</div>\n",
              "    <div class=\"colab-df-buttons\">\n",
              "\n",
              "  <div class=\"colab-df-container\">\n",
              "    <button class=\"colab-df-convert\" onclick=\"convertToInteractive('df-df2b7e4e-2a97-47c5-a1b3-e097ea4f1fca')\"\n",
              "            title=\"Convert this dataframe to an interactive table.\"\n",
              "            style=\"display:none;\">\n",
              "\n",
              "  <svg xmlns=\"http://www.w3.org/2000/svg\" height=\"24px\" viewBox=\"0 -960 960 960\">\n",
              "    <path d=\"M120-120v-720h720v720H120Zm60-500h600v-160H180v160Zm220 220h160v-160H400v160Zm0 220h160v-160H400v160ZM180-400h160v-160H180v160Zm440 0h160v-160H620v160ZM180-180h160v-160H180v160Zm440 0h160v-160H620v160Z\"/>\n",
              "  </svg>\n",
              "    </button>\n",
              "\n",
              "  <style>\n",
              "    .colab-df-container {\n",
              "      display:flex;\n",
              "      gap: 12px;\n",
              "    }\n",
              "\n",
              "    .colab-df-convert {\n",
              "      background-color: #E8F0FE;\n",
              "      border: none;\n",
              "      border-radius: 50%;\n",
              "      cursor: pointer;\n",
              "      display: none;\n",
              "      fill: #1967D2;\n",
              "      height: 32px;\n",
              "      padding: 0 0 0 0;\n",
              "      width: 32px;\n",
              "    }\n",
              "\n",
              "    .colab-df-convert:hover {\n",
              "      background-color: #E2EBFA;\n",
              "      box-shadow: 0px 1px 2px rgba(60, 64, 67, 0.3), 0px 1px 3px 1px rgba(60, 64, 67, 0.15);\n",
              "      fill: #174EA6;\n",
              "    }\n",
              "\n",
              "    .colab-df-buttons div {\n",
              "      margin-bottom: 4px;\n",
              "    }\n",
              "\n",
              "    [theme=dark] .colab-df-convert {\n",
              "      background-color: #3B4455;\n",
              "      fill: #D2E3FC;\n",
              "    }\n",
              "\n",
              "    [theme=dark] .colab-df-convert:hover {\n",
              "      background-color: #434B5C;\n",
              "      box-shadow: 0px 1px 3px 1px rgba(0, 0, 0, 0.15);\n",
              "      filter: drop-shadow(0px 1px 2px rgba(0, 0, 0, 0.3));\n",
              "      fill: #FFFFFF;\n",
              "    }\n",
              "  </style>\n",
              "\n",
              "    <script>\n",
              "      const buttonEl =\n",
              "        document.querySelector('#df-df2b7e4e-2a97-47c5-a1b3-e097ea4f1fca button.colab-df-convert');\n",
              "      buttonEl.style.display =\n",
              "        google.colab.kernel.accessAllowed ? 'block' : 'none';\n",
              "\n",
              "      async function convertToInteractive(key) {\n",
              "        const element = document.querySelector('#df-df2b7e4e-2a97-47c5-a1b3-e097ea4f1fca');\n",
              "        const dataTable =\n",
              "          await google.colab.kernel.invokeFunction('convertToInteractive',\n",
              "                                                    [key], {});\n",
              "        if (!dataTable) return;\n",
              "\n",
              "        const docLinkHtml = 'Like what you see? Visit the ' +\n",
              "          '<a target=\"_blank\" href=https://colab.research.google.com/notebooks/data_table.ipynb>data table notebook</a>'\n",
              "          + ' to learn more about interactive tables.';\n",
              "        element.innerHTML = '';\n",
              "        dataTable['output_type'] = 'display_data';\n",
              "        await google.colab.output.renderOutput(dataTable, element);\n",
              "        const docLink = document.createElement('div');\n",
              "        docLink.innerHTML = docLinkHtml;\n",
              "        element.appendChild(docLink);\n",
              "      }\n",
              "    </script>\n",
              "  </div>\n",
              "\n",
              "\n",
              "<div id=\"df-3f70c2cf-66db-4942-97f3-3bb8581e036e\">\n",
              "  <button class=\"colab-df-quickchart\" onclick=\"quickchart('df-3f70c2cf-66db-4942-97f3-3bb8581e036e')\"\n",
              "            title=\"Suggest charts\"\n",
              "            style=\"display:none;\">\n",
              "\n",
              "<svg xmlns=\"http://www.w3.org/2000/svg\" height=\"24px\"viewBox=\"0 0 24 24\"\n",
              "     width=\"24px\">\n",
              "    <g>\n",
              "        <path d=\"M19 3H5c-1.1 0-2 .9-2 2v14c0 1.1.9 2 2 2h14c1.1 0 2-.9 2-2V5c0-1.1-.9-2-2-2zM9 17H7v-7h2v7zm4 0h-2V7h2v10zm4 0h-2v-4h2v4z\"/>\n",
              "    </g>\n",
              "</svg>\n",
              "  </button>\n",
              "\n",
              "<style>\n",
              "  .colab-df-quickchart {\n",
              "      --bg-color: #E8F0FE;\n",
              "      --fill-color: #1967D2;\n",
              "      --hover-bg-color: #E2EBFA;\n",
              "      --hover-fill-color: #174EA6;\n",
              "      --disabled-fill-color: #AAA;\n",
              "      --disabled-bg-color: #DDD;\n",
              "  }\n",
              "\n",
              "  [theme=dark] .colab-df-quickchart {\n",
              "      --bg-color: #3B4455;\n",
              "      --fill-color: #D2E3FC;\n",
              "      --hover-bg-color: #434B5C;\n",
              "      --hover-fill-color: #FFFFFF;\n",
              "      --disabled-bg-color: #3B4455;\n",
              "      --disabled-fill-color: #666;\n",
              "  }\n",
              "\n",
              "  .colab-df-quickchart {\n",
              "    background-color: var(--bg-color);\n",
              "    border: none;\n",
              "    border-radius: 50%;\n",
              "    cursor: pointer;\n",
              "    display: none;\n",
              "    fill: var(--fill-color);\n",
              "    height: 32px;\n",
              "    padding: 0;\n",
              "    width: 32px;\n",
              "  }\n",
              "\n",
              "  .colab-df-quickchart:hover {\n",
              "    background-color: var(--hover-bg-color);\n",
              "    box-shadow: 0 1px 2px rgba(60, 64, 67, 0.3), 0 1px 3px 1px rgba(60, 64, 67, 0.15);\n",
              "    fill: var(--button-hover-fill-color);\n",
              "  }\n",
              "\n",
              "  .colab-df-quickchart-complete:disabled,\n",
              "  .colab-df-quickchart-complete:disabled:hover {\n",
              "    background-color: var(--disabled-bg-color);\n",
              "    fill: var(--disabled-fill-color);\n",
              "    box-shadow: none;\n",
              "  }\n",
              "\n",
              "  .colab-df-spinner {\n",
              "    border: 2px solid var(--fill-color);\n",
              "    border-color: transparent;\n",
              "    border-bottom-color: var(--fill-color);\n",
              "    animation:\n",
              "      spin 1s steps(1) infinite;\n",
              "  }\n",
              "\n",
              "  @keyframes spin {\n",
              "    0% {\n",
              "      border-color: transparent;\n",
              "      border-bottom-color: var(--fill-color);\n",
              "      border-left-color: var(--fill-color);\n",
              "    }\n",
              "    20% {\n",
              "      border-color: transparent;\n",
              "      border-left-color: var(--fill-color);\n",
              "      border-top-color: var(--fill-color);\n",
              "    }\n",
              "    30% {\n",
              "      border-color: transparent;\n",
              "      border-left-color: var(--fill-color);\n",
              "      border-top-color: var(--fill-color);\n",
              "      border-right-color: var(--fill-color);\n",
              "    }\n",
              "    40% {\n",
              "      border-color: transparent;\n",
              "      border-right-color: var(--fill-color);\n",
              "      border-top-color: var(--fill-color);\n",
              "    }\n",
              "    60% {\n",
              "      border-color: transparent;\n",
              "      border-right-color: var(--fill-color);\n",
              "    }\n",
              "    80% {\n",
              "      border-color: transparent;\n",
              "      border-right-color: var(--fill-color);\n",
              "      border-bottom-color: var(--fill-color);\n",
              "    }\n",
              "    90% {\n",
              "      border-color: transparent;\n",
              "      border-bottom-color: var(--fill-color);\n",
              "    }\n",
              "  }\n",
              "</style>\n",
              "\n",
              "  <script>\n",
              "    async function quickchart(key) {\n",
              "      const quickchartButtonEl =\n",
              "        document.querySelector('#' + key + ' button');\n",
              "      quickchartButtonEl.disabled = true;  // To prevent multiple clicks.\n",
              "      quickchartButtonEl.classList.add('colab-df-spinner');\n",
              "      try {\n",
              "        const charts = await google.colab.kernel.invokeFunction(\n",
              "            'suggestCharts', [key], {});\n",
              "      } catch (error) {\n",
              "        console.error('Error during call to suggestCharts:', error);\n",
              "      }\n",
              "      quickchartButtonEl.classList.remove('colab-df-spinner');\n",
              "      quickchartButtonEl.classList.add('colab-df-quickchart-complete');\n",
              "    }\n",
              "    (() => {\n",
              "      let quickchartButtonEl =\n",
              "        document.querySelector('#df-3f70c2cf-66db-4942-97f3-3bb8581e036e button');\n",
              "      quickchartButtonEl.style.display =\n",
              "        google.colab.kernel.accessAllowed ? 'block' : 'none';\n",
              "    })();\n",
              "  </script>\n",
              "</div>\n",
              "\n",
              "  <div id=\"id_4703d827-d75a-4301-9691-8270802106d8\">\n",
              "    <style>\n",
              "      .colab-df-generate {\n",
              "        background-color: #E8F0FE;\n",
              "        border: none;\n",
              "        border-radius: 50%;\n",
              "        cursor: pointer;\n",
              "        display: none;\n",
              "        fill: #1967D2;\n",
              "        height: 32px;\n",
              "        padding: 0 0 0 0;\n",
              "        width: 32px;\n",
              "      }\n",
              "\n",
              "      .colab-df-generate:hover {\n",
              "        background-color: #E2EBFA;\n",
              "        box-shadow: 0px 1px 2px rgba(60, 64, 67, 0.3), 0px 1px 3px 1px rgba(60, 64, 67, 0.15);\n",
              "        fill: #174EA6;\n",
              "      }\n",
              "\n",
              "      [theme=dark] .colab-df-generate {\n",
              "        background-color: #3B4455;\n",
              "        fill: #D2E3FC;\n",
              "      }\n",
              "\n",
              "      [theme=dark] .colab-df-generate:hover {\n",
              "        background-color: #434B5C;\n",
              "        box-shadow: 0px 1px 3px 1px rgba(0, 0, 0, 0.15);\n",
              "        filter: drop-shadow(0px 1px 2px rgba(0, 0, 0, 0.3));\n",
              "        fill: #FFFFFF;\n",
              "      }\n",
              "    </style>\n",
              "    <button class=\"colab-df-generate\" onclick=\"generateWithVariable('X_new')\"\n",
              "            title=\"Generate code using this dataframe.\"\n",
              "            style=\"display:none;\">\n",
              "\n",
              "  <svg xmlns=\"http://www.w3.org/2000/svg\" height=\"24px\"viewBox=\"0 0 24 24\"\n",
              "       width=\"24px\">\n",
              "    <path d=\"M7,19H8.4L18.45,9,17,7.55,7,17.6ZM5,21V16.75L18.45,3.32a2,2,0,0,1,2.83,0l1.4,1.43a1.91,1.91,0,0,1,.58,1.4,1.91,1.91,0,0,1-.58,1.4L9.25,21ZM18.45,9,17,7.55Zm-12,3A5.31,5.31,0,0,0,4.9,8.1,5.31,5.31,0,0,0,1,6.5,5.31,5.31,0,0,0,4.9,4.9,5.31,5.31,0,0,0,6.5,1,5.31,5.31,0,0,0,8.1,4.9,5.31,5.31,0,0,0,12,6.5,5.46,5.46,0,0,0,6.5,12Z\"/>\n",
              "  </svg>\n",
              "    </button>\n",
              "    <script>\n",
              "      (() => {\n",
              "      const buttonEl =\n",
              "        document.querySelector('#id_4703d827-d75a-4301-9691-8270802106d8 button.colab-df-generate');\n",
              "      buttonEl.style.display =\n",
              "        google.colab.kernel.accessAllowed ? 'block' : 'none';\n",
              "\n",
              "      buttonEl.onclick = () => {\n",
              "        google.colab.notebook.generateWithVariable('X_new');\n",
              "      }\n",
              "      })();\n",
              "    </script>\n",
              "  </div>\n",
              "\n",
              "    </div>\n",
              "  </div>\n"
            ],
            "application/vnd.google.colaboratory.intrinsic+json": {
              "type": "dataframe",
              "variable_name": "X_new",
              "summary": "{\n  \"name\": \"X_new\",\n  \"rows\": 3,\n  \"fields\": [\n    {\n      \"column\": \"\\u6240\\u5f97\",\n      \"properties\": {\n        \"dtype\": \"number\",\n        \"std\": 3.785938897200183,\n        \"min\": 1.0,\n        \"max\": 8.0,\n        \"num_unique_values\": 3,\n        \"samples\": [\n          8.0,\n          2.0,\n          1.0\n        ],\n        \"semantic_type\": \"\",\n        \"description\": \"\"\n      }\n    },\n    {\n      \"column\": \"\\u7bc9\\u5e74\\u6570\",\n      \"properties\": {\n        \"dtype\": \"number\",\n        \"std\": 15.50268793897798,\n        \"min\": 10.0,\n        \"max\": 41.0,\n        \"num_unique_values\": 3,\n        \"samples\": [\n          41.0,\n          10.0,\n          25.0\n        ],\n        \"semantic_type\": \"\",\n        \"description\": \"\"\n      }\n    },\n    {\n      \"column\": \"\\u5730\\u57df\\u4eba\\u53e3\",\n      \"properties\": {\n        \"dtype\": \"number\",\n        \"std\": 763.7626158259733,\n        \"min\": 500.0,\n        \"max\": 2000.0,\n        \"num_unique_values\": 3,\n        \"samples\": [\n          500.0,\n          2000.0,\n          1000.0\n        ],\n        \"semantic_type\": \"\",\n        \"description\": \"\"\n      }\n    },\n    {\n      \"column\": \"\\u7def\\u5ea6\",\n      \"properties\": {\n        \"dtype\": \"number\",\n        \"std\": 0.5773502691896258,\n        \"min\": 37.0,\n        \"max\": 38.0,\n        \"num_unique_values\": 2,\n        \"samples\": [\n          38.0,\n          37.0\n        ],\n        \"semantic_type\": \"\",\n        \"description\": \"\"\n      }\n    },\n    {\n      \"column\": \"\\u7d4c\\u5ea6\",\n      \"properties\": {\n        \"dtype\": \"number\",\n        \"std\": 1.0,\n        \"min\": -122.0,\n        \"max\": -120.0,\n        \"num_unique_values\": 3,\n        \"samples\": [\n          -120.0,\n          -122.0\n        ],\n        \"semantic_type\": \"\",\n        \"description\": \"\"\n      }\n    },\n    {\n      \"column\": \"\\u90e8\\u5c4b\\u6570/\\u4eba\",\n      \"properties\": {\n        \"dtype\": \"number\",\n        \"std\": 0.5,\n        \"min\": 1.0,\n        \"max\": 2.0,\n        \"num_unique_values\": 3,\n        \"samples\": [\n          1.0,\n          1.5\n        ],\n        \"semantic_type\": \"\",\n        \"description\": \"\"\n      }\n    },\n    {\n      \"column\": \"\\u5bdd\\u5ba4\\u6570/\\u4eba\",\n      \"properties\": {\n        \"dtype\": \"number\",\n        \"std\": 0.40414518843273806,\n        \"min\": 0.2,\n        \"max\": 1.0,\n        \"num_unique_values\": 3,\n        \"samples\": [\n          0.2,\n          0.5\n        ],\n        \"semantic_type\": \"\",\n        \"description\": \"\"\n      }\n    }\n  ]\n}"
            }
          },
          "metadata": {},
          "execution_count": 22
        }
      ]
    },
    {
      "cell_type": "code",
      "source": [
        "ex_price = 8.0 * 0.4081 + 41.0 * 0.006923 + 500.0 * 0.00001706 + 37.0 * (-0.4041) + (-120.0) * (-0.4104) + 1.0 * (-0.2085) + 0.2 * 1.696 - 34.74\n",
        "print(ex_price)\n",
        "\n",
        "#予測と同じ結果になった！"
      ],
      "metadata": {
        "colab": {
          "base_uri": "https://localhost:8080/"
        },
        "id": "lbzoQUG6YTCZ",
        "outputId": "c427e9ef-b5c6-4e4f-99c3-5e4e481f1d9e"
      },
      "execution_count": 23,
      "outputs": [
        {
          "output_type": "stream",
          "name": "stdout",
          "text": [
            "3.2441729999999893\n"
          ]
        }
      ]
    },
    {
      "cell_type": "markdown",
      "source": [
        "# **＝＝＝＝＝＝＝＝＝＝＝＝＝＝関数で表せるかやってみたけれどできませんでした。関数の使い方、locの使い方が間違っていますか？**"
      ],
      "metadata": {
        "id": "HX_qFxm6dYcO"
      }
    },
    {
      "cell_type": "code",
      "source": [
        "'''\n",
        "def housing_prices(num):\n",
        "  X_new.loc[num, '所得'] * 0.4081 + X_new.loc[num, '築年数'] * 0.006923 + X_new.loc[num, '地域人口'] * 0.00001706 + X_new.loc[num, '緯度'] * (-0.4041) + X_new.loc[num, '経度'] * (-0.4104) + X_new.loc[num, '部屋数/人'] * (-0.2085) + X_new.loc[num, '寝室数/人'] * 1.696 - 34.74\n",
        "\n",
        "print(housing_prices(0))\n",
        "'''"
      ],
      "metadata": {
        "id": "nD7rwf8HVKcP",
        "colab": {
          "base_uri": "https://localhost:8080/",
          "height": 54
        },
        "outputId": "fd8eac72-31fa-48b2-9d8b-322e4839c6cd"
      },
      "execution_count": 24,
      "outputs": [
        {
          "output_type": "execute_result",
          "data": {
            "text/plain": [
              "\"\\ndef housing_prices(num):\\n  X_new.loc[num, '所得'] * 0.4081 + X_new.loc[num, '築年数'] * 0.006923 + X_new.loc[num, '地域人口'] * 0.00001706 + X_new.loc[num, '緯度'] * (-0.4041) + X_new.loc[num, '経度'] * (-0.4104) + X_new.loc[num, '部屋数/人'] * (-0.2085) + X_new.loc[num, '寝室数/人'] * 1.696 - 34.74\\n\\nprint(housing_prices(0))\\n\""
            ],
            "application/vnd.google.colaboratory.intrinsic+json": {
              "type": "string"
            }
          },
          "metadata": {},
          "execution_count": 24
        }
      ]
    },
    {
      "cell_type": "code",
      "source": [
        "'''\n",
        "X_new.loc[0, '所得'] * 2\n",
        "'''"
      ],
      "metadata": {
        "id": "bL8AG1b8U3Hl",
        "colab": {
          "base_uri": "https://localhost:8080/",
          "height": 36
        },
        "outputId": "03a42353-707c-452e-af8c-09504c74e08c"
      },
      "execution_count": 25,
      "outputs": [
        {
          "output_type": "execute_result",
          "data": {
            "text/plain": [
              "\"\\nX_new.loc[0, '所得'] * 2\\n\""
            ],
            "application/vnd.google.colaboratory.intrinsic+json": {
              "type": "string"
            }
          },
          "metadata": {},
          "execution_count": 25
        }
      ]
    },
    {
      "cell_type": "markdown",
      "source": [
        "＝＝＝＝＝＝＝＝＝＝＝＝＝＝＝＝＝＝A"
      ],
      "metadata": {
        "id": "iJtuU99R077p"
      }
    },
    {
      "cell_type": "code",
      "source": [
        "def housing_prices(df, num):\n",
        "  y = df.loc[num, '所得'] * 0.4081 + df.loc[num, '築年数'] * 0.006923 + df.loc[num, '地域人口'] * 0.00001706 + df.loc[num, '緯度'] * (-0.4041) + df.loc[num, '経度'] * (-0.4104) + df.loc[num, '部屋数/人'] * (-0.2085) + df.loc[num, '寝室数/人'] * 1.696 - 34.74\n",
        "  return y\n",
        "\n",
        "y = housing_prices(X_new, 0)\n",
        "print(y)"
      ],
      "metadata": {
        "colab": {
          "base_uri": "https://localhost:8080/"
        },
        "id": "_aMFZOGy09w_",
        "outputId": "862f4f25-054e-40e2-dc13-1b45dc586517"
      },
      "execution_count": 27,
      "outputs": [
        {
          "output_type": "stream",
          "name": "stdout",
          "text": [
            "3.2441729999999893\n"
          ]
        }
      ]
    },
    {
      "cell_type": "markdown",
      "source": [
        "できた！"
      ],
      "metadata": {
        "id": "Myi_bjf03NmW"
      }
    },
    {
      "cell_type": "markdown",
      "source": [
        "**各要素が住宅価格に与える影響度合い**"
      ],
      "metadata": {
        "id": "M3svEezCXFHr"
      }
    },
    {
      "cell_type": "code",
      "source": [
        "sns.barplot(x = ['所得', '築年数', '地域人口', '緯度', '経度', '部屋数/人', '寝室数/人'], y=model.coef_)\n"
      ],
      "metadata": {
        "id": "Ki7x1LqCXKhg"
      },
      "execution_count": null,
      "outputs": []
    },
    {
      "cell_type": "code",
      "source": [
        "#住宅データの各指標を確認する\n",
        "df.describe()"
      ],
      "metadata": {
        "id": "tSns_7FFXM6N"
      },
      "execution_count": null,
      "outputs": []
    },
    {
      "cell_type": "markdown",
      "source": [
        "地域人口はスケールが大きい値\n",
        "寝室数/人はスケールの小さい値\n",
        "\n",
        "計算式の重みと重要度が必ずしも一致しないことを意味する。\n",
        "重回帰の計算式の重みから重要度を比較したい場合は、各要素のスケールを統一する必要がある。\n",
        "\n",
        "事象にてスケール統一による回帰手法の改善に挑戦する。"
      ],
      "metadata": {
        "id": "lSmk7MQtdi7k"
      }
    },
    {
      "cell_type": "markdown",
      "source": [
        "\n",
        "\n",
        "---\n",
        "# **＝＝＝＝＝＝＝＝＝＝＝＝＝＝つまり影響度合いってどういうことなのか分かりません。**\n",
        "# **＝＝＝＝＝＝＝＝＝＝＝＝＝＝3.データセットの前処理で変数dfのUnnamed: 0を削除したはずなのに何故でてくるのだろうか。**"
      ],
      "metadata": {
        "id": "70hD8Mjbeshz"
      }
    }
  ]
}