{
 "cells": [
  {
   "cell_type": "markdown",
   "metadata": {},
   "source": [
    "### 課題<br>\n",
    "・Kaggle:PlayGroundより『アワビの年齢当て』<br>\n",
    "・期間2024.4.1-4.30"
   ]
  },
  {
   "cell_type": "markdown",
   "metadata": {},
   "source": [
    "参考<br>\n",
    "📈 🎆Regression📚 Analysis🧪: https://www.kaggle.com/code/satyaprakashshukl/regression-analysis<br>\n",
    "Abalone Regression: Visual Analysis+First Ensemble : https://www.kaggle.com/code/allegich/abalone-regression-visual-analysis-first-ensemble"
   ]
  },
  {
   "cell_type": "markdown",
   "metadata": {},
   "source": [
    "---"
   ]
  },
  {
   "cell_type": "markdown",
   "metadata": {},
   "source": [
    "### ライブラリ"
   ]
  },
  {
   "cell_type": "code",
   "execution_count": 453,
   "metadata": {},
   "outputs": [],
   "source": [
    "import numpy as np\n",
    "import pandas as pd\n",
    "import seaborn as sns\n",
    "import matplotlib\n",
    "import matplotlib.pyplot as plt\n",
    "import japanize_matplotlib\n",
    "from PIL import Image"
   ]
  },
  {
   "cell_type": "markdown",
   "metadata": {},
   "source": [
    "---"
   ]
  },
  {
   "cell_type": "markdown",
   "metadata": {},
   "source": [
    "### データの確認"
   ]
  },
  {
   "cell_type": "code",
   "execution_count": 454,
   "metadata": {},
   "outputs": [
    {
     "data": {
      "text/html": [
       "<div>\n",
       "<style scoped>\n",
       "    .dataframe tbody tr th:only-of-type {\n",
       "        vertical-align: middle;\n",
       "    }\n",
       "\n",
       "    .dataframe tbody tr th {\n",
       "        vertical-align: top;\n",
       "    }\n",
       "\n",
       "    .dataframe thead th {\n",
       "        text-align: right;\n",
       "    }\n",
       "</style>\n",
       "<table border=\"1\" class=\"dataframe\">\n",
       "  <thead>\n",
       "    <tr style=\"text-align: right;\">\n",
       "      <th></th>\n",
       "      <th>id</th>\n",
       "      <th>Sex</th>\n",
       "      <th>Length</th>\n",
       "      <th>Diameter</th>\n",
       "      <th>Height</th>\n",
       "      <th>Whole weight</th>\n",
       "      <th>Whole weight.1</th>\n",
       "      <th>Whole weight.2</th>\n",
       "      <th>Shell weight</th>\n",
       "      <th>Rings</th>\n",
       "    </tr>\n",
       "  </thead>\n",
       "  <tbody>\n",
       "    <tr>\n",
       "      <th>0</th>\n",
       "      <td>0</td>\n",
       "      <td>F</td>\n",
       "      <td>0.550</td>\n",
       "      <td>0.430</td>\n",
       "      <td>0.150</td>\n",
       "      <td>0.7715</td>\n",
       "      <td>0.3285</td>\n",
       "      <td>0.1465</td>\n",
       "      <td>0.2400</td>\n",
       "      <td>11</td>\n",
       "    </tr>\n",
       "    <tr>\n",
       "      <th>1</th>\n",
       "      <td>1</td>\n",
       "      <td>F</td>\n",
       "      <td>0.630</td>\n",
       "      <td>0.490</td>\n",
       "      <td>0.145</td>\n",
       "      <td>1.1300</td>\n",
       "      <td>0.4580</td>\n",
       "      <td>0.2765</td>\n",
       "      <td>0.3200</td>\n",
       "      <td>11</td>\n",
       "    </tr>\n",
       "    <tr>\n",
       "      <th>2</th>\n",
       "      <td>2</td>\n",
       "      <td>I</td>\n",
       "      <td>0.160</td>\n",
       "      <td>0.110</td>\n",
       "      <td>0.025</td>\n",
       "      <td>0.0210</td>\n",
       "      <td>0.0055</td>\n",
       "      <td>0.0030</td>\n",
       "      <td>0.0050</td>\n",
       "      <td>6</td>\n",
       "    </tr>\n",
       "    <tr>\n",
       "      <th>3</th>\n",
       "      <td>3</td>\n",
       "      <td>M</td>\n",
       "      <td>0.595</td>\n",
       "      <td>0.475</td>\n",
       "      <td>0.150</td>\n",
       "      <td>0.9145</td>\n",
       "      <td>0.3755</td>\n",
       "      <td>0.2055</td>\n",
       "      <td>0.2500</td>\n",
       "      <td>10</td>\n",
       "    </tr>\n",
       "    <tr>\n",
       "      <th>4</th>\n",
       "      <td>4</td>\n",
       "      <td>I</td>\n",
       "      <td>0.555</td>\n",
       "      <td>0.425</td>\n",
       "      <td>0.130</td>\n",
       "      <td>0.7820</td>\n",
       "      <td>0.3695</td>\n",
       "      <td>0.1600</td>\n",
       "      <td>0.1975</td>\n",
       "      <td>9</td>\n",
       "    </tr>\n",
       "  </tbody>\n",
       "</table>\n",
       "</div>"
      ],
      "text/plain": [
       "   id Sex  Length  Diameter  Height  Whole weight  Whole weight.1  \\\n",
       "0   0   F   0.550     0.430   0.150        0.7715          0.3285   \n",
       "1   1   F   0.630     0.490   0.145        1.1300          0.4580   \n",
       "2   2   I   0.160     0.110   0.025        0.0210          0.0055   \n",
       "3   3   M   0.595     0.475   0.150        0.9145          0.3755   \n",
       "4   4   I   0.555     0.425   0.130        0.7820          0.3695   \n",
       "\n",
       "   Whole weight.2  Shell weight  Rings  \n",
       "0          0.1465        0.2400     11  \n",
       "1          0.2765        0.3200     11  \n",
       "2          0.0030        0.0050      6  \n",
       "3          0.2055        0.2500     10  \n",
       "4          0.1600        0.1975      9  "
      ]
     },
     "execution_count": 454,
     "metadata": {},
     "output_type": "execute_result"
    }
   ],
   "source": [
    "df_train = pd.read_csv('train.csv')\n",
    "df_train.head()"
   ]
  },
  {
   "cell_type": "code",
   "execution_count": 455,
   "metadata": {},
   "outputs": [
    {
     "data": {
      "text/html": [
       "<div>\n",
       "<style scoped>\n",
       "    .dataframe tbody tr th:only-of-type {\n",
       "        vertical-align: middle;\n",
       "    }\n",
       "\n",
       "    .dataframe tbody tr th {\n",
       "        vertical-align: top;\n",
       "    }\n",
       "\n",
       "    .dataframe thead th {\n",
       "        text-align: right;\n",
       "    }\n",
       "</style>\n",
       "<table border=\"1\" class=\"dataframe\">\n",
       "  <thead>\n",
       "    <tr style=\"text-align: right;\">\n",
       "      <th></th>\n",
       "      <th>id</th>\n",
       "      <th>Sex</th>\n",
       "      <th>Length</th>\n",
       "      <th>Diameter</th>\n",
       "      <th>Height</th>\n",
       "      <th>Whole weight</th>\n",
       "      <th>Whole weight.1</th>\n",
       "      <th>Whole weight.2</th>\n",
       "      <th>Shell weight</th>\n",
       "    </tr>\n",
       "  </thead>\n",
       "  <tbody>\n",
       "    <tr>\n",
       "      <th>0</th>\n",
       "      <td>90615</td>\n",
       "      <td>M</td>\n",
       "      <td>0.645</td>\n",
       "      <td>0.475</td>\n",
       "      <td>0.155</td>\n",
       "      <td>1.2380</td>\n",
       "      <td>0.6185</td>\n",
       "      <td>0.3125</td>\n",
       "      <td>0.3005</td>\n",
       "    </tr>\n",
       "    <tr>\n",
       "      <th>1</th>\n",
       "      <td>90616</td>\n",
       "      <td>M</td>\n",
       "      <td>0.580</td>\n",
       "      <td>0.460</td>\n",
       "      <td>0.160</td>\n",
       "      <td>0.9830</td>\n",
       "      <td>0.4785</td>\n",
       "      <td>0.2195</td>\n",
       "      <td>0.2750</td>\n",
       "    </tr>\n",
       "    <tr>\n",
       "      <th>2</th>\n",
       "      <td>90617</td>\n",
       "      <td>M</td>\n",
       "      <td>0.560</td>\n",
       "      <td>0.420</td>\n",
       "      <td>0.140</td>\n",
       "      <td>0.8395</td>\n",
       "      <td>0.3525</td>\n",
       "      <td>0.1845</td>\n",
       "      <td>0.2405</td>\n",
       "    </tr>\n",
       "    <tr>\n",
       "      <th>3</th>\n",
       "      <td>90618</td>\n",
       "      <td>M</td>\n",
       "      <td>0.570</td>\n",
       "      <td>0.490</td>\n",
       "      <td>0.145</td>\n",
       "      <td>0.8740</td>\n",
       "      <td>0.3525</td>\n",
       "      <td>0.1865</td>\n",
       "      <td>0.2350</td>\n",
       "    </tr>\n",
       "    <tr>\n",
       "      <th>4</th>\n",
       "      <td>90619</td>\n",
       "      <td>I</td>\n",
       "      <td>0.415</td>\n",
       "      <td>0.325</td>\n",
       "      <td>0.110</td>\n",
       "      <td>0.3580</td>\n",
       "      <td>0.1575</td>\n",
       "      <td>0.0670</td>\n",
       "      <td>0.1050</td>\n",
       "    </tr>\n",
       "  </tbody>\n",
       "</table>\n",
       "</div>"
      ],
      "text/plain": [
       "      id Sex  Length  Diameter  Height  Whole weight  Whole weight.1  \\\n",
       "0  90615   M   0.645     0.475   0.155        1.2380          0.6185   \n",
       "1  90616   M   0.580     0.460   0.160        0.9830          0.4785   \n",
       "2  90617   M   0.560     0.420   0.140        0.8395          0.3525   \n",
       "3  90618   M   0.570     0.490   0.145        0.8740          0.3525   \n",
       "4  90619   I   0.415     0.325   0.110        0.3580          0.1575   \n",
       "\n",
       "   Whole weight.2  Shell weight  \n",
       "0          0.3125        0.3005  \n",
       "1          0.2195        0.2750  \n",
       "2          0.1845        0.2405  \n",
       "3          0.1865        0.2350  \n",
       "4          0.0670        0.1050  "
      ]
     },
     "execution_count": 455,
     "metadata": {},
     "output_type": "execute_result"
    }
   ],
   "source": [
    "df_test = pd.read_csv('test.csv')\n",
    "df_test.head()"
   ]
  },
  {
   "cell_type": "markdown",
   "metadata": {},
   "source": [
    "<u>カラム名、アワビの生態</u><br>\n",
    "**Sex**:性別<br>\n",
    "アワビの肝が肥大化する夏・秋に限り性別が分かる。肝（生殖腺）から、白色がオス、緑色がメスとなる。<br>\n",
    "  M:male オス　F:Female メス　I:Infant 稚貝<br>\n",
    "**Length**:長さ、**Diameter**:直径はどう違うのか不明。<br>\n",
    "**Height**:厚み？<br>\n",
    "**Whole weight**:全体重量。**whole weight1**・**whole weight2**・**Shell weight**:殻重量はその内訳か。<br>\n",
    "**Rings**:年輪【本日のターゲット】<br>\n",
    "アワビの年齢形質（年齢が読み取れる部位）は殻の表面にできる輪紋で、1年に1本産卵期にできると言われている。<br>\n",
    "アワビの寿命は15~20年と言われている。長い個体だと30年生きることもある。"
   ]
  },
  {
   "cell_type": "code",
   "execution_count": 456,
   "metadata": {},
   "outputs": [
    {
     "name": "stdout",
     "output_type": "stream",
     "text": [
      "<class 'pandas.core.frame.DataFrame'>\n",
      "RangeIndex: 90615 entries, 0 to 90614\n",
      "Data columns (total 10 columns):\n",
      " #   Column          Non-Null Count  Dtype  \n",
      "---  ------          --------------  -----  \n",
      " 0   id              90615 non-null  int64  \n",
      " 1   Sex             90615 non-null  object \n",
      " 2   Length          90615 non-null  float64\n",
      " 3   Diameter        90615 non-null  float64\n",
      " 4   Height          90615 non-null  float64\n",
      " 5   Whole weight    90615 non-null  float64\n",
      " 6   Whole weight.1  90615 non-null  float64\n",
      " 7   Whole weight.2  90615 non-null  float64\n",
      " 8   Shell weight    90615 non-null  float64\n",
      " 9   Rings           90615 non-null  int64  \n",
      "dtypes: float64(7), int64(2), object(1)\n",
      "memory usage: 6.9+ MB\n"
     ]
    }
   ],
   "source": [
    "#データ数、欠損値、Dtypeの確認\n",
    "df_train.info()"
   ]
  },
  {
   "cell_type": "markdown",
   "metadata": {},
   "source": [
    "90615行、10列のデータ数。<br>\n",
    "欠損値なしのため欠損値処理なし。<br>\n",
    "Sexがobject型以外はint型、float型。"
   ]
  },
  {
   "cell_type": "code",
   "execution_count": 457,
   "metadata": {},
   "outputs": [],
   "source": [
    "#ワンホットエンコーディング\n",
    "def transform_df(df):\n",
    "    df['Sex'] = df['Sex'].map({'I': 0, 'M': 1, 'F': 2}) \n",
    "    return df\n",
    "\n",
    "df_train = transform_df(df_train)\n",
    "df_test = transform_df(df_test)"
   ]
  },
  {
   "cell_type": "code",
   "execution_count": 458,
   "metadata": {},
   "outputs": [
    {
     "data": {
      "text/plain": [
       "\"def transform_enc_sex(df):\\n    df_onehot = pd.get_dummies(df.Sex)\\n    df = pd.concat([df, df_onehot], axis=1)\\n    df = df.drop('Sex', axis=1)\\n    return df\\n\\ndf_train = transform_enc_sex(df_train)\\ndf_test = transform_enc_sex(df_test)\""
      ]
     },
     "execution_count": 458,
     "metadata": {},
     "output_type": "execute_result"
    }
   ],
   "source": [
    "#ラベルエンコーディング\n",
    "'''def transform_enc_sex(df):\n",
    "    df_onehot = pd.get_dummies(df.Sex)\n",
    "    df = pd.concat([df, df_onehot], axis=1)\n",
    "    df = df.drop('Sex', axis=1)\n",
    "    return df\n",
    "\n",
    "df_train = transform_enc_sex(df_train)\n",
    "df_test = transform_enc_sex(df_test)'''"
   ]
  },
  {
   "cell_type": "code",
   "execution_count": 459,
   "metadata": {},
   "outputs": [
    {
     "name": "stdout",
     "output_type": "stream",
     "text": [
      "ラベルエンコーディングの相関\n"
     ]
    },
    {
     "data": {
      "image/png": "[encoded data removed]",
      "text/plain": [
       "<PIL.PngImagePlugin.PngImageFile image mode=RGBA size=970x881>"
      ]
     },
     "execution_count": 459,
     "metadata": {},
     "output_type": "execute_result"
    }
   ],
   "source": [
    "pict_label_enco= Image.open('picture\\label_encp.png')\n",
    "print('ラベルエンコーディングの相関')\n",
    "pict_label_enco"
   ]
  },
  {
   "cell_type": "code",
   "execution_count": 460,
   "metadata": {},
   "outputs": [
    {
     "data": {
      "text/html": [
       "<div>\n",
       "<style scoped>\n",
       "    .dataframe tbody tr th:only-of-type {\n",
       "        vertical-align: middle;\n",
       "    }\n",
       "\n",
       "    .dataframe tbody tr th {\n",
       "        vertical-align: top;\n",
       "    }\n",
       "\n",
       "    .dataframe thead th {\n",
       "        text-align: right;\n",
       "    }\n",
       "</style>\n",
       "<table border=\"1\" class=\"dataframe\">\n",
       "  <thead>\n",
       "    <tr style=\"text-align: right;\">\n",
       "      <th></th>\n",
       "      <th>id</th>\n",
       "      <th>Sex</th>\n",
       "      <th>Length</th>\n",
       "      <th>Diameter</th>\n",
       "      <th>Height</th>\n",
       "      <th>Whole weight</th>\n",
       "      <th>Whole weight.1</th>\n",
       "      <th>Whole weight.2</th>\n",
       "      <th>Shell weight</th>\n",
       "      <th>Rings</th>\n",
       "    </tr>\n",
       "  </thead>\n",
       "  <tbody>\n",
       "    <tr>\n",
       "      <th>0</th>\n",
       "      <td>0</td>\n",
       "      <td>2</td>\n",
       "      <td>0.550</td>\n",
       "      <td>0.430</td>\n",
       "      <td>0.150</td>\n",
       "      <td>0.7715</td>\n",
       "      <td>0.3285</td>\n",
       "      <td>0.1465</td>\n",
       "      <td>0.2400</td>\n",
       "      <td>11</td>\n",
       "    </tr>\n",
       "    <tr>\n",
       "      <th>1</th>\n",
       "      <td>1</td>\n",
       "      <td>2</td>\n",
       "      <td>0.630</td>\n",
       "      <td>0.490</td>\n",
       "      <td>0.145</td>\n",
       "      <td>1.1300</td>\n",
       "      <td>0.4580</td>\n",
       "      <td>0.2765</td>\n",
       "      <td>0.3200</td>\n",
       "      <td>11</td>\n",
       "    </tr>\n",
       "    <tr>\n",
       "      <th>2</th>\n",
       "      <td>2</td>\n",
       "      <td>0</td>\n",
       "      <td>0.160</td>\n",
       "      <td>0.110</td>\n",
       "      <td>0.025</td>\n",
       "      <td>0.0210</td>\n",
       "      <td>0.0055</td>\n",
       "      <td>0.0030</td>\n",
       "      <td>0.0050</td>\n",
       "      <td>6</td>\n",
       "    </tr>\n",
       "    <tr>\n",
       "      <th>3</th>\n",
       "      <td>3</td>\n",
       "      <td>1</td>\n",
       "      <td>0.595</td>\n",
       "      <td>0.475</td>\n",
       "      <td>0.150</td>\n",
       "      <td>0.9145</td>\n",
       "      <td>0.3755</td>\n",
       "      <td>0.2055</td>\n",
       "      <td>0.2500</td>\n",
       "      <td>10</td>\n",
       "    </tr>\n",
       "    <tr>\n",
       "      <th>4</th>\n",
       "      <td>4</td>\n",
       "      <td>0</td>\n",
       "      <td>0.555</td>\n",
       "      <td>0.425</td>\n",
       "      <td>0.130</td>\n",
       "      <td>0.7820</td>\n",
       "      <td>0.3695</td>\n",
       "      <td>0.1600</td>\n",
       "      <td>0.1975</td>\n",
       "      <td>9</td>\n",
       "    </tr>\n",
       "  </tbody>\n",
       "</table>\n",
       "</div>"
      ],
      "text/plain": [
       "   id  Sex  Length  Diameter  Height  Whole weight  Whole weight.1  \\\n",
       "0   0    2   0.550     0.430   0.150        0.7715          0.3285   \n",
       "1   1    2   0.630     0.490   0.145        1.1300          0.4580   \n",
       "2   2    0   0.160     0.110   0.025        0.0210          0.0055   \n",
       "3   3    1   0.595     0.475   0.150        0.9145          0.3755   \n",
       "4   4    0   0.555     0.425   0.130        0.7820          0.3695   \n",
       "\n",
       "   Whole weight.2  Shell weight  Rings  \n",
       "0          0.1465        0.2400     11  \n",
       "1          0.2765        0.3200     11  \n",
       "2          0.0030        0.0050      6  \n",
       "3          0.2055        0.2500     10  \n",
       "4          0.1600        0.1975      9  "
      ]
     },
     "execution_count": 460,
     "metadata": {},
     "output_type": "execute_result"
    }
   ],
   "source": [
    "df_train.head()"
   ]
  },
  {
   "cell_type": "code",
   "execution_count": 461,
   "metadata": {},
   "outputs": [
    {
     "data": {
      "text/html": [
       "<div>\n",
       "<style scoped>\n",
       "    .dataframe tbody tr th:only-of-type {\n",
       "        vertical-align: middle;\n",
       "    }\n",
       "\n",
       "    .dataframe tbody tr th {\n",
       "        vertical-align: top;\n",
       "    }\n",
       "\n",
       "    .dataframe thead th {\n",
       "        text-align: right;\n",
       "    }\n",
       "</style>\n",
       "<table border=\"1\" class=\"dataframe\">\n",
       "  <thead>\n",
       "    <tr style=\"text-align: right;\">\n",
       "      <th></th>\n",
       "      <th>id</th>\n",
       "      <th>Sex</th>\n",
       "      <th>Length</th>\n",
       "      <th>Diameter</th>\n",
       "      <th>Height</th>\n",
       "      <th>Whole weight</th>\n",
       "      <th>Whole weight.1</th>\n",
       "      <th>Whole weight.2</th>\n",
       "      <th>Shell weight</th>\n",
       "    </tr>\n",
       "  </thead>\n",
       "  <tbody>\n",
       "    <tr>\n",
       "      <th>0</th>\n",
       "      <td>90615</td>\n",
       "      <td>1</td>\n",
       "      <td>0.645</td>\n",
       "      <td>0.475</td>\n",
       "      <td>0.155</td>\n",
       "      <td>1.2380</td>\n",
       "      <td>0.6185</td>\n",
       "      <td>0.3125</td>\n",
       "      <td>0.3005</td>\n",
       "    </tr>\n",
       "    <tr>\n",
       "      <th>1</th>\n",
       "      <td>90616</td>\n",
       "      <td>1</td>\n",
       "      <td>0.580</td>\n",
       "      <td>0.460</td>\n",
       "      <td>0.160</td>\n",
       "      <td>0.9830</td>\n",
       "      <td>0.4785</td>\n",
       "      <td>0.2195</td>\n",
       "      <td>0.2750</td>\n",
       "    </tr>\n",
       "    <tr>\n",
       "      <th>2</th>\n",
       "      <td>90617</td>\n",
       "      <td>1</td>\n",
       "      <td>0.560</td>\n",
       "      <td>0.420</td>\n",
       "      <td>0.140</td>\n",
       "      <td>0.8395</td>\n",
       "      <td>0.3525</td>\n",
       "      <td>0.1845</td>\n",
       "      <td>0.2405</td>\n",
       "    </tr>\n",
       "    <tr>\n",
       "      <th>3</th>\n",
       "      <td>90618</td>\n",
       "      <td>1</td>\n",
       "      <td>0.570</td>\n",
       "      <td>0.490</td>\n",
       "      <td>0.145</td>\n",
       "      <td>0.8740</td>\n",
       "      <td>0.3525</td>\n",
       "      <td>0.1865</td>\n",
       "      <td>0.2350</td>\n",
       "    </tr>\n",
       "    <tr>\n",
       "      <th>4</th>\n",
       "      <td>90619</td>\n",
       "      <td>0</td>\n",
       "      <td>0.415</td>\n",
       "      <td>0.325</td>\n",
       "      <td>0.110</td>\n",
       "      <td>0.3580</td>\n",
       "      <td>0.1575</td>\n",
       "      <td>0.0670</td>\n",
       "      <td>0.1050</td>\n",
       "    </tr>\n",
       "  </tbody>\n",
       "</table>\n",
       "</div>"
      ],
      "text/plain": [
       "      id  Sex  Length  Diameter  Height  Whole weight  Whole weight.1  \\\n",
       "0  90615    1   0.645     0.475   0.155        1.2380          0.6185   \n",
       "1  90616    1   0.580     0.460   0.160        0.9830          0.4785   \n",
       "2  90617    1   0.560     0.420   0.140        0.8395          0.3525   \n",
       "3  90618    1   0.570     0.490   0.145        0.8740          0.3525   \n",
       "4  90619    0   0.415     0.325   0.110        0.3580          0.1575   \n",
       "\n",
       "   Whole weight.2  Shell weight  \n",
       "0          0.3125        0.3005  \n",
       "1          0.2195        0.2750  \n",
       "2          0.1845        0.2405  \n",
       "3          0.1865        0.2350  \n",
       "4          0.0670        0.1050  "
      ]
     },
     "execution_count": 461,
     "metadata": {},
     "output_type": "execute_result"
    }
   ],
   "source": [
    "df_test.head()"
   ]
  },
  {
   "cell_type": "code",
   "execution_count": 462,
   "metadata": {},
   "outputs": [],
   "source": [
    "#正規分布用モジュール\n",
    "from statistics import mean, median, variance, stdev\n",
    "from scipy.stats import boxcox\n",
    "from scipy.special import inv_boxcox"
   ]
  },
  {
   "cell_type": "code",
   "execution_count": 463,
   "metadata": {},
   "outputs": [
    {
     "data": {
      "text/html": [
       "<div>\n",
       "<style scoped>\n",
       "    .dataframe tbody tr th:only-of-type {\n",
       "        vertical-align: middle;\n",
       "    }\n",
       "\n",
       "    .dataframe tbody tr th {\n",
       "        vertical-align: top;\n",
       "    }\n",
       "\n",
       "    .dataframe thead th {\n",
       "        text-align: right;\n",
       "    }\n",
       "</style>\n",
       "<table border=\"1\" class=\"dataframe\">\n",
       "  <thead>\n",
       "    <tr style=\"text-align: right;\">\n",
       "      <th></th>\n",
       "      <th>id</th>\n",
       "      <th>Sex</th>\n",
       "      <th>Length</th>\n",
       "      <th>Diameter</th>\n",
       "      <th>Height</th>\n",
       "      <th>Whole weight</th>\n",
       "      <th>Whole weight.1</th>\n",
       "      <th>Whole weight.2</th>\n",
       "      <th>Shell weight</th>\n",
       "      <th>Rings</th>\n",
       "    </tr>\n",
       "  </thead>\n",
       "  <tbody>\n",
       "    <tr>\n",
       "      <th>count</th>\n",
       "      <td>90615.000000</td>\n",
       "      <td>90615.000000</td>\n",
       "      <td>90615.000000</td>\n",
       "      <td>90615.000000</td>\n",
       "      <td>90615.000000</td>\n",
       "      <td>90615.000000</td>\n",
       "      <td>90615.000000</td>\n",
       "      <td>90615.000000</td>\n",
       "      <td>90615.000000</td>\n",
       "      <td>90615.000000</td>\n",
       "    </tr>\n",
       "    <tr>\n",
       "      <th>mean</th>\n",
       "      <td>45307.000000</td>\n",
       "      <td>0.927186</td>\n",
       "      <td>0.517098</td>\n",
       "      <td>0.401679</td>\n",
       "      <td>0.135464</td>\n",
       "      <td>0.789035</td>\n",
       "      <td>0.340778</td>\n",
       "      <td>0.169422</td>\n",
       "      <td>0.225898</td>\n",
       "      <td>9.696794</td>\n",
       "    </tr>\n",
       "    <tr>\n",
       "      <th>std</th>\n",
       "      <td>26158.441658</td>\n",
       "      <td>0.807651</td>\n",
       "      <td>0.118217</td>\n",
       "      <td>0.098026</td>\n",
       "      <td>0.038008</td>\n",
       "      <td>0.457671</td>\n",
       "      <td>0.204428</td>\n",
       "      <td>0.100909</td>\n",
       "      <td>0.130203</td>\n",
       "      <td>3.176221</td>\n",
       "    </tr>\n",
       "    <tr>\n",
       "      <th>min</th>\n",
       "      <td>0.000000</td>\n",
       "      <td>0.000000</td>\n",
       "      <td>0.075000</td>\n",
       "      <td>0.055000</td>\n",
       "      <td>0.000000</td>\n",
       "      <td>0.002000</td>\n",
       "      <td>0.001000</td>\n",
       "      <td>0.000500</td>\n",
       "      <td>0.001500</td>\n",
       "      <td>1.000000</td>\n",
       "    </tr>\n",
       "    <tr>\n",
       "      <th>25%</th>\n",
       "      <td>22653.500000</td>\n",
       "      <td>0.000000</td>\n",
       "      <td>0.445000</td>\n",
       "      <td>0.345000</td>\n",
       "      <td>0.110000</td>\n",
       "      <td>0.419000</td>\n",
       "      <td>0.177500</td>\n",
       "      <td>0.086500</td>\n",
       "      <td>0.120000</td>\n",
       "      <td>8.000000</td>\n",
       "    </tr>\n",
       "    <tr>\n",
       "      <th>50%</th>\n",
       "      <td>45307.000000</td>\n",
       "      <td>1.000000</td>\n",
       "      <td>0.545000</td>\n",
       "      <td>0.425000</td>\n",
       "      <td>0.140000</td>\n",
       "      <td>0.799500</td>\n",
       "      <td>0.330000</td>\n",
       "      <td>0.166000</td>\n",
       "      <td>0.225000</td>\n",
       "      <td>9.000000</td>\n",
       "    </tr>\n",
       "    <tr>\n",
       "      <th>75%</th>\n",
       "      <td>67960.500000</td>\n",
       "      <td>2.000000</td>\n",
       "      <td>0.600000</td>\n",
       "      <td>0.470000</td>\n",
       "      <td>0.160000</td>\n",
       "      <td>1.067500</td>\n",
       "      <td>0.463000</td>\n",
       "      <td>0.232500</td>\n",
       "      <td>0.305000</td>\n",
       "      <td>11.000000</td>\n",
       "    </tr>\n",
       "    <tr>\n",
       "      <th>max</th>\n",
       "      <td>90614.000000</td>\n",
       "      <td>2.000000</td>\n",
       "      <td>0.815000</td>\n",
       "      <td>0.650000</td>\n",
       "      <td>1.130000</td>\n",
       "      <td>2.825500</td>\n",
       "      <td>1.488000</td>\n",
       "      <td>0.760000</td>\n",
       "      <td>1.005000</td>\n",
       "      <td>29.000000</td>\n",
       "    </tr>\n",
       "  </tbody>\n",
       "</table>\n",
       "</div>"
      ],
      "text/plain": [
       "                 id           Sex        Length      Diameter        Height  \\\n",
       "count  90615.000000  90615.000000  90615.000000  90615.000000  90615.000000   \n",
       "mean   45307.000000      0.927186      0.517098      0.401679      0.135464   \n",
       "std    26158.441658      0.807651      0.118217      0.098026      0.038008   \n",
       "min        0.000000      0.000000      0.075000      0.055000      0.000000   \n",
       "25%    22653.500000      0.000000      0.445000      0.345000      0.110000   \n",
       "50%    45307.000000      1.000000      0.545000      0.425000      0.140000   \n",
       "75%    67960.500000      2.000000      0.600000      0.470000      0.160000   \n",
       "max    90614.000000      2.000000      0.815000      0.650000      1.130000   \n",
       "\n",
       "       Whole weight  Whole weight.1  Whole weight.2  Shell weight  \\\n",
       "count  90615.000000    90615.000000    90615.000000  90615.000000   \n",
       "mean       0.789035        0.340778        0.169422      0.225898   \n",
       "std        0.457671        0.204428        0.100909      0.130203   \n",
       "min        0.002000        0.001000        0.000500      0.001500   \n",
       "25%        0.419000        0.177500        0.086500      0.120000   \n",
       "50%        0.799500        0.330000        0.166000      0.225000   \n",
       "75%        1.067500        0.463000        0.232500      0.305000   \n",
       "max        2.825500        1.488000        0.760000      1.005000   \n",
       "\n",
       "              Rings  \n",
       "count  90615.000000  \n",
       "mean       9.696794  \n",
       "std        3.176221  \n",
       "min        1.000000  \n",
       "25%        8.000000  \n",
       "50%        9.000000  \n",
       "75%       11.000000  \n",
       "max       29.000000  "
      ]
     },
     "execution_count": 463,
     "metadata": {},
     "output_type": "execute_result"
    }
   ],
   "source": [
    "df_train.describe()"
   ]
  },
  {
   "cell_type": "markdown",
   "metadata": {},
   "source": [
    "Heightが０はおかしいので除去する。"
   ]
  },
  {
   "cell_type": "code",
   "execution_count": 464,
   "metadata": {},
   "outputs": [
    {
     "data": {
      "text/html": [
       "<div>\n",
       "<style scoped>\n",
       "    .dataframe tbody tr th:only-of-type {\n",
       "        vertical-align: middle;\n",
       "    }\n",
       "\n",
       "    .dataframe tbody tr th {\n",
       "        vertical-align: top;\n",
       "    }\n",
       "\n",
       "    .dataframe thead th {\n",
       "        text-align: right;\n",
       "    }\n",
       "</style>\n",
       "<table border=\"1\" class=\"dataframe\">\n",
       "  <thead>\n",
       "    <tr style=\"text-align: right;\">\n",
       "      <th></th>\n",
       "      <th>id</th>\n",
       "      <th>Sex</th>\n",
       "      <th>Length</th>\n",
       "      <th>Diameter</th>\n",
       "      <th>Height</th>\n",
       "      <th>Whole weight</th>\n",
       "      <th>Whole weight.1</th>\n",
       "      <th>Whole weight.2</th>\n",
       "      <th>Shell weight</th>\n",
       "      <th>Rings</th>\n",
       "    </tr>\n",
       "  </thead>\n",
       "  <tbody>\n",
       "    <tr>\n",
       "      <th>count</th>\n",
       "      <td>90609.000000</td>\n",
       "      <td>90609.000000</td>\n",
       "      <td>90609.000000</td>\n",
       "      <td>90609.000000</td>\n",
       "      <td>90609.000000</td>\n",
       "      <td>90609.000000</td>\n",
       "      <td>90609.000000</td>\n",
       "      <td>90609.000000</td>\n",
       "      <td>90609.000000</td>\n",
       "      <td>90609.000000</td>\n",
       "    </tr>\n",
       "    <tr>\n",
       "      <th>mean</th>\n",
       "      <td>45307.061992</td>\n",
       "      <td>0.927226</td>\n",
       "      <td>0.517106</td>\n",
       "      <td>0.401686</td>\n",
       "      <td>0.135473</td>\n",
       "      <td>0.789066</td>\n",
       "      <td>0.340790</td>\n",
       "      <td>0.169428</td>\n",
       "      <td>0.225900</td>\n",
       "      <td>9.696918</td>\n",
       "    </tr>\n",
       "    <tr>\n",
       "      <th>std</th>\n",
       "      <td>26158.188586</td>\n",
       "      <td>0.807655</td>\n",
       "      <td>0.118216</td>\n",
       "      <td>0.098025</td>\n",
       "      <td>0.037993</td>\n",
       "      <td>0.457668</td>\n",
       "      <td>0.204428</td>\n",
       "      <td>0.100909</td>\n",
       "      <td>0.130204</td>\n",
       "      <td>3.176278</td>\n",
       "    </tr>\n",
       "    <tr>\n",
       "      <th>min</th>\n",
       "      <td>0.000000</td>\n",
       "      <td>0.000000</td>\n",
       "      <td>0.075000</td>\n",
       "      <td>0.055000</td>\n",
       "      <td>0.004000</td>\n",
       "      <td>0.002000</td>\n",
       "      <td>0.001000</td>\n",
       "      <td>0.000500</td>\n",
       "      <td>0.001500</td>\n",
       "      <td>1.000000</td>\n",
       "    </tr>\n",
       "    <tr>\n",
       "      <th>25%</th>\n",
       "      <td>22654.000000</td>\n",
       "      <td>0.000000</td>\n",
       "      <td>0.445000</td>\n",
       "      <td>0.345000</td>\n",
       "      <td>0.110000</td>\n",
       "      <td>0.419500</td>\n",
       "      <td>0.177500</td>\n",
       "      <td>0.086500</td>\n",
       "      <td>0.120000</td>\n",
       "      <td>8.000000</td>\n",
       "    </tr>\n",
       "    <tr>\n",
       "      <th>50%</th>\n",
       "      <td>45307.000000</td>\n",
       "      <td>1.000000</td>\n",
       "      <td>0.545000</td>\n",
       "      <td>0.425000</td>\n",
       "      <td>0.140000</td>\n",
       "      <td>0.799500</td>\n",
       "      <td>0.330000</td>\n",
       "      <td>0.166000</td>\n",
       "      <td>0.225000</td>\n",
       "      <td>9.000000</td>\n",
       "    </tr>\n",
       "    <tr>\n",
       "      <th>75%</th>\n",
       "      <td>67960.000000</td>\n",
       "      <td>2.000000</td>\n",
       "      <td>0.600000</td>\n",
       "      <td>0.470000</td>\n",
       "      <td>0.160000</td>\n",
       "      <td>1.067500</td>\n",
       "      <td>0.463000</td>\n",
       "      <td>0.232500</td>\n",
       "      <td>0.305000</td>\n",
       "      <td>11.000000</td>\n",
       "    </tr>\n",
       "    <tr>\n",
       "      <th>max</th>\n",
       "      <td>90614.000000</td>\n",
       "      <td>2.000000</td>\n",
       "      <td>0.815000</td>\n",
       "      <td>0.650000</td>\n",
       "      <td>1.130000</td>\n",
       "      <td>2.825500</td>\n",
       "      <td>1.488000</td>\n",
       "      <td>0.760000</td>\n",
       "      <td>1.005000</td>\n",
       "      <td>29.000000</td>\n",
       "    </tr>\n",
       "  </tbody>\n",
       "</table>\n",
       "</div>"
      ],
      "text/plain": [
       "                 id           Sex        Length      Diameter        Height  \\\n",
       "count  90609.000000  90609.000000  90609.000000  90609.000000  90609.000000   \n",
       "mean   45307.061992      0.927226      0.517106      0.401686      0.135473   \n",
       "std    26158.188586      0.807655      0.118216      0.098025      0.037993   \n",
       "min        0.000000      0.000000      0.075000      0.055000      0.004000   \n",
       "25%    22654.000000      0.000000      0.445000      0.345000      0.110000   \n",
       "50%    45307.000000      1.000000      0.545000      0.425000      0.140000   \n",
       "75%    67960.000000      2.000000      0.600000      0.470000      0.160000   \n",
       "max    90614.000000      2.000000      0.815000      0.650000      1.130000   \n",
       "\n",
       "       Whole weight  Whole weight.1  Whole weight.2  Shell weight  \\\n",
       "count  90609.000000    90609.000000    90609.000000  90609.000000   \n",
       "mean       0.789066        0.340790        0.169428      0.225900   \n",
       "std        0.457668        0.204428        0.100909      0.130204   \n",
       "min        0.002000        0.001000        0.000500      0.001500   \n",
       "25%        0.419500        0.177500        0.086500      0.120000   \n",
       "50%        0.799500        0.330000        0.166000      0.225000   \n",
       "75%        1.067500        0.463000        0.232500      0.305000   \n",
       "max        2.825500        1.488000        0.760000      1.005000   \n",
       "\n",
       "              Rings  \n",
       "count  90609.000000  \n",
       "mean       9.696918  \n",
       "std        3.176278  \n",
       "min        1.000000  \n",
       "25%        8.000000  \n",
       "50%        9.000000  \n",
       "75%       11.000000  \n",
       "max       29.000000  "
      ]
     },
     "execution_count": 464,
     "metadata": {},
     "output_type": "execute_result"
    }
   ],
   "source": [
    "df_train = df_train.query('Height != 0')\n",
    "df_train.describe()"
   ]
  },
  {
   "cell_type": "code",
   "execution_count": 465,
   "metadata": {},
   "outputs": [
    {
     "data": {
      "text/html": [
       "<div>\n",
       "<style scoped>\n",
       "    .dataframe tbody tr th:only-of-type {\n",
       "        vertical-align: middle;\n",
       "    }\n",
       "\n",
       "    .dataframe tbody tr th {\n",
       "        vertical-align: top;\n",
       "    }\n",
       "\n",
       "    .dataframe thead th {\n",
       "        text-align: right;\n",
       "    }\n",
       "</style>\n",
       "<table border=\"1\" class=\"dataframe\">\n",
       "  <thead>\n",
       "    <tr style=\"text-align: right;\">\n",
       "      <th></th>\n",
       "      <th>id</th>\n",
       "      <th>Sex</th>\n",
       "      <th>Length</th>\n",
       "      <th>Diameter</th>\n",
       "      <th>Height</th>\n",
       "      <th>Whole weight</th>\n",
       "      <th>Whole weight.1</th>\n",
       "      <th>Whole weight.2</th>\n",
       "      <th>Shell weight</th>\n",
       "    </tr>\n",
       "  </thead>\n",
       "  <tbody>\n",
       "    <tr>\n",
       "      <th>count</th>\n",
       "      <td>60411.000000</td>\n",
       "      <td>60411.000000</td>\n",
       "      <td>60411.000000</td>\n",
       "      <td>60411.000000</td>\n",
       "      <td>60411.000000</td>\n",
       "      <td>60411.000000</td>\n",
       "      <td>60411.000000</td>\n",
       "      <td>60411.000000</td>\n",
       "      <td>60411.000000</td>\n",
       "    </tr>\n",
       "    <tr>\n",
       "      <th>mean</th>\n",
       "      <td>120820.000000</td>\n",
       "      <td>0.919650</td>\n",
       "      <td>0.517428</td>\n",
       "      <td>0.401961</td>\n",
       "      <td>0.135751</td>\n",
       "      <td>0.790062</td>\n",
       "      <td>0.341227</td>\n",
       "      <td>0.169419</td>\n",
       "      <td>0.226125</td>\n",
       "    </tr>\n",
       "    <tr>\n",
       "      <th>std</th>\n",
       "      <td>17439.297893</td>\n",
       "      <td>0.805933</td>\n",
       "      <td>0.117609</td>\n",
       "      <td>0.097470</td>\n",
       "      <td>0.038175</td>\n",
       "      <td>0.457591</td>\n",
       "      <td>0.204221</td>\n",
       "      <td>0.100720</td>\n",
       "      <td>0.129826</td>\n",
       "    </tr>\n",
       "    <tr>\n",
       "      <th>min</th>\n",
       "      <td>90615.000000</td>\n",
       "      <td>0.000000</td>\n",
       "      <td>0.075000</td>\n",
       "      <td>0.055000</td>\n",
       "      <td>0.000000</td>\n",
       "      <td>0.002000</td>\n",
       "      <td>0.001000</td>\n",
       "      <td>0.000500</td>\n",
       "      <td>0.001500</td>\n",
       "    </tr>\n",
       "    <tr>\n",
       "      <th>25%</th>\n",
       "      <td>105717.500000</td>\n",
       "      <td>0.000000</td>\n",
       "      <td>0.450000</td>\n",
       "      <td>0.345000</td>\n",
       "      <td>0.110000</td>\n",
       "      <td>0.419500</td>\n",
       "      <td>0.178500</td>\n",
       "      <td>0.086500</td>\n",
       "      <td>0.120000</td>\n",
       "    </tr>\n",
       "    <tr>\n",
       "      <th>50%</th>\n",
       "      <td>120820.000000</td>\n",
       "      <td>1.000000</td>\n",
       "      <td>0.545000</td>\n",
       "      <td>0.425000</td>\n",
       "      <td>0.140000</td>\n",
       "      <td>0.801500</td>\n",
       "      <td>0.329000</td>\n",
       "      <td>0.166000</td>\n",
       "      <td>0.225000</td>\n",
       "    </tr>\n",
       "    <tr>\n",
       "      <th>75%</th>\n",
       "      <td>135922.500000</td>\n",
       "      <td>2.000000</td>\n",
       "      <td>0.600000</td>\n",
       "      <td>0.470000</td>\n",
       "      <td>0.160000</td>\n",
       "      <td>1.070000</td>\n",
       "      <td>0.464500</td>\n",
       "      <td>0.232500</td>\n",
       "      <td>0.305000</td>\n",
       "    </tr>\n",
       "    <tr>\n",
       "      <th>max</th>\n",
       "      <td>151025.000000</td>\n",
       "      <td>2.000000</td>\n",
       "      <td>0.800000</td>\n",
       "      <td>0.650000</td>\n",
       "      <td>1.095000</td>\n",
       "      <td>2.825500</td>\n",
       "      <td>1.488000</td>\n",
       "      <td>0.641500</td>\n",
       "      <td>1.004000</td>\n",
       "    </tr>\n",
       "  </tbody>\n",
       "</table>\n",
       "</div>"
      ],
      "text/plain": [
       "                  id           Sex        Length      Diameter        Height  \\\n",
       "count   60411.000000  60411.000000  60411.000000  60411.000000  60411.000000   \n",
       "mean   120820.000000      0.919650      0.517428      0.401961      0.135751   \n",
       "std     17439.297893      0.805933      0.117609      0.097470      0.038175   \n",
       "min     90615.000000      0.000000      0.075000      0.055000      0.000000   \n",
       "25%    105717.500000      0.000000      0.450000      0.345000      0.110000   \n",
       "50%    120820.000000      1.000000      0.545000      0.425000      0.140000   \n",
       "75%    135922.500000      2.000000      0.600000      0.470000      0.160000   \n",
       "max    151025.000000      2.000000      0.800000      0.650000      1.095000   \n",
       "\n",
       "       Whole weight  Whole weight.1  Whole weight.2  Shell weight  \n",
       "count  60411.000000    60411.000000    60411.000000  60411.000000  \n",
       "mean       0.790062        0.341227        0.169419      0.226125  \n",
       "std        0.457591        0.204221        0.100720      0.129826  \n",
       "min        0.002000        0.001000        0.000500      0.001500  \n",
       "25%        0.419500        0.178500        0.086500      0.120000  \n",
       "50%        0.801500        0.329000        0.166000      0.225000  \n",
       "75%        1.070000        0.464500        0.232500      0.305000  \n",
       "max        2.825500        1.488000        0.641500      1.004000  "
      ]
     },
     "execution_count": 465,
     "metadata": {},
     "output_type": "execute_result"
    }
   ],
   "source": [
    "df_test.describe()"
   ]
  },
  {
   "cell_type": "code",
   "execution_count": 466,
   "metadata": {},
   "outputs": [
    {
     "data": {
      "image/png": "[encoded data removed]",
      "text/plain": [
       "<Figure size 1200x1000 with 12 Axes>"
      ]
     },
     "metadata": {},
     "output_type": "display_data"
    }
   ],
   "source": [
    "df_train.hist(bins=30, figsize=(12, 10))\n",
    "plt.show()"
   ]
  },
  {
   "cell_type": "code",
   "execution_count": 467,
   "metadata": {},
   "outputs": [
    {
     "data": {
      "image/png": "[encoded data removed]",
      "text/plain": [
       "<Figure size 1200x1000 with 9 Axes>"
      ]
     },
     "metadata": {},
     "output_type": "display_data"
    }
   ],
   "source": [
    "df_test.hist(bins=30, figsize=(12, 10))\n",
    "plt.show()"
   ]
  },
  {
   "cell_type": "code",
   "execution_count": 468,
   "metadata": {},
   "outputs": [],
   "source": [
    "def transform_df_nb(column):\n",
    "    df_train[column], _ = boxcox(df_train[column])\n",
    "    df_test[column], _ = boxcox(df_test[column])\n",
    "#transform_df_nb('')"
   ]
  },
  {
   "cell_type": "code",
   "execution_count": 469,
   "metadata": {},
   "outputs": [],
   "source": [
    "#transform_df_nb('Length')\n",
    "#transform_df_nb('Diameter')\n",
    "transform_df_nb('Whole weight')\n",
    "transform_df_nb('Whole weight.1')\n",
    "transform_df_nb('Whole weight.2')\n",
    "transform_df_nb('Shell weight')"
   ]
  },
  {
   "cell_type": "code",
   "execution_count": 470,
   "metadata": {},
   "outputs": [
    {
     "data": {
      "image/png": "[encoded data removed]",
      "text/plain": [
       "<Figure size 1200x1000 with 12 Axes>"
      ]
     },
     "metadata": {},
     "output_type": "display_data"
    }
   ],
   "source": [
    "df_train.hist(bins=30, figsize=(12, 10))\n",
    "plt.show()"
   ]
  },
  {
   "cell_type": "code",
   "execution_count": 471,
   "metadata": {},
   "outputs": [
    {
     "data": {
      "image/png": "[encoded data removed]",
      "text/plain": [
       "<Figure size 1200x1000 with 9 Axes>"
      ]
     },
     "metadata": {},
     "output_type": "display_data"
    }
   ],
   "source": [
    "df_test.hist(bins=30, figsize=(12, 10))\n",
    "plt.show()"
   ]
  },
  {
   "cell_type": "markdown",
   "metadata": {},
   "source": [
    "boxcox<br>\n",
    "ValueError: Data must be positive."
   ]
  },
  {
   "cell_type": "code",
   "execution_count": 472,
   "metadata": {},
   "outputs": [
    {
     "data": {
      "text/plain": [
       "\"transform_df_nb('Length')\\ntransform_df_nb('Diameter')\\ntransform_df_nb('Height')\\ntransform_df_nb('Whole weight.1')\\ntransform_df_nb('Whole weight')\\ntransform_df_nb('Whole weight.2')\\ntransform_df_nb('Shell weight')\\ntransform_df_nb('Rings')\""
      ]
     },
     "execution_count": 472,
     "metadata": {},
     "output_type": "execute_result"
    }
   ],
   "source": [
    "'''transform_df_nb('Length')\n",
    "transform_df_nb('Diameter')\n",
    "transform_df_nb('Height')\n",
    "transform_df_nb('Whole weight.1')\n",
    "transform_df_nb('Whole weight')\n",
    "transform_df_nb('Whole weight.2')\n",
    "transform_df_nb('Shell weight')\n",
    "transform_df_nb('Rings')'''"
   ]
  },
  {
   "cell_type": "code",
   "execution_count": 473,
   "metadata": {},
   "outputs": [
    {
     "data": {
      "text/plain": [
       "\"from sklearn.preprocessing import PowerTransformer\\n\\n# PowerTransformerオブジェクトを作成し、Yeo-Johnson変換を実行する\\npt = PowerTransformer(method='yeo-johnson')\\ndf_train_nb = pt.fit_transform(df_train)\\ndf_test_nb = pt.fit_transform(df_test)\\n\\n# NumPy配列から新しいデータフレームを作成する\\n\\ndf_train = pd.DataFrame(df_train_nb, columns=df_train.columns)\\ndf_test = pd.DataFrame(df_test_nb, columns=df_test.columns)\""
      ]
     },
     "execution_count": 473,
     "metadata": {},
     "output_type": "execute_result"
    }
   ],
   "source": [
    "'''from sklearn.preprocessing import PowerTransformer\n",
    "\n",
    "# PowerTransformerオブジェクトを作成し、Yeo-Johnson変換を実行する\n",
    "pt = PowerTransformer(method='yeo-johnson')\n",
    "df_train_nb = pt.fit_transform(df_train)\n",
    "df_test_nb = pt.fit_transform(df_test)\n",
    "\n",
    "# NumPy配列から新しいデータフレームを作成する\n",
    "\n",
    "df_train = pd.DataFrame(df_train_nb, columns=df_train.columns)\n",
    "df_test = pd.DataFrame(df_test_nb, columns=df_test.columns)'''\n"
   ]
  },
  {
   "cell_type": "code",
   "execution_count": 474,
   "metadata": {},
   "outputs": [
    {
     "data": {
      "text/plain": [
       "'from sklearn.preprocessing import StandardScaler\\nscaler = StandardScaler()\\nscaler.fit(X_train)'"
      ]
     },
     "execution_count": 474,
     "metadata": {},
     "output_type": "execute_result"
    }
   ],
   "source": [
    "'''from sklearn.preprocessing import StandardScaler\n",
    "scaler = StandardScaler()\n",
    "scaler.fit(X_train)'''"
   ]
  },
  {
   "cell_type": "code",
   "execution_count": 475,
   "metadata": {},
   "outputs": [
    {
     "data": {
      "text/plain": [
       "'X_train_scaled = scaler.transform(X_train)\\ndf_X_train_scaled = pd.DataFrame(X_train_scaled, columns=df_train.columns)\\n\\ndf_X_train_scaled.head()'"
      ]
     },
     "execution_count": 475,
     "metadata": {},
     "output_type": "execute_result"
    }
   ],
   "source": [
    "'''X_train_scaled = scaler.transform(X_train)\n",
    "df_X_train_scaled = pd.DataFrame(X_train_scaled, columns=df_train.columns)\n",
    "\n",
    "df_X_train_scaled.head()'''\n"
   ]
  },
  {
   "cell_type": "code",
   "execution_count": 476,
   "metadata": {},
   "outputs": [
    {
     "data": {
      "text/html": [
       "<div>\n",
       "<style scoped>\n",
       "    .dataframe tbody tr th:only-of-type {\n",
       "        vertical-align: middle;\n",
       "    }\n",
       "\n",
       "    .dataframe tbody tr th {\n",
       "        vertical-align: top;\n",
       "    }\n",
       "\n",
       "    .dataframe thead th {\n",
       "        text-align: right;\n",
       "    }\n",
       "</style>\n",
       "<table border=\"1\" class=\"dataframe\">\n",
       "  <thead>\n",
       "    <tr style=\"text-align: right;\">\n",
       "      <th></th>\n",
       "      <th>id</th>\n",
       "      <th>Sex</th>\n",
       "      <th>Length</th>\n",
       "      <th>Diameter</th>\n",
       "      <th>Height</th>\n",
       "      <th>Whole weight</th>\n",
       "      <th>Whole weight.1</th>\n",
       "      <th>Whole weight.2</th>\n",
       "      <th>Shell weight</th>\n",
       "      <th>Rings</th>\n",
       "    </tr>\n",
       "  </thead>\n",
       "  <tbody>\n",
       "    <tr>\n",
       "      <th>count</th>\n",
       "      <td>90609.000000</td>\n",
       "      <td>90609.000000</td>\n",
       "      <td>90609.000000</td>\n",
       "      <td>90609.000000</td>\n",
       "      <td>90609.000000</td>\n",
       "      <td>90609.000000</td>\n",
       "      <td>90609.000000</td>\n",
       "      <td>90609.000000</td>\n",
       "      <td>90609.000000</td>\n",
       "      <td>90609.000000</td>\n",
       "    </tr>\n",
       "    <tr>\n",
       "      <th>mean</th>\n",
       "      <td>45307.061992</td>\n",
       "      <td>0.927226</td>\n",
       "      <td>0.517106</td>\n",
       "      <td>0.401686</td>\n",
       "      <td>0.135473</td>\n",
       "      <td>-0.285147</td>\n",
       "      <td>-0.846522</td>\n",
       "      <td>-1.131452</td>\n",
       "      <td>-1.001769</td>\n",
       "      <td>9.696918</td>\n",
       "    </tr>\n",
       "    <tr>\n",
       "      <th>std</th>\n",
       "      <td>26158.188586</td>\n",
       "      <td>0.807655</td>\n",
       "      <td>0.118216</td>\n",
       "      <td>0.098025</td>\n",
       "      <td>0.037993</td>\n",
       "      <td>0.527095</td>\n",
       "      <td>0.337194</td>\n",
       "      <td>0.221087</td>\n",
       "      <td>0.240990</td>\n",
       "      <td>3.176278</td>\n",
       "    </tr>\n",
       "    <tr>\n",
       "      <th>min</th>\n",
       "      <td>0.000000</td>\n",
       "      <td>0.000000</td>\n",
       "      <td>0.075000</td>\n",
       "      <td>0.055000</td>\n",
       "      <td>0.004000</td>\n",
       "      <td>-1.576168</td>\n",
       "      <td>-1.686195</td>\n",
       "      <td>-1.679221</td>\n",
       "      <td>-1.586764</td>\n",
       "      <td>1.000000</td>\n",
       "    </tr>\n",
       "    <tr>\n",
       "      <th>25%</th>\n",
       "      <td>22654.000000</td>\n",
       "      <td>0.000000</td>\n",
       "      <td>0.445000</td>\n",
       "      <td>0.345000</td>\n",
       "      <td>0.110000</td>\n",
       "      <td>-0.671372</td>\n",
       "      <td>-1.089649</td>\n",
       "      <td>-1.296527</td>\n",
       "      <td>-1.180724</td>\n",
       "      <td>8.000000</td>\n",
       "    </tr>\n",
       "    <tr>\n",
       "      <th>50%</th>\n",
       "      <td>45307.000000</td>\n",
       "      <td>1.000000</td>\n",
       "      <td>0.545000</td>\n",
       "      <td>0.425000</td>\n",
       "      <td>0.140000</td>\n",
       "      <td>-0.208915</td>\n",
       "      <td>-0.816771</td>\n",
       "      <td>-1.108454</td>\n",
       "      <td>-0.973871</td>\n",
       "      <td>9.000000</td>\n",
       "    </tr>\n",
       "    <tr>\n",
       "      <th>75%</th>\n",
       "      <td>67960.000000</td>\n",
       "      <td>2.000000</td>\n",
       "      <td>0.600000</td>\n",
       "      <td>0.470000</td>\n",
       "      <td>0.160000</td>\n",
       "      <td>0.066663</td>\n",
       "      <td>-0.620513</td>\n",
       "      <td>-0.978993</td>\n",
       "      <td>-0.840906</td>\n",
       "      <td>11.000000</td>\n",
       "    </tr>\n",
       "    <tr>\n",
       "      <th>max</th>\n",
       "      <td>90614.000000</td>\n",
       "      <td>2.000000</td>\n",
       "      <td>0.815000</td>\n",
       "      <td>0.650000</td>\n",
       "      <td>1.130000</td>\n",
       "      <td>1.459056</td>\n",
       "      <td>0.447197</td>\n",
       "      <td>-0.253414</td>\n",
       "      <td>0.004995</td>\n",
       "      <td>29.000000</td>\n",
       "    </tr>\n",
       "  </tbody>\n",
       "</table>\n",
       "</div>"
      ],
      "text/plain": [
       "                 id           Sex        Length      Diameter        Height  \\\n",
       "count  90609.000000  90609.000000  90609.000000  90609.000000  90609.000000   \n",
       "mean   45307.061992      0.927226      0.517106      0.401686      0.135473   \n",
       "std    26158.188586      0.807655      0.118216      0.098025      0.037993   \n",
       "min        0.000000      0.000000      0.075000      0.055000      0.004000   \n",
       "25%    22654.000000      0.000000      0.445000      0.345000      0.110000   \n",
       "50%    45307.000000      1.000000      0.545000      0.425000      0.140000   \n",
       "75%    67960.000000      2.000000      0.600000      0.470000      0.160000   \n",
       "max    90614.000000      2.000000      0.815000      0.650000      1.130000   \n",
       "\n",
       "       Whole weight  Whole weight.1  Whole weight.2  Shell weight  \\\n",
       "count  90609.000000    90609.000000    90609.000000  90609.000000   \n",
       "mean      -0.285147       -0.846522       -1.131452     -1.001769   \n",
       "std        0.527095        0.337194        0.221087      0.240990   \n",
       "min       -1.576168       -1.686195       -1.679221     -1.586764   \n",
       "25%       -0.671372       -1.089649       -1.296527     -1.180724   \n",
       "50%       -0.208915       -0.816771       -1.108454     -0.973871   \n",
       "75%        0.066663       -0.620513       -0.978993     -0.840906   \n",
       "max        1.459056        0.447197       -0.253414      0.004995   \n",
       "\n",
       "              Rings  \n",
       "count  90609.000000  \n",
       "mean       9.696918  \n",
       "std        3.176278  \n",
       "min        1.000000  \n",
       "25%        8.000000  \n",
       "50%        9.000000  \n",
       "75%       11.000000  \n",
       "max       29.000000  "
      ]
     },
     "execution_count": 476,
     "metadata": {},
     "output_type": "execute_result"
    }
   ],
   "source": [
    "df_train.describe()"
   ]
  },
  {
   "cell_type": "markdown",
   "metadata": {},
   "source": [
    "---"
   ]
  },
  {
   "cell_type": "markdown",
   "metadata": {},
   "source": [
    "２つの相互作用特徴量しらみつぶし用関数"
   ]
  },
  {
   "cell_type": "code",
   "execution_count": 477,
   "metadata": {},
   "outputs": [
    {
     "data": {
      "text/plain": [
       "\"kumiawase_name =  'Length', 'Diameter', 'Length*Diameter'\\ndf_train = kakeawase(df_train, kumiawase_name[0], kumiawase_name[1], kumiawase_name[2])\\ndf_test = kakeawase(df_test, kumiawase_name[0], kumiawase_name[1], kumiawase_name[2])\""
      ]
     },
     "execution_count": 477,
     "metadata": {},
     "output_type": "execute_result"
    }
   ],
   "source": [
    "#特徴量関数\n",
    "\n",
    "def kakeawase(df, origin_clumnname1, origin_clumnname2, new_clumnname):\n",
    "    df[new_clumnname] = df[origin_clumnname1] * df[origin_clumnname2]\n",
    "    return df\n",
    "\n",
    "'''kumiawase_name =  'Length', 'Diameter', 'Length*Diameter'\n",
    "df_train = kakeawase(df_train, kumiawase_name[0], kumiawase_name[1], kumiawase_name[2])\n",
    "df_test = kakeawase(df_test, kumiawase_name[0], kumiawase_name[1], kumiawase_name[2])'''"
   ]
  },
  {
   "cell_type": "markdown",
   "metadata": {},
   "source": [
    "２つの相互作用特徴量を洗い出す"
   ]
  },
  {
   "cell_type": "code",
   "execution_count": 478,
   "metadata": {},
   "outputs": [
    {
     "data": {
      "text/plain": [
       "\"kumiawase_name = ('Length', 'Diameter')\\nnew_name = f'{kumiawase_name[0]}*{kumiawase_name[1]}'\\ndf_train = kakeawase(df_train, kumiawase_name[0], kumiawase_name[1], new_name)\\ndf_test = kakeawase(df_test, kumiawase_name[0], kumiawase_name[1], new_name)\""
      ]
     },
     "execution_count": 478,
     "metadata": {},
     "output_type": "execute_result"
    }
   ],
   "source": [
    "#1 Length*Diameterを追加\n",
    "'''kumiawase_name = ('Length', 'Diameter')\n",
    "new_name = f'{kumiawase_name[0]}*{kumiawase_name[1]}'\n",
    "df_train = kakeawase(df_train, kumiawase_name[0], kumiawase_name[1], new_name)\n",
    "df_test = kakeawase(df_test, kumiawase_name[0], kumiawase_name[1], new_name)'''"
   ]
  },
  {
   "cell_type": "code",
   "execution_count": 479,
   "metadata": {},
   "outputs": [
    {
     "data": {
      "text/plain": [
       "\"kumiawase_name = ('Length', 'Height')\\nnew_name = f'{kumiawase_name[0]}*{kumiawase_name[1]}'\\ndf_train = kakeawase(df_train, kumiawase_name[0], kumiawase_name[1], new_name)\\ndf_test = kakeawase(df_test, kumiawase_name[0], kumiawase_name[1], new_name)\""
      ]
     },
     "execution_count": 479,
     "metadata": {},
     "output_type": "execute_result"
    }
   ],
   "source": [
    "#2 Length*Heightを追加\n",
    "'''kumiawase_name = ('Length', 'Height')\n",
    "new_name = f'{kumiawase_name[0]}*{kumiawase_name[1]}'\n",
    "df_train = kakeawase(df_train, kumiawase_name[0], kumiawase_name[1], new_name)\n",
    "df_test = kakeawase(df_test, kumiawase_name[0], kumiawase_name[1], new_name)'''"
   ]
  },
  {
   "cell_type": "code",
   "execution_count": 480,
   "metadata": {},
   "outputs": [],
   "source": [
    "#3 Length*Wholeweightを追加\n",
    "\n",
    "kumiawase_name = ('Length', 'Height')\n",
    "new_name = f'{kumiawase_name[0]}*{kumiawase_name[1]}'\n",
    "df_train = kakeawase(df_train, kumiawase_name[0], kumiawase_name[1], new_name)\n",
    "df_test = kakeawase(df_test, kumiawase_name[0], kumiawase_name[1], new_name)\n"
   ]
  },
  {
   "cell_type": "code",
   "execution_count": 481,
   "metadata": {},
   "outputs": [
    {
     "data": {
      "text/plain": [
       "\"\\nkumiawase_name = ('Length', 'Whole weight.1')\\nnew_name = f'{kumiawase_name[0]}*{kumiawase_name[1]}'\\ndf_train = kakeawase(df_train, kumiawase_name[0], kumiawase_name[1], new_name)\\ndf_test = kakeawase(df_test, kumiawase_name[0], kumiawase_name[1], new_name)\""
      ]
     },
     "execution_count": 481,
     "metadata": {},
     "output_type": "execute_result"
    }
   ],
   "source": [
    "#4 Length*Whole weight.1を追加\n",
    "'''\n",
    "kumiawase_name = ('Length', 'Whole weight.1')\n",
    "new_name = f'{kumiawase_name[0]}*{kumiawase_name[1]}'\n",
    "df_train = kakeawase(df_train, kumiawase_name[0], kumiawase_name[1], new_name)\n",
    "df_test = kakeawase(df_test, kumiawase_name[0], kumiawase_name[1], new_name)'''"
   ]
  },
  {
   "cell_type": "code",
   "execution_count": 482,
   "metadata": {},
   "outputs": [
    {
     "data": {
      "text/plain": [
       "\"kumiawase_name = ('Length', 'Whole weight.2')\\nnew_name = f'{kumiawase_name[0]}*{kumiawase_name[1]}'\\ndf_train = kakeawase(df_train, kumiawase_name[0], kumiawase_name[1], new_name)\\ndf_test = kakeawase(df_test, kumiawase_name[0], kumiawase_name[1], new_name)\""
      ]
     },
     "execution_count": 482,
     "metadata": {},
     "output_type": "execute_result"
    }
   ],
   "source": [
    "#5 Length*Wholeweight.2を追加\n",
    "'''kumiawase_name = ('Length', 'Whole weight.2')\n",
    "new_name = f'{kumiawase_name[0]}*{kumiawase_name[1]}'\n",
    "df_train = kakeawase(df_train, kumiawase_name[0], kumiawase_name[1], new_name)\n",
    "df_test = kakeawase(df_test, kumiawase_name[0], kumiawase_name[1], new_name)'''"
   ]
  },
  {
   "cell_type": "code",
   "execution_count": 483,
   "metadata": {},
   "outputs": [
    {
     "data": {
      "text/plain": [
       "\"kumiawase_name = ('Length', 'Shell weight')\\nnew_name = f'{kumiawase_name[0]}*{kumiawase_name[1]}'\\ndf_train = kakeawase(df_train, kumiawase_name[0], kumiawase_name[1], new_name)\\ndf_test = kakeawase(df_test, kumiawase_name[0], kumiawase_name[1], new_name)\""
      ]
     },
     "execution_count": 483,
     "metadata": {},
     "output_type": "execute_result"
    }
   ],
   "source": [
    "#6 Length*Shellweight を追加\n",
    "'''kumiawase_name = ('Length', 'Shell weight')\n",
    "new_name = f'{kumiawase_name[0]}*{kumiawase_name[1]}'\n",
    "df_train = kakeawase(df_train, kumiawase_name[0], kumiawase_name[1], new_name)\n",
    "df_test = kakeawase(df_test, kumiawase_name[0], kumiawase_name[1], new_name)'''"
   ]
  },
  {
   "cell_type": "code",
   "execution_count": 484,
   "metadata": {},
   "outputs": [
    {
     "data": {
      "text/plain": [
       "\"kumiawase_name = ('Diameter', 'Height')\\nnew_name = f'{kumiawase_name[0]}*{kumiawase_name[1]}'\\ndf_train = kakeawase(df_train, kumiawase_name[0], kumiawase_name[1], new_name)\\ndf_test = kakeawase(df_test, kumiawase_name[0], kumiawase_name[1], new_name)\""
      ]
     },
     "execution_count": 484,
     "metadata": {},
     "output_type": "execute_result"
    }
   ],
   "source": [
    "#7 Diameter*Heightを追加\n",
    "'''kumiawase_name = ('Diameter', 'Height')\n",
    "new_name = f'{kumiawase_name[0]}*{kumiawase_name[1]}'\n",
    "df_train = kakeawase(df_train, kumiawase_name[0], kumiawase_name[1], new_name)\n",
    "df_test = kakeawase(df_test, kumiawase_name[0], kumiawase_name[1], new_name)'''"
   ]
  },
  {
   "cell_type": "code",
   "execution_count": 485,
   "metadata": {},
   "outputs": [
    {
     "data": {
      "text/plain": [
       "\"kumiawase_name = ('Diameter', 'Whole weight')\\nnew_name = f'{kumiawase_name[0]}*{kumiawase_name[1]}'\\ndf_train = kakeawase(df_train, kumiawase_name[0], kumiawase_name[1], new_name)\\ndf_test = kakeawase(df_test, kumiawase_name[0], kumiawase_name[1], new_name)\""
      ]
     },
     "execution_count": 485,
     "metadata": {},
     "output_type": "execute_result"
    }
   ],
   "source": [
    "#8 Diameter*Wholeweightを追加\n",
    "'''kumiawase_name = ('Diameter', 'Whole weight')\n",
    "new_name = f'{kumiawase_name[0]}*{kumiawase_name[1]}'\n",
    "df_train = kakeawase(df_train, kumiawase_name[0], kumiawase_name[1], new_name)\n",
    "df_test = kakeawase(df_test, kumiawase_name[0], kumiawase_name[1], new_name)'''"
   ]
  },
  {
   "cell_type": "code",
   "execution_count": 486,
   "metadata": {},
   "outputs": [
    {
     "data": {
      "text/plain": [
       "\"kumiawase_name = ('Diameter', 'Whole weight.1')\\nnew_name = f'{kumiawase_name[0]}*{kumiawase_name[1]}'\\ndf_train = kakeawase(df_train, kumiawase_name[0], kumiawase_name[1], new_name)\\ndf_test = kakeawase(df_test, kumiawase_name[0], kumiawase_name[1], new_name)\""
      ]
     },
     "execution_count": 486,
     "metadata": {},
     "output_type": "execute_result"
    }
   ],
   "source": [
    "#9 Diameter*Wholeweight.1を追加\n",
    "'''kumiawase_name = ('Diameter', 'Whole weight.1')\n",
    "new_name = f'{kumiawase_name[0]}*{kumiawase_name[1]}'\n",
    "df_train = kakeawase(df_train, kumiawase_name[0], kumiawase_name[1], new_name)\n",
    "df_test = kakeawase(df_test, kumiawase_name[0], kumiawase_name[1], new_name)'''"
   ]
  },
  {
   "cell_type": "code",
   "execution_count": 487,
   "metadata": {},
   "outputs": [
    {
     "data": {
      "text/plain": [
       "\"kumiawase_name = ('Diameter', 'Whole weight.2')\\nnew_name = f'{kumiawase_name[0]}*{kumiawase_name[1]}'\\ndf_train = kakeawase(df_train, kumiawase_name[0], kumiawase_name[1], new_name)\\ndf_test = kakeawase(df_test, kumiawase_name[0], kumiawase_name[1], new_name)\""
      ]
     },
     "execution_count": 487,
     "metadata": {},
     "output_type": "execute_result"
    }
   ],
   "source": [
    "#10 Diameter*Wholeweight.2を追加\n",
    "'''kumiawase_name = ('Diameter', 'Whole weight.2')\n",
    "new_name = f'{kumiawase_name[0]}*{kumiawase_name[1]}'\n",
    "df_train = kakeawase(df_train, kumiawase_name[0], kumiawase_name[1], new_name)\n",
    "df_test = kakeawase(df_test, kumiawase_name[0], kumiawase_name[1], new_name)'''"
   ]
  },
  {
   "cell_type": "code",
   "execution_count": 488,
   "metadata": {},
   "outputs": [
    {
     "data": {
      "text/plain": [
       "\"kumiawase_name = ('Diameter', 'Shell weight')\\nnew_name = f'{kumiawase_name[0]}*{kumiawase_name[1]}'\\ndf_train = kakeawase(df_train, kumiawase_name[0], kumiawase_name[1], new_name)\\ndf_test = kakeawase(df_test, kumiawase_name[0], kumiawase_name[1], new_name)\""
      ]
     },
     "execution_count": 488,
     "metadata": {},
     "output_type": "execute_result"
    }
   ],
   "source": [
    "#11 Diameter*Shellweightを追加\n",
    "'''kumiawase_name = ('Diameter', 'Shell weight')\n",
    "new_name = f'{kumiawase_name[0]}*{kumiawase_name[1]}'\n",
    "df_train = kakeawase(df_train, kumiawase_name[0], kumiawase_name[1], new_name)\n",
    "df_test = kakeawase(df_test, kumiawase_name[0], kumiawase_name[1], new_name)'''"
   ]
  },
  {
   "cell_type": "code",
   "execution_count": 489,
   "metadata": {},
   "outputs": [
    {
     "data": {
      "text/plain": [
       "\"kumiawase_name = ('Height', 'Whole weight')\\nnew_name = f'{kumiawase_name[0]}*{kumiawase_name[1]}'\\ndf_train = kakeawase(df_train, kumiawase_name[0], kumiawase_name[1], new_name)\\ndf_test = kakeawase(df_test, kumiawase_name[0], kumiawase_name[1], new_name)\""
      ]
     },
     "execution_count": 489,
     "metadata": {},
     "output_type": "execute_result"
    }
   ],
   "source": [
    "#12 Height*Wholeweightを追加\n",
    "'''kumiawase_name = ('Height', 'Whole weight')\n",
    "new_name = f'{kumiawase_name[0]}*{kumiawase_name[1]}'\n",
    "df_train = kakeawase(df_train, kumiawase_name[0], kumiawase_name[1], new_name)\n",
    "df_test = kakeawase(df_test, kumiawase_name[0], kumiawase_name[1], new_name)'''"
   ]
  },
  {
   "cell_type": "code",
   "execution_count": 490,
   "metadata": {},
   "outputs": [
    {
     "data": {
      "text/plain": [
       "\"kumiawase_name = ('Height', 'Whole weight.1')\\nnew_name = f'{kumiawase_name[0]}*{kumiawase_name[1]}'\\ndf_train = kakeawase(df_train, kumiawase_name[0], kumiawase_name[1], new_name)\\ndf_test = kakeawase(df_test, kumiawase_name[0], kumiawase_name[1], new_name)\""
      ]
     },
     "execution_count": 490,
     "metadata": {},
     "output_type": "execute_result"
    }
   ],
   "source": [
    "#13 Height*Wholewheit.1を追加\n",
    "'''kumiawase_name = ('Height', 'Whole weight.1')\n",
    "new_name = f'{kumiawase_name[0]}*{kumiawase_name[1]}'\n",
    "df_train = kakeawase(df_train, kumiawase_name[0], kumiawase_name[1], new_name)\n",
    "df_test = kakeawase(df_test, kumiawase_name[0], kumiawase_name[1], new_name)'''"
   ]
  },
  {
   "cell_type": "code",
   "execution_count": 491,
   "metadata": {},
   "outputs": [
    {
     "data": {
      "text/plain": [
       "\"kumiawase_name = ('Height', 'Whole weight.2')\\nnew_name = f'{kumiawase_name[0]}*{kumiawase_name[1]}'\\ndf_train = kakeawase(df_train, kumiawase_name[0], kumiawase_name[1], new_name)\\ndf_test = kakeawase(df_test, kumiawase_name[0], kumiawase_name[1], new_name)\""
      ]
     },
     "execution_count": 491,
     "metadata": {},
     "output_type": "execute_result"
    }
   ],
   "source": [
    "#14 Height*Wholewheit.2を追加\n",
    "'''kumiawase_name = ('Height', 'Whole weight.2')\n",
    "new_name = f'{kumiawase_name[0]}*{kumiawase_name[1]}'\n",
    "df_train = kakeawase(df_train, kumiawase_name[0], kumiawase_name[1], new_name)\n",
    "df_test = kakeawase(df_test, kumiawase_name[0], kumiawase_name[1], new_name)'''"
   ]
  },
  {
   "cell_type": "code",
   "execution_count": 492,
   "metadata": {},
   "outputs": [
    {
     "data": {
      "text/plain": [
       "\"kumiawase_name = ('Height', 'Shell weight')\\nnew_name = f'{kumiawase_name[0]}*{kumiawase_name[1]}'\\ndf_train = kakeawase(df_train, kumiawase_name[0], kumiawase_name[1], new_name)\\ndf_test = kakeawase(df_test, kumiawase_name[0], kumiawase_name[1], new_name)\""
      ]
     },
     "execution_count": 492,
     "metadata": {},
     "output_type": "execute_result"
    }
   ],
   "source": [
    "#15 Height*Shellwheitを追加\n",
    "\n",
    "'''kumiawase_name = ('Height', 'Shell weight')\n",
    "new_name = f'{kumiawase_name[0]}*{kumiawase_name[1]}'\n",
    "df_train = kakeawase(df_train, kumiawase_name[0], kumiawase_name[1], new_name)\n",
    "df_test = kakeawase(df_test, kumiawase_name[0], kumiawase_name[1], new_name)'''\n"
   ]
  },
  {
   "cell_type": "code",
   "execution_count": 493,
   "metadata": {},
   "outputs": [
    {
     "data": {
      "text/plain": [
       "\"kumiawase_name = ('Whole weight', 'Whole weight.1')\\nnew_name = f'{kumiawase_name[0]}*{kumiawase_name[1]}'\\ndf_train = kakeawase(df_train, kumiawase_name[0], kumiawase_name[1], new_name)\\ndf_test = kakeawase(df_test, kumiawase_name[0], kumiawase_name[1], new_name)\""
      ]
     },
     "execution_count": 493,
     "metadata": {},
     "output_type": "execute_result"
    }
   ],
   "source": [
    "#16 Wholeweight*Wholeweight.1を追加\n",
    "'''kumiawase_name = ('Whole weight', 'Whole weight.1')\n",
    "new_name = f'{kumiawase_name[0]}*{kumiawase_name[1]}'\n",
    "df_train = kakeawase(df_train, kumiawase_name[0], kumiawase_name[1], new_name)\n",
    "df_test = kakeawase(df_test, kumiawase_name[0], kumiawase_name[1], new_name)'''"
   ]
  },
  {
   "cell_type": "code",
   "execution_count": 494,
   "metadata": {},
   "outputs": [
    {
     "data": {
      "text/plain": [
       "\"kumiawase_name = ('Whole weight', 'Whole weight.2')\\nnew_name = f'{kumiawase_name[0]}*{kumiawase_name[1]}'\\ndf_train = kakeawase(df_train, kumiawase_name[0], kumiawase_name[1], new_name)\\ndf_test = kakeawase(df_test, kumiawase_name[0], kumiawase_name[1], new_name)\""
      ]
     },
     "execution_count": 494,
     "metadata": {},
     "output_type": "execute_result"
    }
   ],
   "source": [
    "#17 Wholeweight*Wholeweight.2を追加\n",
    "'''kumiawase_name = ('Whole weight', 'Whole weight.2')\n",
    "new_name = f'{kumiawase_name[0]}*{kumiawase_name[1]}'\n",
    "df_train = kakeawase(df_train, kumiawase_name[0], kumiawase_name[1], new_name)\n",
    "df_test = kakeawase(df_test, kumiawase_name[0], kumiawase_name[1], new_name)'''"
   ]
  },
  {
   "cell_type": "code",
   "execution_count": 495,
   "metadata": {},
   "outputs": [
    {
     "data": {
      "text/plain": [
       "\"kumiawase_name = ('Whole weight', 'Shell weight')\\nnew_name = f'{kumiawase_name[0]}*{kumiawase_name[1]}'\\ndf_train = kakeawase(df_train, kumiawase_name[0], kumiawase_name[1], new_name)\\ndf_test = kakeawase(df_test, kumiawase_name[0], kumiawase_name[1], new_name)\""
      ]
     },
     "execution_count": 495,
     "metadata": {},
     "output_type": "execute_result"
    }
   ],
   "source": [
    "#18 Wholeweight*Shell weightを追加\n",
    "'''kumiawase_name = ('Whole weight', 'Shell weight')\n",
    "new_name = f'{kumiawase_name[0]}*{kumiawase_name[1]}'\n",
    "df_train = kakeawase(df_train, kumiawase_name[0], kumiawase_name[1], new_name)\n",
    "df_test = kakeawase(df_test, kumiawase_name[0], kumiawase_name[1], new_name)'''"
   ]
  },
  {
   "cell_type": "code",
   "execution_count": 496,
   "metadata": {},
   "outputs": [
    {
     "data": {
      "text/plain": [
       "\"kumiawase_name = ('Whole weight.1', 'Whole weight.2')\\nnew_name = f'{kumiawase_name[0]}*{kumiawase_name[1]}'\\ndf_train = kakeawase(df_train, kumiawase_name[0], kumiawase_name[1], new_name)\\ndf_test = kakeawase(df_test, kumiawase_name[0], kumiawase_name[1], new_name)\""
      ]
     },
     "execution_count": 496,
     "metadata": {},
     "output_type": "execute_result"
    }
   ],
   "source": [
    "#19 Wholeweight.1*Wholeweight.2を追加\n",
    "'''kumiawase_name = ('Whole weight.1', 'Whole weight.2')\n",
    "new_name = f'{kumiawase_name[0]}*{kumiawase_name[1]}'\n",
    "df_train = kakeawase(df_train, kumiawase_name[0], kumiawase_name[1], new_name)\n",
    "df_test = kakeawase(df_test, kumiawase_name[0], kumiawase_name[1], new_name)'''"
   ]
  },
  {
   "cell_type": "code",
   "execution_count": 497,
   "metadata": {},
   "outputs": [
    {
     "data": {
      "text/plain": [
       "\"kumiawase_name = ('Whole weight.1', 'Shell weight')\\nnew_name = f'{kumiawase_name[0]}*{kumiawase_name[1]}'\\ndf_train = kakeawase(df_train, kumiawase_name[0], kumiawase_name[1], new_name)\\ndf_test = kakeawase(df_test, kumiawase_name[0], kumiawase_name[1], new_name)\""
      ]
     },
     "execution_count": 497,
     "metadata": {},
     "output_type": "execute_result"
    }
   ],
   "source": [
    "#20 Wholeweight.1*Shellweightを追加\n",
    "'''kumiawase_name = ('Whole weight.1', 'Shell weight')\n",
    "new_name = f'{kumiawase_name[0]}*{kumiawase_name[1]}'\n",
    "df_train = kakeawase(df_train, kumiawase_name[0], kumiawase_name[1], new_name)\n",
    "df_test = kakeawase(df_test, kumiawase_name[0], kumiawase_name[1], new_name)'''"
   ]
  },
  {
   "cell_type": "code",
   "execution_count": 498,
   "metadata": {},
   "outputs": [
    {
     "data": {
      "text/plain": [
       "\"kumiawase_name = ('Whole weight.2', 'Shell weight')\\nnew_name = f'{kumiawase_name[0]}*{kumiawase_name[1]}'\\ndf_train = kakeawase(df_train, kumiawase_name[0], kumiawase_name[1], new_name)\\ndf_test = kakeawase(df_test, kumiawase_name[0], kumiawase_name[1], new_name)\""
      ]
     },
     "execution_count": 498,
     "metadata": {},
     "output_type": "execute_result"
    }
   ],
   "source": [
    "#21 Wholeweight.2*Shellweightを追加\n",
    "'''kumiawase_name = ('Whole weight.2', 'Shell weight')\n",
    "new_name = f'{kumiawase_name[0]}*{kumiawase_name[1]}'\n",
    "df_train = kakeawase(df_train, kumiawase_name[0], kumiawase_name[1], new_name)\n",
    "df_test = kakeawase(df_test, kumiawase_name[0], kumiawase_name[1], new_name)'''"
   ]
  },
  {
   "cell_type": "code",
   "execution_count": 499,
   "metadata": {},
   "outputs": [
    {
     "data": {
      "text/html": [
       "<div>\n",
       "<style scoped>\n",
       "    .dataframe tbody tr th:only-of-type {\n",
       "        vertical-align: middle;\n",
       "    }\n",
       "\n",
       "    .dataframe tbody tr th {\n",
       "        vertical-align: top;\n",
       "    }\n",
       "\n",
       "    .dataframe thead th {\n",
       "        text-align: right;\n",
       "    }\n",
       "</style>\n",
       "<table border=\"1\" class=\"dataframe\">\n",
       "  <thead>\n",
       "    <tr style=\"text-align: right;\">\n",
       "      <th></th>\n",
       "      <th>id</th>\n",
       "      <th>Sex</th>\n",
       "      <th>Length</th>\n",
       "      <th>Diameter</th>\n",
       "      <th>Height</th>\n",
       "      <th>Whole weight</th>\n",
       "      <th>Whole weight.1</th>\n",
       "      <th>Whole weight.2</th>\n",
       "      <th>Shell weight</th>\n",
       "      <th>Rings</th>\n",
       "      <th>Length*Height</th>\n",
       "    </tr>\n",
       "  </thead>\n",
       "  <tbody>\n",
       "    <tr>\n",
       "      <th>0</th>\n",
       "      <td>0</td>\n",
       "      <td>2</td>\n",
       "      <td>0.550</td>\n",
       "      <td>0.430</td>\n",
       "      <td>0.150</td>\n",
       "      <td>-0.239598</td>\n",
       "      <td>-0.819156</td>\n",
       "      <td>-1.150310</td>\n",
       "      <td>-0.947716</td>\n",
       "      <td>11</td>\n",
       "      <td>0.08250</td>\n",
       "    </tr>\n",
       "    <tr>\n",
       "      <th>1</th>\n",
       "      <td>1</td>\n",
       "      <td>2</td>\n",
       "      <td>0.630</td>\n",
       "      <td>0.490</td>\n",
       "      <td>0.145</td>\n",
       "      <td>0.126976</td>\n",
       "      <td>-0.627425</td>\n",
       "      <td>-0.901691</td>\n",
       "      <td>-0.817539</td>\n",
       "      <td>11</td>\n",
       "      <td>0.09135</td>\n",
       "    </tr>\n",
       "    <tr>\n",
       "      <th>2</th>\n",
       "      <td>2</td>\n",
       "      <td>0</td>\n",
       "      <td>0.160</td>\n",
       "      <td>0.110</td>\n",
       "      <td>0.025</td>\n",
       "      <td>-1.463942</td>\n",
       "      <td>-1.633998</td>\n",
       "      <td>-1.643007</td>\n",
       "      <td>-1.554806</td>\n",
       "      <td>6</td>\n",
       "      <td>0.00400</td>\n",
       "    </tr>\n",
       "    <tr>\n",
       "      <th>3</th>\n",
       "      <td>3</td>\n",
       "      <td>1</td>\n",
       "      <td>0.595</td>\n",
       "      <td>0.475</td>\n",
       "      <td>0.150</td>\n",
       "      <td>-0.086942</td>\n",
       "      <td>-0.746440</td>\n",
       "      <td>-1.029433</td>\n",
       "      <td>-0.930625</td>\n",
       "      <td>10</td>\n",
       "      <td>0.08925</td>\n",
       "    </tr>\n",
       "    <tr>\n",
       "      <th>4</th>\n",
       "      <td>4</td>\n",
       "      <td>0</td>\n",
       "      <td>0.555</td>\n",
       "      <td>0.425</td>\n",
       "      <td>0.130</td>\n",
       "      <td>-0.228044</td>\n",
       "      <td>-0.755502</td>\n",
       "      <td>-1.121107</td>\n",
       "      <td>-1.023619</td>\n",
       "      <td>9</td>\n",
       "      <td>0.07215</td>\n",
       "    </tr>\n",
       "  </tbody>\n",
       "</table>\n",
       "</div>"
      ],
      "text/plain": [
       "   id  Sex  Length  Diameter  Height  Whole weight  Whole weight.1  \\\n",
       "0   0    2   0.550     0.430   0.150     -0.239598       -0.819156   \n",
       "1   1    2   0.630     0.490   0.145      0.126976       -0.627425   \n",
       "2   2    0   0.160     0.110   0.025     -1.463942       -1.633998   \n",
       "3   3    1   0.595     0.475   0.150     -0.086942       -0.746440   \n",
       "4   4    0   0.555     0.425   0.130     -0.228044       -0.755502   \n",
       "\n",
       "   Whole weight.2  Shell weight  Rings  Length*Height  \n",
       "0       -1.150310     -0.947716     11        0.08250  \n",
       "1       -0.901691     -0.817539     11        0.09135  \n",
       "2       -1.643007     -1.554806      6        0.00400  \n",
       "3       -1.029433     -0.930625     10        0.08925  \n",
       "4       -1.121107     -1.023619      9        0.07215  "
      ]
     },
     "execution_count": 499,
     "metadata": {},
     "output_type": "execute_result"
    }
   ],
   "source": [
    "df_train.head()"
   ]
  },
  {
   "cell_type": "code",
   "execution_count": 500,
   "metadata": {},
   "outputs": [
    {
     "data": {
      "text/html": [
       "<div>\n",
       "<style scoped>\n",
       "    .dataframe tbody tr th:only-of-type {\n",
       "        vertical-align: middle;\n",
       "    }\n",
       "\n",
       "    .dataframe tbody tr th {\n",
       "        vertical-align: top;\n",
       "    }\n",
       "\n",
       "    .dataframe thead th {\n",
       "        text-align: right;\n",
       "    }\n",
       "</style>\n",
       "<table border=\"1\" class=\"dataframe\">\n",
       "  <thead>\n",
       "    <tr style=\"text-align: right;\">\n",
       "      <th></th>\n",
       "      <th>id</th>\n",
       "      <th>Sex</th>\n",
       "      <th>Length</th>\n",
       "      <th>Diameter</th>\n",
       "      <th>Height</th>\n",
       "      <th>Whole weight</th>\n",
       "      <th>Whole weight.1</th>\n",
       "      <th>Whole weight.2</th>\n",
       "      <th>Shell weight</th>\n",
       "      <th>Length*Height</th>\n",
       "    </tr>\n",
       "  </thead>\n",
       "  <tbody>\n",
       "    <tr>\n",
       "      <th>0</th>\n",
       "      <td>90615</td>\n",
       "      <td>1</td>\n",
       "      <td>0.645</td>\n",
       "      <td>0.475</td>\n",
       "      <td>0.155</td>\n",
       "      <td>0.228258</td>\n",
       "      <td>-0.419132</td>\n",
       "      <td>-0.842204</td>\n",
       "      <td>-0.847429</td>\n",
       "      <td>0.099975</td>\n",
       "    </tr>\n",
       "    <tr>\n",
       "      <th>1</th>\n",
       "      <td>90616</td>\n",
       "      <td>1</td>\n",
       "      <td>0.580</td>\n",
       "      <td>0.460</td>\n",
       "      <td>0.160</td>\n",
       "      <td>-0.017055</td>\n",
       "      <td>-0.599376</td>\n",
       "      <td>-1.003038</td>\n",
       "      <td>-0.888361</td>\n",
       "      <td>0.092800</td>\n",
       "    </tr>\n",
       "    <tr>\n",
       "      <th>2</th>\n",
       "      <td>90617</td>\n",
       "      <td>1</td>\n",
       "      <td>0.560</td>\n",
       "      <td>0.420</td>\n",
       "      <td>0.140</td>\n",
       "      <td>-0.165803</td>\n",
       "      <td>-0.781686</td>\n",
       "      <td>-1.070671</td>\n",
       "      <td>-0.946117</td>\n",
       "      <td>0.078400</td>\n",
       "    </tr>\n",
       "    <tr>\n",
       "      <th>3</th>\n",
       "      <td>90618</td>\n",
       "      <td>1</td>\n",
       "      <td>0.570</td>\n",
       "      <td>0.490</td>\n",
       "      <td>0.145</td>\n",
       "      <td>-0.129211</td>\n",
       "      <td>-0.781686</td>\n",
       "      <td>-1.066671</td>\n",
       "      <td>-0.955607</td>\n",
       "      <td>0.082650</td>\n",
       "    </tr>\n",
       "    <tr>\n",
       "      <th>4</th>\n",
       "      <td>90619</td>\n",
       "      <td>0</td>\n",
       "      <td>0.415</td>\n",
       "      <td>0.325</td>\n",
       "      <td>0.110</td>\n",
       "      <td>-0.759972</td>\n",
       "      <td>-1.132234</td>\n",
       "      <td>-1.352829</td>\n",
       "      <td>-1.213866</td>\n",
       "      <td>0.045650</td>\n",
       "    </tr>\n",
       "  </tbody>\n",
       "</table>\n",
       "</div>"
      ],
      "text/plain": [
       "      id  Sex  Length  Diameter  Height  Whole weight  Whole weight.1  \\\n",
       "0  90615    1   0.645     0.475   0.155      0.228258       -0.419132   \n",
       "1  90616    1   0.580     0.460   0.160     -0.017055       -0.599376   \n",
       "2  90617    1   0.560     0.420   0.140     -0.165803       -0.781686   \n",
       "3  90618    1   0.570     0.490   0.145     -0.129211       -0.781686   \n",
       "4  90619    0   0.415     0.325   0.110     -0.759972       -1.132234   \n",
       "\n",
       "   Whole weight.2  Shell weight  Length*Height  \n",
       "0       -0.842204     -0.847429       0.099975  \n",
       "1       -1.003038     -0.888361       0.092800  \n",
       "2       -1.070671     -0.946117       0.078400  \n",
       "3       -1.066671     -0.955607       0.082650  \n",
       "4       -1.352829     -1.213866       0.045650  "
      ]
     },
     "execution_count": 500,
     "metadata": {},
     "output_type": "execute_result"
    }
   ],
   "source": [
    "df_test.head()"
   ]
  },
  {
   "cell_type": "code",
   "execution_count": 501,
   "metadata": {},
   "outputs": [
    {
     "data": {
      "text/html": [
       "<div>\n",
       "<style scoped>\n",
       "    .dataframe tbody tr th:only-of-type {\n",
       "        vertical-align: middle;\n",
       "    }\n",
       "\n",
       "    .dataframe tbody tr th {\n",
       "        vertical-align: top;\n",
       "    }\n",
       "\n",
       "    .dataframe thead th {\n",
       "        text-align: right;\n",
       "    }\n",
       "</style>\n",
       "<table border=\"1\" class=\"dataframe\">\n",
       "  <thead>\n",
       "    <tr style=\"text-align: right;\">\n",
       "      <th></th>\n",
       "      <th>id</th>\n",
       "      <th>Sex</th>\n",
       "      <th>Length</th>\n",
       "      <th>Diameter</th>\n",
       "      <th>Height</th>\n",
       "      <th>Whole weight</th>\n",
       "      <th>Whole weight.1</th>\n",
       "      <th>Whole weight.2</th>\n",
       "      <th>Shell weight</th>\n",
       "      <th>Rings</th>\n",
       "      <th>Length*Height</th>\n",
       "    </tr>\n",
       "  </thead>\n",
       "  <tbody>\n",
       "    <tr>\n",
       "      <th>count</th>\n",
       "      <td>90609.000000</td>\n",
       "      <td>90609.000000</td>\n",
       "      <td>90609.000000</td>\n",
       "      <td>90609.000000</td>\n",
       "      <td>90609.000000</td>\n",
       "      <td>90609.000000</td>\n",
       "      <td>90609.000000</td>\n",
       "      <td>90609.000000</td>\n",
       "      <td>90609.000000</td>\n",
       "      <td>90609.000000</td>\n",
       "      <td>90609.000000</td>\n",
       "    </tr>\n",
       "    <tr>\n",
       "      <th>mean</th>\n",
       "      <td>45307.061992</td>\n",
       "      <td>0.927226</td>\n",
       "      <td>0.517106</td>\n",
       "      <td>0.401686</td>\n",
       "      <td>0.135473</td>\n",
       "      <td>-0.285147</td>\n",
       "      <td>-0.846522</td>\n",
       "      <td>-1.131452</td>\n",
       "      <td>-1.001769</td>\n",
       "      <td>9.696918</td>\n",
       "      <td>0.074169</td>\n",
       "    </tr>\n",
       "    <tr>\n",
       "      <th>std</th>\n",
       "      <td>26158.188586</td>\n",
       "      <td>0.807655</td>\n",
       "      <td>0.118216</td>\n",
       "      <td>0.098025</td>\n",
       "      <td>0.037993</td>\n",
       "      <td>0.527095</td>\n",
       "      <td>0.337194</td>\n",
       "      <td>0.221087</td>\n",
       "      <td>0.240990</td>\n",
       "      <td>3.176278</td>\n",
       "      <td>0.032961</td>\n",
       "    </tr>\n",
       "    <tr>\n",
       "      <th>min</th>\n",
       "      <td>0.000000</td>\n",
       "      <td>0.000000</td>\n",
       "      <td>0.075000</td>\n",
       "      <td>0.055000</td>\n",
       "      <td>0.004000</td>\n",
       "      <td>-1.576168</td>\n",
       "      <td>-1.686195</td>\n",
       "      <td>-1.679221</td>\n",
       "      <td>-1.586764</td>\n",
       "      <td>1.000000</td>\n",
       "      <td>0.000550</td>\n",
       "    </tr>\n",
       "    <tr>\n",
       "      <th>25%</th>\n",
       "      <td>22654.000000</td>\n",
       "      <td>0.000000</td>\n",
       "      <td>0.445000</td>\n",
       "      <td>0.345000</td>\n",
       "      <td>0.110000</td>\n",
       "      <td>-0.671372</td>\n",
       "      <td>-1.089649</td>\n",
       "      <td>-1.296527</td>\n",
       "      <td>-1.180724</td>\n",
       "      <td>8.000000</td>\n",
       "      <td>0.049350</td>\n",
       "    </tr>\n",
       "    <tr>\n",
       "      <th>50%</th>\n",
       "      <td>45307.000000</td>\n",
       "      <td>1.000000</td>\n",
       "      <td>0.545000</td>\n",
       "      <td>0.425000</td>\n",
       "      <td>0.140000</td>\n",
       "      <td>-0.208915</td>\n",
       "      <td>-0.816771</td>\n",
       "      <td>-1.108454</td>\n",
       "      <td>-0.973871</td>\n",
       "      <td>9.000000</td>\n",
       "      <td>0.076050</td>\n",
       "    </tr>\n",
       "    <tr>\n",
       "      <th>75%</th>\n",
       "      <td>67960.000000</td>\n",
       "      <td>2.000000</td>\n",
       "      <td>0.600000</td>\n",
       "      <td>0.470000</td>\n",
       "      <td>0.160000</td>\n",
       "      <td>0.066663</td>\n",
       "      <td>-0.620513</td>\n",
       "      <td>-0.978993</td>\n",
       "      <td>-0.840906</td>\n",
       "      <td>11.000000</td>\n",
       "      <td>0.096000</td>\n",
       "    </tr>\n",
       "    <tr>\n",
       "      <th>max</th>\n",
       "      <td>90614.000000</td>\n",
       "      <td>2.000000</td>\n",
       "      <td>0.815000</td>\n",
       "      <td>0.650000</td>\n",
       "      <td>1.130000</td>\n",
       "      <td>1.459056</td>\n",
       "      <td>0.447197</td>\n",
       "      <td>-0.253414</td>\n",
       "      <td>0.004995</td>\n",
       "      <td>29.000000</td>\n",
       "      <td>0.661050</td>\n",
       "    </tr>\n",
       "  </tbody>\n",
       "</table>\n",
       "</div>"
      ],
      "text/plain": [
       "                 id           Sex        Length      Diameter        Height  \\\n",
       "count  90609.000000  90609.000000  90609.000000  90609.000000  90609.000000   \n",
       "mean   45307.061992      0.927226      0.517106      0.401686      0.135473   \n",
       "std    26158.188586      0.807655      0.118216      0.098025      0.037993   \n",
       "min        0.000000      0.000000      0.075000      0.055000      0.004000   \n",
       "25%    22654.000000      0.000000      0.445000      0.345000      0.110000   \n",
       "50%    45307.000000      1.000000      0.545000      0.425000      0.140000   \n",
       "75%    67960.000000      2.000000      0.600000      0.470000      0.160000   \n",
       "max    90614.000000      2.000000      0.815000      0.650000      1.130000   \n",
       "\n",
       "       Whole weight  Whole weight.1  Whole weight.2  Shell weight  \\\n",
       "count  90609.000000    90609.000000    90609.000000  90609.000000   \n",
       "mean      -0.285147       -0.846522       -1.131452     -1.001769   \n",
       "std        0.527095        0.337194        0.221087      0.240990   \n",
       "min       -1.576168       -1.686195       -1.679221     -1.586764   \n",
       "25%       -0.671372       -1.089649       -1.296527     -1.180724   \n",
       "50%       -0.208915       -0.816771       -1.108454     -0.973871   \n",
       "75%        0.066663       -0.620513       -0.978993     -0.840906   \n",
       "max        1.459056        0.447197       -0.253414      0.004995   \n",
       "\n",
       "              Rings  Length*Height  \n",
       "count  90609.000000   90609.000000  \n",
       "mean       9.696918       0.074169  \n",
       "std        3.176278       0.032961  \n",
       "min        1.000000       0.000550  \n",
       "25%        8.000000       0.049350  \n",
       "50%        9.000000       0.076050  \n",
       "75%       11.000000       0.096000  \n",
       "max       29.000000       0.661050  "
      ]
     },
     "execution_count": 501,
     "metadata": {},
     "output_type": "execute_result"
    }
   ],
   "source": [
    "# 統計情報を取得\n",
    "df_train.describe()"
   ]
  },
  {
   "cell_type": "code",
   "execution_count": 502,
   "metadata": {},
   "outputs": [
    {
     "data": {
      "image/png": "[encoded data removed]",
      "text/plain": [
       "<Figure size 1200x1000 with 12 Axes>"
      ]
     },
     "metadata": {},
     "output_type": "display_data"
    }
   ],
   "source": [
    "df_train.hist(bins=30, figsize=(12, 10))\n",
    "plt.show()"
   ]
  },
  {
   "cell_type": "code",
   "execution_count": 503,
   "metadata": {},
   "outputs": [
    {
     "data": {
      "image/png": "[encoded data removed]",
      "text/plain": [
       "<Figure size 1200x1000 with 12 Axes>"
      ]
     },
     "metadata": {},
     "output_type": "display_data"
    }
   ],
   "source": [
    "df_test.hist(bins=30, figsize=(12, 10))\n",
    "plt.show()\n"
   ]
  },
  {
   "cell_type": "markdown",
   "metadata": {},
   "source": [
    "?14が欠けているのはなぜだろう。<br>\n",
    "稚貝は年輪が少なく、雄雌はだいたい同じくらいか。"
   ]
  },
  {
   "cell_type": "code",
   "execution_count": 504,
   "metadata": {},
   "outputs": [
    {
     "data": {
      "text/plain": [
       "['id',\n",
       " 'Sex',\n",
       " 'Length',\n",
       " 'Diameter',\n",
       " 'Height',\n",
       " 'Whole weight',\n",
       " 'Whole weight.1',\n",
       " 'Whole weight.2',\n",
       " 'Shell weight',\n",
       " 'Rings',\n",
       " 'Length*Height']"
      ]
     },
     "execution_count": 504,
     "metadata": {},
     "output_type": "execute_result"
    }
   ],
   "source": [
    "column_names = df_train.columns.tolist()\n",
    "column_names"
   ]
  },
  {
   "cell_type": "code",
   "execution_count": 505,
   "metadata": {},
   "outputs": [
    {
     "data": {
      "text/plain": [
       "\"\\n# 数値列のみを抽出\\nnumerical_columns = [\\n 'id',\\n 'Length',\\n 'Diameter',\\n 'Height',\\n 'Whole weight',\\n 'Whole weight.1',\\n 'Whole weight.2',\\n 'Shell weight',\\n 'Rings',\\n 'F',\\n 'I',\\n 'M']\\n\\n# カテゴリカルな列を抽出\\ncategorical_column =  ['F', 'I', 'M']\\n\\n# カテゴリカルな列のヒストグラムを描画する\\nplt.figure(figsize=(12, 10))\\nplt.subplot(3, 4, 1)\\nsns.countplot(data=df_train, x=categorical_column, color='skyblue')\\nplt.xlabel(categorical_column)\\nplt.ylabel('Count')\\n\\n# 数値列のヒストグラムを描画する\\nfor i, column in enumerate(numerical_columns, 2):\\n    plt.subplot(3, 3, i)\\n    sns.histplot(df_train[column], bins=20, kde=True, color='skyblue')\\n    plt.xlabel(column)\\n    plt.ylabel('Frequency')\\n\\nplt.tight_layout()\\nplt.show()\\n\""
      ]
     },
     "execution_count": 505,
     "metadata": {},
     "output_type": "execute_result"
    }
   ],
   "source": [
    "'''\n",
    "# 数値列のみを抽出\n",
    "numerical_columns = [\n",
    " 'id',\n",
    " 'Length',\n",
    " 'Diameter',\n",
    " 'Height',\n",
    " 'Whole weight',\n",
    " 'Whole weight.1',\n",
    " 'Whole weight.2',\n",
    " 'Shell weight',\n",
    " 'Rings',\n",
    " 'F',\n",
    " 'I',\n",
    " 'M']\n",
    "\n",
    "# カテゴリカルな列を抽出\n",
    "categorical_column =  ['F', 'I', 'M']\n",
    "\n",
    "# カテゴリカルな列のヒストグラムを描画する\n",
    "plt.figure(figsize=(12, 10))\n",
    "plt.subplot(3, 4, 1)\n",
    "sns.countplot(data=df_train, x=categorical_column, color='skyblue')\n",
    "plt.xlabel(categorical_column)\n",
    "plt.ylabel('Count')\n",
    "\n",
    "# 数値列のヒストグラムを描画する\n",
    "for i, column in enumerate(numerical_columns, 2):\n",
    "    plt.subplot(3, 3, i)\n",
    "    sns.histplot(df_train[column], bins=20, kde=True, color='skyblue')\n",
    "    plt.xlabel(column)\n",
    "    plt.ylabel('Frequency')\n",
    "\n",
    "plt.tight_layout()\n",
    "plt.show()\n",
    "'''"
   ]
  },
  {
   "cell_type": "code",
   "execution_count": 506,
   "metadata": {},
   "outputs": [],
   "source": [
    "#sns.stripplot(x='Height', data=df_train)"
   ]
  },
  {
   "cell_type": "code",
   "execution_count": 507,
   "metadata": {},
   "outputs": [],
   "source": [
    "#df_train.query('Height >= 0.4')"
   ]
  },
  {
   "cell_type": "markdown",
   "metadata": {},
   "source": [
    "Heightが大きいというのは、縦長に育った可能性がある。<br>\n",
    "外れ値と見なさずそのまま残す。"
   ]
  },
  {
   "cell_type": "code",
   "execution_count": 508,
   "metadata": {},
   "outputs": [
    {
     "name": "stderr",
     "output_type": "stream",
     "text": [
      "C:\\Users\\whand\\AppData\\Local\\Packages\\PythonSoftwareFoundation.Python.3.11_qbz5n2kfra8p0\\LocalCache\\local-packages\\Python311\\site-packages\\seaborn\\matrix.py:260: FutureWarning: Format strings passed to MaskedConstant are ignored, but in future may error or produce different behavior\n",
      "  annotation = (\"{:\" + self.fmt + \"}\").format(val)\n",
      "C:\\Users\\whand\\AppData\\Local\\Packages\\PythonSoftwareFoundation.Python.3.11_qbz5n2kfra8p0\\LocalCache\\local-packages\\Python311\\site-packages\\seaborn\\matrix.py:260: FutureWarning: Format strings passed to MaskedConstant are ignored, but in future may error or produce different behavior\n",
      "  annotation = (\"{:\" + self.fmt + \"}\").format(val)\n"
     ]
    },
    {
     "data": {
      "image/png": "[encoded data removed]",
      "text/plain": [
       "<Figure size 1000x900 with 1 Axes>"
      ]
     },
     "metadata": {},
     "output_type": "display_data"
    }
   ],
   "source": [
    "\n",
    "soukan = df_train.corr()\n",
    "\n",
    "n = soukan.shape[0]\n",
    "mask = np.triu(np.ones((n, n), dtype=bool), k=1)\n",
    "\n",
    "plt.figure(figsize=(10, 9))\n",
    "sns.heatmap(soukan, annot=True, cmap='coolwarm', fmt=\".2f\", mask=mask, cbar=False)\n",
    "sns.heatmap(soukan, annot=True, cmap='Greys', fmt=\".2f\", mask=~mask, cbar=False)\n",
    "plt.savefig('heatmap_2comb.png', bbox_inches='tight')\n",
    "plt.show()\n"
   ]
  },
  {
   "cell_type": "markdown",
   "metadata": {},
   "source": [
    "Diameter、Lengthの相関係数は正の相関が強い。<br>\n",
    "⇒両方ともその他との相関係数は高めで似通っている。lengthのみ使用していく。<br>\n",
    "Whole weightとwholeweight.1、.2も正の相関が強く出ている。<br>\n",
    ".1、.2、shellweightを足し合わせたものがwholeweigtのような感じがする。<br>\n",
    "⇒wholeerightを除去してみる。\n"
   ]
  },
  {
   "cell_type": "code",
   "execution_count": 509,
   "metadata": {},
   "outputs": [
    {
     "data": {
      "text/plain": [
       "\"\\ndf_train = df_train.drop(columns=['Diameter', 'Whole weight'])\\n\""
      ]
     },
     "execution_count": 509,
     "metadata": {},
     "output_type": "execute_result"
    }
   ],
   "source": [
    "#多重共線性がどうこうなっているかと思ったが、以下ドロップするとScoreが下がったためなかったことにする。\n",
    "'''\n",
    "df_train = df_train.drop(columns=['Diameter', 'Whole weight'])\n",
    "'''\n"
   ]
  },
  {
   "cell_type": "markdown",
   "metadata": {},
   "source": [
    "---"
   ]
  },
  {
   "cell_type": "markdown",
   "metadata": {},
   "source": [
    "### 可視化"
   ]
  },
  {
   "cell_type": "code",
   "execution_count": 510,
   "metadata": {},
   "outputs": [
    {
     "data": {
      "text/plain": [
       "'\\nimport ydata_profiling\\ndf_train.profile_report()\\n'"
      ]
     },
     "execution_count": 510,
     "metadata": {},
     "output_type": "execute_result"
    }
   ],
   "source": [
    "'''\n",
    "import ydata_profiling\n",
    "df_train.profile_report()\n",
    "'''"
   ]
  },
  {
   "cell_type": "markdown",
   "metadata": {},
   "source": [
    "---"
   ]
  },
  {
   "cell_type": "markdown",
   "metadata": {},
   "source": [
    "### 予測モデルの学習"
   ]
  },
  {
   "cell_type": "code",
   "execution_count": 511,
   "metadata": {},
   "outputs": [],
   "source": [
    "#説明変数X（Rings以外)と目的変数(Rings)に分ける。\n",
    "X = df_train.drop(columns=['id', 'Rings']).to_numpy()\n",
    "y = df_train['Rings'].to_numpy()"
   ]
  },
  {
   "cell_type": "code",
   "execution_count": 512,
   "metadata": {},
   "outputs": [],
   "source": [
    "import optuna\n",
    "from lightgbm import LGBMRegressor\n",
    "from sklearn.model_selection import train_test_split\n",
    "from sklearn.metrics import mean_squared_log_error"
   ]
  },
  {
   "cell_type": "markdown",
   "metadata": {},
   "source": [
    "パラメーターの定義"
   ]
  },
  {
   "cell_type": "code",
   "execution_count": 513,
   "metadata": {},
   "outputs": [
    {
     "name": "stderr",
     "output_type": "stream",
     "text": [
      "[I 2024-04-29 10:59:03,123] A new study created in memory with name: no-name-d6d28fb7-5109-42e4-8751-b66075032d87\n",
      "[I 2024-04-29 10:59:39,294] Trial 0 finished with value: 0.14943376614999657 and parameters: {'learning_rate': 0.0249816047538945, 'n_estimators': 591, 'lambda_l1': 0.012319939418114049, 'lambda_l2': 0.04394633936788146, 'max_depth': 7, 'colsample_bytree': 0.3935967122017216, 'subsample': 0.8116167224336399, 'min_child_samples': 45}. Best is trial 0 with value: 0.14943376614999657.\n",
      "[I 2024-04-29 11:00:16,313] Trial 1 finished with value: 0.14934777962803633 and parameters: {'learning_rate': 0.034044600469728355, 'n_estimators': 542, 'lambda_l1': 0.005205844942958024, 'lambda_l2': 0.05879639408647977, 'max_depth': 13, 'colsample_bytree': 0.4274034664069657, 'subsample': 0.8363649934414201, 'min_child_samples': 17}. Best is trial 1 with value: 0.14934777962803633.\n",
      "[I 2024-04-29 11:00:51,244] Trial 2 finished with value: 0.1501583366720564 and parameters: {'learning_rate': 0.02216968971838151, 'n_estimators': 505, 'lambda_l1': 0.009319450186421156, 'lambda_l2': 0.03164916560792168, 'max_depth': 11, 'colsample_bytree': 0.3836963163912251, 'subsample': 0.8584289297070437, 'min_child_samples': 25}. Best is trial 1 with value: 0.14934777962803633.\n",
      "[I 2024-04-29 11:00:59,452] Trial 3 finished with value: 0.14971121505399418 and parameters: {'learning_rate': 0.02824279936868144, 'n_estimators': 557, 'lambda_l1': 0.006996737821583597, 'lambda_l2': 0.040569377536544465, 'max_depth': 11, 'colsample_bytree': 0.3278702476319986, 'subsample': 0.9215089703802877, 'min_child_samples': 16}. Best is trial 1 with value: 0.14934777962803633.\n",
      "[I 2024-04-29 11:01:26,278] Trial 4 finished with value: 0.15110101466207912 and parameters: {'learning_rate': 0.01260206371941118, 'n_estimators': 590, 'lambda_l1': 0.014656320330745591, 'lambda_l2': 0.05233589392465844, 'max_depth': 8, 'colsample_bytree': 0.35860326840383033, 'subsample': 0.9368466053024314, 'min_child_samples': 28}. Best is trial 1 with value: 0.14934777962803633.\n",
      "[I 2024-04-29 11:02:31,989] Trial 5 finished with value: 0.14982072258295384 and parameters: {'learning_rate': 0.014881529393791153, 'n_estimators': 499, 'lambda_l1': 0.005343885211152184, 'lambda_l2': 0.056372816083151284, 'max_depth': 8, 'colsample_bytree': 0.6975133706123893, 'subsample': 0.8623422152178822, 'min_child_samples': 31}. Best is trial 1 with value: 0.14934777962803633.\n"
     ]
    },
    {
     "name": "stderr",
     "output_type": "stream",
     "text": [
      "[I 2024-04-29 11:02:34,743] Trial 6 finished with value: 0.14911484035724806 and parameters: {'learning_rate': 0.03186841117373119, 'n_estimators': 437, 'lambda_l1': 0.014695846277645586, 'lambda_l2': 0.051005312934444574, 'max_depth': 14, 'colsample_bytree': 0.8368964102565895, 'subsample': 0.919579995762217, 'min_child_samples': 47}. Best is trial 6 with value: 0.14911484035724806.\n",
      "[I 2024-04-29 11:02:50,619] Trial 7 finished with value: 0.1508208215642437 and parameters: {'learning_rate': 0.013539700082076781, 'n_estimators': 439, 'lambda_l1': 0.005452272889105381, 'lambda_l2': 0.03301321323053057, 'max_depth': 9, 'colsample_bytree': 0.4628094190643376, 'subsample': 0.9657475018303858, 'min_child_samples': 24}. Best is trial 6 with value: 0.14911484035724806.\n",
      "[I 2024-04-29 11:03:12,386] Trial 8 finished with value: 0.1496946705078953 and parameters: {'learning_rate': 0.02123738038749523, 'n_estimators': 509, 'lambda_l1': 0.006409242249747626, 'lambda_l2': 0.05208787923016159, 'max_depth': 6, 'colsample_bytree': 0.8921321619603104, 'subsample': 0.9544489538593315, 'min_child_samples': 18}. Best is trial 6 with value: 0.14911484035724806.\n",
      "[I 2024-04-29 11:03:31,759] Trial 9 finished with value: 0.15194390485027337 and parameters: {'learning_rate': 0.010220884684944096, 'n_estimators': 563, 'lambda_l1': 0.012068573438476171, 'lambda_l2': 0.04916028672163949, 'max_depth': 12, 'colsample_bytree': 0.3444267910404542, 'subsample': 0.8716931457088546, 'min_child_samples': 14}. Best is trial 6 with value: 0.14911484035724806.\n",
      "[I 2024-04-29 11:03:43,982] Trial 10 finished with value: 0.14898101797836924 and parameters: {'learning_rate': 0.04776514518540598, 'n_estimators': 401, 'lambda_l1': 0.014695371107878656, 'lambda_l2': 0.020718475024592783, 'max_depth': 14, 'colsample_bytree': 0.8445988771695108, 'subsample': 0.9919541491890841, 'min_child_samples': 50}. Best is trial 10 with value: 0.14898101797836924.\n",
      "[I 2024-04-29 11:03:58,094] Trial 11 finished with value: 0.1487957394335905 and parameters: {'learning_rate': 0.04787847505560598, 'n_estimators': 400, 'lambda_l1': 0.014924041633401866, 'lambda_l2': 0.02068744601075835, 'max_depth': 14, 'colsample_bytree': 0.8950907663814264, 'subsample': 0.9972956871793692, 'min_child_samples': 49}. Best is trial 11 with value: 0.1487957394335905.\n",
      "[I 2024-04-29 11:04:07,693] Trial 12 finished with value: 0.14876360850269296 and parameters: {'learning_rate': 0.04977359667415945, 'n_estimators': 400, 'lambda_l1': 0.013224640506009631, 'lambda_l2': 0.020145629812324442, 'max_depth': 14, 'colsample_bytree': 0.7577618901311782, 'subsample': 0.9994220714217644, 'min_child_samples': 39}. Best is trial 12 with value: 0.14876360850269296.\n",
      "[I 2024-04-29 11:04:09,695] Trial 13 finished with value: 0.14870729688617032 and parameters: {'learning_rate': 0.049661733310564844, 'n_estimators': 406, 'lambda_l1': 0.01271929583760193, 'lambda_l2': 0.02038863909047579, 'max_depth': 13, 'colsample_bytree': 0.7178040867927077, 'subsample': 0.9998724877283103, 'min_child_samples': 39}. Best is trial 13 with value: 0.14870729688617032.\n",
      "[I 2024-04-29 11:04:11,439] Trial 14 finished with value: 0.14889318624976366 and parameters: {'learning_rate': 0.04061709149359557, 'n_estimators': 439, 'lambda_l1': 0.012333573235260383, 'lambda_l2': 0.02694866509707027, 'max_depth': 12, 'colsample_bytree': 0.6864052039019455, 'subsample': 0.972955348577948, 'min_child_samples': 39}. Best is trial 13 with value: 0.14870729688617032.\n",
      "[I 2024-04-29 11:04:23,848] Trial 15 finished with value: 0.1488328733305368 and parameters: {'learning_rate': 0.04122676071774374, 'n_estimators': 458, 'lambda_l1': 0.010587985830433144, 'lambda_l2': 0.026726961792530077, 'max_depth': 13, 'colsample_bytree': 0.712735185097017, 'subsample': 0.9994543550794844, 'min_child_samples': 37}. Best is trial 13 with value: 0.14870729688617032.\n",
      "[I 2024-04-29 11:04:40,000] Trial 16 finished with value: 0.1487517054982808 and parameters: {'learning_rate': 0.04182260231583059, 'n_estimators': 470, 'lambda_l1': 0.010734872859171855, 'lambda_l2': 0.026698338081176932, 'max_depth': 10, 'colsample_bytree': 0.5930155142008768, 'subsample': 0.9506476141726572, 'min_child_samples': 40}. Best is trial 13 with value: 0.14870729688617032.\n",
      "[I 2024-04-29 11:04:47,987] Trial 17 finished with value: 0.14901531465648163 and parameters: {'learning_rate': 0.04089810626910787, 'n_estimators': 474, 'lambda_l1': 0.009760267002650385, 'lambda_l2': 0.026851809051537674, 'max_depth': 10, 'colsample_bytree': 0.5505304727170413, 'subsample': 0.9465682706520263, 'min_child_samples': 34}. Best is trial 13 with value: 0.14870729688617032.\n",
      "[I 2024-04-29 11:04:50,426] Trial 18 finished with value: 0.14895739693883397 and parameters: {'learning_rate': 0.04357693844267056, 'n_estimators': 473, 'lambda_l1': 0.008273865283141838, 'lambda_l2': 0.03539105715862238, 'max_depth': 10, 'colsample_bytree': 0.5846003504877963, 'subsample': 0.9734765439702084, 'min_child_samples': 43}. Best is trial 13 with value: 0.14870729688617032.\n",
      "[I 2024-04-29 11:04:53,597] Trial 19 finished with value: 0.1490945598756836 and parameters: {'learning_rate': 0.034592338519234725, 'n_estimators': 426, 'lambda_l1': 0.010762037139318637, 'lambda_l2': 0.025723401219337912, 'max_depth': 9, 'colsample_bytree': 0.5094623803975802, 'subsample': 0.9043714786364603, 'min_child_samples': 42}. Best is trial 13 with value: 0.14870729688617032.\n",
      "[I 2024-04-29 11:04:55,893] Trial 20 finished with value: 0.14883202425994094 and parameters: {'learning_rate': 0.03785369077865343, 'n_estimators': 526, 'lambda_l1': 0.013246322255219812, 'lambda_l2': 0.03723846771346006, 'max_depth': 11, 'colsample_bytree': 0.6223695227640177, 'subsample': 0.8892644016900073, 'min_child_samples': 35}. Best is trial 13 with value: 0.14870729688617032.\n",
      "[I 2024-04-29 11:04:57,990] Trial 21 finished with value: 0.1487157647752911 and parameters: {'learning_rate': 0.049976653700788395, 'n_estimators': 417, 'lambda_l1': 0.01343382980007851, 'lambda_l2': 0.020042600409506544, 'max_depth': 13, 'colsample_bytree': 0.7625391943360874, 'subsample': 0.9785907373289896, 'min_child_samples': 40}. Best is trial 13 with value: 0.14870729688617032.\n",
      "[I 2024-04-29 11:05:01,047] Trial 22 finished with value: 0.14880846124028035 and parameters: {'learning_rate': 0.045249442704032396, 'n_estimators': 421, 'lambda_l1': 0.01130328838093494, 'lambda_l2': 0.023177910453787053, 'max_depth': 12, 'colsample_bytree': 0.7724765440145995, 'subsample': 0.9771741569788945, 'min_child_samples': 41}. Best is trial 13 with value: 0.14870729688617032.\n",
      "[I 2024-04-29 11:05:05,206] Trial 23 finished with value: 0.14887037231137132 and parameters: {'learning_rate': 0.045274950460088476, 'n_estimators': 469, 'lambda_l1': 0.013552415370624139, 'lambda_l2': 0.03053080494718022, 'max_depth': 13, 'colsample_bytree': 0.6357193341061814, 'subsample': 0.9566060842651283, 'min_child_samples': 32}. Best is trial 13 with value: 0.14870729688617032.\n",
      "[I 2024-04-29 11:05:18,368] Trial 24 finished with value: 0.14870860326681568 and parameters: {'learning_rate': 0.04930367513676577, 'n_estimators': 418, 'lambda_l1': 0.011419980651045247, 'lambda_l2': 0.023638482507100544, 'max_depth': 12, 'colsample_bytree': 0.7584800363457572, 'subsample': 0.934792803562514, 'min_child_samples': 45}. Best is trial 13 with value: 0.14870729688617032.\n",
      "[I 2024-04-29 11:05:28,825] Trial 25 finished with value: 0.14857149390238852 and parameters: {'learning_rate': 0.04997173908335091, 'n_estimators': 418, 'lambda_l1': 0.013783001706912046, 'lambda_l2': 0.023610732935499874, 'max_depth': 13, 'colsample_bytree': 0.7732340738495069, 'subsample': 0.9363488227224216, 'min_child_samples': 45}. Best is trial 25 with value: 0.14857149390238852.\n",
      "[I 2024-04-29 11:05:34,151] Trial 26 finished with value: 0.14887998779024442 and parameters: {'learning_rate': 0.03723213010464551, 'n_estimators': 452, 'lambda_l1': 0.011702393344870521, 'lambda_l2': 0.023472642165512182, 'max_depth': 12, 'colsample_bytree': 0.8000609724622277, 'subsample': 0.9300264004301796, 'min_child_samples': 45}. Best is trial 25 with value: 0.14857149390238852.\n",
      "[I 2024-04-29 11:05:49,328] Trial 27 finished with value: 0.1488077034177041 and parameters: {'learning_rate': 0.04552785396664615, 'n_estimators': 415, 'lambda_l1': 0.013871698766914265, 'lambda_l2': 0.02956858550323975, 'max_depth': 13, 'colsample_bytree': 0.6523936602517492, 'subsample': 0.8901770443568148, 'min_child_samples': 45}. Best is trial 25 with value: 0.14857149390238852.\n",
      "[I 2024-04-29 11:05:54,273] Trial 28 finished with value: 0.1487491939527253 and parameters: {'learning_rate': 0.047521261984630546, 'n_estimators': 451, 'lambda_l1': 0.012776289471617795, 'lambda_l2': 0.02331773553746826, 'max_depth': 11, 'colsample_bytree': 0.7186857160401371, 'subsample': 0.9084257400772993, 'min_child_samples': 48}. Best is trial 25 with value: 0.14857149390238852.\n",
      "[I 2024-04-29 11:06:10,445] Trial 29 finished with value: 0.14878060967369705 and parameters: {'learning_rate': 0.0382507983837509, 'n_estimators': 489, 'lambda_l1': 0.012544682407280133, 'lambda_l2': 0.03448130206630183, 'max_depth': 12, 'colsample_bytree': 0.8155481855044765, 'subsample': 0.8329652406746202, 'min_child_samples': 44}. Best is trial 25 with value: 0.14857149390238852.\n",
      "[I 2024-04-29 11:06:24,829] Trial 30 finished with value: 0.1492580118125043 and parameters: {'learning_rate': 0.027655885581162918, 'n_estimators': 429, 'lambda_l1': 0.00898441960816252, 'lambda_l2': 0.04489817519564029, 'max_depth': 13, 'colsample_bytree': 0.7434905283075097, 'subsample': 0.8085490360159283, 'min_child_samples': 47}. Best is trial 25 with value: 0.14857149390238852.\n",
      "[I 2024-04-29 11:06:39,026] Trial 31 finished with value: 0.14870692831732654 and parameters: {'learning_rate': 0.049719582524419915, 'n_estimators': 414, 'lambda_l1': 0.014113907185424952, 'lambda_l2': 0.023628896950435827, 'max_depth': 13, 'colsample_bytree': 0.7882430073433162, 'subsample': 0.9854352451676943, 'min_child_samples': 36}. Best is trial 25 with value: 0.14857149390238852.\n",
      "[I 2024-04-29 11:06:53,560] Trial 32 finished with value: 0.14876707041034964 and parameters: {'learning_rate': 0.04961926124243375, 'n_estimators': 408, 'lambda_l1': 0.014013723357982438, 'lambda_l2': 0.02414910906181718, 'max_depth': 13, 'colsample_bytree': 0.6735610306463506, 'subsample': 0.9858237270739411, 'min_child_samples': 36}. Best is trial 25 with value: 0.14857149390238852.\n",
      "[I 2024-04-29 11:07:09,977] Trial 33 finished with value: 0.1489103922854622 and parameters: {'learning_rate': 0.04405532075017267, 'n_estimators': 432, 'lambda_l1': 0.011552564825579061, 'lambda_l2': 0.029372762295373556, 'max_depth': 14, 'colsample_bytree': 0.7997107105978868, 'subsample': 0.9353404024847157, 'min_child_samples': 37}. Best is trial 25 with value: 0.14857149390238852.\n",
      "[I 2024-04-29 11:07:22,769] Trial 34 finished with value: 0.14887760990244295 and parameters: {'learning_rate': 0.046736404624448516, 'n_estimators': 414, 'lambda_l1': 0.014233392179923315, 'lambda_l2': 0.028747423311267055, 'max_depth': 11, 'colsample_bytree': 0.8518332713582956, 'subsample': 0.9189080389986326, 'min_child_samples': 29}. Best is trial 25 with value: 0.14857149390238852.\n",
      "[I 2024-04-29 11:07:24,507] Trial 35 finished with value: 0.1486895954722872 and parameters: {'learning_rate': 0.0432583725575764, 'n_estimators': 446, 'lambda_l1': 0.012601793106445486, 'lambda_l2': 0.04008184231590746, 'max_depth': 12, 'colsample_bytree': 0.7316511483153344, 'subsample': 0.9630802170776644, 'min_child_samples': 33}. Best is trial 25 with value: 0.14857149390238852.\n",
      "[I 2024-04-29 11:07:26,161] Trial 36 finished with value: 0.14870663834811873 and parameters: {'learning_rate': 0.04693194212002723, 'n_estimators': 447, 'lambda_l1': 0.013122544930827118, 'lambda_l2': 0.042043964656738146, 'max_depth': 13, 'colsample_bytree': 0.7366332655451635, 'subsample': 0.9640200703486409, 'min_child_samples': 26}. Best is trial 25 with value: 0.14857149390238852.\n",
      "[I 2024-04-29 11:07:27,708] Trial 37 finished with value: 0.1487956203746722 and parameters: {'learning_rate': 0.0424920133261951, 'n_estimators': 448, 'lambda_l1': 0.013980466623633505, 'lambda_l2': 0.04198102847424932, 'max_depth': 14, 'colsample_bytree': 0.8593476088808218, 'subsample': 0.9556790982321942, 'min_child_samples': 25}. Best is trial 25 with value: 0.14857149390238852.\n",
      "[I 2024-04-29 11:07:29,500] Trial 38 finished with value: 0.1502862972302675 and parameters: {'learning_rate': 0.023142428224402576, 'n_estimators': 460, 'lambda_l1': 0.013007839986498073, 'lambda_l2': 0.04456628040482424, 'max_depth': 12, 'colsample_bytree': 0.301600776766369, 'subsample': 0.9666451838921175, 'min_child_samples': 20}. Best is trial 25 with value: 0.14857149390238852.\n",
      "[I 2024-04-29 11:07:31,242] Trial 39 finished with value: 0.14879719487116227 and parameters: {'learning_rate': 0.03540844380307774, 'n_estimators': 488, 'lambda_l1': 0.014423909081762205, 'lambda_l2': 0.03912082048496193, 'max_depth': 13, 'colsample_bytree': 0.7946456141108527, 'subsample': 0.945496773950525, 'min_child_samples': 27}. Best is trial 25 with value: 0.14857149390238852.\n",
      "[I 2024-04-29 11:07:32,879] Trial 40 finished with value: 0.14926009572601612 and parameters: {'learning_rate': 0.0311575595120904, 'n_estimators': 441, 'lambda_l1': 0.01363036146456258, 'lambda_l2': 0.04695928670995998, 'max_depth': 11, 'colsample_bytree': 0.6727958200247193, 'subsample': 0.9620736617331379, 'min_child_samples': 10}. Best is trial 25 with value: 0.14857149390238852.\n",
      "[I 2024-04-29 11:07:34,713] Trial 41 finished with value: 0.14878041635115927 and parameters: {'learning_rate': 0.046567286048272274, 'n_estimators': 410, 'lambda_l1': 0.01246108342117594, 'lambda_l2': 0.041938345953723546, 'max_depth': 13, 'colsample_bytree': 0.7257971178676349, 'subsample': 0.9828900773871058, 'min_child_samples': 32}. Best is trial 25 with value: 0.14857149390238852.\n",
      "[I 2024-04-29 11:07:36,577] Trial 42 finished with value: 0.1498443076567304 and parameters: {'learning_rate': 0.018356845694624167, 'n_estimators': 425, 'lambda_l1': 0.013119323951305438, 'lambda_l2': 0.0389172428575457, 'max_depth': 14, 'colsample_bytree': 0.7304796404512568, 'subsample': 0.9883143269575625, 'min_child_samples': 22}. Best is trial 25 with value: 0.14857149390238852.\n",
      "[I 2024-04-29 11:07:38,058] Trial 43 finished with value: 0.14873826237983995 and parameters: {'learning_rate': 0.04795755933036553, 'n_estimators': 433, 'lambda_l1': 0.01191823812373935, 'lambda_l2': 0.03672723061646811, 'max_depth': 13, 'colsample_bytree': 0.7833316999444706, 'subsample': 0.9714589294157192, 'min_child_samples': 34}. Best is trial 25 with value: 0.14857149390238852.\n",
      "[I 2024-04-29 11:07:39,353] Trial 44 finished with value: 0.14886494957538968 and parameters: {'learning_rate': 0.04372088000649479, 'n_estimators': 408, 'lambda_l1': 0.014987289725054552, 'lambda_l2': 0.0327750951272715, 'max_depth': 6, 'colsample_bytree': 0.8265058988879073, 'subsample': 0.9628330075498664, 'min_child_samples': 31}. Best is trial 25 with value: 0.14857149390238852.\n",
      "[I 2024-04-29 11:07:41,142] Trial 45 finished with value: 0.14877337572713753 and parameters: {'learning_rate': 0.048292020231128614, 'n_estimators': 444, 'lambda_l1': 0.012710983690376952, 'lambda_l2': 0.04220282035080791, 'max_depth': 12, 'colsample_bytree': 0.7029882603959955, 'subsample': 0.9911994384591621, 'min_child_samples': 26}. Best is trial 25 with value: 0.14857149390238852.\n",
      "[I 2024-04-29 11:07:43,273] Trial 46 finished with value: 0.14855905413765763 and parameters: {'learning_rate': 0.04564209329563798, 'n_estimators': 566, 'lambda_l1': 0.014308257060593122, 'lambda_l2': 0.056082528501999504, 'max_depth': 14, 'colsample_bytree': 0.8719968396749636, 'subsample': 0.9404734449450224, 'min_child_samples': 38}. Best is trial 46 with value: 0.14855905413765763.\n",
      "[I 2024-04-29 11:07:45,005] Trial 47 finished with value: 0.14855148827237058 and parameters: {'learning_rate': 0.04595295798839322, 'n_estimators': 583, 'lambda_l1': 0.014701454410012242, 'lambda_l2': 0.05840045478096731, 'max_depth': 14, 'colsample_bytree': 0.8827496643224076, 'subsample': 0.9256197536877722, 'min_child_samples': 30}. Best is trial 47 with value: 0.14855148827237058.\n",
      "[I 2024-04-29 11:07:47,544] Trial 48 finished with value: 0.1487694771172519 and parameters: {'learning_rate': 0.03967635542203681, 'n_estimators': 585, 'lambda_l1': 0.01446897532406543, 'lambda_l2': 0.05903982993503131, 'max_depth': 14, 'colsample_bytree': 0.8612254005225933, 'subsample': 0.9201916955297735, 'min_child_samples': 23}. Best is trial 47 with value: 0.14855148827237058.\n",
      "[I 2024-04-29 11:07:49,443] Trial 49 finished with value: 0.1485971604931527 and parameters: {'learning_rate': 0.04545810110985809, 'n_estimators': 573, 'lambda_l1': 0.01455060614291517, 'lambda_l2': 0.05541969666359849, 'max_depth': 14, 'colsample_bytree': 0.8881332060250228, 'subsample': 0.9404383625633622, 'min_child_samples': 29}. Best is trial 47 with value: 0.14855148827237058.\n",
      "[I 2024-04-29 11:07:51,249] Trial 50 finished with value: 0.1486463778967448 and parameters: {'learning_rate': 0.04314701060731682, 'n_estimators': 577, 'lambda_l1': 0.014616576674097164, 'lambda_l2': 0.05599923024464867, 'max_depth': 14, 'colsample_bytree': 0.8852005226172385, 'subsample': 0.9276279066318949, 'min_child_samples': 28}. Best is trial 47 with value: 0.14855148827237058.\n",
      "[I 2024-04-29 11:07:52,941] Trial 51 finished with value: 0.14857020337828128 and parameters: {'learning_rate': 0.04288824035605931, 'n_estimators': 573, 'lambda_l1': 0.014549203933022028, 'lambda_l2': 0.05511120326481512, 'max_depth': 14, 'colsample_bytree': 0.8988522627513477, 'subsample': 0.9258358871216057, 'min_child_samples': 29}. Best is trial 47 with value: 0.14855148827237058.\n",
      "[I 2024-04-29 11:07:54,759] Trial 52 finished with value: 0.148582942964455 and parameters: {'learning_rate': 0.04474731257786602, 'n_estimators': 571, 'lambda_l1': 0.014976904507753899, 'lambda_l2': 0.05625768799928859, 'max_depth': 14, 'colsample_bytree': 0.8970399725928885, 'subsample': 0.9111051153252384, 'min_child_samples': 30}. Best is trial 47 with value: 0.14855148827237058.\n",
      "[I 2024-04-29 11:07:56,847] Trial 53 finished with value: 0.14860583675747852 and parameters: {'learning_rate': 0.0398433742201752, 'n_estimators': 600, 'lambda_l1': 0.014962778415726663, 'lambda_l2': 0.05644968471470505, 'max_depth': 14, 'colsample_bytree': 0.8970164211108075, 'subsample': 0.9096017087620255, 'min_child_samples': 30}. Best is trial 47 with value: 0.14855148827237058.\n",
      "[I 2024-04-29 11:07:58,882] Trial 54 finished with value: 0.14870157500603273 and parameters: {'learning_rate': 0.0449619152788494, 'n_estimators': 555, 'lambda_l1': 0.014450872496640366, 'lambda_l2': 0.05383189241440768, 'max_depth': 14, 'colsample_bytree': 0.8766477113963275, 'subsample': 0.9424576664735448, 'min_child_samples': 29}. Best is trial 47 with value: 0.14855148827237058.\n",
      "[I 2024-04-29 11:08:00,815] Trial 55 finished with value: 0.14853868797745334 and parameters: {'learning_rate': 0.0417811717815454, 'n_estimators': 563, 'lambda_l1': 0.013600324678122578, 'lambda_l2': 0.054208251633622806, 'max_depth': 7, 'colsample_bytree': 0.8355960257393814, 'subsample': 0.8925745421158733, 'min_child_samples': 30}. Best is trial 55 with value: 0.14853868797745334.\n",
      "[I 2024-04-29 11:08:10,203] Trial 56 finished with value: 0.1487343422116442 and parameters: {'learning_rate': 0.04203909178084411, 'n_estimators': 541, 'lambda_l1': 0.013717513253630074, 'lambda_l2': 0.059954277200332876, 'max_depth': 7, 'colsample_bytree': 0.8328708055365616, 'subsample': 0.8882325904847641, 'min_child_samples': 32}. Best is trial 55 with value: 0.14853868797745334.\n",
      "[I 2024-04-29 11:08:14,446] Trial 57 finished with value: 0.14857794068418015 and parameters: {'learning_rate': 0.039277447050448513, 'n_estimators': 561, 'lambda_l1': 0.007701922108167902, 'lambda_l2': 0.05023463668821864, 'max_depth': 8, 'colsample_bytree': 0.868164835657318, 'subsample': 0.8808872844421629, 'min_child_samples': 31}. Best is trial 55 with value: 0.14853868797745334.\n",
      "[I 2024-04-29 11:08:16,109] Trial 58 finished with value: 0.14893386414810736 and parameters: {'learning_rate': 0.03262631059220636, 'n_estimators': 549, 'lambda_l1': 0.007404506687302428, 'lambda_l2': 0.050296319624463307, 'max_depth': 7, 'colsample_bytree': 0.8618338065144608, 'subsample': 0.872233438787746, 'min_child_samples': 38}. Best is trial 55 with value: 0.14853868797745334.\n",
      "[I 2024-04-29 11:08:17,833] Trial 59 finished with value: 0.148820509718656 and parameters: {'learning_rate': 0.035660431141693025, 'n_estimators': 532, 'lambda_l1': 0.005796703548209114, 'lambda_l2': 0.05788327770630615, 'max_depth': 8, 'colsample_bytree': 0.8180521068123725, 'subsample': 0.8765556256440425, 'min_child_samples': 34}. Best is trial 55 with value: 0.14853868797745334.\n",
      "[I 2024-04-29 11:08:20,356] Trial 60 finished with value: 0.1487064520229202 and parameters: {'learning_rate': 0.039570353578339545, 'n_estimators': 586, 'lambda_l1': 0.00660871575235611, 'lambda_l2': 0.05308614817765831, 'max_depth': 8, 'colsample_bytree': 0.837099936215794, 'subsample': 0.899368404519588, 'min_child_samples': 24}. Best is trial 55 with value: 0.14853868797745334.\n",
      "[I 2024-04-29 11:08:22,761] Trial 61 finished with value: 0.14850519676427143 and parameters: {'learning_rate': 0.04114283491805111, 'n_estimators': 566, 'lambda_l1': 0.00787419360803542, 'lambda_l2': 0.05446883296736817, 'max_depth': 7, 'colsample_bytree': 0.8759996127288779, 'subsample': 0.8979474646643948, 'min_child_samples': 30}. Best is trial 61 with value: 0.14850519676427143.\n",
      "[I 2024-04-29 11:08:26,319] Trial 62 finished with value: 0.14865144928588508 and parameters: {'learning_rate': 0.03687177366469163, 'n_estimators': 563, 'lambda_l1': 0.00798410635344786, 'lambda_l2': 0.05409717585581697, 'max_depth': 7, 'colsample_bytree': 0.8736117765711939, 'subsample': 0.8527485438778839, 'min_child_samples': 27}. Best is trial 61 with value: 0.14850519676427143.\n",
      "[I 2024-04-29 11:08:29,889] Trial 63 finished with value: 0.14874677904275765 and parameters: {'learning_rate': 0.03872964248461358, 'n_estimators': 578, 'lambda_l1': 0.008147034252705148, 'lambda_l2': 0.05156089322658868, 'max_depth': 6, 'colsample_bytree': 0.8394537713374641, 'subsample': 0.8938591177568328, 'min_child_samples': 28}. Best is trial 61 with value: 0.14850519676427143.\n",
      "[I 2024-04-29 11:08:33,399] Trial 64 finished with value: 0.14916430553475918 and parameters: {'learning_rate': 0.04125255090898209, 'n_estimators': 562, 'lambda_l1': 0.008925164414616228, 'lambda_l2': 0.04849969105121689, 'max_depth': 9, 'colsample_bytree': 0.4197090406920237, 'subsample': 0.883170357128796, 'min_child_samples': 31}. Best is trial 61 with value: 0.14850519676427143.\n",
      "[I 2024-04-29 11:08:35,057] Trial 65 finished with value: 0.14835958323252388 and parameters: {'learning_rate': 0.0464728554961041, 'n_estimators': 547, 'lambda_l1': 0.0073867310601753895, 'lambda_l2': 0.05776388673047705, 'max_depth': 8, 'colsample_bytree': 0.8693673007431523, 'subsample': 0.8628483131781348, 'min_child_samples': 33}. Best is trial 65 with value: 0.14835958323252388.\n",
      "[I 2024-04-29 11:08:40,836] Trial 66 finished with value: 0.14859598179935726 and parameters: {'learning_rate': 0.046211169585358904, 'n_estimators': 518, 'lambda_l1': 0.00696843133516579, 'lambda_l2': 0.058144617432479215, 'max_depth': 7, 'colsample_bytree': 0.8505885933012043, 'subsample': 0.9271190458240791, 'min_child_samples': 33}. Best is trial 65 with value: 0.14835958323252388.\n",
      "[I 2024-04-29 11:08:45,423] Trial 67 finished with value: 0.14845557098063322 and parameters: {'learning_rate': 0.04851697317726065, 'n_estimators': 598, 'lambda_l1': 0.009777803095153194, 'lambda_l2': 0.05474061226190353, 'max_depth': 6, 'colsample_bytree': 0.8067910772941883, 'subsample': 0.8623581738939905, 'min_child_samples': 35}. Best is trial 65 with value: 0.14835958323252388.\n",
      "[I 2024-04-29 11:08:53,974] Trial 68 finished with value: 0.14863601989005695 and parameters: {'learning_rate': 0.042193859035854195, 'n_estimators': 598, 'lambda_l1': 0.010108091619904436, 'lambda_l2': 0.054760456830489954, 'max_depth': 6, 'colsample_bytree': 0.8139096270226771, 'subsample': 0.8568142769268678, 'min_child_samples': 37}. Best is trial 65 with value: 0.14835958323252388.\n",
      "[I 2024-04-29 11:09:02,343] Trial 69 finished with value: 0.14841783721131366 and parameters: {'learning_rate': 0.04848478387099549, 'n_estimators': 590, 'lambda_l1': 0.009533391615587243, 'lambda_l2': 0.05759106778423424, 'max_depth': 7, 'colsample_bytree': 0.8797013255551385, 'subsample': 0.8371960217831949, 'min_child_samples': 35}. Best is trial 65 with value: 0.14835958323252388.\n",
      "[I 2024-04-29 11:09:14,146] Trial 70 finished with value: 0.14842371395984078 and parameters: {'learning_rate': 0.0487100566310456, 'n_estimators': 594, 'lambda_l1': 0.009385278498844985, 'lambda_l2': 0.05743123990477367, 'max_depth': 7, 'colsample_bytree': 0.8107804001956683, 'subsample': 0.8331113022289779, 'min_child_samples': 35}. Best is trial 65 with value: 0.14835958323252388.\n",
      "[I 2024-04-29 11:09:30,233] Trial 71 finished with value: 0.1485069692858459 and parameters: {'learning_rate': 0.04847695489678941, 'n_estimators': 593, 'lambda_l1': 0.008637144771316515, 'lambda_l2': 0.05959965758020894, 'max_depth': 7, 'colsample_bytree': 0.8095790577387753, 'subsample': 0.8280023466419454, 'min_child_samples': 35}. Best is trial 65 with value: 0.14835958323252388.\n",
      "[I 2024-04-29 11:09:47,773] Trial 72 finished with value: 0.14846253054626646 and parameters: {'learning_rate': 0.048793320942032155, 'n_estimators': 588, 'lambda_l1': 0.00867630624362423, 'lambda_l2': 0.057627919213856155, 'max_depth': 7, 'colsample_bytree': 0.8227603969732591, 'subsample': 0.8224737454885417, 'min_child_samples': 35}. Best is trial 65 with value: 0.14835958323252388.\n",
      "[I 2024-04-29 11:10:01,298] Trial 73 finished with value: 0.14834881884050316 and parameters: {'learning_rate': 0.04856462848726305, 'n_estimators': 590, 'lambda_l1': 0.00867694551532337, 'lambda_l2': 0.05725786420252117, 'max_depth': 7, 'colsample_bytree': 0.8112751158081885, 'subsample': 0.826728699161665, 'min_child_samples': 35}. Best is trial 73 with value: 0.14834881884050316.\n",
      "[I 2024-04-29 11:10:17,215] Trial 74 finished with value: 0.14845802406850328 and parameters: {'learning_rate': 0.048834395179985564, 'n_estimators': 595, 'lambda_l1': 0.008749102801532523, 'lambda_l2': 0.05754055210320953, 'max_depth': 7, 'colsample_bytree': 0.8130874015931341, 'subsample': 0.8244305462190253, 'min_child_samples': 35}. Best is trial 73 with value: 0.14834881884050316.\n",
      "[I 2024-04-29 11:10:37,638] Trial 75 finished with value: 0.14850294821061047 and parameters: {'learning_rate': 0.04890593766246539, 'n_estimators': 593, 'lambda_l1': 0.009667994410642604, 'lambda_l2': 0.056870211514756956, 'max_depth': 6, 'colsample_bytree': 0.7706913090528182, 'subsample': 0.81877824591363, 'min_child_samples': 35}. Best is trial 73 with value: 0.14834881884050316.\n",
      "[I 2024-04-29 11:10:55,373] Trial 76 finished with value: 0.14858956190084302 and parameters: {'learning_rate': 0.04875130512557982, 'n_estimators': 589, 'lambda_l1': 0.009589159099252806, 'lambda_l2': 0.05716329576310915, 'max_depth': 6, 'colsample_bytree': 0.7521753937988065, 'subsample': 0.817578978480481, 'min_child_samples': 35}. Best is trial 73 with value: 0.14834881884050316.\n",
      "[I 2024-04-29 11:11:11,313] Trial 77 finished with value: 0.1485588535014052 and parameters: {'learning_rate': 0.04738763708921388, 'n_estimators': 594, 'lambda_l1': 0.010260070970331719, 'lambda_l2': 0.05275899604811297, 'max_depth': 6, 'colsample_bytree': 0.7823439264906507, 'subsample': 0.8456634767104024, 'min_child_samples': 41}. Best is trial 73 with value: 0.14834881884050316.\n",
      "[I 2024-04-29 11:11:29,179] Trial 78 finished with value: 0.14848769514617557 and parameters: {'learning_rate': 0.04853728502855622, 'n_estimators': 581, 'lambda_l1': 0.00926025006721861, 'lambda_l2': 0.0573844801411891, 'max_depth': 8, 'colsample_bytree': 0.8027938307483259, 'subsample': 0.8028820102041825, 'min_child_samples': 36}. Best is trial 73 with value: 0.14834881884050316.\n",
      "[I 2024-04-29 11:11:50,038] Trial 79 finished with value: 0.14846367767243457 and parameters: {'learning_rate': 0.0473936528390784, 'n_estimators': 581, 'lambda_l1': 0.009287782331923022, 'lambda_l2': 0.05738216267341127, 'max_depth': 9, 'colsample_bytree': 0.7989097134935381, 'subsample': 0.8018330543667217, 'min_child_samples': 36}. Best is trial 73 with value: 0.14834881884050316.\n",
      "[I 2024-04-29 11:12:06,246] Trial 80 finished with value: 0.14845490932410366 and parameters: {'learning_rate': 0.047253299610759754, 'n_estimators': 600, 'lambda_l1': 0.008422442128539924, 'lambda_l2': 0.05849065227195165, 'max_depth': 9, 'colsample_bytree': 0.8229461716934653, 'subsample': 0.8374632200436284, 'min_child_samples': 38}. Best is trial 73 with value: 0.14834881884050316.\n",
      "[I 2024-04-29 11:12:21,693] Trial 81 finished with value: 0.1485117643967273 and parameters: {'learning_rate': 0.04728014668378047, 'n_estimators': 589, 'lambda_l1': 0.008518250355851985, 'lambda_l2': 0.058800712352931606, 'max_depth': 9, 'colsample_bytree': 0.8203188552938977, 'subsample': 0.8421550893470271, 'min_child_samples': 39}. Best is trial 73 with value: 0.14834881884050316.\n",
      "[I 2024-04-29 11:12:42,192] Trial 82 finished with value: 0.1484480424150974 and parameters: {'learning_rate': 0.04424514795243912, 'n_estimators': 597, 'lambda_l1': 0.009237869426755559, 'lambda_l2': 0.057690988425394274, 'max_depth': 9, 'colsample_bytree': 0.8509878989101297, 'subsample': 0.828623961199269, 'min_child_samples': 33}. Best is trial 73 with value: 0.14834881884050316.\n",
      "[I 2024-04-29 11:12:58,237] Trial 83 finished with value: 0.1485257214481002 and parameters: {'learning_rate': 0.04993128938322933, 'n_estimators': 597, 'lambda_l1': 0.008946236987748407, 'lambda_l2': 0.059881316027778596, 'max_depth': 8, 'colsample_bytree': 0.8482313293299197, 'subsample': 0.8252696039541509, 'min_child_samples': 33}. Best is trial 73 with value: 0.14834881884050316.\n",
      "[I 2024-04-29 11:13:04,460] Trial 84 finished with value: 0.1487395192460535 and parameters: {'learning_rate': 0.04398259335696811, 'n_estimators': 589, 'lambda_l1': 0.008616166201783501, 'lambda_l2': 0.05856817146086866, 'max_depth': 9, 'colsample_bytree': 0.5531617380044278, 'subsample': 0.8404107583231589, 'min_child_samples': 38}. Best is trial 73 with value: 0.14834881884050316.\n",
      "[I 2024-04-29 11:13:09,549] Trial 85 finished with value: 0.14842650582086175 and parameters: {'learning_rate': 0.046681483828400545, 'n_estimators': 597, 'lambda_l1': 0.00991330721110503, 'lambda_l2': 0.05289685181266312, 'max_depth': 8, 'colsample_bytree': 0.8480814470470736, 'subsample': 0.833519629608846, 'min_child_samples': 34}. Best is trial 73 with value: 0.14834881884050316.\n",
      "[I 2024-04-29 11:13:13,424] Trial 86 finished with value: 0.14841430117776794 and parameters: {'learning_rate': 0.046473966046590535, 'n_estimators': 597, 'lambda_l1': 0.009931258630413104, 'lambda_l2': 0.052407224297598524, 'max_depth': 8, 'colsample_bytree': 0.8578062651868466, 'subsample': 0.8325398225181571, 'min_child_samples': 40}. Best is trial 73 with value: 0.14834881884050316.\n",
      "[I 2024-04-29 11:13:23,562] Trial 87 finished with value: 0.14830113984603793 and parameters: {'learning_rate': 0.04453055124533959, 'n_estimators': 599, 'lambda_l1': 0.010445607793907763, 'lambda_l2': 0.051817033239634866, 'max_depth': 8, 'colsample_bytree': 0.8541453767180162, 'subsample': 0.8318815507858817, 'min_child_samples': 40}. Best is trial 87 with value: 0.14830113984603793.\n",
      "[I 2024-04-29 11:13:28,642] Trial 88 finished with value: 0.1483350442797092 and parameters: {'learning_rate': 0.04430460885850311, 'n_estimators': 600, 'lambda_l1': 0.01051753988830384, 'lambda_l2': 0.046490563502059996, 'max_depth': 8, 'colsample_bytree': 0.850534367618643, 'subsample': 0.8330169482570405, 'min_child_samples': 43}. Best is trial 87 with value: 0.14830113984603793.\n",
      "[I 2024-04-29 11:13:44,762] Trial 89 finished with value: 0.1485086810290258 and parameters: {'learning_rate': 0.04400709498320051, 'n_estimators': 577, 'lambda_l1': 0.011061678438228627, 'lambda_l2': 0.04836861411711241, 'max_depth': 8, 'colsample_bytree': 0.8474630611005246, 'subsample': 0.8314857450219223, 'min_child_samples': 42}. Best is trial 87 with value: 0.14830113984603793.\n",
      "[I 2024-04-29 11:14:03,129] Trial 90 finished with value: 0.1485170987134733 and parameters: {'learning_rate': 0.044462278341271616, 'n_estimators': 584, 'lambda_l1': 0.010560355899227656, 'lambda_l2': 0.051006396284144974, 'max_depth': 8, 'colsample_bytree': 0.850578839456688, 'subsample': 0.847846952541989, 'min_child_samples': 43}. Best is trial 87 with value: 0.14830113984603793.\n",
      "[I 2024-04-29 11:14:21,802] Trial 91 finished with value: 0.14832627941679571 and parameters: {'learning_rate': 0.046473999277160435, 'n_estimators': 600, 'lambda_l1': 0.01036627815187433, 'lambda_l2': 0.05306618259234377, 'max_depth': 9, 'colsample_bytree': 0.860816604695652, 'subsample': 0.8337096594597937, 'min_child_samples': 40}. Best is trial 87 with value: 0.14830113984603793.\n",
      "[I 2024-04-29 11:14:42,569] Trial 92 finished with value: 0.14841559387256145 and parameters: {'learning_rate': 0.046190071308389286, 'n_estimators': 594, 'lambda_l1': 0.010384648546751276, 'lambda_l2': 0.04645916408388236, 'max_depth': 8, 'colsample_bytree': 0.8624290748893343, 'subsample': 0.832975623097848, 'min_child_samples': 40}. Best is trial 87 with value: 0.14830113984603793.\n",
      "[I 2024-04-29 11:15:04,569] Trial 93 finished with value: 0.14889781856338286 and parameters: {'learning_rate': 0.028512478774507598, 'n_estimators': 592, 'lambda_l1': 0.010359655795656604, 'lambda_l2': 0.046786335917488146, 'max_depth': 8, 'colsample_bytree': 0.8705433060265602, 'subsample': 0.8136385758902507, 'min_child_samples': 41}. Best is trial 87 with value: 0.14830113984603793.\n",
      "[I 2024-04-29 11:15:18,232] Trial 94 finished with value: 0.14845407605569402 and parameters: {'learning_rate': 0.045953888191338575, 'n_estimators': 591, 'lambda_l1': 0.011055556679854398, 'lambda_l2': 0.053131569662321854, 'max_depth': 8, 'colsample_bytree': 0.8619667815572188, 'subsample': 0.8098587609125015, 'min_child_samples': 47}. Best is trial 87 with value: 0.14830113984603793.\n",
      "[I 2024-04-29 11:15:37,177] Trial 95 finished with value: 0.14849620038994182 and parameters: {'learning_rate': 0.046531681089164716, 'n_estimators': 579, 'lambda_l1': 0.009812060802441392, 'lambda_l2': 0.04668177988264573, 'max_depth': 8, 'colsample_bytree': 0.8852937623385746, 'subsample': 0.8346217240918734, 'min_child_samples': 42}. Best is trial 87 with value: 0.14830113984603793.\n",
      "[I 2024-04-29 11:15:49,846] Trial 96 finished with value: 0.14896982886597512 and parameters: {'learning_rate': 0.04532744640021063, 'n_estimators': 600, 'lambda_l1': 0.010047870213592039, 'lambda_l2': 0.05197349018952891, 'max_depth': 8, 'colsample_bytree': 0.47562223703963485, 'subsample': 0.8488227549627917, 'min_child_samples': 44}. Best is trial 87 with value: 0.14830113984603793.\n",
      "[I 2024-04-29 11:16:05,705] Trial 97 finished with value: 0.14839910418085603 and parameters: {'learning_rate': 0.04639689914571799, 'n_estimators': 585, 'lambda_l1': 0.010794249261488439, 'lambda_l2': 0.049361620208695105, 'max_depth': 8, 'colsample_bytree': 0.8365924252919912, 'subsample': 0.838457037404638, 'min_child_samples': 41}. Best is trial 87 with value: 0.14830113984603793.\n",
      "[I 2024-04-29 11:16:23,120] Trial 98 finished with value: 0.14847001400936416 and parameters: {'learning_rate': 0.047953629570154886, 'n_estimators': 570, 'lambda_l1': 0.010905076507617916, 'lambda_l2': 0.04947288413568633, 'max_depth': 10, 'colsample_bytree': 0.8308913673512442, 'subsample': 0.8658041166942981, 'min_child_samples': 40}. Best is trial 87 with value: 0.14830113984603793.\n",
      "[I 2024-04-29 11:16:43,066] Trial 99 finished with value: 0.14999403126742675 and parameters: {'learning_rate': 0.01116499735169001, 'n_estimators': 585, 'lambda_l1': 0.01064114216727262, 'lambda_l2': 0.04566848652807391, 'max_depth': 9, 'colsample_bytree': 0.7857564314768306, 'subsample': 0.8391608782434108, 'min_child_samples': 40}. Best is trial 87 with value: 0.14830113984603793.\n"
     ]
    },
    {
     "name": "stdout",
     "output_type": "stream",
     "text": [
      "==================================================\n",
      "{'learning_rate': 0.04453055124533959, 'n_estimators': 599, 'lambda_l1': 0.010445607793907763, 'lambda_l2': 0.051817033239634866, 'max_depth': 8, 'colsample_bytree': 0.8541453767180162, 'subsample': 0.8318815507858817, 'min_child_samples': 40}\n"
     ]
    }
   ],
   "source": [
    "def objective(trial, X_train, y_train, X_test, y_test):\n",
    "    # LGBMRegressor に最適化するパラメータを定義する\n",
    "    param = {\n",
    "        \"objective\": \"regression\",\n",
    "        \"metric\": \"None\",  # デフォルトのメトリクスを無効にする\n",
    "        \"verbosity\": -1,\n",
    "        \"boosting_type\": \"gbdt\",\n",
    "        \"random_state\": 42,\n",
    "        \"learning_rate\": trial.suggest_float(\"learning_rate\", 0.01, 0.05),\n",
    "        \"n_estimators\": trial.suggest_int(\"n_estimators\", 400, 600), #決定木の数を指定\n",
    "        \"lambda_l1\": trial.suggest_float(\"lambda_l1\", 0.005, 0.015),\n",
    "        \"lambda_l2\": trial.suggest_float(\"lambda_l2\", 0.02, 0.06),\n",
    "        \"max_depth\": trial.suggest_int(\"max_depth\", 6, 14),\n",
    "        \"colsample_bytree\": trial.suggest_float(\"colsample_bytree\", 0.3, 0.9),\n",
    "        \"subsample\": trial.suggest_float(\"subsample\", 0.8, 1.0),\n",
    "        \"min_child_samples\": trial.suggest_int(\"min_child_samples\", 10, 50),\n",
    "    }\n",
    "\n",
    "    # 提案されたパラメータを使用して LGBMRegressor のインスタンスを作成します\n",
    "    lgbm_regressor = LGBMRegressor(**param)\n",
    "    \n",
    "    # トレーニングデータにLGBMRegressorを当てはめる\n",
    "    lgbm_regressor.fit(X_train, y_train)\n",
    "\n",
    "    # テストデータから予測する\n",
    "    y_pred = lgbm_regressor.predict(X_test)\n",
    "\n",
    "    # RMSLE を計算する\n",
    "    score = np.sqrt(mean_squared_log_error(y_test, y_pred))\n",
    "    \n",
    "    return score  # RMSLE を最小化する\n",
    "\n",
    "# データをトレーニングセットとテストセットに分割する\n",
    "X_train, X_test, y_train, y_test = train_test_split(X, y, test_size=0.2, random_state=42)  # 必要に応じて test_size を調整します\n",
    "\n",
    "# Optuna 最適化用のサンプラーをセットアップする\n",
    "sampler = optuna.samplers.TPESampler(seed=42)  # 最適化のためにツリー構造の Parzen Estimator サンプラーを使用する\n",
    "\n",
    "# Optuna 最適化のためのスタディ オブジェクトを作成する\n",
    "study = optuna.create_study(direction=\"minimize\", sampler=sampler)  # RMSLE を最小化する\n",
    "\n",
    "# 最適化プロセスを実行する\n",
    "study.optimize(lambda trial: objective(trial, X_train, y_train, X_test, y_test), n_trials=100)\n",
    "\n",
    "# 最適化後に最適なパラメータを取得する\n",
    "best_params = study.best_params\n",
    "\n",
    "print('='*50)\n",
    "print(best_params)"
   ]
  },
  {
   "cell_type": "code",
   "execution_count": 514,
   "metadata": {},
   "outputs": [
    {
     "data": {
      "text/plain": [
       "{'learning_rate': 0.04453055124533959,\n",
       " 'n_estimators': 599,\n",
       " 'lambda_l1': 0.010445607793907763,\n",
       " 'lambda_l2': 0.051817033239634866,\n",
       " 'max_depth': 8,\n",
       " 'colsample_bytree': 0.8541453767180162,\n",
       " 'subsample': 0.8318815507858817,\n",
       " 'min_child_samples': 40}"
      ]
     },
     "execution_count": 514,
     "metadata": {},
     "output_type": "execute_result"
    }
   ],
   "source": [
    "best_params"
   ]
  },
  {
   "cell_type": "markdown",
   "metadata": {},
   "source": [
    "目につくmax_depthが大きくなった時よい結果となる気がする。<br>\n",
    "⇒調べた：大きくなったとか以前に\"max_depth\" は、決定木の深さを制御するパラメータだから単純に複雑なモデルになったというだけの話だった。"
   ]
  },
  {
   "cell_type": "code",
   "execution_count": 515,
   "metadata": {},
   "outputs": [
    {
     "name": "stdout",
     "output_type": "stream",
     "text": [
      "[LightGBM] [Warning] lambda_l1 is set=0.010445607793907763, reg_alpha=0.0 will be ignored. Current value: lambda_l1=0.010445607793907763\n",
      "[LightGBM] [Warning] lambda_l2 is set=0.051817033239634866, reg_lambda=0.0 will be ignored. Current value: lambda_l2=0.051817033239634866\n",
      "[LightGBM] [Warning] Accuracy may be bad since you didn't explicitly set num_leaves OR 2^max_depth > num_leaves. (num_leaves=31).\n",
      "[LightGBM] [Warning] lambda_l1 is set=0.010445607793907763, reg_alpha=0.0 will be ignored. Current value: lambda_l1=0.010445607793907763\n",
      "[LightGBM] [Warning] lambda_l2 is set=0.051817033239634866, reg_lambda=0.0 will be ignored. Current value: lambda_l2=0.051817033239634866\n",
      "[LightGBM] [Warning] Accuracy may be bad since you didn't explicitly set num_leaves OR 2^max_depth > num_leaves. (num_leaves=31).\n",
      "[LightGBM] [Info] Auto-choosing col-wise multi-threading, the overhead of testing was 0.007331 seconds.\n",
      "You can set `force_col_wise=true` to remove the overhead.\n",
      "[LightGBM] [Info] Total Bins 1584\n",
      "[LightGBM] [Info] Number of data points in the train set: 72487, number of used features: 9\n",
      "[LightGBM] [Info] Start training from score 9.692966\n",
      "[LightGBM] [Warning] No further splits with positive gain, best gain: -inf\n",
      "[LightGBM] [Warning] No further splits with positive gain, best gain: -inf\n",
      "[LightGBM] [Warning] No further splits with positive gain, best gain: -inf\n",
      "[LightGBM] [Warning] No further splits with positive gain, best gain: -inf\n",
      "[LightGBM] [Warning] No further splits with positive gain, best gain: -inf\n",
      "[LightGBM] [Warning] No further splits with positive gain, best gain: -inf\n",
      "[LightGBM] [Warning] No further splits with positive gain, best gain: -inf\n",
      "[LightGBM] [Warning] No further splits with positive gain, best gain: -inf\n",
      "[LightGBM] [Warning] No further splits with positive gain, best gain: -inf\n",
      "[LightGBM] [Warning] No further splits with positive gain, best gain: -inf\n",
      "[LightGBM] [Warning] No further splits with positive gain, best gain: -inf\n",
      "[LightGBM] [Warning] No further splits with positive gain, best gain: -inf\n",
      "[LightGBM] [Warning] No further splits with positive gain, best gain: -inf\n",
      "[LightGBM] [Warning] No further splits with positive gain, best gain: -inf\n",
      "[LightGBM] [Warning] No further splits with positive gain, best gain: -inf\n",
      "[LightGBM] [Warning] No further splits with positive gain, best gain: -inf\n",
      "[LightGBM] [Warning] No further splits with positive gain, best gain: -inf\n",
      "[LightGBM] [Warning] No further splits with positive gain, best gain: -inf\n",
      "[LightGBM] [Warning] No further splits with positive gain, best gain: -inf\n",
      "[LightGBM] [Warning] No further splits with positive gain, best gain: -inf\n",
      "[LightGBM] [Warning] No further splits with positive gain, best gain: -inf\n",
      "[LightGBM] [Warning] No further splits with positive gain, best gain: -inf\n",
      "[LightGBM] [Warning] No further splits with positive gain, best gain: -inf\n",
      "[LightGBM] [Warning] No further splits with positive gain, best gain: -inf\n",
      "[LightGBM] [Warning] No further splits with positive gain, best gain: -inf\n",
      "[LightGBM] [Warning] No further splits with positive gain, best gain: -inf\n",
      "[LightGBM] [Warning] No further splits with positive gain, best gain: -inf\n",
      "[LightGBM] [Warning] No further splits with positive gain, best gain: -inf\n",
      "[LightGBM] [Warning] No further splits with positive gain, best gain: -inf\n",
      "[LightGBM] [Warning] No further splits with positive gain, best gain: -inf\n",
      "[LightGBM] [Warning] No further splits with positive gain, best gain: -inf\n",
      "[LightGBM] [Warning] No further splits with positive gain, best gain: -inf\n",
      "[LightGBM] [Warning] No further splits with positive gain, best gain: -inf\n",
      "[LightGBM] [Warning] No further splits with positive gain, best gain: -inf\n",
      "[LightGBM] [Warning] No further splits with positive gain, best gain: -inf\n",
      "[LightGBM] [Warning] No further splits with positive gain, best gain: -inf\n",
      "[LightGBM] [Warning] No further splits with positive gain, best gain: -inf\n",
      "[LightGBM] [Warning] No further splits with positive gain, best gain: -inf\n",
      "[LightGBM] [Warning] No further splits with positive gain, best gain: -inf\n",
      "[LightGBM] [Warning] No further splits with positive gain, best gain: -inf\n",
      "[LightGBM] [Warning] No further splits with positive gain, best gain: -inf\n",
      "[LightGBM] [Warning] No further splits with positive gain, best gain: -inf\n",
      "[LightGBM] [Warning] No further splits with positive gain, best gain: -inf\n",
      "[LightGBM] [Warning] No further splits with positive gain, best gain: -inf\n",
      "[LightGBM] [Warning] No further splits with positive gain, best gain: -inf\n",
      "[LightGBM] [Warning] No further splits with positive gain, best gain: -inf\n",
      "[LightGBM] [Warning] No further splits with positive gain, best gain: -inf\n",
      "[LightGBM] [Warning] No further splits with positive gain, best gain: -inf\n",
      "[LightGBM] [Warning] No further splits with positive gain, best gain: -inf\n",
      "[LightGBM] [Warning] No further splits with positive gain, best gain: -inf\n",
      "[LightGBM] [Warning] No further splits with positive gain, best gain: -inf\n",
      "[LightGBM] [Warning] No further splits with positive gain, best gain: -inf\n",
      "[LightGBM] [Warning] No further splits with positive gain, best gain: -inf\n",
      "[LightGBM] [Warning] No further splits with positive gain, best gain: -inf\n",
      "[LightGBM] [Warning] No further splits with positive gain, best gain: -inf\n",
      "[LightGBM] [Warning] No further splits with positive gain, best gain: -inf\n",
      "[LightGBM] [Warning] No further splits with positive gain, best gain: -inf\n",
      "[LightGBM] [Warning] No further splits with positive gain, best gain: -inf\n",
      "[LightGBM] [Warning] No further splits with positive gain, best gain: -inf\n",
      "[LightGBM] [Warning] No further splits with positive gain, best gain: -inf\n",
      "[LightGBM] [Warning] No further splits with positive gain, best gain: -inf\n",
      "[LightGBM] [Warning] No further splits with positive gain, best gain: -inf\n",
      "[LightGBM] [Warning] No further splits with positive gain, best gain: -inf\n",
      "[LightGBM] [Warning] No further splits with positive gain, best gain: -inf\n",
      "[LightGBM] [Warning] No further splits with positive gain, best gain: -inf\n",
      "[LightGBM] [Warning] No further splits with positive gain, best gain: -inf\n",
      "[LightGBM] [Warning] No further splits with positive gain, best gain: -inf\n",
      "[LightGBM] [Warning] No further splits with positive gain, best gain: -inf\n",
      "[LightGBM] [Warning] No further splits with positive gain, best gain: -inf\n",
      "[LightGBM] [Warning] No further splits with positive gain, best gain: -inf\n",
      "[LightGBM] [Warning] No further splits with positive gain, best gain: -inf\n",
      "[LightGBM] [Warning] No further splits with positive gain, best gain: -inf\n",
      "[LightGBM] [Warning] No further splits with positive gain, best gain: -inf\n",
      "[LightGBM] [Warning] No further splits with positive gain, best gain: -inf\n"
     ]
    },
    {
     "data": {
      "text/html": [
       "<style>#sk-container-id-9 {\n",
       "  /* Definition of color scheme common for light and dark mode */\n",
       "  --sklearn-color-text: black;\n",
       "  --sklearn-color-line: gray;\n",
       "  /* Definition of color scheme for unfitted estimators */\n",
       "  --sklearn-color-unfitted-level-0: #fff5e6;\n",
       "  --sklearn-color-unfitted-level-1: #f6e4d2;\n",
       "  --sklearn-color-unfitted-level-2: #ffe0b3;\n",
       "  --sklearn-color-unfitted-level-3: chocolate;\n",
       "  /* Definition of color scheme for fitted estimators */\n",
       "  --sklearn-color-fitted-level-0: #f0f8ff;\n",
       "  --sklearn-color-fitted-level-1: #d4ebff;\n",
       "  --sklearn-color-fitted-level-2: #b3dbfd;\n",
       "  --sklearn-color-fitted-level-3: cornflowerblue;\n",
       "\n",
       "  /* Specific color for light theme */\n",
       "  --sklearn-color-text-on-default-background: var(--sg-text-color, var(--theme-code-foreground, var(--jp-content-font-color1, black)));\n",
       "  --sklearn-color-background: var(--sg-background-color, var(--theme-background, var(--jp-layout-color0, white)));\n",
       "  --sklearn-color-border-box: var(--sg-text-color, var(--theme-code-foreground, var(--jp-content-font-color1, black)));\n",
       "  --sklearn-color-icon: #696969;\n",
       "\n",
       "  @media (prefers-color-scheme: dark) {\n",
       "    /* Redefinition of color scheme for dark theme */\n",
       "    --sklearn-color-text-on-default-background: var(--sg-text-color, var(--theme-code-foreground, var(--jp-content-font-color1, white)));\n",
       "    --sklearn-color-background: var(--sg-background-color, var(--theme-background, var(--jp-layout-color0, #111)));\n",
       "    --sklearn-color-border-box: var(--sg-text-color, var(--theme-code-foreground, var(--jp-content-font-color1, white)));\n",
       "    --sklearn-color-icon: #878787;\n",
       "  }\n",
       "}\n",
       "\n",
       "#sk-container-id-9 {\n",
       "  color: var(--sklearn-color-text);\n",
       "}\n",
       "\n",
       "#sk-container-id-9 pre {\n",
       "  padding: 0;\n",
       "}\n",
       "\n",
       "#sk-container-id-9 input.sk-hidden--visually {\n",
       "  border: 0;\n",
       "  clip: rect(1px 1px 1px 1px);\n",
       "  clip: rect(1px, 1px, 1px, 1px);\n",
       "  height: 1px;\n",
       "  margin: -1px;\n",
       "  overflow: hidden;\n",
       "  padding: 0;\n",
       "  position: absolute;\n",
       "  width: 1px;\n",
       "}\n",
       "\n",
       "#sk-container-id-9 div.sk-dashed-wrapped {\n",
       "  border: 1px dashed var(--sklearn-color-line);\n",
       "  margin: 0 0.4em 0.5em 0.4em;\n",
       "  box-sizing: border-box;\n",
       "  padding-bottom: 0.4em;\n",
       "  background-color: var(--sklearn-color-background);\n",
       "}\n",
       "\n",
       "#sk-container-id-9 div.sk-container {\n",
       "  /* jupyter's `normalize.less` sets `[hidden] { display: none; }`\n",
       "     but bootstrap.min.css set `[hidden] { display: none !important; }`\n",
       "     so we also need the `!important` here to be able to override the\n",
       "     default hidden behavior on the sphinx rendered scikit-learn.org.\n",
       "     See: https://github.com/scikit-learn/scikit-learn/issues/21755 */\n",
       "  display: inline-block !important;\n",
       "  position: relative;\n",
       "}\n",
       "\n",
       "#sk-container-id-9 div.sk-text-repr-fallback {\n",
       "  display: none;\n",
       "}\n",
       "\n",
       "div.sk-parallel-item,\n",
       "div.sk-serial,\n",
       "div.sk-item {\n",
       "  /* draw centered vertical line to link estimators */\n",
       "  background-image: linear-gradient(var(--sklearn-color-text-on-default-background), var(--sklearn-color-text-on-default-background));\n",
       "  background-size: 2px 100%;\n",
       "  background-repeat: no-repeat;\n",
       "  background-position: center center;\n",
       "}\n",
       "\n",
       "/* Parallel-specific style estimator block */\n",
       "\n",
       "#sk-container-id-9 div.sk-parallel-item::after {\n",
       "  content: \"\";\n",
       "  width: 100%;\n",
       "  border-bottom: 2px solid var(--sklearn-color-text-on-default-background);\n",
       "  flex-grow: 1;\n",
       "}\n",
       "\n",
       "#sk-container-id-9 div.sk-parallel {\n",
       "  display: flex;\n",
       "  align-items: stretch;\n",
       "  justify-content: center;\n",
       "  background-color: var(--sklearn-color-background);\n",
       "  position: relative;\n",
       "}\n",
       "\n",
       "#sk-container-id-9 div.sk-parallel-item {\n",
       "  display: flex;\n",
       "  flex-direction: column;\n",
       "}\n",
       "\n",
       "#sk-container-id-9 div.sk-parallel-item:first-child::after {\n",
       "  align-self: flex-end;\n",
       "  width: 50%;\n",
       "}\n",
       "\n",
       "#sk-container-id-9 div.sk-parallel-item:last-child::after {\n",
       "  align-self: flex-start;\n",
       "  width: 50%;\n",
       "}\n",
       "\n",
       "#sk-container-id-9 div.sk-parallel-item:only-child::after {\n",
       "  width: 0;\n",
       "}\n",
       "\n",
       "/* Serial-specific style estimator block */\n",
       "\n",
       "#sk-container-id-9 div.sk-serial {\n",
       "  display: flex;\n",
       "  flex-direction: column;\n",
       "  align-items: center;\n",
       "  background-color: var(--sklearn-color-background);\n",
       "  padding-right: 1em;\n",
       "  padding-left: 1em;\n",
       "}\n",
       "\n",
       "\n",
       "/* Toggleable style: style used for estimator/Pipeline/ColumnTransformer box that is\n",
       "clickable and can be expanded/collapsed.\n",
       "- Pipeline and ColumnTransformer use this feature and define the default style\n",
       "- Estimators will overwrite some part of the style using the `sk-estimator` class\n",
       "*/\n",
       "\n",
       "/* Pipeline and ColumnTransformer style (default) */\n",
       "\n",
       "#sk-container-id-9 div.sk-toggleable {\n",
       "  /* Default theme specific background. It is overwritten whether we have a\n",
       "  specific estimator or a Pipeline/ColumnTransformer */\n",
       "  background-color: var(--sklearn-color-background);\n",
       "}\n",
       "\n",
       "/* Toggleable label */\n",
       "#sk-container-id-9 label.sk-toggleable__label {\n",
       "  cursor: pointer;\n",
       "  display: block;\n",
       "  width: 100%;\n",
       "  margin-bottom: 0;\n",
       "  padding: 0.5em;\n",
       "  box-sizing: border-box;\n",
       "  text-align: center;\n",
       "}\n",
       "\n",
       "#sk-container-id-9 label.sk-toggleable__label-arrow:before {\n",
       "  /* Arrow on the left of the label */\n",
       "  content: \"▸\";\n",
       "  float: left;\n",
       "  margin-right: 0.25em;\n",
       "  color: var(--sklearn-color-icon);\n",
       "}\n",
       "\n",
       "#sk-container-id-9 label.sk-toggleable__label-arrow:hover:before {\n",
       "  color: var(--sklearn-color-text);\n",
       "}\n",
       "\n",
       "/* Toggleable content - dropdown */\n",
       "\n",
       "#sk-container-id-9 div.sk-toggleable__content {\n",
       "  max-height: 0;\n",
       "  max-width: 0;\n",
       "  overflow: hidden;\n",
       "  text-align: left;\n",
       "  /* unfitted */\n",
       "  background-color: var(--sklearn-color-unfitted-level-0);\n",
       "}\n",
       "\n",
       "#sk-container-id-9 div.sk-toggleable__content.fitted {\n",
       "  /* fitted */\n",
       "  background-color: var(--sklearn-color-fitted-level-0);\n",
       "}\n",
       "\n",
       "#sk-container-id-9 div.sk-toggleable__content pre {\n",
       "  margin: 0.2em;\n",
       "  border-radius: 0.25em;\n",
       "  color: var(--sklearn-color-text);\n",
       "  /* unfitted */\n",
       "  background-color: var(--sklearn-color-unfitted-level-0);\n",
       "}\n",
       "\n",
       "#sk-container-id-9 div.sk-toggleable__content.fitted pre {\n",
       "  /* unfitted */\n",
       "  background-color: var(--sklearn-color-fitted-level-0);\n",
       "}\n",
       "\n",
       "#sk-container-id-9 input.sk-toggleable__control:checked~div.sk-toggleable__content {\n",
       "  /* Expand drop-down */\n",
       "  max-height: 200px;\n",
       "  max-width: 100%;\n",
       "  overflow: auto;\n",
       "}\n",
       "\n",
       "#sk-container-id-9 input.sk-toggleable__control:checked~label.sk-toggleable__label-arrow:before {\n",
       "  content: \"▾\";\n",
       "}\n",
       "\n",
       "/* Pipeline/ColumnTransformer-specific style */\n",
       "\n",
       "#sk-container-id-9 div.sk-label input.sk-toggleable__control:checked~label.sk-toggleable__label {\n",
       "  color: var(--sklearn-color-text);\n",
       "  background-color: var(--sklearn-color-unfitted-level-2);\n",
       "}\n",
       "\n",
       "#sk-container-id-9 div.sk-label.fitted input.sk-toggleable__control:checked~label.sk-toggleable__label {\n",
       "  background-color: var(--sklearn-color-fitted-level-2);\n",
       "}\n",
       "\n",
       "/* Estimator-specific style */\n",
       "\n",
       "/* Colorize estimator box */\n",
       "#sk-container-id-9 div.sk-estimator input.sk-toggleable__control:checked~label.sk-toggleable__label {\n",
       "  /* unfitted */\n",
       "  background-color: var(--sklearn-color-unfitted-level-2);\n",
       "}\n",
       "\n",
       "#sk-container-id-9 div.sk-estimator.fitted input.sk-toggleable__control:checked~label.sk-toggleable__label {\n",
       "  /* fitted */\n",
       "  background-color: var(--sklearn-color-fitted-level-2);\n",
       "}\n",
       "\n",
       "#sk-container-id-9 div.sk-label label.sk-toggleable__label,\n",
       "#sk-container-id-9 div.sk-label label {\n",
       "  /* The background is the default theme color */\n",
       "  color: var(--sklearn-color-text-on-default-background);\n",
       "}\n",
       "\n",
       "/* On hover, darken the color of the background */\n",
       "#sk-container-id-9 div.sk-label:hover label.sk-toggleable__label {\n",
       "  color: var(--sklearn-color-text);\n",
       "  background-color: var(--sklearn-color-unfitted-level-2);\n",
       "}\n",
       "\n",
       "/* Label box, darken color on hover, fitted */\n",
       "#sk-container-id-9 div.sk-label.fitted:hover label.sk-toggleable__label.fitted {\n",
       "  color: var(--sklearn-color-text);\n",
       "  background-color: var(--sklearn-color-fitted-level-2);\n",
       "}\n",
       "\n",
       "/* Estimator label */\n",
       "\n",
       "#sk-container-id-9 div.sk-label label {\n",
       "  font-family: monospace;\n",
       "  font-weight: bold;\n",
       "  display: inline-block;\n",
       "  line-height: 1.2em;\n",
       "}\n",
       "\n",
       "#sk-container-id-9 div.sk-label-container {\n",
       "  text-align: center;\n",
       "}\n",
       "\n",
       "/* Estimator-specific */\n",
       "#sk-container-id-9 div.sk-estimator {\n",
       "  font-family: monospace;\n",
       "  border: 1px dotted var(--sklearn-color-border-box);\n",
       "  border-radius: 0.25em;\n",
       "  box-sizing: border-box;\n",
       "  margin-bottom: 0.5em;\n",
       "  /* unfitted */\n",
       "  background-color: var(--sklearn-color-unfitted-level-0);\n",
       "}\n",
       "\n",
       "#sk-container-id-9 div.sk-estimator.fitted {\n",
       "  /* fitted */\n",
       "  background-color: var(--sklearn-color-fitted-level-0);\n",
       "}\n",
       "\n",
       "/* on hover */\n",
       "#sk-container-id-9 div.sk-estimator:hover {\n",
       "  /* unfitted */\n",
       "  background-color: var(--sklearn-color-unfitted-level-2);\n",
       "}\n",
       "\n",
       "#sk-container-id-9 div.sk-estimator.fitted:hover {\n",
       "  /* fitted */\n",
       "  background-color: var(--sklearn-color-fitted-level-2);\n",
       "}\n",
       "\n",
       "/* Specification for estimator info (e.g. \"i\" and \"?\") */\n",
       "\n",
       "/* Common style for \"i\" and \"?\" */\n",
       "\n",
       ".sk-estimator-doc-link,\n",
       "a:link.sk-estimator-doc-link,\n",
       "a:visited.sk-estimator-doc-link {\n",
       "  float: right;\n",
       "  font-size: smaller;\n",
       "  line-height: 1em;\n",
       "  font-family: monospace;\n",
       "  background-color: var(--sklearn-color-background);\n",
       "  border-radius: 1em;\n",
       "  height: 1em;\n",
       "  width: 1em;\n",
       "  text-decoration: none !important;\n",
       "  margin-left: 1ex;\n",
       "  /* unfitted */\n",
       "  border: var(--sklearn-color-unfitted-level-1) 1pt solid;\n",
       "  color: var(--sklearn-color-unfitted-level-1);\n",
       "}\n",
       "\n",
       ".sk-estimator-doc-link.fitted,\n",
       "a:link.sk-estimator-doc-link.fitted,\n",
       "a:visited.sk-estimator-doc-link.fitted {\n",
       "  /* fitted */\n",
       "  border: var(--sklearn-color-fitted-level-1) 1pt solid;\n",
       "  color: var(--sklearn-color-fitted-level-1);\n",
       "}\n",
       "\n",
       "/* On hover */\n",
       "div.sk-estimator:hover .sk-estimator-doc-link:hover,\n",
       ".sk-estimator-doc-link:hover,\n",
       "div.sk-label-container:hover .sk-estimator-doc-link:hover,\n",
       ".sk-estimator-doc-link:hover {\n",
       "  /* unfitted */\n",
       "  background-color: var(--sklearn-color-unfitted-level-3);\n",
       "  color: var(--sklearn-color-background);\n",
       "  text-decoration: none;\n",
       "}\n",
       "\n",
       "div.sk-estimator.fitted:hover .sk-estimator-doc-link.fitted:hover,\n",
       ".sk-estimator-doc-link.fitted:hover,\n",
       "div.sk-label-container:hover .sk-estimator-doc-link.fitted:hover,\n",
       ".sk-estimator-doc-link.fitted:hover {\n",
       "  /* fitted */\n",
       "  background-color: var(--sklearn-color-fitted-level-3);\n",
       "  color: var(--sklearn-color-background);\n",
       "  text-decoration: none;\n",
       "}\n",
       "\n",
       "/* Span, style for the box shown on hovering the info icon */\n",
       ".sk-estimator-doc-link span {\n",
       "  display: none;\n",
       "  z-index: 9999;\n",
       "  position: relative;\n",
       "  font-weight: normal;\n",
       "  right: .2ex;\n",
       "  padding: .5ex;\n",
       "  margin: .5ex;\n",
       "  width: min-content;\n",
       "  min-width: 20ex;\n",
       "  max-width: 50ex;\n",
       "  color: var(--sklearn-color-text);\n",
       "  box-shadow: 2pt 2pt 4pt #999;\n",
       "  /* unfitted */\n",
       "  background: var(--sklearn-color-unfitted-level-0);\n",
       "  border: .5pt solid var(--sklearn-color-unfitted-level-3);\n",
       "}\n",
       "\n",
       ".sk-estimator-doc-link.fitted span {\n",
       "  /* fitted */\n",
       "  background: var(--sklearn-color-fitted-level-0);\n",
       "  border: var(--sklearn-color-fitted-level-3);\n",
       "}\n",
       "\n",
       ".sk-estimator-doc-link:hover span {\n",
       "  display: block;\n",
       "}\n",
       "\n",
       "/* \"?\"-specific style due to the `<a>` HTML tag */\n",
       "\n",
       "#sk-container-id-9 a.estimator_doc_link {\n",
       "  float: right;\n",
       "  font-size: 1rem;\n",
       "  line-height: 1em;\n",
       "  font-family: monospace;\n",
       "  background-color: var(--sklearn-color-background);\n",
       "  border-radius: 1rem;\n",
       "  height: 1rem;\n",
       "  width: 1rem;\n",
       "  text-decoration: none;\n",
       "  /* unfitted */\n",
       "  color: var(--sklearn-color-unfitted-level-1);\n",
       "  border: var(--sklearn-color-unfitted-level-1) 1pt solid;\n",
       "}\n",
       "\n",
       "#sk-container-id-9 a.estimator_doc_link.fitted {\n",
       "  /* fitted */\n",
       "  border: var(--sklearn-color-fitted-level-1) 1pt solid;\n",
       "  color: var(--sklearn-color-fitted-level-1);\n",
       "}\n",
       "\n",
       "/* On hover */\n",
       "#sk-container-id-9 a.estimator_doc_link:hover {\n",
       "  /* unfitted */\n",
       "  background-color: var(--sklearn-color-unfitted-level-3);\n",
       "  color: var(--sklearn-color-background);\n",
       "  text-decoration: none;\n",
       "}\n",
       "\n",
       "#sk-container-id-9 a.estimator_doc_link.fitted:hover {\n",
       "  /* fitted */\n",
       "  background-color: var(--sklearn-color-fitted-level-3);\n",
       "}\n",
       "</style><div id=\"sk-container-id-9\" class=\"sk-top-container\"><div class=\"sk-text-repr-fallback\"><pre>LGBMRegressor(colsample_bytree=0.8541453767180162,\n",
       "              lambda_l1=0.010445607793907763, lambda_l2=0.051817033239634866,\n",
       "              learning_rate=0.04453055124533959, max_depth=8,\n",
       "              min_child_samples=40, n_estimators=599,\n",
       "              subsample=0.8318815507858817)</pre><b>In a Jupyter environment, please rerun this cell to show the HTML representation or trust the notebook. <br />On GitHub, the HTML representation is unable to render, please try loading this page with nbviewer.org.</b></div><div class=\"sk-container\" hidden><div class=\"sk-item\"><div class=\"sk-estimator fitted sk-toggleable\"><input class=\"sk-toggleable__control sk-hidden--visually\" id=\"sk-estimator-id-9\" type=\"checkbox\" checked><label for=\"sk-estimator-id-9\" class=\"sk-toggleable__label fitted sk-toggleable__label-arrow fitted\">&nbsp;LGBMRegressor<span class=\"sk-estimator-doc-link fitted\">i<span>Fitted</span></span></label><div class=\"sk-toggleable__content fitted\"><pre>LGBMRegressor(colsample_bytree=0.8541453767180162,\n",
       "              lambda_l1=0.010445607793907763, lambda_l2=0.051817033239634866,\n",
       "              learning_rate=0.04453055124533959, max_depth=8,\n",
       "              min_child_samples=40, n_estimators=599,\n",
       "              subsample=0.8318815507858817)</pre></div> </div></div></div></div>"
      ],
      "text/plain": [
       "LGBMRegressor(colsample_bytree=0.8541453767180162,\n",
       "              lambda_l1=0.010445607793907763, lambda_l2=0.051817033239634866,\n",
       "              learning_rate=0.04453055124533959, max_depth=8,\n",
       "              min_child_samples=40, n_estimators=599,\n",
       "              subsample=0.8318815507858817)"
      ]
     },
     "execution_count": 515,
     "metadata": {},
     "output_type": "execute_result"
    }
   ],
   "source": [
    "from lightgbm import LGBMRegressor\n",
    "model = LGBMRegressor(**best_params)\n",
    "model.fit(X_train, y_train)"
   ]
  },
  {
   "cell_type": "markdown",
   "metadata": {},
   "source": [
    "---"
   ]
  },
  {
   "cell_type": "markdown",
   "metadata": {},
   "source": [
    "# 評価"
   ]
  },
  {
   "cell_type": "code",
   "execution_count": 516,
   "metadata": {},
   "outputs": [
    {
     "name": "stdout",
     "output_type": "stream",
     "text": [
      "[LightGBM] [Warning] lambda_l1 is set=0.010445607793907763, reg_alpha=0.0 will be ignored. Current value: lambda_l1=0.010445607793907763\n",
      "[LightGBM] [Warning] lambda_l2 is set=0.051817033239634866, reg_lambda=0.0 will be ignored. Current value: lambda_l2=0.051817033239634866\n",
      "[LightGBM] [Warning] Accuracy may be bad since you didn't explicitly set num_leaves OR 2^max_depth > num_leaves. (num_leaves=31).\n"
     ]
    },
    {
     "data": {
      "text/plain": [
       "0.7151475671197887"
      ]
     },
     "execution_count": 516,
     "metadata": {},
     "output_type": "execute_result"
    }
   ],
   "source": [
    "model.score(X_train, y_train)"
   ]
  },
  {
   "cell_type": "code",
   "execution_count": 517,
   "metadata": {},
   "outputs": [
    {
     "name": "stdout",
     "output_type": "stream",
     "text": [
      "[LightGBM] [Warning] lambda_l1 is set=0.010445607793907763, reg_alpha=0.0 will be ignored. Current value: lambda_l1=0.010445607793907763\n",
      "[LightGBM] [Warning] lambda_l2 is set=0.051817033239634866, reg_lambda=0.0 will be ignored. Current value: lambda_l2=0.051817033239634866\n",
      "[LightGBM] [Warning] Accuracy may be bad since you didn't explicitly set num_leaves OR 2^max_depth > num_leaves. (num_leaves=31).\n"
     ]
    },
    {
     "data": {
      "text/plain": [
       "0.6713992230454002"
      ]
     },
     "execution_count": 517,
     "metadata": {},
     "output_type": "execute_result"
    }
   ],
   "source": [
    "model.score(X_test, y_test)"
   ]
  },
  {
   "cell_type": "code",
   "execution_count": 518,
   "metadata": {},
   "outputs": [
    {
     "name": "stdout",
     "output_type": "stream",
     "text": [
      "[LightGBM] [Warning] lambda_l1 is set=0.010445607793907763, reg_alpha=0.0 will be ignored. Current value: lambda_l1=0.010445607793907763\n",
      "[LightGBM] [Warning] lambda_l2 is set=0.051817033239634866, reg_lambda=0.0 will be ignored. Current value: lambda_l2=0.051817033239634866\n",
      "[LightGBM] [Warning] Accuracy may be bad since you didn't explicitly set num_leaves OR 2^max_depth > num_leaves. (num_leaves=31).\n",
      "[LightGBM] [Warning] lambda_l1 is set=0.010445607793907763, reg_alpha=0.0 will be ignored. Current value: lambda_l1=0.010445607793907763\n",
      "[LightGBM] [Warning] lambda_l2 is set=0.051817033239634866, reg_lambda=0.0 will be ignored. Current value: lambda_l2=0.051817033239634866\n",
      "[LightGBM] [Warning] Accuracy may be bad since you didn't explicitly set num_leaves OR 2^max_depth > num_leaves. (num_leaves=31).\n",
      "[LightGBM] [Info] Auto-choosing col-wise multi-threading, the overhead of testing was 0.006261 seconds.\n",
      "You can set `force_col_wise=true` to remove the overhead.\n",
      "[LightGBM] [Info] Total Bins 1584\n",
      "[LightGBM] [Info] Number of data points in the train set: 72487, number of used features: 9\n",
      "[LightGBM] [Info] Start training from score 9.692966\n"
     ]
    },
    {
     "name": "stdout",
     "output_type": "stream",
     "text": [
      "[LightGBM] [Warning] No further splits with positive gain, best gain: -inf\n",
      "[LightGBM] [Warning] No further splits with positive gain, best gain: -inf\n",
      "[LightGBM] [Warning] No further splits with positive gain, best gain: -inf\n",
      "[LightGBM] [Warning] No further splits with positive gain, best gain: -inf\n",
      "[LightGBM] [Warning] No further splits with positive gain, best gain: -inf\n",
      "[LightGBM] [Warning] No further splits with positive gain, best gain: -inf\n",
      "[LightGBM] [Warning] No further splits with positive gain, best gain: -inf\n",
      "[LightGBM] [Warning] No further splits with positive gain, best gain: -inf\n",
      "[LightGBM] [Warning] No further splits with positive gain, best gain: -inf\n",
      "[LightGBM] [Warning] No further splits with positive gain, best gain: -inf\n",
      "[LightGBM] [Warning] No further splits with positive gain, best gain: -inf\n",
      "[LightGBM] [Warning] No further splits with positive gain, best gain: -inf\n",
      "[LightGBM] [Warning] No further splits with positive gain, best gain: -inf\n",
      "[LightGBM] [Warning] No further splits with positive gain, best gain: -inf\n",
      "[LightGBM] [Warning] No further splits with positive gain, best gain: -inf\n",
      "[LightGBM] [Warning] No further splits with positive gain, best gain: -inf\n",
      "[LightGBM] [Warning] No further splits with positive gain, best gain: -inf\n",
      "[LightGBM] [Warning] No further splits with positive gain, best gain: -inf\n",
      "[LightGBM] [Warning] No further splits with positive gain, best gain: -inf\n",
      "[LightGBM] [Warning] No further splits with positive gain, best gain: -inf\n",
      "[LightGBM] [Warning] No further splits with positive gain, best gain: -inf\n",
      "[LightGBM] [Warning] No further splits with positive gain, best gain: -inf\n",
      "[LightGBM] [Warning] No further splits with positive gain, best gain: -inf\n",
      "[LightGBM] [Warning] No further splits with positive gain, best gain: -inf\n",
      "[LightGBM] [Warning] No further splits with positive gain, best gain: -inf\n",
      "[LightGBM] [Warning] No further splits with positive gain, best gain: -inf\n",
      "[LightGBM] [Warning] No further splits with positive gain, best gain: -inf\n",
      "[LightGBM] [Warning] No further splits with positive gain, best gain: -inf\n",
      "[LightGBM] [Warning] No further splits with positive gain, best gain: -inf\n",
      "[LightGBM] [Warning] No further splits with positive gain, best gain: -inf\n",
      "[LightGBM] [Warning] No further splits with positive gain, best gain: -inf\n",
      "[LightGBM] [Warning] No further splits with positive gain, best gain: -inf\n",
      "[LightGBM] [Warning] No further splits with positive gain, best gain: -inf\n",
      "[LightGBM] [Warning] No further splits with positive gain, best gain: -inf\n",
      "[LightGBM] [Warning] No further splits with positive gain, best gain: -inf\n",
      "[LightGBM] [Warning] No further splits with positive gain, best gain: -inf\n",
      "[LightGBM] [Warning] No further splits with positive gain, best gain: -inf\n",
      "[LightGBM] [Warning] No further splits with positive gain, best gain: -inf\n",
      "[LightGBM] [Warning] No further splits with positive gain, best gain: -inf\n",
      "[LightGBM] [Warning] No further splits with positive gain, best gain: -inf\n",
      "[LightGBM] [Warning] No further splits with positive gain, best gain: -inf\n",
      "[LightGBM] [Warning] No further splits with positive gain, best gain: -inf\n",
      "[LightGBM] [Warning] No further splits with positive gain, best gain: -inf\n",
      "[LightGBM] [Warning] No further splits with positive gain, best gain: -inf\n",
      "[LightGBM] [Warning] No further splits with positive gain, best gain: -inf\n",
      "[LightGBM] [Warning] No further splits with positive gain, best gain: -inf\n",
      "[LightGBM] [Warning] No further splits with positive gain, best gain: -inf\n",
      "[LightGBM] [Warning] No further splits with positive gain, best gain: -inf\n",
      "[LightGBM] [Warning] No further splits with positive gain, best gain: -inf\n",
      "[LightGBM] [Warning] No further splits with positive gain, best gain: -inf\n",
      "[LightGBM] [Warning] No further splits with positive gain, best gain: -inf\n",
      "[LightGBM] [Warning] No further splits with positive gain, best gain: -inf\n",
      "[LightGBM] [Warning] No further splits with positive gain, best gain: -inf\n",
      "[LightGBM] [Warning] No further splits with positive gain, best gain: -inf\n",
      "[LightGBM] [Warning] No further splits with positive gain, best gain: -inf\n",
      "[LightGBM] [Warning] No further splits with positive gain, best gain: -inf\n",
      "[LightGBM] [Warning] No further splits with positive gain, best gain: -inf\n",
      "[LightGBM] [Warning] No further splits with positive gain, best gain: -inf\n",
      "[LightGBM] [Warning] No further splits with positive gain, best gain: -inf\n",
      "[LightGBM] [Warning] No further splits with positive gain, best gain: -inf\n",
      "[LightGBM] [Warning] No further splits with positive gain, best gain: -inf\n",
      "[LightGBM] [Warning] No further splits with positive gain, best gain: -inf\n",
      "[LightGBM] [Warning] No further splits with positive gain, best gain: -inf\n",
      "[LightGBM] [Warning] No further splits with positive gain, best gain: -inf\n",
      "[LightGBM] [Warning] No further splits with positive gain, best gain: -inf\n",
      "[LightGBM] [Warning] No further splits with positive gain, best gain: -inf\n",
      "[LightGBM] [Warning] No further splits with positive gain, best gain: -inf\n",
      "[LightGBM] [Warning] No further splits with positive gain, best gain: -inf\n",
      "[LightGBM] [Warning] No further splits with positive gain, best gain: -inf\n",
      "[LightGBM] [Warning] No further splits with positive gain, best gain: -inf\n",
      "[LightGBM] [Warning] No further splits with positive gain, best gain: -inf\n",
      "[LightGBM] [Warning] No further splits with positive gain, best gain: -inf\n",
      "[LightGBM] [Warning] No further splits with positive gain, best gain: -inf\n",
      "[LightGBM] [Warning] No further splits with positive gain, best gain: -inf\n",
      "[LightGBM] [Warning] lambda_l1 is set=0.010445607793907763, reg_alpha=0.0 will be ignored. Current value: lambda_l1=0.010445607793907763\n",
      "[LightGBM] [Warning] lambda_l2 is set=0.051817033239634866, reg_lambda=0.0 will be ignored. Current value: lambda_l2=0.051817033239634866\n",
      "[LightGBM] [Warning] Accuracy may be bad since you didn't explicitly set num_leaves OR 2^max_depth > num_leaves. (num_leaves=31).\n",
      "RMSE: 1.8215184328206548\n"
     ]
    }
   ],
   "source": [
    "from sklearn.metrics import mean_squared_error\n",
    "\n",
    "# 最適なハイパーパラメータを使用してモデルをトレーニングする\n",
    "best_lgbm_regressor = LGBMRegressor(**study.best_params)\n",
    "best_lgbm_regressor.fit(X_train, y_train)\n",
    "\n",
    "# テストデータでの予測を行う\n",
    "y_pred_test = best_lgbm_regressor.predict(X_test)\n",
    "\n",
    "# RMSEを計算する\n",
    "rmse = np.sqrt(mean_squared_error(y_test, y_pred_test))\n",
    "\n",
    "print(\"RMSE:\", rmse)\n"
   ]
  },
  {
   "cell_type": "markdown",
   "metadata": {},
   "source": [
    "決定係数の当てはまりの良さを<br><br>\n",
    "0.8<  精度良い<br>\n",
    "0.5<= 精度普通 <=0.8<br>\n",
    "0.5>  精度悪い<br><br>\n",
    "を参考に**0.8**を目指してみる。<br>\n",
    "\n",
    "基準モデル0.7130482126220046から開始"
   ]
  },
  {
   "cell_type": "markdown",
   "metadata": {},
   "source": []
  },
  {
   "cell_type": "markdown",
   "metadata": {},
   "source": [
    "---"
   ]
  },
  {
   "cell_type": "code",
   "execution_count": 519,
   "metadata": {},
   "outputs": [
    {
     "data": {
      "text/plain": [
       "\"learn_log = pd.read_csv('learn_log1.csv')\\nlearn_log.tail()\""
      ]
     },
     "execution_count": 519,
     "metadata": {},
     "output_type": "execute_result"
    }
   ],
   "source": [
    "'''learn_log = pd.read_csv('learn_log1.csv')\n",
    "learn_log.tail()'''"
   ]
  },
  {
   "cell_type": "markdown",
   "metadata": {},
   "source": [
    "---"
   ]
  },
  {
   "cell_type": "code",
   "execution_count": 520,
   "metadata": {},
   "outputs": [
    {
     "name": "stdout",
     "output_type": "stream",
     "text": [
      "[LightGBM] [Warning] lambda_l1 is set=0.010445607793907763, reg_alpha=0.0 will be ignored. Current value: lambda_l1=0.010445607793907763\n",
      "[LightGBM] [Warning] lambda_l2 is set=0.051817033239634866, reg_lambda=0.0 will be ignored. Current value: lambda_l2=0.051817033239634866\n",
      "[LightGBM] [Warning] Accuracy may be bad since you didn't explicitly set num_leaves OR 2^max_depth > num_leaves. (num_leaves=31).\n"
     ]
    }
   ],
   "source": [
    "features = df_test.drop(['id'], axis=1)\n",
    "predictions = model.predict(features)"
   ]
  },
  {
   "cell_type": "code",
   "execution_count": 521,
   "metadata": {},
   "outputs": [],
   "source": [
    "submission = pd.DataFrame()\n",
    "submission['id']=df_test['id']\n",
    "submission['Rings']=predictions"
   ]
  },
  {
   "cell_type": "code",
   "execution_count": 522,
   "metadata": {},
   "outputs": [
    {
     "data": {
      "text/html": [
       "<div>\n",
       "<style scoped>\n",
       "    .dataframe tbody tr th:only-of-type {\n",
       "        vertical-align: middle;\n",
       "    }\n",
       "\n",
       "    .dataframe tbody tr th {\n",
       "        vertical-align: top;\n",
       "    }\n",
       "\n",
       "    .dataframe thead th {\n",
       "        text-align: right;\n",
       "    }\n",
       "</style>\n",
       "<table border=\"1\" class=\"dataframe\">\n",
       "  <thead>\n",
       "    <tr style=\"text-align: right;\">\n",
       "      <th></th>\n",
       "      <th>id</th>\n",
       "      <th>Rings</th>\n",
       "    </tr>\n",
       "  </thead>\n",
       "  <tbody>\n",
       "    <tr>\n",
       "      <th>0</th>\n",
       "      <td>90615</td>\n",
       "      <td>9.556789</td>\n",
       "    </tr>\n",
       "    <tr>\n",
       "      <th>1</th>\n",
       "      <td>90616</td>\n",
       "      <td>9.566159</td>\n",
       "    </tr>\n",
       "    <tr>\n",
       "      <th>2</th>\n",
       "      <td>90617</td>\n",
       "      <td>10.149077</td>\n",
       "    </tr>\n",
       "    <tr>\n",
       "      <th>3</th>\n",
       "      <td>90618</td>\n",
       "      <td>10.246102</td>\n",
       "    </tr>\n",
       "    <tr>\n",
       "      <th>4</th>\n",
       "      <td>90619</td>\n",
       "      <td>7.539976</td>\n",
       "    </tr>\n",
       "    <tr>\n",
       "      <th>...</th>\n",
       "      <td>...</td>\n",
       "      <td>...</td>\n",
       "    </tr>\n",
       "    <tr>\n",
       "      <th>60406</th>\n",
       "      <td>151021</td>\n",
       "      <td>6.433185</td>\n",
       "    </tr>\n",
       "    <tr>\n",
       "      <th>60407</th>\n",
       "      <td>151022</td>\n",
       "      <td>9.315449</td>\n",
       "    </tr>\n",
       "    <tr>\n",
       "      <th>60408</th>\n",
       "      <td>151023</td>\n",
       "      <td>12.775070</td>\n",
       "    </tr>\n",
       "    <tr>\n",
       "      <th>60409</th>\n",
       "      <td>151024</td>\n",
       "      <td>13.433513</td>\n",
       "    </tr>\n",
       "    <tr>\n",
       "      <th>60410</th>\n",
       "      <td>151025</td>\n",
       "      <td>8.111778</td>\n",
       "    </tr>\n",
       "  </tbody>\n",
       "</table>\n",
       "<p>60411 rows × 2 columns</p>\n",
       "</div>"
      ],
      "text/plain": [
       "           id      Rings\n",
       "0       90615   9.556789\n",
       "1       90616   9.566159\n",
       "2       90617  10.149077\n",
       "3       90618  10.246102\n",
       "4       90619   7.539976\n",
       "...       ...        ...\n",
       "60406  151021   6.433185\n",
       "60407  151022   9.315449\n",
       "60408  151023  12.775070\n",
       "60409  151024  13.433513\n",
       "60410  151025   8.111778\n",
       "\n",
       "[60411 rows x 2 columns]"
      ]
     },
     "execution_count": 522,
     "metadata": {},
     "output_type": "execute_result"
    }
   ],
   "source": [
    "submission"
   ]
  },
  {
   "cell_type": "code",
   "execution_count": 523,
   "metadata": {},
   "outputs": [],
   "source": [
    "submission.to_csv('submission.csv', index=False)"
   ]
  },
  {
   "cell_type": "code",
   "execution_count": 524,
   "metadata": {},
   "outputs": [
    {
     "data": {
      "text/plain": [
       "\"\\nimport graphviz\\nfrom lightgbm import plot_tree\\n\\n# ツリーのインデックスを指定\\ntree_index = 0\\n\\n# ツリーを可視化\\ndot_data = plot_tree(model, tree_index=tree_index)\\ngraph = graphviz.Source(dot_data)\\ngraph.render(filename='tree_visualization', format='png', cleanup=True, directory='./')  \\n\""
      ]
     },
     "execution_count": 524,
     "metadata": {},
     "output_type": "execute_result"
    }
   ],
   "source": [
    "'''\n",
    "import graphviz\n",
    "from lightgbm import plot_tree\n",
    "\n",
    "# ツリーのインデックスを指定\n",
    "tree_index = 0\n",
    "\n",
    "# ツリーを可視化\n",
    "dot_data = plot_tree(model, tree_index=tree_index)\n",
    "graph = graphviz.Source(dot_data)\n",
    "graph.render(filename='tree_visualization', format='png', cleanup=True, directory='./')  \n",
    "'''"
   ]
  },
  {
   "cell_type": "markdown",
   "metadata": {},
   "source": [
    "4/13<br>\n",
    "稼働中のkaggleプレイグラウンド:アワビの年齢当て挑戦開始。<br>\n",
    "やったことのある重回帰分析にてとりあえず提出してみる。<br>\n",
    "マイナスが含まれるため平均二乗対数誤差が使用できませんとエラーがでる。<br>\n",
    "そもそも平均二乗対数誤差て。重回帰じゃないということか？<br>\n",
    "↓<br>\n",
    "4/15<br>\n",
    "予測モデルの学習を手筋に倣って初手LGBM。FirstEntry成功。872/1450位<br>\n",
    "↓<br>\n",
    "4/20<br>\n",
    "Code参考にしてパラメータ写経。602/1845位"
   ]
  }
 ],
 "metadata": {
  "kernelspec": {
   "display_name": "Python 3",
   "language": "python",
   "name": "python3"
  },
  "language_info": {
   "codemirror_mode": {
    "name": "ipython",
    "version": 3
   },
   "file_extension": ".py",
   "mimetype": "text/x-python",
   "name": "python",
   "nbconvert_exporter": "python",
   "pygments_lexer": "ipython3",
   "version": "3.11.9"
  }
 },
 "nbformat": 4,
 "nbformat_minor": 2
}
