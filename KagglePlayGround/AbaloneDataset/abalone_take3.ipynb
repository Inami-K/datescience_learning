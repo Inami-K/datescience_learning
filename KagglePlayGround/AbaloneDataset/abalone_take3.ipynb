{
 "cells": [
  {
   "cell_type": "markdown",
   "metadata": {},
   "source": [
    "### 課題<br>\n",
    "・Kaggle:PlayGroundより『アワビの年齢当て』<br>\n",
    "・期間2024.4.1-4.30"
   ]
  },
  {
   "cell_type": "markdown",
   "metadata": {},
   "source": [
    "---"
   ]
  },
  {
   "cell_type": "markdown",
   "metadata": {},
   "source": [
    "### ライブラリ"
   ]
  },
  {
   "cell_type": "code",
   "execution_count": 686,
   "metadata": {},
   "outputs": [],
   "source": [
    "import numpy as np\n",
    "import pandas as pd\n",
    "import seaborn as sns\n",
    "import matplotlib\n",
    "import matplotlib.pyplot as plt\n",
    "import japanize_matplotlib\n",
    "from PIL import Image"
   ]
  },
  {
   "cell_type": "markdown",
   "metadata": {},
   "source": [
    "---"
   ]
  },
  {
   "cell_type": "markdown",
   "metadata": {},
   "source": [
    "### データの確認"
   ]
  },
  {
   "cell_type": "code",
   "execution_count": 687,
   "metadata": {},
   "outputs": [
    {
     "data": {
      "text/html": [
       "<div>\n",
       "<style scoped>\n",
       "    .dataframe tbody tr th:only-of-type {\n",
       "        vertical-align: middle;\n",
       "    }\n",
       "\n",
       "    .dataframe tbody tr th {\n",
       "        vertical-align: top;\n",
       "    }\n",
       "\n",
       "    .dataframe thead th {\n",
       "        text-align: right;\n",
       "    }\n",
       "</style>\n",
       "<table border=\"1\" class=\"dataframe\">\n",
       "  <thead>\n",
       "    <tr style=\"text-align: right;\">\n",
       "      <th></th>\n",
       "      <th>id</th>\n",
       "      <th>Sex</th>\n",
       "      <th>Length</th>\n",
       "      <th>Diameter</th>\n",
       "      <th>Height</th>\n",
       "      <th>Whole weight</th>\n",
       "      <th>Whole weight.1</th>\n",
       "      <th>Whole weight.2</th>\n",
       "      <th>Shell weight</th>\n",
       "      <th>Rings</th>\n",
       "    </tr>\n",
       "  </thead>\n",
       "  <tbody>\n",
       "    <tr>\n",
       "      <th>0</th>\n",
       "      <td>0</td>\n",
       "      <td>F</td>\n",
       "      <td>0.550</td>\n",
       "      <td>0.430</td>\n",
       "      <td>0.150</td>\n",
       "      <td>0.7715</td>\n",
       "      <td>0.3285</td>\n",
       "      <td>0.1465</td>\n",
       "      <td>0.2400</td>\n",
       "      <td>11</td>\n",
       "    </tr>\n",
       "    <tr>\n",
       "      <th>1</th>\n",
       "      <td>1</td>\n",
       "      <td>F</td>\n",
       "      <td>0.630</td>\n",
       "      <td>0.490</td>\n",
       "      <td>0.145</td>\n",
       "      <td>1.1300</td>\n",
       "      <td>0.4580</td>\n",
       "      <td>0.2765</td>\n",
       "      <td>0.3200</td>\n",
       "      <td>11</td>\n",
       "    </tr>\n",
       "    <tr>\n",
       "      <th>2</th>\n",
       "      <td>2</td>\n",
       "      <td>I</td>\n",
       "      <td>0.160</td>\n",
       "      <td>0.110</td>\n",
       "      <td>0.025</td>\n",
       "      <td>0.0210</td>\n",
       "      <td>0.0055</td>\n",
       "      <td>0.0030</td>\n",
       "      <td>0.0050</td>\n",
       "      <td>6</td>\n",
       "    </tr>\n",
       "    <tr>\n",
       "      <th>3</th>\n",
       "      <td>3</td>\n",
       "      <td>M</td>\n",
       "      <td>0.595</td>\n",
       "      <td>0.475</td>\n",
       "      <td>0.150</td>\n",
       "      <td>0.9145</td>\n",
       "      <td>0.3755</td>\n",
       "      <td>0.2055</td>\n",
       "      <td>0.2500</td>\n",
       "      <td>10</td>\n",
       "    </tr>\n",
       "    <tr>\n",
       "      <th>4</th>\n",
       "      <td>4</td>\n",
       "      <td>I</td>\n",
       "      <td>0.555</td>\n",
       "      <td>0.425</td>\n",
       "      <td>0.130</td>\n",
       "      <td>0.7820</td>\n",
       "      <td>0.3695</td>\n",
       "      <td>0.1600</td>\n",
       "      <td>0.1975</td>\n",
       "      <td>9</td>\n",
       "    </tr>\n",
       "  </tbody>\n",
       "</table>\n",
       "</div>"
      ],
      "text/plain": [
       "   id Sex  Length  Diameter  Height  Whole weight  Whole weight.1  \\\n",
       "0   0   F   0.550     0.430   0.150        0.7715          0.3285   \n",
       "1   1   F   0.630     0.490   0.145        1.1300          0.4580   \n",
       "2   2   I   0.160     0.110   0.025        0.0210          0.0055   \n",
       "3   3   M   0.595     0.475   0.150        0.9145          0.3755   \n",
       "4   4   I   0.555     0.425   0.130        0.7820          0.3695   \n",
       "\n",
       "   Whole weight.2  Shell weight  Rings  \n",
       "0          0.1465        0.2400     11  \n",
       "1          0.2765        0.3200     11  \n",
       "2          0.0030        0.0050      6  \n",
       "3          0.2055        0.2500     10  \n",
       "4          0.1600        0.1975      9  "
      ]
     },
     "execution_count": 687,
     "metadata": {},
     "output_type": "execute_result"
    }
   ],
   "source": [
    "df_train = pd.read_csv('train.csv')\n",
    "df_train.head()"
   ]
  },
  {
   "cell_type": "code",
   "execution_count": 688,
   "metadata": {},
   "outputs": [
    {
     "data": {
      "text/html": [
       "<div>\n",
       "<style scoped>\n",
       "    .dataframe tbody tr th:only-of-type {\n",
       "        vertical-align: middle;\n",
       "    }\n",
       "\n",
       "    .dataframe tbody tr th {\n",
       "        vertical-align: top;\n",
       "    }\n",
       "\n",
       "    .dataframe thead th {\n",
       "        text-align: right;\n",
       "    }\n",
       "</style>\n",
       "<table border=\"1\" class=\"dataframe\">\n",
       "  <thead>\n",
       "    <tr style=\"text-align: right;\">\n",
       "      <th></th>\n",
       "      <th>id</th>\n",
       "      <th>Sex</th>\n",
       "      <th>Length</th>\n",
       "      <th>Diameter</th>\n",
       "      <th>Height</th>\n",
       "      <th>Whole weight</th>\n",
       "      <th>Whole weight.1</th>\n",
       "      <th>Whole weight.2</th>\n",
       "      <th>Shell weight</th>\n",
       "    </tr>\n",
       "  </thead>\n",
       "  <tbody>\n",
       "    <tr>\n",
       "      <th>0</th>\n",
       "      <td>90615</td>\n",
       "      <td>M</td>\n",
       "      <td>0.645</td>\n",
       "      <td>0.475</td>\n",
       "      <td>0.155</td>\n",
       "      <td>1.2380</td>\n",
       "      <td>0.6185</td>\n",
       "      <td>0.3125</td>\n",
       "      <td>0.3005</td>\n",
       "    </tr>\n",
       "    <tr>\n",
       "      <th>1</th>\n",
       "      <td>90616</td>\n",
       "      <td>M</td>\n",
       "      <td>0.580</td>\n",
       "      <td>0.460</td>\n",
       "      <td>0.160</td>\n",
       "      <td>0.9830</td>\n",
       "      <td>0.4785</td>\n",
       "      <td>0.2195</td>\n",
       "      <td>0.2750</td>\n",
       "    </tr>\n",
       "    <tr>\n",
       "      <th>2</th>\n",
       "      <td>90617</td>\n",
       "      <td>M</td>\n",
       "      <td>0.560</td>\n",
       "      <td>0.420</td>\n",
       "      <td>0.140</td>\n",
       "      <td>0.8395</td>\n",
       "      <td>0.3525</td>\n",
       "      <td>0.1845</td>\n",
       "      <td>0.2405</td>\n",
       "    </tr>\n",
       "    <tr>\n",
       "      <th>3</th>\n",
       "      <td>90618</td>\n",
       "      <td>M</td>\n",
       "      <td>0.570</td>\n",
       "      <td>0.490</td>\n",
       "      <td>0.145</td>\n",
       "      <td>0.8740</td>\n",
       "      <td>0.3525</td>\n",
       "      <td>0.1865</td>\n",
       "      <td>0.2350</td>\n",
       "    </tr>\n",
       "    <tr>\n",
       "      <th>4</th>\n",
       "      <td>90619</td>\n",
       "      <td>I</td>\n",
       "      <td>0.415</td>\n",
       "      <td>0.325</td>\n",
       "      <td>0.110</td>\n",
       "      <td>0.3580</td>\n",
       "      <td>0.1575</td>\n",
       "      <td>0.0670</td>\n",
       "      <td>0.1050</td>\n",
       "    </tr>\n",
       "  </tbody>\n",
       "</table>\n",
       "</div>"
      ],
      "text/plain": [
       "      id Sex  Length  Diameter  Height  Whole weight  Whole weight.1  \\\n",
       "0  90615   M   0.645     0.475   0.155        1.2380          0.6185   \n",
       "1  90616   M   0.580     0.460   0.160        0.9830          0.4785   \n",
       "2  90617   M   0.560     0.420   0.140        0.8395          0.3525   \n",
       "3  90618   M   0.570     0.490   0.145        0.8740          0.3525   \n",
       "4  90619   I   0.415     0.325   0.110        0.3580          0.1575   \n",
       "\n",
       "   Whole weight.2  Shell weight  \n",
       "0          0.3125        0.3005  \n",
       "1          0.2195        0.2750  \n",
       "2          0.1845        0.2405  \n",
       "3          0.1865        0.2350  \n",
       "4          0.0670        0.1050  "
      ]
     },
     "execution_count": 688,
     "metadata": {},
     "output_type": "execute_result"
    }
   ],
   "source": [
    "df_test = pd.read_csv('test.csv')\n",
    "df_test.head()"
   ]
  },
  {
   "cell_type": "markdown",
   "metadata": {},
   "source": [
    "<u>カラム名、アワビの生態</u><br>\n",
    "**Sex**:性別<br>\n",
    "アワビの肝が肥大化する夏・秋に限り性別が分かる。肝（生殖腺）から、白色がオス、緑色がメスとなる。<br>\n",
    "  M:male オス　F:Female メス　I:Infant 稚貝<br>\n",
    "**Length**:長さ、**Diameter**:直径はどう違うのか不明。<br>\n",
    "**Height**:厚み？<br>\n",
    "**Whole weight**:全体重量。**whole weight1**・**whole weight2**・**Shell weight**:殻重量はその内訳か。<br>\n",
    "**Rings**:年輪【本日のターゲット】<br>\n",
    "アワビの年齢形質（年齢が読み取れる部位）は殻の表面にできる輪紋で、1年に1本産卵期にできると言われている。<br>\n",
    "アワビの寿命は15~20年と言われている。長い個体だと30年生きることもある。"
   ]
  },
  {
   "cell_type": "code",
   "execution_count": 689,
   "metadata": {},
   "outputs": [
    {
     "name": "stdout",
     "output_type": "stream",
     "text": [
      "<class 'pandas.core.frame.DataFrame'>\n",
      "RangeIndex: 90615 entries, 0 to 90614\n",
      "Data columns (total 10 columns):\n",
      " #   Column          Non-Null Count  Dtype  \n",
      "---  ------          --------------  -----  \n",
      " 0   id              90615 non-null  int64  \n",
      " 1   Sex             90615 non-null  object \n",
      " 2   Length          90615 non-null  float64\n",
      " 3   Diameter        90615 non-null  float64\n",
      " 4   Height          90615 non-null  float64\n",
      " 5   Whole weight    90615 non-null  float64\n",
      " 6   Whole weight.1  90615 non-null  float64\n",
      " 7   Whole weight.2  90615 non-null  float64\n",
      " 8   Shell weight    90615 non-null  float64\n",
      " 9   Rings           90615 non-null  int64  \n",
      "dtypes: float64(7), int64(2), object(1)\n",
      "memory usage: 6.9+ MB\n"
     ]
    }
   ],
   "source": [
    "#データ数、欠損値、Dtypeの確認\n",
    "df_train.info()"
   ]
  },
  {
   "cell_type": "markdown",
   "metadata": {},
   "source": [
    "90615行、10列のデータ数。<br>\n",
    "欠損値なしのため欠損値処理なし。<br>\n",
    "Sexがobject型以外はint型、float型。"
   ]
  },
  {
   "cell_type": "code",
   "execution_count": 690,
   "metadata": {},
   "outputs": [
    {
     "data": {
      "text/plain": [
       "\"def transform_df(df):\\n    df['Sex'] = df['Sex'].map({'I': 0, 'M': 1, 'F': 2}) \\n    return df\\n\\ndf_train = transform_df(df_train)\\ndf_test = transform_df(df_test)\""
      ]
     },
     "execution_count": 690,
     "metadata": {},
     "output_type": "execute_result"
    }
   ],
   "source": [
    "#ワンホットエンコーディング\n",
    "'''def transform_df(df):\n",
    "    df['Sex'] = df['Sex'].map({'I': 0, 'M': 1, 'F': 2}) \n",
    "    return df\n",
    "\n",
    "df_train = transform_df(df_train)\n",
    "df_test = transform_df(df_test)'''"
   ]
  },
  {
   "cell_type": "code",
   "execution_count": 691,
   "metadata": {},
   "outputs": [],
   "source": [
    "#ラベルエンコーディング\n",
    "def transform_enc_sex(df):\n",
    "    df_onehot = pd.get_dummies(df.Sex)\n",
    "    df = pd.concat([df, df_onehot], axis=1)\n",
    "    df = df.drop('Sex', axis=1)\n",
    "    return df\n",
    "\n",
    "df_train = transform_enc_sex(df_train)\n",
    "df_test = transform_enc_sex(df_test)"
   ]
  },
  {
   "cell_type": "code",
   "execution_count": 692,
   "metadata": {},
   "outputs": [
    {
     "data": {
      "image/png": "[encoded data removed]",
      "text/plain": [
       "<PIL.PngImagePlugin.PngImageFile image mode=RGBA size=970x881>"
      ]
     },
     "execution_count": 692,
     "metadata": {},
     "output_type": "execute_result"
    }
   ],
   "source": [
    "img = Image.open('picture\\label_encp.png')\n",
    "img"
   ]
  },
  {
   "cell_type": "markdown",
   "metadata": {},
   "source": [
    "Iの相関がすべての要素に対してかなり低く出ている。<br>\n",
    "ワンホットでやっていく。"
   ]
  },
  {
   "cell_type": "code",
   "execution_count": 693,
   "metadata": {},
   "outputs": [
    {
     "data": {
      "text/html": [
       "<div>\n",
       "<style scoped>\n",
       "    .dataframe tbody tr th:only-of-type {\n",
       "        vertical-align: middle;\n",
       "    }\n",
       "\n",
       "    .dataframe tbody tr th {\n",
       "        vertical-align: top;\n",
       "    }\n",
       "\n",
       "    .dataframe thead th {\n",
       "        text-align: right;\n",
       "    }\n",
       "</style>\n",
       "<table border=\"1\" class=\"dataframe\">\n",
       "  <thead>\n",
       "    <tr style=\"text-align: right;\">\n",
       "      <th></th>\n",
       "      <th>id</th>\n",
       "      <th>Length</th>\n",
       "      <th>Diameter</th>\n",
       "      <th>Height</th>\n",
       "      <th>Whole weight</th>\n",
       "      <th>Whole weight.1</th>\n",
       "      <th>Whole weight.2</th>\n",
       "      <th>Shell weight</th>\n",
       "      <th>Rings</th>\n",
       "      <th>F</th>\n",
       "      <th>I</th>\n",
       "      <th>M</th>\n",
       "    </tr>\n",
       "  </thead>\n",
       "  <tbody>\n",
       "    <tr>\n",
       "      <th>0</th>\n",
       "      <td>0</td>\n",
       "      <td>0.550</td>\n",
       "      <td>0.430</td>\n",
       "      <td>0.150</td>\n",
       "      <td>0.7715</td>\n",
       "      <td>0.3285</td>\n",
       "      <td>0.1465</td>\n",
       "      <td>0.2400</td>\n",
       "      <td>11</td>\n",
       "      <td>True</td>\n",
       "      <td>False</td>\n",
       "      <td>False</td>\n",
       "    </tr>\n",
       "    <tr>\n",
       "      <th>1</th>\n",
       "      <td>1</td>\n",
       "      <td>0.630</td>\n",
       "      <td>0.490</td>\n",
       "      <td>0.145</td>\n",
       "      <td>1.1300</td>\n",
       "      <td>0.4580</td>\n",
       "      <td>0.2765</td>\n",
       "      <td>0.3200</td>\n",
       "      <td>11</td>\n",
       "      <td>True</td>\n",
       "      <td>False</td>\n",
       "      <td>False</td>\n",
       "    </tr>\n",
       "    <tr>\n",
       "      <th>2</th>\n",
       "      <td>2</td>\n",
       "      <td>0.160</td>\n",
       "      <td>0.110</td>\n",
       "      <td>0.025</td>\n",
       "      <td>0.0210</td>\n",
       "      <td>0.0055</td>\n",
       "      <td>0.0030</td>\n",
       "      <td>0.0050</td>\n",
       "      <td>6</td>\n",
       "      <td>False</td>\n",
       "      <td>True</td>\n",
       "      <td>False</td>\n",
       "    </tr>\n",
       "    <tr>\n",
       "      <th>3</th>\n",
       "      <td>3</td>\n",
       "      <td>0.595</td>\n",
       "      <td>0.475</td>\n",
       "      <td>0.150</td>\n",
       "      <td>0.9145</td>\n",
       "      <td>0.3755</td>\n",
       "      <td>0.2055</td>\n",
       "      <td>0.2500</td>\n",
       "      <td>10</td>\n",
       "      <td>False</td>\n",
       "      <td>False</td>\n",
       "      <td>True</td>\n",
       "    </tr>\n",
       "    <tr>\n",
       "      <th>4</th>\n",
       "      <td>4</td>\n",
       "      <td>0.555</td>\n",
       "      <td>0.425</td>\n",
       "      <td>0.130</td>\n",
       "      <td>0.7820</td>\n",
       "      <td>0.3695</td>\n",
       "      <td>0.1600</td>\n",
       "      <td>0.1975</td>\n",
       "      <td>9</td>\n",
       "      <td>False</td>\n",
       "      <td>True</td>\n",
       "      <td>False</td>\n",
       "    </tr>\n",
       "  </tbody>\n",
       "</table>\n",
       "</div>"
      ],
      "text/plain": [
       "   id  Length  Diameter  Height  Whole weight  Whole weight.1  Whole weight.2  \\\n",
       "0   0   0.550     0.430   0.150        0.7715          0.3285          0.1465   \n",
       "1   1   0.630     0.490   0.145        1.1300          0.4580          0.2765   \n",
       "2   2   0.160     0.110   0.025        0.0210          0.0055          0.0030   \n",
       "3   3   0.595     0.475   0.150        0.9145          0.3755          0.2055   \n",
       "4   4   0.555     0.425   0.130        0.7820          0.3695          0.1600   \n",
       "\n",
       "   Shell weight  Rings      F      I      M  \n",
       "0        0.2400     11   True  False  False  \n",
       "1        0.3200     11   True  False  False  \n",
       "2        0.0050      6  False   True  False  \n",
       "3        0.2500     10  False  False   True  \n",
       "4        0.1975      9  False   True  False  "
      ]
     },
     "execution_count": 693,
     "metadata": {},
     "output_type": "execute_result"
    }
   ],
   "source": [
    "df_train.head()"
   ]
  },
  {
   "cell_type": "code",
   "execution_count": 694,
   "metadata": {},
   "outputs": [
    {
     "data": {
      "text/html": [
       "<div>\n",
       "<style scoped>\n",
       "    .dataframe tbody tr th:only-of-type {\n",
       "        vertical-align: middle;\n",
       "    }\n",
       "\n",
       "    .dataframe tbody tr th {\n",
       "        vertical-align: top;\n",
       "    }\n",
       "\n",
       "    .dataframe thead th {\n",
       "        text-align: right;\n",
       "    }\n",
       "</style>\n",
       "<table border=\"1\" class=\"dataframe\">\n",
       "  <thead>\n",
       "    <tr style=\"text-align: right;\">\n",
       "      <th></th>\n",
       "      <th>id</th>\n",
       "      <th>Length</th>\n",
       "      <th>Diameter</th>\n",
       "      <th>Height</th>\n",
       "      <th>Whole weight</th>\n",
       "      <th>Whole weight.1</th>\n",
       "      <th>Whole weight.2</th>\n",
       "      <th>Shell weight</th>\n",
       "      <th>F</th>\n",
       "      <th>I</th>\n",
       "      <th>M</th>\n",
       "    </tr>\n",
       "  </thead>\n",
       "  <tbody>\n",
       "    <tr>\n",
       "      <th>0</th>\n",
       "      <td>90615</td>\n",
       "      <td>0.645</td>\n",
       "      <td>0.475</td>\n",
       "      <td>0.155</td>\n",
       "      <td>1.2380</td>\n",
       "      <td>0.6185</td>\n",
       "      <td>0.3125</td>\n",
       "      <td>0.3005</td>\n",
       "      <td>False</td>\n",
       "      <td>False</td>\n",
       "      <td>True</td>\n",
       "    </tr>\n",
       "    <tr>\n",
       "      <th>1</th>\n",
       "      <td>90616</td>\n",
       "      <td>0.580</td>\n",
       "      <td>0.460</td>\n",
       "      <td>0.160</td>\n",
       "      <td>0.9830</td>\n",
       "      <td>0.4785</td>\n",
       "      <td>0.2195</td>\n",
       "      <td>0.2750</td>\n",
       "      <td>False</td>\n",
       "      <td>False</td>\n",
       "      <td>True</td>\n",
       "    </tr>\n",
       "    <tr>\n",
       "      <th>2</th>\n",
       "      <td>90617</td>\n",
       "      <td>0.560</td>\n",
       "      <td>0.420</td>\n",
       "      <td>0.140</td>\n",
       "      <td>0.8395</td>\n",
       "      <td>0.3525</td>\n",
       "      <td>0.1845</td>\n",
       "      <td>0.2405</td>\n",
       "      <td>False</td>\n",
       "      <td>False</td>\n",
       "      <td>True</td>\n",
       "    </tr>\n",
       "    <tr>\n",
       "      <th>3</th>\n",
       "      <td>90618</td>\n",
       "      <td>0.570</td>\n",
       "      <td>0.490</td>\n",
       "      <td>0.145</td>\n",
       "      <td>0.8740</td>\n",
       "      <td>0.3525</td>\n",
       "      <td>0.1865</td>\n",
       "      <td>0.2350</td>\n",
       "      <td>False</td>\n",
       "      <td>False</td>\n",
       "      <td>True</td>\n",
       "    </tr>\n",
       "    <tr>\n",
       "      <th>4</th>\n",
       "      <td>90619</td>\n",
       "      <td>0.415</td>\n",
       "      <td>0.325</td>\n",
       "      <td>0.110</td>\n",
       "      <td>0.3580</td>\n",
       "      <td>0.1575</td>\n",
       "      <td>0.0670</td>\n",
       "      <td>0.1050</td>\n",
       "      <td>False</td>\n",
       "      <td>True</td>\n",
       "      <td>False</td>\n",
       "    </tr>\n",
       "  </tbody>\n",
       "</table>\n",
       "</div>"
      ],
      "text/plain": [
       "      id  Length  Diameter  Height  Whole weight  Whole weight.1  \\\n",
       "0  90615   0.645     0.475   0.155        1.2380          0.6185   \n",
       "1  90616   0.580     0.460   0.160        0.9830          0.4785   \n",
       "2  90617   0.560     0.420   0.140        0.8395          0.3525   \n",
       "3  90618   0.570     0.490   0.145        0.8740          0.3525   \n",
       "4  90619   0.415     0.325   0.110        0.3580          0.1575   \n",
       "\n",
       "   Whole weight.2  Shell weight      F      I      M  \n",
       "0          0.3125        0.3005  False  False   True  \n",
       "1          0.2195        0.2750  False  False   True  \n",
       "2          0.1845        0.2405  False  False   True  \n",
       "3          0.1865        0.2350  False  False   True  \n",
       "4          0.0670        0.1050  False   True  False  "
      ]
     },
     "execution_count": 694,
     "metadata": {},
     "output_type": "execute_result"
    }
   ],
   "source": [
    "df_test.head()"
   ]
  },
  {
   "cell_type": "code",
   "execution_count": 695,
   "metadata": {},
   "outputs": [],
   "source": [
    "#正規分布用モジュール\n",
    "from statistics import mean, median, variance, stdev\n",
    "from scipy.stats import boxcox\n",
    "from scipy.special import inv_boxcox"
   ]
  },
  {
   "cell_type": "code",
   "execution_count": 696,
   "metadata": {},
   "outputs": [
    {
     "data": {
      "text/html": [
       "<div>\n",
       "<style scoped>\n",
       "    .dataframe tbody tr th:only-of-type {\n",
       "        vertical-align: middle;\n",
       "    }\n",
       "\n",
       "    .dataframe tbody tr th {\n",
       "        vertical-align: top;\n",
       "    }\n",
       "\n",
       "    .dataframe thead th {\n",
       "        text-align: right;\n",
       "    }\n",
       "</style>\n",
       "<table border=\"1\" class=\"dataframe\">\n",
       "  <thead>\n",
       "    <tr style=\"text-align: right;\">\n",
       "      <th></th>\n",
       "      <th>id</th>\n",
       "      <th>Length</th>\n",
       "      <th>Diameter</th>\n",
       "      <th>Height</th>\n",
       "      <th>Whole weight</th>\n",
       "      <th>Whole weight.1</th>\n",
       "      <th>Whole weight.2</th>\n",
       "      <th>Shell weight</th>\n",
       "      <th>Rings</th>\n",
       "    </tr>\n",
       "  </thead>\n",
       "  <tbody>\n",
       "    <tr>\n",
       "      <th>count</th>\n",
       "      <td>90615.000000</td>\n",
       "      <td>90615.000000</td>\n",
       "      <td>90615.000000</td>\n",
       "      <td>90615.000000</td>\n",
       "      <td>90615.000000</td>\n",
       "      <td>90615.000000</td>\n",
       "      <td>90615.000000</td>\n",
       "      <td>90615.000000</td>\n",
       "      <td>90615.000000</td>\n",
       "    </tr>\n",
       "    <tr>\n",
       "      <th>mean</th>\n",
       "      <td>45307.000000</td>\n",
       "      <td>0.517098</td>\n",
       "      <td>0.401679</td>\n",
       "      <td>0.135464</td>\n",
       "      <td>0.789035</td>\n",
       "      <td>0.340778</td>\n",
       "      <td>0.169422</td>\n",
       "      <td>0.225898</td>\n",
       "      <td>9.696794</td>\n",
       "    </tr>\n",
       "    <tr>\n",
       "      <th>std</th>\n",
       "      <td>26158.441658</td>\n",
       "      <td>0.118217</td>\n",
       "      <td>0.098026</td>\n",
       "      <td>0.038008</td>\n",
       "      <td>0.457671</td>\n",
       "      <td>0.204428</td>\n",
       "      <td>0.100909</td>\n",
       "      <td>0.130203</td>\n",
       "      <td>3.176221</td>\n",
       "    </tr>\n",
       "    <tr>\n",
       "      <th>min</th>\n",
       "      <td>0.000000</td>\n",
       "      <td>0.075000</td>\n",
       "      <td>0.055000</td>\n",
       "      <td>0.000000</td>\n",
       "      <td>0.002000</td>\n",
       "      <td>0.001000</td>\n",
       "      <td>0.000500</td>\n",
       "      <td>0.001500</td>\n",
       "      <td>1.000000</td>\n",
       "    </tr>\n",
       "    <tr>\n",
       "      <th>25%</th>\n",
       "      <td>22653.500000</td>\n",
       "      <td>0.445000</td>\n",
       "      <td>0.345000</td>\n",
       "      <td>0.110000</td>\n",
       "      <td>0.419000</td>\n",
       "      <td>0.177500</td>\n",
       "      <td>0.086500</td>\n",
       "      <td>0.120000</td>\n",
       "      <td>8.000000</td>\n",
       "    </tr>\n",
       "    <tr>\n",
       "      <th>50%</th>\n",
       "      <td>45307.000000</td>\n",
       "      <td>0.545000</td>\n",
       "      <td>0.425000</td>\n",
       "      <td>0.140000</td>\n",
       "      <td>0.799500</td>\n",
       "      <td>0.330000</td>\n",
       "      <td>0.166000</td>\n",
       "      <td>0.225000</td>\n",
       "      <td>9.000000</td>\n",
       "    </tr>\n",
       "    <tr>\n",
       "      <th>75%</th>\n",
       "      <td>67960.500000</td>\n",
       "      <td>0.600000</td>\n",
       "      <td>0.470000</td>\n",
       "      <td>0.160000</td>\n",
       "      <td>1.067500</td>\n",
       "      <td>0.463000</td>\n",
       "      <td>0.232500</td>\n",
       "      <td>0.305000</td>\n",
       "      <td>11.000000</td>\n",
       "    </tr>\n",
       "    <tr>\n",
       "      <th>max</th>\n",
       "      <td>90614.000000</td>\n",
       "      <td>0.815000</td>\n",
       "      <td>0.650000</td>\n",
       "      <td>1.130000</td>\n",
       "      <td>2.825500</td>\n",
       "      <td>1.488000</td>\n",
       "      <td>0.760000</td>\n",
       "      <td>1.005000</td>\n",
       "      <td>29.000000</td>\n",
       "    </tr>\n",
       "  </tbody>\n",
       "</table>\n",
       "</div>"
      ],
      "text/plain": [
       "                 id        Length      Diameter        Height  Whole weight  \\\n",
       "count  90615.000000  90615.000000  90615.000000  90615.000000  90615.000000   \n",
       "mean   45307.000000      0.517098      0.401679      0.135464      0.789035   \n",
       "std    26158.441658      0.118217      0.098026      0.038008      0.457671   \n",
       "min        0.000000      0.075000      0.055000      0.000000      0.002000   \n",
       "25%    22653.500000      0.445000      0.345000      0.110000      0.419000   \n",
       "50%    45307.000000      0.545000      0.425000      0.140000      0.799500   \n",
       "75%    67960.500000      0.600000      0.470000      0.160000      1.067500   \n",
       "max    90614.000000      0.815000      0.650000      1.130000      2.825500   \n",
       "\n",
       "       Whole weight.1  Whole weight.2  Shell weight         Rings  \n",
       "count    90615.000000    90615.000000  90615.000000  90615.000000  \n",
       "mean         0.340778        0.169422      0.225898      9.696794  \n",
       "std          0.204428        0.100909      0.130203      3.176221  \n",
       "min          0.001000        0.000500      0.001500      1.000000  \n",
       "25%          0.177500        0.086500      0.120000      8.000000  \n",
       "50%          0.330000        0.166000      0.225000      9.000000  \n",
       "75%          0.463000        0.232500      0.305000     11.000000  \n",
       "max          1.488000        0.760000      1.005000     29.000000  "
      ]
     },
     "execution_count": 696,
     "metadata": {},
     "output_type": "execute_result"
    }
   ],
   "source": [
    "df_train.describe()"
   ]
  },
  {
   "cell_type": "markdown",
   "metadata": {},
   "source": [
    "Heightが０はおかしいので除去する。"
   ]
  },
  {
   "cell_type": "code",
   "execution_count": 697,
   "metadata": {},
   "outputs": [
    {
     "data": {
      "text/html": [
       "<div>\n",
       "<style scoped>\n",
       "    .dataframe tbody tr th:only-of-type {\n",
       "        vertical-align: middle;\n",
       "    }\n",
       "\n",
       "    .dataframe tbody tr th {\n",
       "        vertical-align: top;\n",
       "    }\n",
       "\n",
       "    .dataframe thead th {\n",
       "        text-align: right;\n",
       "    }\n",
       "</style>\n",
       "<table border=\"1\" class=\"dataframe\">\n",
       "  <thead>\n",
       "    <tr style=\"text-align: right;\">\n",
       "      <th></th>\n",
       "      <th>id</th>\n",
       "      <th>Length</th>\n",
       "      <th>Diameter</th>\n",
       "      <th>Height</th>\n",
       "      <th>Whole weight</th>\n",
       "      <th>Whole weight.1</th>\n",
       "      <th>Whole weight.2</th>\n",
       "      <th>Shell weight</th>\n",
       "      <th>Rings</th>\n",
       "    </tr>\n",
       "  </thead>\n",
       "  <tbody>\n",
       "    <tr>\n",
       "      <th>count</th>\n",
       "      <td>90609.000000</td>\n",
       "      <td>90609.000000</td>\n",
       "      <td>90609.000000</td>\n",
       "      <td>90609.000000</td>\n",
       "      <td>90609.000000</td>\n",
       "      <td>90609.000000</td>\n",
       "      <td>90609.000000</td>\n",
       "      <td>90609.000000</td>\n",
       "      <td>90609.000000</td>\n",
       "    </tr>\n",
       "    <tr>\n",
       "      <th>mean</th>\n",
       "      <td>45307.061992</td>\n",
       "      <td>0.517106</td>\n",
       "      <td>0.401686</td>\n",
       "      <td>0.135473</td>\n",
       "      <td>0.789066</td>\n",
       "      <td>0.340790</td>\n",
       "      <td>0.169428</td>\n",
       "      <td>0.225900</td>\n",
       "      <td>9.696918</td>\n",
       "    </tr>\n",
       "    <tr>\n",
       "      <th>std</th>\n",
       "      <td>26158.188586</td>\n",
       "      <td>0.118216</td>\n",
       "      <td>0.098025</td>\n",
       "      <td>0.037993</td>\n",
       "      <td>0.457668</td>\n",
       "      <td>0.204428</td>\n",
       "      <td>0.100909</td>\n",
       "      <td>0.130204</td>\n",
       "      <td>3.176278</td>\n",
       "    </tr>\n",
       "    <tr>\n",
       "      <th>min</th>\n",
       "      <td>0.000000</td>\n",
       "      <td>0.075000</td>\n",
       "      <td>0.055000</td>\n",
       "      <td>0.004000</td>\n",
       "      <td>0.002000</td>\n",
       "      <td>0.001000</td>\n",
       "      <td>0.000500</td>\n",
       "      <td>0.001500</td>\n",
       "      <td>1.000000</td>\n",
       "    </tr>\n",
       "    <tr>\n",
       "      <th>25%</th>\n",
       "      <td>22654.000000</td>\n",
       "      <td>0.445000</td>\n",
       "      <td>0.345000</td>\n",
       "      <td>0.110000</td>\n",
       "      <td>0.419500</td>\n",
       "      <td>0.177500</td>\n",
       "      <td>0.086500</td>\n",
       "      <td>0.120000</td>\n",
       "      <td>8.000000</td>\n",
       "    </tr>\n",
       "    <tr>\n",
       "      <th>50%</th>\n",
       "      <td>45307.000000</td>\n",
       "      <td>0.545000</td>\n",
       "      <td>0.425000</td>\n",
       "      <td>0.140000</td>\n",
       "      <td>0.799500</td>\n",
       "      <td>0.330000</td>\n",
       "      <td>0.166000</td>\n",
       "      <td>0.225000</td>\n",
       "      <td>9.000000</td>\n",
       "    </tr>\n",
       "    <tr>\n",
       "      <th>75%</th>\n",
       "      <td>67960.000000</td>\n",
       "      <td>0.600000</td>\n",
       "      <td>0.470000</td>\n",
       "      <td>0.160000</td>\n",
       "      <td>1.067500</td>\n",
       "      <td>0.463000</td>\n",
       "      <td>0.232500</td>\n",
       "      <td>0.305000</td>\n",
       "      <td>11.000000</td>\n",
       "    </tr>\n",
       "    <tr>\n",
       "      <th>max</th>\n",
       "      <td>90614.000000</td>\n",
       "      <td>0.815000</td>\n",
       "      <td>0.650000</td>\n",
       "      <td>1.130000</td>\n",
       "      <td>2.825500</td>\n",
       "      <td>1.488000</td>\n",
       "      <td>0.760000</td>\n",
       "      <td>1.005000</td>\n",
       "      <td>29.000000</td>\n",
       "    </tr>\n",
       "  </tbody>\n",
       "</table>\n",
       "</div>"
      ],
      "text/plain": [
       "                 id        Length      Diameter        Height  Whole weight  \\\n",
       "count  90609.000000  90609.000000  90609.000000  90609.000000  90609.000000   \n",
       "mean   45307.061992      0.517106      0.401686      0.135473      0.789066   \n",
       "std    26158.188586      0.118216      0.098025      0.037993      0.457668   \n",
       "min        0.000000      0.075000      0.055000      0.004000      0.002000   \n",
       "25%    22654.000000      0.445000      0.345000      0.110000      0.419500   \n",
       "50%    45307.000000      0.545000      0.425000      0.140000      0.799500   \n",
       "75%    67960.000000      0.600000      0.470000      0.160000      1.067500   \n",
       "max    90614.000000      0.815000      0.650000      1.130000      2.825500   \n",
       "\n",
       "       Whole weight.1  Whole weight.2  Shell weight         Rings  \n",
       "count    90609.000000    90609.000000  90609.000000  90609.000000  \n",
       "mean         0.340790        0.169428      0.225900      9.696918  \n",
       "std          0.204428        0.100909      0.130204      3.176278  \n",
       "min          0.001000        0.000500      0.001500      1.000000  \n",
       "25%          0.177500        0.086500      0.120000      8.000000  \n",
       "50%          0.330000        0.166000      0.225000      9.000000  \n",
       "75%          0.463000        0.232500      0.305000     11.000000  \n",
       "max          1.488000        0.760000      1.005000     29.000000  "
      ]
     },
     "execution_count": 697,
     "metadata": {},
     "output_type": "execute_result"
    }
   ],
   "source": [
    "df_train = df_train.query('Height != 0')\n",
    "df_train.describe()"
   ]
  },
  {
   "cell_type": "code",
   "execution_count": 698,
   "metadata": {},
   "outputs": [],
   "source": [
    "def transform_df_nb(column):\n",
    "    # 対数変換を適用\n",
    "    df_train[column] = np.log1p(df_train[column])\n",
    "    df_test[column] = np.log1p(df_test[column])\n"
   ]
  },
  {
   "cell_type": "code",
   "execution_count": 699,
   "metadata": {},
   "outputs": [],
   "source": [
    "transform_df_nb('Length')\n",
    "transform_df_nb('Diameter')\n",
    "transform_df_nb('Height')\n",
    "transform_df_nb('Whole weight')\n",
    "transform_df_nb('Whole weight.1')\n",
    "transform_df_nb('Whole weight.2')\n",
    "transform_df_nb('Shell weight')"
   ]
  },
  {
   "cell_type": "code",
   "execution_count": 700,
   "metadata": {},
   "outputs": [
    {
     "data": {
      "text/html": [
       "<div>\n",
       "<style scoped>\n",
       "    .dataframe tbody tr th:only-of-type {\n",
       "        vertical-align: middle;\n",
       "    }\n",
       "\n",
       "    .dataframe tbody tr th {\n",
       "        vertical-align: top;\n",
       "    }\n",
       "\n",
       "    .dataframe thead th {\n",
       "        text-align: right;\n",
       "    }\n",
       "</style>\n",
       "<table border=\"1\" class=\"dataframe\">\n",
       "  <thead>\n",
       "    <tr style=\"text-align: right;\">\n",
       "      <th></th>\n",
       "      <th>id</th>\n",
       "      <th>Length</th>\n",
       "      <th>Diameter</th>\n",
       "      <th>Height</th>\n",
       "      <th>Whole weight</th>\n",
       "      <th>Whole weight.1</th>\n",
       "      <th>Whole weight.2</th>\n",
       "      <th>Shell weight</th>\n",
       "    </tr>\n",
       "  </thead>\n",
       "  <tbody>\n",
       "    <tr>\n",
       "      <th>count</th>\n",
       "      <td>60411.000000</td>\n",
       "      <td>60411.000000</td>\n",
       "      <td>60411.000000</td>\n",
       "      <td>60411.000000</td>\n",
       "      <td>60411.000000</td>\n",
       "      <td>60411.000000</td>\n",
       "      <td>60411.000000</td>\n",
       "      <td>60411.000000</td>\n",
       "    </tr>\n",
       "    <tr>\n",
       "      <th>mean</th>\n",
       "      <td>120820.000000</td>\n",
       "      <td>0.413867</td>\n",
       "      <td>0.335358</td>\n",
       "      <td>0.126732</td>\n",
       "      <td>0.549363</td>\n",
       "      <td>0.282317</td>\n",
       "      <td>0.152864</td>\n",
       "      <td>0.198353</td>\n",
       "    </tr>\n",
       "    <tr>\n",
       "      <th>std</th>\n",
       "      <td>17439.297893</td>\n",
       "      <td>0.080365</td>\n",
       "      <td>0.071647</td>\n",
       "      <td>0.033525</td>\n",
       "      <td>0.258142</td>\n",
       "      <td>0.149374</td>\n",
       "      <td>0.085026</td>\n",
       "      <td>0.104575</td>\n",
       "    </tr>\n",
       "    <tr>\n",
       "      <th>min</th>\n",
       "      <td>90615.000000</td>\n",
       "      <td>0.072321</td>\n",
       "      <td>0.053541</td>\n",
       "      <td>0.000000</td>\n",
       "      <td>0.001998</td>\n",
       "      <td>0.001000</td>\n",
       "      <td>0.000500</td>\n",
       "      <td>0.001499</td>\n",
       "    </tr>\n",
       "    <tr>\n",
       "      <th>25%</th>\n",
       "      <td>105717.500000</td>\n",
       "      <td>0.371564</td>\n",
       "      <td>0.296394</td>\n",
       "      <td>0.104360</td>\n",
       "      <td>0.350305</td>\n",
       "      <td>0.164242</td>\n",
       "      <td>0.082962</td>\n",
       "      <td>0.113329</td>\n",
       "    </tr>\n",
       "    <tr>\n",
       "      <th>50%</th>\n",
       "      <td>120820.000000</td>\n",
       "      <td>0.435024</td>\n",
       "      <td>0.354172</td>\n",
       "      <td>0.131028</td>\n",
       "      <td>0.588620</td>\n",
       "      <td>0.284427</td>\n",
       "      <td>0.153579</td>\n",
       "      <td>0.202941</td>\n",
       "    </tr>\n",
       "    <tr>\n",
       "      <th>75%</th>\n",
       "      <td>135922.500000</td>\n",
       "      <td>0.470004</td>\n",
       "      <td>0.385262</td>\n",
       "      <td>0.148420</td>\n",
       "      <td>0.727549</td>\n",
       "      <td>0.381514</td>\n",
       "      <td>0.209045</td>\n",
       "      <td>0.266203</td>\n",
       "    </tr>\n",
       "    <tr>\n",
       "      <th>max</th>\n",
       "      <td>151025.000000</td>\n",
       "      <td>0.587787</td>\n",
       "      <td>0.500775</td>\n",
       "      <td>0.739554</td>\n",
       "      <td>1.341689</td>\n",
       "      <td>0.911479</td>\n",
       "      <td>0.495610</td>\n",
       "      <td>0.695145</td>\n",
       "    </tr>\n",
       "  </tbody>\n",
       "</table>\n",
       "</div>"
      ],
      "text/plain": [
       "                  id        Length      Diameter        Height  Whole weight  \\\n",
       "count   60411.000000  60411.000000  60411.000000  60411.000000  60411.000000   \n",
       "mean   120820.000000      0.413867      0.335358      0.126732      0.549363   \n",
       "std     17439.297893      0.080365      0.071647      0.033525      0.258142   \n",
       "min     90615.000000      0.072321      0.053541      0.000000      0.001998   \n",
       "25%    105717.500000      0.371564      0.296394      0.104360      0.350305   \n",
       "50%    120820.000000      0.435024      0.354172      0.131028      0.588620   \n",
       "75%    135922.500000      0.470004      0.385262      0.148420      0.727549   \n",
       "max    151025.000000      0.587787      0.500775      0.739554      1.341689   \n",
       "\n",
       "       Whole weight.1  Whole weight.2  Shell weight  \n",
       "count    60411.000000    60411.000000  60411.000000  \n",
       "mean         0.282317        0.152864      0.198353  \n",
       "std          0.149374        0.085026      0.104575  \n",
       "min          0.001000        0.000500      0.001499  \n",
       "25%          0.164242        0.082962      0.113329  \n",
       "50%          0.284427        0.153579      0.202941  \n",
       "75%          0.381514        0.209045      0.266203  \n",
       "max          0.911479        0.495610      0.695145  "
      ]
     },
     "execution_count": 700,
     "metadata": {},
     "output_type": "execute_result"
    }
   ],
   "source": [
    "df_test.describe()"
   ]
  },
  {
   "cell_type": "code",
   "execution_count": 701,
   "metadata": {},
   "outputs": [],
   "source": [
    "\n",
    "def transform_df_nb(column):\n",
    "    df_train[column], _ = boxcox(df_train[column])\n",
    "    df_test[column], _ = boxcox(df_test[column])\n",
    "#transform_df_nb('')\n"
   ]
  },
  {
   "cell_type": "code",
   "execution_count": 754,
   "metadata": {},
   "outputs": [
    {
     "ename": "ValueError",
     "evalue": "Data must be positive.",
     "output_type": "error",
     "traceback": [
      "\u001b[1;31m---------------------------------------------------------------------------\u001b[0m",
      "\u001b[1;31mValueError\u001b[0m                                Traceback (most recent call last)",
      "Cell \u001b[1;32mIn[754], line 3\u001b[0m\n\u001b[0;32m      1\u001b[0m transform_df_nb(\u001b[38;5;124m'\u001b[39m\u001b[38;5;124mLength\u001b[39m\u001b[38;5;124m'\u001b[39m)\n\u001b[0;32m      2\u001b[0m transform_df_nb(\u001b[38;5;124m'\u001b[39m\u001b[38;5;124mDiameter\u001b[39m\u001b[38;5;124m'\u001b[39m)\n\u001b[1;32m----> 3\u001b[0m \u001b[43mtransform_df_nb\u001b[49m\u001b[43m(\u001b[49m\u001b[38;5;124;43m'\u001b[39;49m\u001b[38;5;124;43mHeight\u001b[39;49m\u001b[38;5;124;43m'\u001b[39;49m\u001b[43m)\u001b[49m\n\u001b[0;32m      4\u001b[0m transform_df_nb(\u001b[38;5;124m'\u001b[39m\u001b[38;5;124mWhole weight\u001b[39m\u001b[38;5;124m'\u001b[39m)\n\u001b[0;32m      5\u001b[0m transform_df_nb(\u001b[38;5;124m'\u001b[39m\u001b[38;5;124mWhole weight.1\u001b[39m\u001b[38;5;124m'\u001b[39m)\n",
      "Cell \u001b[1;32mIn[701], line 3\u001b[0m, in \u001b[0;36mtransform_df_nb\u001b[1;34m(column)\u001b[0m\n\u001b[0;32m      1\u001b[0m \u001b[38;5;28;01mdef\u001b[39;00m \u001b[38;5;21mtransform_df_nb\u001b[39m(column):\n\u001b[0;32m      2\u001b[0m     df_train[column], _ \u001b[38;5;241m=\u001b[39m boxcox(df_train[column])\n\u001b[1;32m----> 3\u001b[0m     df_test[column], _ \u001b[38;5;241m=\u001b[39m \u001b[43mboxcox\u001b[49m\u001b[43m(\u001b[49m\u001b[43mdf_test\u001b[49m\u001b[43m[\u001b[49m\u001b[43mcolumn\u001b[49m\u001b[43m]\u001b[49m\u001b[43m)\u001b[49m\n",
      "File \u001b[1;32m~\\AppData\\Local\\Packages\\PythonSoftwareFoundation.Python.3.11_qbz5n2kfra8p0\\LocalCache\\local-packages\\Python311\\site-packages\\scipy\\stats\\_morestats.py:1102\u001b[0m, in \u001b[0;36mboxcox\u001b[1;34m(x, lmbda, alpha, optimizer)\u001b[0m\n\u001b[0;32m   1099\u001b[0m     \u001b[38;5;28;01mraise\u001b[39;00m \u001b[38;5;167;01mValueError\u001b[39;00m(\u001b[38;5;124m\"\u001b[39m\u001b[38;5;124mData must not be constant.\u001b[39m\u001b[38;5;124m\"\u001b[39m)\n\u001b[0;32m   1101\u001b[0m \u001b[38;5;28;01mif\u001b[39;00m np\u001b[38;5;241m.\u001b[39many(x \u001b[38;5;241m<\u001b[39m\u001b[38;5;241m=\u001b[39m \u001b[38;5;241m0\u001b[39m):\n\u001b[1;32m-> 1102\u001b[0m     \u001b[38;5;28;01mraise\u001b[39;00m \u001b[38;5;167;01mValueError\u001b[39;00m(\u001b[38;5;124m\"\u001b[39m\u001b[38;5;124mData must be positive.\u001b[39m\u001b[38;5;124m\"\u001b[39m)\n\u001b[0;32m   1104\u001b[0m \u001b[38;5;66;03m# If lmbda=None, find the lmbda that maximizes the log-likelihood function.\u001b[39;00m\n\u001b[0;32m   1105\u001b[0m lmax \u001b[38;5;241m=\u001b[39m boxcox_normmax(x, method\u001b[38;5;241m=\u001b[39m\u001b[38;5;124m'\u001b[39m\u001b[38;5;124mmle\u001b[39m\u001b[38;5;124m'\u001b[39m, optimizer\u001b[38;5;241m=\u001b[39moptimizer)\n",
      "\u001b[1;31mValueError\u001b[0m: Data must be positive."
     ]
    }
   ],
   "source": [
    "transform_df_nb('Length')\n",
    "transform_df_nb('Diameter')\n",
    "transform_df_nb('Height')\n",
    "transform_df_nb('Whole weight')\n",
    "transform_df_nb('Whole weight.1')\n",
    "transform_df_nb('Whole weight.2')\n",
    "transform_df_nb('Shell weight')"
   ]
  },
  {
   "cell_type": "markdown",
   "metadata": {},
   "source": [
    "boxcox<br>\n",
    "ValueError: Data must be positive."
   ]
  },
  {
   "cell_type": "code",
   "execution_count": 702,
   "metadata": {},
   "outputs": [
    {
     "data": {
      "text/plain": [
       "\"transform_df_nb('Length')\\ntransform_df_nb('Diameter')\\ntransform_df_nb('Height')\\ntransform_df_nb('Whole weight.1')\\ntransform_df_nb('Whole weight')\\ntransform_df_nb('Whole weight.2')\\ntransform_df_nb('Shell weight')\\ntransform_df_nb('Rings')\""
      ]
     },
     "execution_count": 702,
     "metadata": {},
     "output_type": "execute_result"
    }
   ],
   "source": [
    "'''transform_df_nb('Length')\n",
    "transform_df_nb('Diameter')\n",
    "transform_df_nb('Height')\n",
    "transform_df_nb('Whole weight.1')\n",
    "transform_df_nb('Whole weight')\n",
    "transform_df_nb('Whole weight.2')\n",
    "transform_df_nb('Shell weight')\n",
    "transform_df_nb('Rings')'''"
   ]
  },
  {
   "cell_type": "code",
   "execution_count": 703,
   "metadata": {},
   "outputs": [
    {
     "data": {
      "text/plain": [
       "\"from sklearn.preprocessing import PowerTransformer\\n\\n# PowerTransformerオブジェクトを作成し、Yeo-Johnson変換を実行する\\npt = PowerTransformer(method='yeo-johnson')\\ndf_train_nb = pt.fit_transform(df_train)\\ndf_test_nb = pt.fit_transform(df_test)\\n\\n# NumPy配列から新しいデータフレームを作成する\\n\\ndf_train = pd.DataFrame(df_train_nb, columns=df_train.columns)\\ndf_test = pd.DataFrame(df_test_nb, columns=df_test.columns)\""
      ]
     },
     "execution_count": 703,
     "metadata": {},
     "output_type": "execute_result"
    }
   ],
   "source": [
    "'''from sklearn.preprocessing import PowerTransformer\n",
    "\n",
    "# PowerTransformerオブジェクトを作成し、Yeo-Johnson変換を実行する\n",
    "pt = PowerTransformer(method='yeo-johnson')\n",
    "df_train_nb = pt.fit_transform(df_train)\n",
    "df_test_nb = pt.fit_transform(df_test)\n",
    "\n",
    "# NumPy配列から新しいデータフレームを作成する\n",
    "\n",
    "df_train = pd.DataFrame(df_train_nb, columns=df_train.columns)\n",
    "df_test = pd.DataFrame(df_test_nb, columns=df_test.columns)'''\n"
   ]
  },
  {
   "cell_type": "code",
   "execution_count": 704,
   "metadata": {},
   "outputs": [
    {
     "data": {
      "text/plain": [
       "'from sklearn.preprocessing import StandardScaler\\nscaler = StandardScaler()\\nscaler.fit(X_train)'"
      ]
     },
     "execution_count": 704,
     "metadata": {},
     "output_type": "execute_result"
    }
   ],
   "source": [
    "'''from sklearn.preprocessing import StandardScaler\n",
    "scaler = StandardScaler()\n",
    "scaler.fit(X_train)'''"
   ]
  },
  {
   "cell_type": "code",
   "execution_count": 705,
   "metadata": {},
   "outputs": [
    {
     "data": {
      "text/plain": [
       "'X_train_scaled = scaler.transform(X_train)\\ndf_X_train_scaled = pd.DataFrame(X_train_scaled, columns=df_train.columns)\\n\\ndf_X_train_scaled.head()'"
      ]
     },
     "execution_count": 705,
     "metadata": {},
     "output_type": "execute_result"
    }
   ],
   "source": [
    "'''X_train_scaled = scaler.transform(X_train)\n",
    "df_X_train_scaled = pd.DataFrame(X_train_scaled, columns=df_train.columns)\n",
    "\n",
    "df_X_train_scaled.head()'''\n"
   ]
  },
  {
   "cell_type": "code",
   "execution_count": 706,
   "metadata": {},
   "outputs": [
    {
     "data": {
      "text/html": [
       "<div>\n",
       "<style scoped>\n",
       "    .dataframe tbody tr th:only-of-type {\n",
       "        vertical-align: middle;\n",
       "    }\n",
       "\n",
       "    .dataframe tbody tr th {\n",
       "        vertical-align: top;\n",
       "    }\n",
       "\n",
       "    .dataframe thead th {\n",
       "        text-align: right;\n",
       "    }\n",
       "</style>\n",
       "<table border=\"1\" class=\"dataframe\">\n",
       "  <thead>\n",
       "    <tr style=\"text-align: right;\">\n",
       "      <th></th>\n",
       "      <th>id</th>\n",
       "      <th>Length</th>\n",
       "      <th>Diameter</th>\n",
       "      <th>Height</th>\n",
       "      <th>Whole weight</th>\n",
       "      <th>Whole weight.1</th>\n",
       "      <th>Whole weight.2</th>\n",
       "      <th>Shell weight</th>\n",
       "      <th>Rings</th>\n",
       "    </tr>\n",
       "  </thead>\n",
       "  <tbody>\n",
       "    <tr>\n",
       "      <th>count</th>\n",
       "      <td>90609.000000</td>\n",
       "      <td>90609.000000</td>\n",
       "      <td>90609.000000</td>\n",
       "      <td>90609.000000</td>\n",
       "      <td>90609.000000</td>\n",
       "      <td>90609.000000</td>\n",
       "      <td>90609.000000</td>\n",
       "      <td>90609.000000</td>\n",
       "      <td>90609.000000</td>\n",
       "    </tr>\n",
       "    <tr>\n",
       "      <th>mean</th>\n",
       "      <td>45307.061992</td>\n",
       "      <td>0.413621</td>\n",
       "      <td>0.335131</td>\n",
       "      <td>0.126490</td>\n",
       "      <td>0.548729</td>\n",
       "      <td>0.281960</td>\n",
       "      <td>0.152858</td>\n",
       "      <td>0.198138</td>\n",
       "      <td>9.696918</td>\n",
       "    </tr>\n",
       "    <tr>\n",
       "      <th>std</th>\n",
       "      <td>26158.188586</td>\n",
       "      <td>0.080807</td>\n",
       "      <td>0.072083</td>\n",
       "      <td>0.033463</td>\n",
       "      <td>0.258492</td>\n",
       "      <td>0.149587</td>\n",
       "      <td>0.085182</td>\n",
       "      <td>0.104857</td>\n",
       "      <td>3.176278</td>\n",
       "    </tr>\n",
       "    <tr>\n",
       "      <th>min</th>\n",
       "      <td>0.000000</td>\n",
       "      <td>0.072321</td>\n",
       "      <td>0.053541</td>\n",
       "      <td>0.003992</td>\n",
       "      <td>0.001998</td>\n",
       "      <td>0.001000</td>\n",
       "      <td>0.000500</td>\n",
       "      <td>0.001499</td>\n",
       "      <td>1.000000</td>\n",
       "    </tr>\n",
       "    <tr>\n",
       "      <th>25%</th>\n",
       "      <td>22654.000000</td>\n",
       "      <td>0.368109</td>\n",
       "      <td>0.296394</td>\n",
       "      <td>0.104360</td>\n",
       "      <td>0.350305</td>\n",
       "      <td>0.163394</td>\n",
       "      <td>0.082962</td>\n",
       "      <td>0.113329</td>\n",
       "      <td>8.000000</td>\n",
       "    </tr>\n",
       "    <tr>\n",
       "      <th>50%</th>\n",
       "      <td>45307.000000</td>\n",
       "      <td>0.435024</td>\n",
       "      <td>0.354172</td>\n",
       "      <td>0.131028</td>\n",
       "      <td>0.587509</td>\n",
       "      <td>0.285179</td>\n",
       "      <td>0.153579</td>\n",
       "      <td>0.202941</td>\n",
       "      <td>9.000000</td>\n",
       "    </tr>\n",
       "    <tr>\n",
       "      <th>75%</th>\n",
       "      <td>67960.000000</td>\n",
       "      <td>0.470004</td>\n",
       "      <td>0.385262</td>\n",
       "      <td>0.148420</td>\n",
       "      <td>0.726340</td>\n",
       "      <td>0.380489</td>\n",
       "      <td>0.209045</td>\n",
       "      <td>0.266203</td>\n",
       "      <td>11.000000</td>\n",
       "    </tr>\n",
       "    <tr>\n",
       "      <th>max</th>\n",
       "      <td>90614.000000</td>\n",
       "      <td>0.596085</td>\n",
       "      <td>0.500775</td>\n",
       "      <td>0.756122</td>\n",
       "      <td>1.341689</td>\n",
       "      <td>0.911479</td>\n",
       "      <td>0.565314</td>\n",
       "      <td>0.695644</td>\n",
       "      <td>29.000000</td>\n",
       "    </tr>\n",
       "  </tbody>\n",
       "</table>\n",
       "</div>"
      ],
      "text/plain": [
       "                 id        Length      Diameter        Height  Whole weight  \\\n",
       "count  90609.000000  90609.000000  90609.000000  90609.000000  90609.000000   \n",
       "mean   45307.061992      0.413621      0.335131      0.126490      0.548729   \n",
       "std    26158.188586      0.080807      0.072083      0.033463      0.258492   \n",
       "min        0.000000      0.072321      0.053541      0.003992      0.001998   \n",
       "25%    22654.000000      0.368109      0.296394      0.104360      0.350305   \n",
       "50%    45307.000000      0.435024      0.354172      0.131028      0.587509   \n",
       "75%    67960.000000      0.470004      0.385262      0.148420      0.726340   \n",
       "max    90614.000000      0.596085      0.500775      0.756122      1.341689   \n",
       "\n",
       "       Whole weight.1  Whole weight.2  Shell weight         Rings  \n",
       "count    90609.000000    90609.000000  90609.000000  90609.000000  \n",
       "mean         0.281960        0.152858      0.198138      9.696918  \n",
       "std          0.149587        0.085182      0.104857      3.176278  \n",
       "min          0.001000        0.000500      0.001499      1.000000  \n",
       "25%          0.163394        0.082962      0.113329      8.000000  \n",
       "50%          0.285179        0.153579      0.202941      9.000000  \n",
       "75%          0.380489        0.209045      0.266203     11.000000  \n",
       "max          0.911479        0.565314      0.695644     29.000000  "
      ]
     },
     "execution_count": 706,
     "metadata": {},
     "output_type": "execute_result"
    }
   ],
   "source": [
    "df_train.describe()"
   ]
  },
  {
   "cell_type": "markdown",
   "metadata": {},
   "source": [
    "---"
   ]
  },
  {
   "cell_type": "markdown",
   "metadata": {},
   "source": [
    "２つの相互作用特徴量しらみつぶし用関数"
   ]
  },
  {
   "cell_type": "code",
   "execution_count": 707,
   "metadata": {},
   "outputs": [
    {
     "data": {
      "text/plain": [
       "\"kumiawase_name =  'Length', 'Diameter', 'Length*Diameter'\\ndf_train = kakeawase(df_train, kumiawase_name[0], kumiawase_name[1], kumiawase_name[2])\\ndf_test = kakeawase(df_test, kumiawase_name[0], kumiawase_name[1], kumiawase_name[2])\""
      ]
     },
     "execution_count": 707,
     "metadata": {},
     "output_type": "execute_result"
    }
   ],
   "source": [
    "#特徴量関数\n",
    "\n",
    "def kakeawase(df, origin_clumnname1, origin_clumnname2, new_clumnname):\n",
    "    df[new_clumnname] = df[origin_clumnname1] * df[origin_clumnname2]\n",
    "    return df\n",
    "\n",
    "'''kumiawase_name =  'Length', 'Diameter', 'Length*Diameter'\n",
    "df_train = kakeawase(df_train, kumiawase_name[0], kumiawase_name[1], kumiawase_name[2])\n",
    "df_test = kakeawase(df_test, kumiawase_name[0], kumiawase_name[1], kumiawase_name[2])'''"
   ]
  },
  {
   "cell_type": "markdown",
   "metadata": {},
   "source": [
    "２つの相互作用特徴量を洗い出す"
   ]
  },
  {
   "cell_type": "code",
   "execution_count": 708,
   "metadata": {},
   "outputs": [
    {
     "data": {
      "text/plain": [
       "\"kumiawase_name = ('Length', 'Diameter')\\nnew_name = f'{kumiawase_name[0]}*{kumiawase_name[1]}'\\ndf_train = kakeawase(df_train, kumiawase_name[0], kumiawase_name[1], new_name)\\ndf_test = kakeawase(df_test, kumiawase_name[0], kumiawase_name[1], new_name)\""
      ]
     },
     "execution_count": 708,
     "metadata": {},
     "output_type": "execute_result"
    }
   ],
   "source": [
    "#1 Length*Diameterを追加\n",
    "'''kumiawase_name = ('Length', 'Diameter')\n",
    "new_name = f'{kumiawase_name[0]}*{kumiawase_name[1]}'\n",
    "df_train = kakeawase(df_train, kumiawase_name[0], kumiawase_name[1], new_name)\n",
    "df_test = kakeawase(df_test, kumiawase_name[0], kumiawase_name[1], new_name)'''"
   ]
  },
  {
   "cell_type": "code",
   "execution_count": 709,
   "metadata": {},
   "outputs": [
    {
     "data": {
      "text/plain": [
       "\"kumiawase_name = ('Length', 'Height')\\nnew_name = f'{kumiawase_name[0]}*{kumiawase_name[1]}'\\ndf_train = kakeawase(df_train, kumiawase_name[0], kumiawase_name[1], new_name)\\ndf_test = kakeawase(df_test, kumiawase_name[0], kumiawase_name[1], new_name)\""
      ]
     },
     "execution_count": 709,
     "metadata": {},
     "output_type": "execute_result"
    }
   ],
   "source": [
    "#2 Length*Heightを追加\n",
    "'''kumiawase_name = ('Length', 'Height')\n",
    "new_name = f'{kumiawase_name[0]}*{kumiawase_name[1]}'\n",
    "df_train = kakeawase(df_train, kumiawase_name[0], kumiawase_name[1], new_name)\n",
    "df_test = kakeawase(df_test, kumiawase_name[0], kumiawase_name[1], new_name)'''"
   ]
  },
  {
   "cell_type": "code",
   "execution_count": 710,
   "metadata": {},
   "outputs": [
    {
     "data": {
      "text/plain": [
       "\"\\nkumiawase_name = ('Length', 'Height')\\nnew_name = f'{kumiawase_name[0]}*{kumiawase_name[1]}'\\ndf_train = kakeawase(df_train, kumiawase_name[0], kumiawase_name[1], new_name)\\ndf_test = kakeawase(df_test, kumiawase_name[0], kumiawase_name[1], new_name)\\n\""
      ]
     },
     "execution_count": 710,
     "metadata": {},
     "output_type": "execute_result"
    }
   ],
   "source": [
    "#3 Length*Wholeweightを追加\n",
    "'''\n",
    "kumiawase_name = ('Length', 'Height')\n",
    "new_name = f'{kumiawase_name[0]}*{kumiawase_name[1]}'\n",
    "df_train = kakeawase(df_train, kumiawase_name[0], kumiawase_name[1], new_name)\n",
    "df_test = kakeawase(df_test, kumiawase_name[0], kumiawase_name[1], new_name)\n",
    "'''"
   ]
  },
  {
   "cell_type": "code",
   "execution_count": 711,
   "metadata": {},
   "outputs": [
    {
     "data": {
      "text/plain": [
       "\"\\nkumiawase_name = ('Length', 'Whole weight.1')\\nnew_name = f'{kumiawase_name[0]}*{kumiawase_name[1]}'\\ndf_train = kakeawase(df_train, kumiawase_name[0], kumiawase_name[1], new_name)\\ndf_test = kakeawase(df_test, kumiawase_name[0], kumiawase_name[1], new_name)\""
      ]
     },
     "execution_count": 711,
     "metadata": {},
     "output_type": "execute_result"
    }
   ],
   "source": [
    "#4 Length*Whole weight.1を追加\n",
    "'''\n",
    "kumiawase_name = ('Length', 'Whole weight.1')\n",
    "new_name = f'{kumiawase_name[0]}*{kumiawase_name[1]}'\n",
    "df_train = kakeawase(df_train, kumiawase_name[0], kumiawase_name[1], new_name)\n",
    "df_test = kakeawase(df_test, kumiawase_name[0], kumiawase_name[1], new_name)'''"
   ]
  },
  {
   "cell_type": "code",
   "execution_count": 712,
   "metadata": {},
   "outputs": [
    {
     "data": {
      "text/plain": [
       "\"kumiawase_name = ('Length', 'Whole weight.2')\\nnew_name = f'{kumiawase_name[0]}*{kumiawase_name[1]}'\\ndf_train = kakeawase(df_train, kumiawase_name[0], kumiawase_name[1], new_name)\\ndf_test = kakeawase(df_test, kumiawase_name[0], kumiawase_name[1], new_name)\""
      ]
     },
     "execution_count": 712,
     "metadata": {},
     "output_type": "execute_result"
    }
   ],
   "source": [
    "#5 Length*Wholeweight.2を追加\n",
    "'''kumiawase_name = ('Length', 'Whole weight.2')\n",
    "new_name = f'{kumiawase_name[0]}*{kumiawase_name[1]}'\n",
    "df_train = kakeawase(df_train, kumiawase_name[0], kumiawase_name[1], new_name)\n",
    "df_test = kakeawase(df_test, kumiawase_name[0], kumiawase_name[1], new_name)'''"
   ]
  },
  {
   "cell_type": "code",
   "execution_count": 713,
   "metadata": {},
   "outputs": [
    {
     "data": {
      "text/plain": [
       "\"kumiawase_name = ('Length', 'Shell weight')\\nnew_name = f'{kumiawase_name[0]}*{kumiawase_name[1]}'\\ndf_train = kakeawase(df_train, kumiawase_name[0], kumiawase_name[1], new_name)\\ndf_test = kakeawase(df_test, kumiawase_name[0], kumiawase_name[1], new_name)\""
      ]
     },
     "execution_count": 713,
     "metadata": {},
     "output_type": "execute_result"
    }
   ],
   "source": [
    "#6 Length*Shellweight を追加\n",
    "'''kumiawase_name = ('Length', 'Shell weight')\n",
    "new_name = f'{kumiawase_name[0]}*{kumiawase_name[1]}'\n",
    "df_train = kakeawase(df_train, kumiawase_name[0], kumiawase_name[1], new_name)\n",
    "df_test = kakeawase(df_test, kumiawase_name[0], kumiawase_name[1], new_name)'''"
   ]
  },
  {
   "cell_type": "code",
   "execution_count": 714,
   "metadata": {},
   "outputs": [
    {
     "data": {
      "text/plain": [
       "\"kumiawase_name = ('Diameter', 'Height')\\nnew_name = f'{kumiawase_name[0]}*{kumiawase_name[1]}'\\ndf_train = kakeawase(df_train, kumiawase_name[0], kumiawase_name[1], new_name)\\ndf_test = kakeawase(df_test, kumiawase_name[0], kumiawase_name[1], new_name)\""
      ]
     },
     "execution_count": 714,
     "metadata": {},
     "output_type": "execute_result"
    }
   ],
   "source": [
    "#7 Diameter*Heightを追加\n",
    "'''kumiawase_name = ('Diameter', 'Height')\n",
    "new_name = f'{kumiawase_name[0]}*{kumiawase_name[1]}'\n",
    "df_train = kakeawase(df_train, kumiawase_name[0], kumiawase_name[1], new_name)\n",
    "df_test = kakeawase(df_test, kumiawase_name[0], kumiawase_name[1], new_name)'''"
   ]
  },
  {
   "cell_type": "code",
   "execution_count": 715,
   "metadata": {},
   "outputs": [
    {
     "data": {
      "text/plain": [
       "\"kumiawase_name = ('Diameter', 'Whole weight')\\nnew_name = f'{kumiawase_name[0]}*{kumiawase_name[1]}'\\ndf_train = kakeawase(df_train, kumiawase_name[0], kumiawase_name[1], new_name)\\ndf_test = kakeawase(df_test, kumiawase_name[0], kumiawase_name[1], new_name)\""
      ]
     },
     "execution_count": 715,
     "metadata": {},
     "output_type": "execute_result"
    }
   ],
   "source": [
    "#8 Diameter*Wholeweightを追加\n",
    "'''kumiawase_name = ('Diameter', 'Whole weight')\n",
    "new_name = f'{kumiawase_name[0]}*{kumiawase_name[1]}'\n",
    "df_train = kakeawase(df_train, kumiawase_name[0], kumiawase_name[1], new_name)\n",
    "df_test = kakeawase(df_test, kumiawase_name[0], kumiawase_name[1], new_name)'''"
   ]
  },
  {
   "cell_type": "code",
   "execution_count": 716,
   "metadata": {},
   "outputs": [
    {
     "data": {
      "text/plain": [
       "\"kumiawase_name = ('Diameter', 'Whole weight.1')\\nnew_name = f'{kumiawase_name[0]}*{kumiawase_name[1]}'\\ndf_train = kakeawase(df_train, kumiawase_name[0], kumiawase_name[1], new_name)\\ndf_test = kakeawase(df_test, kumiawase_name[0], kumiawase_name[1], new_name)\""
      ]
     },
     "execution_count": 716,
     "metadata": {},
     "output_type": "execute_result"
    }
   ],
   "source": [
    "#9 Diameter*Wholeweight.1を追加\n",
    "'''kumiawase_name = ('Diameter', 'Whole weight.1')\n",
    "new_name = f'{kumiawase_name[0]}*{kumiawase_name[1]}'\n",
    "df_train = kakeawase(df_train, kumiawase_name[0], kumiawase_name[1], new_name)\n",
    "df_test = kakeawase(df_test, kumiawase_name[0], kumiawase_name[1], new_name)'''"
   ]
  },
  {
   "cell_type": "code",
   "execution_count": 717,
   "metadata": {},
   "outputs": [
    {
     "data": {
      "text/plain": [
       "\"kumiawase_name = ('Diameter', 'Whole weight.2')\\nnew_name = f'{kumiawase_name[0]}*{kumiawase_name[1]}'\\ndf_train = kakeawase(df_train, kumiawase_name[0], kumiawase_name[1], new_name)\\ndf_test = kakeawase(df_test, kumiawase_name[0], kumiawase_name[1], new_name)\""
      ]
     },
     "execution_count": 717,
     "metadata": {},
     "output_type": "execute_result"
    }
   ],
   "source": [
    "#10 Diameter*Wholeweight.2を追加\n",
    "'''kumiawase_name = ('Diameter', 'Whole weight.2')\n",
    "new_name = f'{kumiawase_name[0]}*{kumiawase_name[1]}'\n",
    "df_train = kakeawase(df_train, kumiawase_name[0], kumiawase_name[1], new_name)\n",
    "df_test = kakeawase(df_test, kumiawase_name[0], kumiawase_name[1], new_name)'''"
   ]
  },
  {
   "cell_type": "code",
   "execution_count": 718,
   "metadata": {},
   "outputs": [
    {
     "data": {
      "text/plain": [
       "\"kumiawase_name = ('Diameter', 'Shell weight')\\nnew_name = f'{kumiawase_name[0]}*{kumiawase_name[1]}'\\ndf_train = kakeawase(df_train, kumiawase_name[0], kumiawase_name[1], new_name)\\ndf_test = kakeawase(df_test, kumiawase_name[0], kumiawase_name[1], new_name)\""
      ]
     },
     "execution_count": 718,
     "metadata": {},
     "output_type": "execute_result"
    }
   ],
   "source": [
    "#11 Diameter*Shellweightを追加\n",
    "'''kumiawase_name = ('Diameter', 'Shell weight')\n",
    "new_name = f'{kumiawase_name[0]}*{kumiawase_name[1]}'\n",
    "df_train = kakeawase(df_train, kumiawase_name[0], kumiawase_name[1], new_name)\n",
    "df_test = kakeawase(df_test, kumiawase_name[0], kumiawase_name[1], new_name)'''"
   ]
  },
  {
   "cell_type": "code",
   "execution_count": 719,
   "metadata": {},
   "outputs": [
    {
     "data": {
      "text/plain": [
       "\"kumiawase_name = ('Height', 'Whole weight')\\nnew_name = f'{kumiawase_name[0]}*{kumiawase_name[1]}'\\ndf_train = kakeawase(df_train, kumiawase_name[0], kumiawase_name[1], new_name)\\ndf_test = kakeawase(df_test, kumiawase_name[0], kumiawase_name[1], new_name)\""
      ]
     },
     "execution_count": 719,
     "metadata": {},
     "output_type": "execute_result"
    }
   ],
   "source": [
    "#12 Height*Wholeweightを追加\n",
    "'''kumiawase_name = ('Height', 'Whole weight')\n",
    "new_name = f'{kumiawase_name[0]}*{kumiawase_name[1]}'\n",
    "df_train = kakeawase(df_train, kumiawase_name[0], kumiawase_name[1], new_name)\n",
    "df_test = kakeawase(df_test, kumiawase_name[0], kumiawase_name[1], new_name)'''"
   ]
  },
  {
   "cell_type": "code",
   "execution_count": 720,
   "metadata": {},
   "outputs": [
    {
     "data": {
      "text/plain": [
       "\"kumiawase_name = ('Height', 'Whole weight.1')\\nnew_name = f'{kumiawase_name[0]}*{kumiawase_name[1]}'\\ndf_train = kakeawase(df_train, kumiawase_name[0], kumiawase_name[1], new_name)\\ndf_test = kakeawase(df_test, kumiawase_name[0], kumiawase_name[1], new_name)\""
      ]
     },
     "execution_count": 720,
     "metadata": {},
     "output_type": "execute_result"
    }
   ],
   "source": [
    "#13 Height*Wholewheit.1を追加\n",
    "'''kumiawase_name = ('Height', 'Whole weight.1')\n",
    "new_name = f'{kumiawase_name[0]}*{kumiawase_name[1]}'\n",
    "df_train = kakeawase(df_train, kumiawase_name[0], kumiawase_name[1], new_name)\n",
    "df_test = kakeawase(df_test, kumiawase_name[0], kumiawase_name[1], new_name)'''"
   ]
  },
  {
   "cell_type": "code",
   "execution_count": 721,
   "metadata": {},
   "outputs": [
    {
     "data": {
      "text/plain": [
       "\"kumiawase_name = ('Height', 'Whole weight.2')\\nnew_name = f'{kumiawase_name[0]}*{kumiawase_name[1]}'\\ndf_train = kakeawase(df_train, kumiawase_name[0], kumiawase_name[1], new_name)\\ndf_test = kakeawase(df_test, kumiawase_name[0], kumiawase_name[1], new_name)\""
      ]
     },
     "execution_count": 721,
     "metadata": {},
     "output_type": "execute_result"
    }
   ],
   "source": [
    "#14 Height*Wholewheit.2を追加\n",
    "'''kumiawase_name = ('Height', 'Whole weight.2')\n",
    "new_name = f'{kumiawase_name[0]}*{kumiawase_name[1]}'\n",
    "df_train = kakeawase(df_train, kumiawase_name[0], kumiawase_name[1], new_name)\n",
    "df_test = kakeawase(df_test, kumiawase_name[0], kumiawase_name[1], new_name)'''"
   ]
  },
  {
   "cell_type": "code",
   "execution_count": 722,
   "metadata": {},
   "outputs": [
    {
     "data": {
      "text/plain": [
       "\"\\nkumiawase_name = ('Height', 'Shell weight')\\nnew_name = f'{kumiawase_name[0]}*{kumiawase_name[1]}'\\ndf_train = kakeawase(df_train, kumiawase_name[0], kumiawase_name[1], new_name)\\ndf_test = kakeawase(df_test, kumiawase_name[0], kumiawase_name[1], new_name)\\n\""
      ]
     },
     "execution_count": 722,
     "metadata": {},
     "output_type": "execute_result"
    }
   ],
   "source": [
    "#15 Height*Shellwheitを追加\n",
    "'''\n",
    "kumiawase_name = ('Height', 'Shell weight')\n",
    "new_name = f'{kumiawase_name[0]}*{kumiawase_name[1]}'\n",
    "df_train = kakeawase(df_train, kumiawase_name[0], kumiawase_name[1], new_name)\n",
    "df_test = kakeawase(df_test, kumiawase_name[0], kumiawase_name[1], new_name)\n",
    "'''"
   ]
  },
  {
   "cell_type": "code",
   "execution_count": 723,
   "metadata": {},
   "outputs": [
    {
     "data": {
      "text/plain": [
       "\"kumiawase_name = ('Whole weight', 'Whole weight.1')\\nnew_name = f'{kumiawase_name[0]}*{kumiawase_name[1]}'\\ndf_train = kakeawase(df_train, kumiawase_name[0], kumiawase_name[1], new_name)\\ndf_test = kakeawase(df_test, kumiawase_name[0], kumiawase_name[1], new_name)\""
      ]
     },
     "execution_count": 723,
     "metadata": {},
     "output_type": "execute_result"
    }
   ],
   "source": [
    "#16 Wholeweight*Wholeweight.1を追加\n",
    "'''kumiawase_name = ('Whole weight', 'Whole weight.1')\n",
    "new_name = f'{kumiawase_name[0]}*{kumiawase_name[1]}'\n",
    "df_train = kakeawase(df_train, kumiawase_name[0], kumiawase_name[1], new_name)\n",
    "df_test = kakeawase(df_test, kumiawase_name[0], kumiawase_name[1], new_name)'''"
   ]
  },
  {
   "cell_type": "code",
   "execution_count": 724,
   "metadata": {},
   "outputs": [
    {
     "data": {
      "text/plain": [
       "\"kumiawase_name = ('Whole weight', 'Whole weight.2')\\nnew_name = f'{kumiawase_name[0]}*{kumiawase_name[1]}'\\ndf_train = kakeawase(df_train, kumiawase_name[0], kumiawase_name[1], new_name)\\ndf_test = kakeawase(df_test, kumiawase_name[0], kumiawase_name[1], new_name)\""
      ]
     },
     "execution_count": 724,
     "metadata": {},
     "output_type": "execute_result"
    }
   ],
   "source": [
    "#17 Wholeweight*Wholeweight.2を追加\n",
    "'''kumiawase_name = ('Whole weight', 'Whole weight.2')\n",
    "new_name = f'{kumiawase_name[0]}*{kumiawase_name[1]}'\n",
    "df_train = kakeawase(df_train, kumiawase_name[0], kumiawase_name[1], new_name)\n",
    "df_test = kakeawase(df_test, kumiawase_name[0], kumiawase_name[1], new_name)'''"
   ]
  },
  {
   "cell_type": "code",
   "execution_count": 725,
   "metadata": {},
   "outputs": [
    {
     "data": {
      "text/plain": [
       "\"kumiawase_name = ('Whole weight', 'Shell weight')\\nnew_name = f'{kumiawase_name[0]}*{kumiawase_name[1]}'\\ndf_train = kakeawase(df_train, kumiawase_name[0], kumiawase_name[1], new_name)\\ndf_test = kakeawase(df_test, kumiawase_name[0], kumiawase_name[1], new_name)\""
      ]
     },
     "execution_count": 725,
     "metadata": {},
     "output_type": "execute_result"
    }
   ],
   "source": [
    "#18 Wholeweight*Shell weightを追加\n",
    "'''kumiawase_name = ('Whole weight', 'Shell weight')\n",
    "new_name = f'{kumiawase_name[0]}*{kumiawase_name[1]}'\n",
    "df_train = kakeawase(df_train, kumiawase_name[0], kumiawase_name[1], new_name)\n",
    "df_test = kakeawase(df_test, kumiawase_name[0], kumiawase_name[1], new_name)'''"
   ]
  },
  {
   "cell_type": "code",
   "execution_count": 726,
   "metadata": {},
   "outputs": [
    {
     "data": {
      "text/plain": [
       "\"kumiawase_name = ('Whole weight.1', 'Whole weight.2')\\nnew_name = f'{kumiawase_name[0]}*{kumiawase_name[1]}'\\ndf_train = kakeawase(df_train, kumiawase_name[0], kumiawase_name[1], new_name)\\ndf_test = kakeawase(df_test, kumiawase_name[0], kumiawase_name[1], new_name)\""
      ]
     },
     "execution_count": 726,
     "metadata": {},
     "output_type": "execute_result"
    }
   ],
   "source": [
    "#19 Wholeweight.1*Wholeweight.2を追加\n",
    "'''kumiawase_name = ('Whole weight.1', 'Whole weight.2')\n",
    "new_name = f'{kumiawase_name[0]}*{kumiawase_name[1]}'\n",
    "df_train = kakeawase(df_train, kumiawase_name[0], kumiawase_name[1], new_name)\n",
    "df_test = kakeawase(df_test, kumiawase_name[0], kumiawase_name[1], new_name)'''"
   ]
  },
  {
   "cell_type": "code",
   "execution_count": 727,
   "metadata": {},
   "outputs": [
    {
     "data": {
      "text/plain": [
       "\"kumiawase_name = ('Whole weight.1', 'Shell weight')\\nnew_name = f'{kumiawase_name[0]}*{kumiawase_name[1]}'\\ndf_train = kakeawase(df_train, kumiawase_name[0], kumiawase_name[1], new_name)\\ndf_test = kakeawase(df_test, kumiawase_name[0], kumiawase_name[1], new_name)\""
      ]
     },
     "execution_count": 727,
     "metadata": {},
     "output_type": "execute_result"
    }
   ],
   "source": [
    "#20 Wholeweight.1*Shellweightを追加\n",
    "'''kumiawase_name = ('Whole weight.1', 'Shell weight')\n",
    "new_name = f'{kumiawase_name[0]}*{kumiawase_name[1]}'\n",
    "df_train = kakeawase(df_train, kumiawase_name[0], kumiawase_name[1], new_name)\n",
    "df_test = kakeawase(df_test, kumiawase_name[0], kumiawase_name[1], new_name)'''"
   ]
  },
  {
   "cell_type": "code",
   "execution_count": 728,
   "metadata": {},
   "outputs": [
    {
     "data": {
      "text/plain": [
       "\"kumiawase_name = ('Whole weight.2', 'Shell weight')\\nnew_name = f'{kumiawase_name[0]}*{kumiawase_name[1]}'\\ndf_train = kakeawase(df_train, kumiawase_name[0], kumiawase_name[1], new_name)\\ndf_test = kakeawase(df_test, kumiawase_name[0], kumiawase_name[1], new_name)\""
      ]
     },
     "execution_count": 728,
     "metadata": {},
     "output_type": "execute_result"
    }
   ],
   "source": [
    "#21 Wholeweight.2*Shellweightを追加\n",
    "'''kumiawase_name = ('Whole weight.2', 'Shell weight')\n",
    "new_name = f'{kumiawase_name[0]}*{kumiawase_name[1]}'\n",
    "df_train = kakeawase(df_train, kumiawase_name[0], kumiawase_name[1], new_name)\n",
    "df_test = kakeawase(df_test, kumiawase_name[0], kumiawase_name[1], new_name)'''"
   ]
  },
  {
   "cell_type": "code",
   "execution_count": 729,
   "metadata": {},
   "outputs": [
    {
     "data": {
      "text/html": [
       "<div>\n",
       "<style scoped>\n",
       "    .dataframe tbody tr th:only-of-type {\n",
       "        vertical-align: middle;\n",
       "    }\n",
       "\n",
       "    .dataframe tbody tr th {\n",
       "        vertical-align: top;\n",
       "    }\n",
       "\n",
       "    .dataframe thead th {\n",
       "        text-align: right;\n",
       "    }\n",
       "</style>\n",
       "<table border=\"1\" class=\"dataframe\">\n",
       "  <thead>\n",
       "    <tr style=\"text-align: right;\">\n",
       "      <th></th>\n",
       "      <th>id</th>\n",
       "      <th>Length</th>\n",
       "      <th>Diameter</th>\n",
       "      <th>Height</th>\n",
       "      <th>Whole weight</th>\n",
       "      <th>Whole weight.1</th>\n",
       "      <th>Whole weight.2</th>\n",
       "      <th>Shell weight</th>\n",
       "      <th>Rings</th>\n",
       "      <th>F</th>\n",
       "      <th>I</th>\n",
       "      <th>M</th>\n",
       "    </tr>\n",
       "  </thead>\n",
       "  <tbody>\n",
       "    <tr>\n",
       "      <th>0</th>\n",
       "      <td>0</td>\n",
       "      <td>0.438255</td>\n",
       "      <td>0.357674</td>\n",
       "      <td>0.139762</td>\n",
       "      <td>0.571827</td>\n",
       "      <td>0.284050</td>\n",
       "      <td>0.136714</td>\n",
       "      <td>0.215111</td>\n",
       "      <td>11</td>\n",
       "      <td>True</td>\n",
       "      <td>False</td>\n",
       "      <td>False</td>\n",
       "    </tr>\n",
       "    <tr>\n",
       "      <th>1</th>\n",
       "      <td>1</td>\n",
       "      <td>0.488580</td>\n",
       "      <td>0.398776</td>\n",
       "      <td>0.135405</td>\n",
       "      <td>0.756122</td>\n",
       "      <td>0.377066</td>\n",
       "      <td>0.244122</td>\n",
       "      <td>0.277632</td>\n",
       "      <td>11</td>\n",
       "      <td>True</td>\n",
       "      <td>False</td>\n",
       "      <td>False</td>\n",
       "    </tr>\n",
       "    <tr>\n",
       "      <th>2</th>\n",
       "      <td>2</td>\n",
       "      <td>0.148420</td>\n",
       "      <td>0.104360</td>\n",
       "      <td>0.024693</td>\n",
       "      <td>0.020783</td>\n",
       "      <td>0.005485</td>\n",
       "      <td>0.002996</td>\n",
       "      <td>0.004988</td>\n",
       "      <td>6</td>\n",
       "      <td>False</td>\n",
       "      <td>True</td>\n",
       "      <td>False</td>\n",
       "    </tr>\n",
       "    <tr>\n",
       "      <th>3</th>\n",
       "      <td>3</td>\n",
       "      <td>0.466874</td>\n",
       "      <td>0.388658</td>\n",
       "      <td>0.139762</td>\n",
       "      <td>0.649456</td>\n",
       "      <td>0.318817</td>\n",
       "      <td>0.186894</td>\n",
       "      <td>0.223144</td>\n",
       "      <td>10</td>\n",
       "      <td>False</td>\n",
       "      <td>False</td>\n",
       "      <td>True</td>\n",
       "    </tr>\n",
       "    <tr>\n",
       "      <th>4</th>\n",
       "      <td>4</td>\n",
       "      <td>0.441476</td>\n",
       "      <td>0.354172</td>\n",
       "      <td>0.122218</td>\n",
       "      <td>0.577736</td>\n",
       "      <td>0.314446</td>\n",
       "      <td>0.148420</td>\n",
       "      <td>0.180236</td>\n",
       "      <td>9</td>\n",
       "      <td>False</td>\n",
       "      <td>True</td>\n",
       "      <td>False</td>\n",
       "    </tr>\n",
       "  </tbody>\n",
       "</table>\n",
       "</div>"
      ],
      "text/plain": [
       "   id    Length  Diameter    Height  Whole weight  Whole weight.1  \\\n",
       "0   0  0.438255  0.357674  0.139762      0.571827        0.284050   \n",
       "1   1  0.488580  0.398776  0.135405      0.756122        0.377066   \n",
       "2   2  0.148420  0.104360  0.024693      0.020783        0.005485   \n",
       "3   3  0.466874  0.388658  0.139762      0.649456        0.318817   \n",
       "4   4  0.441476  0.354172  0.122218      0.577736        0.314446   \n",
       "\n",
       "   Whole weight.2  Shell weight  Rings      F      I      M  \n",
       "0        0.136714      0.215111     11   True  False  False  \n",
       "1        0.244122      0.277632     11   True  False  False  \n",
       "2        0.002996      0.004988      6  False   True  False  \n",
       "3        0.186894      0.223144     10  False  False   True  \n",
       "4        0.148420      0.180236      9  False   True  False  "
      ]
     },
     "execution_count": 729,
     "metadata": {},
     "output_type": "execute_result"
    }
   ],
   "source": [
    "df_train.head()"
   ]
  },
  {
   "cell_type": "code",
   "execution_count": 730,
   "metadata": {},
   "outputs": [
    {
     "data": {
      "text/html": [
       "<div>\n",
       "<style scoped>\n",
       "    .dataframe tbody tr th:only-of-type {\n",
       "        vertical-align: middle;\n",
       "    }\n",
       "\n",
       "    .dataframe tbody tr th {\n",
       "        vertical-align: top;\n",
       "    }\n",
       "\n",
       "    .dataframe thead th {\n",
       "        text-align: right;\n",
       "    }\n",
       "</style>\n",
       "<table border=\"1\" class=\"dataframe\">\n",
       "  <thead>\n",
       "    <tr style=\"text-align: right;\">\n",
       "      <th></th>\n",
       "      <th>id</th>\n",
       "      <th>Length</th>\n",
       "      <th>Diameter</th>\n",
       "      <th>Height</th>\n",
       "      <th>Whole weight</th>\n",
       "      <th>Whole weight.1</th>\n",
       "      <th>Whole weight.2</th>\n",
       "      <th>Shell weight</th>\n",
       "      <th>F</th>\n",
       "      <th>I</th>\n",
       "      <th>M</th>\n",
       "    </tr>\n",
       "  </thead>\n",
       "  <tbody>\n",
       "    <tr>\n",
       "      <th>0</th>\n",
       "      <td>90615</td>\n",
       "      <td>0.497740</td>\n",
       "      <td>0.388658</td>\n",
       "      <td>0.144100</td>\n",
       "      <td>0.805583</td>\n",
       "      <td>0.481500</td>\n",
       "      <td>0.271934</td>\n",
       "      <td>0.262749</td>\n",
       "      <td>False</td>\n",
       "      <td>False</td>\n",
       "      <td>True</td>\n",
       "    </tr>\n",
       "    <tr>\n",
       "      <th>1</th>\n",
       "      <td>90616</td>\n",
       "      <td>0.457425</td>\n",
       "      <td>0.378436</td>\n",
       "      <td>0.148420</td>\n",
       "      <td>0.684611</td>\n",
       "      <td>0.391028</td>\n",
       "      <td>0.198441</td>\n",
       "      <td>0.242946</td>\n",
       "      <td>False</td>\n",
       "      <td>False</td>\n",
       "      <td>True</td>\n",
       "    </tr>\n",
       "    <tr>\n",
       "      <th>2</th>\n",
       "      <td>90617</td>\n",
       "      <td>0.444686</td>\n",
       "      <td>0.350657</td>\n",
       "      <td>0.131028</td>\n",
       "      <td>0.609494</td>\n",
       "      <td>0.301955</td>\n",
       "      <td>0.169321</td>\n",
       "      <td>0.215515</td>\n",
       "      <td>False</td>\n",
       "      <td>False</td>\n",
       "      <td>True</td>\n",
       "    </tr>\n",
       "    <tr>\n",
       "      <th>3</th>\n",
       "      <td>90618</td>\n",
       "      <td>0.451076</td>\n",
       "      <td>0.398776</td>\n",
       "      <td>0.135405</td>\n",
       "      <td>0.628075</td>\n",
       "      <td>0.301955</td>\n",
       "      <td>0.171008</td>\n",
       "      <td>0.211071</td>\n",
       "      <td>False</td>\n",
       "      <td>False</td>\n",
       "      <td>True</td>\n",
       "    </tr>\n",
       "    <tr>\n",
       "      <th>4</th>\n",
       "      <td>90619</td>\n",
       "      <td>0.347130</td>\n",
       "      <td>0.281412</td>\n",
       "      <td>0.104360</td>\n",
       "      <td>0.306013</td>\n",
       "      <td>0.146263</td>\n",
       "      <td>0.064851</td>\n",
       "      <td>0.099845</td>\n",
       "      <td>False</td>\n",
       "      <td>True</td>\n",
       "      <td>False</td>\n",
       "    </tr>\n",
       "  </tbody>\n",
       "</table>\n",
       "</div>"
      ],
      "text/plain": [
       "      id    Length  Diameter    Height  Whole weight  Whole weight.1  \\\n",
       "0  90615  0.497740  0.388658  0.144100      0.805583        0.481500   \n",
       "1  90616  0.457425  0.378436  0.148420      0.684611        0.391028   \n",
       "2  90617  0.444686  0.350657  0.131028      0.609494        0.301955   \n",
       "3  90618  0.451076  0.398776  0.135405      0.628075        0.301955   \n",
       "4  90619  0.347130  0.281412  0.104360      0.306013        0.146263   \n",
       "\n",
       "   Whole weight.2  Shell weight      F      I      M  \n",
       "0        0.271934      0.262749  False  False   True  \n",
       "1        0.198441      0.242946  False  False   True  \n",
       "2        0.169321      0.215515  False  False   True  \n",
       "3        0.171008      0.211071  False  False   True  \n",
       "4        0.064851      0.099845  False   True  False  "
      ]
     },
     "execution_count": 730,
     "metadata": {},
     "output_type": "execute_result"
    }
   ],
   "source": [
    "df_test.head()"
   ]
  },
  {
   "cell_type": "code",
   "execution_count": 731,
   "metadata": {},
   "outputs": [
    {
     "data": {
      "text/html": [
       "<div>\n",
       "<style scoped>\n",
       "    .dataframe tbody tr th:only-of-type {\n",
       "        vertical-align: middle;\n",
       "    }\n",
       "\n",
       "    .dataframe tbody tr th {\n",
       "        vertical-align: top;\n",
       "    }\n",
       "\n",
       "    .dataframe thead th {\n",
       "        text-align: right;\n",
       "    }\n",
       "</style>\n",
       "<table border=\"1\" class=\"dataframe\">\n",
       "  <thead>\n",
       "    <tr style=\"text-align: right;\">\n",
       "      <th></th>\n",
       "      <th>id</th>\n",
       "      <th>Length</th>\n",
       "      <th>Diameter</th>\n",
       "      <th>Height</th>\n",
       "      <th>Whole weight</th>\n",
       "      <th>Whole weight.1</th>\n",
       "      <th>Whole weight.2</th>\n",
       "      <th>Shell weight</th>\n",
       "      <th>Rings</th>\n",
       "    </tr>\n",
       "  </thead>\n",
       "  <tbody>\n",
       "    <tr>\n",
       "      <th>count</th>\n",
       "      <td>90609.000000</td>\n",
       "      <td>90609.000000</td>\n",
       "      <td>90609.000000</td>\n",
       "      <td>90609.000000</td>\n",
       "      <td>90609.000000</td>\n",
       "      <td>90609.000000</td>\n",
       "      <td>90609.000000</td>\n",
       "      <td>90609.000000</td>\n",
       "      <td>90609.000000</td>\n",
       "    </tr>\n",
       "    <tr>\n",
       "      <th>mean</th>\n",
       "      <td>45307.061992</td>\n",
       "      <td>0.413621</td>\n",
       "      <td>0.335131</td>\n",
       "      <td>0.126490</td>\n",
       "      <td>0.548729</td>\n",
       "      <td>0.281960</td>\n",
       "      <td>0.152858</td>\n",
       "      <td>0.198138</td>\n",
       "      <td>9.696918</td>\n",
       "    </tr>\n",
       "    <tr>\n",
       "      <th>std</th>\n",
       "      <td>26158.188586</td>\n",
       "      <td>0.080807</td>\n",
       "      <td>0.072083</td>\n",
       "      <td>0.033463</td>\n",
       "      <td>0.258492</td>\n",
       "      <td>0.149587</td>\n",
       "      <td>0.085182</td>\n",
       "      <td>0.104857</td>\n",
       "      <td>3.176278</td>\n",
       "    </tr>\n",
       "    <tr>\n",
       "      <th>min</th>\n",
       "      <td>0.000000</td>\n",
       "      <td>0.072321</td>\n",
       "      <td>0.053541</td>\n",
       "      <td>0.003992</td>\n",
       "      <td>0.001998</td>\n",
       "      <td>0.001000</td>\n",
       "      <td>0.000500</td>\n",
       "      <td>0.001499</td>\n",
       "      <td>1.000000</td>\n",
       "    </tr>\n",
       "    <tr>\n",
       "      <th>25%</th>\n",
       "      <td>22654.000000</td>\n",
       "      <td>0.368109</td>\n",
       "      <td>0.296394</td>\n",
       "      <td>0.104360</td>\n",
       "      <td>0.350305</td>\n",
       "      <td>0.163394</td>\n",
       "      <td>0.082962</td>\n",
       "      <td>0.113329</td>\n",
       "      <td>8.000000</td>\n",
       "    </tr>\n",
       "    <tr>\n",
       "      <th>50%</th>\n",
       "      <td>45307.000000</td>\n",
       "      <td>0.435024</td>\n",
       "      <td>0.354172</td>\n",
       "      <td>0.131028</td>\n",
       "      <td>0.587509</td>\n",
       "      <td>0.285179</td>\n",
       "      <td>0.153579</td>\n",
       "      <td>0.202941</td>\n",
       "      <td>9.000000</td>\n",
       "    </tr>\n",
       "    <tr>\n",
       "      <th>75%</th>\n",
       "      <td>67960.000000</td>\n",
       "      <td>0.470004</td>\n",
       "      <td>0.385262</td>\n",
       "      <td>0.148420</td>\n",
       "      <td>0.726340</td>\n",
       "      <td>0.380489</td>\n",
       "      <td>0.209045</td>\n",
       "      <td>0.266203</td>\n",
       "      <td>11.000000</td>\n",
       "    </tr>\n",
       "    <tr>\n",
       "      <th>max</th>\n",
       "      <td>90614.000000</td>\n",
       "      <td>0.596085</td>\n",
       "      <td>0.500775</td>\n",
       "      <td>0.756122</td>\n",
       "      <td>1.341689</td>\n",
       "      <td>0.911479</td>\n",
       "      <td>0.565314</td>\n",
       "      <td>0.695644</td>\n",
       "      <td>29.000000</td>\n",
       "    </tr>\n",
       "  </tbody>\n",
       "</table>\n",
       "</div>"
      ],
      "text/plain": [
       "                 id        Length      Diameter        Height  Whole weight  \\\n",
       "count  90609.000000  90609.000000  90609.000000  90609.000000  90609.000000   \n",
       "mean   45307.061992      0.413621      0.335131      0.126490      0.548729   \n",
       "std    26158.188586      0.080807      0.072083      0.033463      0.258492   \n",
       "min        0.000000      0.072321      0.053541      0.003992      0.001998   \n",
       "25%    22654.000000      0.368109      0.296394      0.104360      0.350305   \n",
       "50%    45307.000000      0.435024      0.354172      0.131028      0.587509   \n",
       "75%    67960.000000      0.470004      0.385262      0.148420      0.726340   \n",
       "max    90614.000000      0.596085      0.500775      0.756122      1.341689   \n",
       "\n",
       "       Whole weight.1  Whole weight.2  Shell weight         Rings  \n",
       "count    90609.000000    90609.000000  90609.000000  90609.000000  \n",
       "mean         0.281960        0.152858      0.198138      9.696918  \n",
       "std          0.149587        0.085182      0.104857      3.176278  \n",
       "min          0.001000        0.000500      0.001499      1.000000  \n",
       "25%          0.163394        0.082962      0.113329      8.000000  \n",
       "50%          0.285179        0.153579      0.202941      9.000000  \n",
       "75%          0.380489        0.209045      0.266203     11.000000  \n",
       "max          0.911479        0.565314      0.695644     29.000000  "
      ]
     },
     "execution_count": 731,
     "metadata": {},
     "output_type": "execute_result"
    }
   ],
   "source": [
    "# 統計情報を取得\n",
    "df_train.describe()"
   ]
  },
  {
   "cell_type": "code",
   "execution_count": 732,
   "metadata": {},
   "outputs": [
    {
     "data": {
      "image/png": "[encoded data removed]",
      "text/plain": [
       "<Figure size 1200x1000 with 9 Axes>"
      ]
     },
     "metadata": {},
     "output_type": "display_data"
    }
   ],
   "source": [
    "df_train.hist(bins=30, figsize=(12, 10))\n",
    "plt.show()"
   ]
  },
  {
   "cell_type": "code",
   "execution_count": 733,
   "metadata": {},
   "outputs": [
    {
     "data": {
      "image/png": "[encoded data removed]",
      "text/plain": [
       "<Figure size 1200x1000 with 9 Axes>"
      ]
     },
     "metadata": {},
     "output_type": "display_data"
    }
   ],
   "source": [
    "df_test.hist(bins=30, figsize=(12, 10))\n",
    "plt.show()\n"
   ]
  },
  {
   "cell_type": "markdown",
   "metadata": {},
   "source": [
    "?14が欠けているのはなぜだろう。<br>\n",
    "稚貝は年輪が少なく、雄雌はだいたい同じくらいか。"
   ]
  },
  {
   "cell_type": "code",
   "execution_count": 734,
   "metadata": {},
   "outputs": [
    {
     "data": {
      "text/plain": [
       "['id',\n",
       " 'Length',\n",
       " 'Diameter',\n",
       " 'Height',\n",
       " 'Whole weight',\n",
       " 'Whole weight.1',\n",
       " 'Whole weight.2',\n",
       " 'Shell weight',\n",
       " 'Rings',\n",
       " 'F',\n",
       " 'I',\n",
       " 'M']"
      ]
     },
     "execution_count": 734,
     "metadata": {},
     "output_type": "execute_result"
    }
   ],
   "source": [
    "column_names = df_train.columns.tolist()\n",
    "column_names"
   ]
  },
  {
   "cell_type": "code",
   "execution_count": 735,
   "metadata": {},
   "outputs": [
    {
     "data": {
      "text/plain": [
       "\"\\n# 数値列のみを抽出\\nnumerical_columns = [\\n 'id',\\n 'Length',\\n 'Diameter',\\n 'Height',\\n 'Whole weight',\\n 'Whole weight.1',\\n 'Whole weight.2',\\n 'Shell weight',\\n 'Rings',\\n 'F',\\n 'I',\\n 'M']\\n\\n# カテゴリカルな列を抽出\\ncategorical_column =  ['F', 'I', 'M']\\n\\n# カテゴリカルな列のヒストグラムを描画する\\nplt.figure(figsize=(12, 10))\\nplt.subplot(3, 4, 1)\\nsns.countplot(data=df_train, x=categorical_column, color='skyblue')\\nplt.xlabel(categorical_column)\\nplt.ylabel('Count')\\n\\n# 数値列のヒストグラムを描画する\\nfor i, column in enumerate(numerical_columns, 2):\\n    plt.subplot(3, 3, i)\\n    sns.histplot(df_train[column], bins=20, kde=True, color='skyblue')\\n    plt.xlabel(column)\\n    plt.ylabel('Frequency')\\n\\nplt.tight_layout()\\nplt.show()\\n\""
      ]
     },
     "execution_count": 735,
     "metadata": {},
     "output_type": "execute_result"
    }
   ],
   "source": [
    "'''\n",
    "# 数値列のみを抽出\n",
    "numerical_columns = [\n",
    " 'id',\n",
    " 'Length',\n",
    " 'Diameter',\n",
    " 'Height',\n",
    " 'Whole weight',\n",
    " 'Whole weight.1',\n",
    " 'Whole weight.2',\n",
    " 'Shell weight',\n",
    " 'Rings',\n",
    " 'F',\n",
    " 'I',\n",
    " 'M']\n",
    "\n",
    "# カテゴリカルな列を抽出\n",
    "categorical_column =  ['F', 'I', 'M']\n",
    "\n",
    "# カテゴリカルな列のヒストグラムを描画する\n",
    "plt.figure(figsize=(12, 10))\n",
    "plt.subplot(3, 4, 1)\n",
    "sns.countplot(data=df_train, x=categorical_column, color='skyblue')\n",
    "plt.xlabel(categorical_column)\n",
    "plt.ylabel('Count')\n",
    "\n",
    "# 数値列のヒストグラムを描画する\n",
    "for i, column in enumerate(numerical_columns, 2):\n",
    "    plt.subplot(3, 3, i)\n",
    "    sns.histplot(df_train[column], bins=20, kde=True, color='skyblue')\n",
    "    plt.xlabel(column)\n",
    "    plt.ylabel('Frequency')\n",
    "\n",
    "plt.tight_layout()\n",
    "plt.show()\n",
    "'''"
   ]
  },
  {
   "cell_type": "code",
   "execution_count": 736,
   "metadata": {},
   "outputs": [],
   "source": [
    "#sns.stripplot(x='Height', data=df_train)"
   ]
  },
  {
   "cell_type": "code",
   "execution_count": 737,
   "metadata": {},
   "outputs": [],
   "source": [
    "#df_train.query('Height >= 0.4')"
   ]
  },
  {
   "cell_type": "markdown",
   "metadata": {},
   "source": [
    "Heightが大きいというのは、縦長に育った可能性がある。<br>\n",
    "外れ値と見なさずそのまま残す。"
   ]
  },
  {
   "cell_type": "code",
   "execution_count": 738,
   "metadata": {},
   "outputs": [
    {
     "name": "stderr",
     "output_type": "stream",
     "text": [
      "C:\\Users\\whand\\AppData\\Local\\Packages\\PythonSoftwareFoundation.Python.3.11_qbz5n2kfra8p0\\LocalCache\\local-packages\\Python311\\site-packages\\seaborn\\matrix.py:260: FutureWarning: Format strings passed to MaskedConstant are ignored, but in future may error or produce different behavior\n",
      "  annotation = (\"{:\" + self.fmt + \"}\").format(val)\n",
      "C:\\Users\\whand\\AppData\\Local\\Packages\\PythonSoftwareFoundation.Python.3.11_qbz5n2kfra8p0\\LocalCache\\local-packages\\Python311\\site-packages\\seaborn\\matrix.py:260: FutureWarning: Format strings passed to MaskedConstant are ignored, but in future may error or produce different behavior\n",
      "  annotation = (\"{:\" + self.fmt + \"}\").format(val)\n"
     ]
    },
    {
     "data": {
      "image/png": "[encoded data removed]",
      "text/plain": [
       "<Figure size 1000x900 with 1 Axes>"
      ]
     },
     "metadata": {},
     "output_type": "display_data"
    }
   ],
   "source": [
    "\n",
    "soukan = df_train.corr()\n",
    "\n",
    "n = soukan.shape[0]\n",
    "mask = np.triu(np.ones((n, n), dtype=bool), k=1)\n",
    "\n",
    "plt.figure(figsize=(10, 9))\n",
    "sns.heatmap(soukan, annot=True, cmap='coolwarm', fmt=\".2f\", mask=mask, cbar=False)\n",
    "sns.heatmap(soukan, annot=True, cmap='Greys', fmt=\".2f\", mask=~mask, cbar=False)\n",
    "plt.savefig('heatmap_2comb.png', bbox_inches='tight')\n",
    "plt.show()\n"
   ]
  },
  {
   "cell_type": "markdown",
   "metadata": {},
   "source": [
    "Diameter、Lengthの相関係数は正の相関が強い。<br>\n",
    "⇒両方ともその他との相関係数は高めで似通っている。lengthのみ使用していく。<br>\n",
    "Whole weightとwholeweight.1、.2も正の相関が強く出ている。<br>\n",
    ".1、.2、shellweightを足し合わせたものがwholeweigtのような感じがする。<br>\n",
    "⇒wholeerightを除去してみる。\n"
   ]
  },
  {
   "cell_type": "code",
   "execution_count": 739,
   "metadata": {},
   "outputs": [
    {
     "data": {
      "text/plain": [
       "\"\\ndf_train = df_train.drop(columns=['Diameter', 'Whole weight'])\\n\""
      ]
     },
     "execution_count": 739,
     "metadata": {},
     "output_type": "execute_result"
    }
   ],
   "source": [
    "#多重共線性がどうこうなっているかと思ったが、以下ドロップするとScoreが下がったためなかったことにする。\n",
    "'''\n",
    "df_train = df_train.drop(columns=['Diameter', 'Whole weight'])\n",
    "'''\n"
   ]
  },
  {
   "cell_type": "markdown",
   "metadata": {},
   "source": [
    "---"
   ]
  },
  {
   "cell_type": "markdown",
   "metadata": {},
   "source": [
    "### 可視化"
   ]
  },
  {
   "cell_type": "code",
   "execution_count": 740,
   "metadata": {},
   "outputs": [
    {
     "ename": "ModuleNotFoundError",
     "evalue": "No module named 'ipywidgets'",
     "output_type": "error",
     "traceback": [
      "\u001b[1;31m---------------------------------------------------------------------------\u001b[0m",
      "\u001b[1;31mModuleNotFoundError\u001b[0m                       Traceback (most recent call last)",
      "File \u001b[1;32m~\\AppData\\Local\\Packages\\PythonSoftwareFoundation.Python.3.11_qbz5n2kfra8p0\\LocalCache\\local-packages\\Python311\\site-packages\\IPython\\core\\formatters.py:347\u001b[0m, in \u001b[0;36mBaseFormatter.__call__\u001b[1;34m(self, obj)\u001b[0m\n\u001b[0;32m    345\u001b[0m     method \u001b[38;5;241m=\u001b[39m get_real_method(obj, \u001b[38;5;28mself\u001b[39m\u001b[38;5;241m.\u001b[39mprint_method)\n\u001b[0;32m    346\u001b[0m     \u001b[38;5;28;01mif\u001b[39;00m method \u001b[38;5;129;01mis\u001b[39;00m \u001b[38;5;129;01mnot\u001b[39;00m \u001b[38;5;28;01mNone\u001b[39;00m:\n\u001b[1;32m--> 347\u001b[0m         \u001b[38;5;28;01mreturn\u001b[39;00m \u001b[43mmethod\u001b[49m\u001b[43m(\u001b[49m\u001b[43m)\u001b[49m\n\u001b[0;32m    348\u001b[0m     \u001b[38;5;28;01mreturn\u001b[39;00m \u001b[38;5;28;01mNone\u001b[39;00m\n\u001b[0;32m    349\u001b[0m \u001b[38;5;28;01melse\u001b[39;00m:\n",
      "File \u001b[1;32m~\\AppData\\Local\\Packages\\PythonSoftwareFoundation.Python.3.11_qbz5n2kfra8p0\\LocalCache\\local-packages\\Python311\\site-packages\\ydata_profiling\\profile_report.py:537\u001b[0m, in \u001b[0;36mProfileReport._repr_html_\u001b[1;34m(self)\u001b[0m\n\u001b[0;32m    535\u001b[0m \u001b[38;5;28;01mdef\u001b[39;00m \u001b[38;5;21m_repr_html_\u001b[39m(\u001b[38;5;28mself\u001b[39m) \u001b[38;5;241m-\u001b[39m\u001b[38;5;241m>\u001b[39m \u001b[38;5;28;01mNone\u001b[39;00m:\n\u001b[0;32m    536\u001b[0m \u001b[38;5;250m    \u001b[39m\u001b[38;5;124;03m\"\"\"The ipython notebook widgets user interface gets called by the jupyter notebook.\"\"\"\u001b[39;00m\n\u001b[1;32m--> 537\u001b[0m     \u001b[38;5;28;43mself\u001b[39;49m\u001b[38;5;241;43m.\u001b[39;49m\u001b[43mto_notebook_iframe\u001b[49m\u001b[43m(\u001b[49m\u001b[43m)\u001b[49m\n",
      "File \u001b[1;32m~\\AppData\\Local\\Packages\\PythonSoftwareFoundation.Python.3.11_qbz5n2kfra8p0\\LocalCache\\local-packages\\Python311\\site-packages\\ydata_profiling\\profile_report.py:510\u001b[0m, in \u001b[0;36mProfileReport.to_notebook_iframe\u001b[1;34m(self)\u001b[0m\n\u001b[0;32m    499\u001b[0m \u001b[38;5;250m\u001b[39m\u001b[38;5;124;03m\"\"\"Used to output the HTML representation to a Jupyter notebook.\u001b[39;00m\n\u001b[0;32m    500\u001b[0m \u001b[38;5;124;03mWhen config.notebook.iframe.attribute is \"src\", this function creates a temporary HTML file\u001b[39;00m\n\u001b[0;32m    501\u001b[0m \u001b[38;5;124;03min `./tmp/profile_[hash].html` and returns an Iframe pointing to that contents.\u001b[39;00m\n\u001b[1;32m   (...)\u001b[0m\n\u001b[0;32m    506\u001b[0m \u001b[38;5;124;03m    This constructions solves problems with conflicting stylesheets and navigation links.\u001b[39;00m\n\u001b[0;32m    507\u001b[0m \u001b[38;5;124;03m\"\"\"\u001b[39;00m\n\u001b[0;32m    508\u001b[0m \u001b[38;5;28;01mfrom\u001b[39;00m \u001b[38;5;21;01mIPython\u001b[39;00m\u001b[38;5;21;01m.\u001b[39;00m\u001b[38;5;21;01mcore\u001b[39;00m\u001b[38;5;21;01m.\u001b[39;00m\u001b[38;5;21;01mdisplay\u001b[39;00m \u001b[38;5;28;01mimport\u001b[39;00m display\n\u001b[1;32m--> 510\u001b[0m \u001b[38;5;28;01mfrom\u001b[39;00m \u001b[38;5;21;01mydata_profiling\u001b[39;00m\u001b[38;5;21;01m.\u001b[39;00m\u001b[38;5;21;01mreport\u001b[39;00m\u001b[38;5;21;01m.\u001b[39;00m\u001b[38;5;21;01mpresentation\u001b[39;00m\u001b[38;5;21;01m.\u001b[39;00m\u001b[38;5;21;01mflavours\u001b[39;00m\u001b[38;5;21;01m.\u001b[39;00m\u001b[38;5;21;01mwidget\u001b[39;00m\u001b[38;5;21;01m.\u001b[39;00m\u001b[38;5;21;01mnotebook\u001b[39;00m \u001b[38;5;28;01mimport\u001b[39;00m (\n\u001b[0;32m    511\u001b[0m     get_notebook_iframe,\n\u001b[0;32m    512\u001b[0m )\n\u001b[0;32m    514\u001b[0m \u001b[38;5;66;03m# Ignore warning: https://github.com/ipython/ipython/pull/11350/files\u001b[39;00m\n\u001b[0;32m    515\u001b[0m \u001b[38;5;28;01mwith\u001b[39;00m warnings\u001b[38;5;241m.\u001b[39mcatch_warnings():\n",
      "File \u001b[1;32m~\\AppData\\Local\\Packages\\PythonSoftwareFoundation.Python.3.11_qbz5n2kfra8p0\\LocalCache\\local-packages\\Python311\\site-packages\\ydata_profiling\\report\\presentation\\flavours\\widget\\__init__.py:1\u001b[0m\n\u001b[1;32m----> 1\u001b[0m \u001b[38;5;28;01mfrom\u001b[39;00m \u001b[38;5;21;01mydata_profiling\u001b[39;00m\u001b[38;5;21;01m.\u001b[39;00m\u001b[38;5;21;01mreport\u001b[39;00m\u001b[38;5;21;01m.\u001b[39;00m\u001b[38;5;21;01mpresentation\u001b[39;00m\u001b[38;5;21;01m.\u001b[39;00m\u001b[38;5;21;01mflavours\u001b[39;00m\u001b[38;5;21;01m.\u001b[39;00m\u001b[38;5;21;01mwidget\u001b[39;00m\u001b[38;5;21;01m.\u001b[39;00m\u001b[38;5;21;01malerts\u001b[39;00m \u001b[38;5;28;01mimport\u001b[39;00m WidgetAlerts\n\u001b[0;32m      2\u001b[0m \u001b[38;5;28;01mfrom\u001b[39;00m \u001b[38;5;21;01mydata_profiling\u001b[39;00m\u001b[38;5;21;01m.\u001b[39;00m\u001b[38;5;21;01mreport\u001b[39;00m\u001b[38;5;21;01m.\u001b[39;00m\u001b[38;5;21;01mpresentation\u001b[39;00m\u001b[38;5;21;01m.\u001b[39;00m\u001b[38;5;21;01mflavours\u001b[39;00m\u001b[38;5;21;01m.\u001b[39;00m\u001b[38;5;21;01mwidget\u001b[39;00m\u001b[38;5;21;01m.\u001b[39;00m\u001b[38;5;21;01mcollapse\u001b[39;00m \u001b[38;5;28;01mimport\u001b[39;00m WidgetCollapse\n\u001b[0;32m      3\u001b[0m \u001b[38;5;28;01mfrom\u001b[39;00m \u001b[38;5;21;01mydata_profiling\u001b[39;00m\u001b[38;5;21;01m.\u001b[39;00m\u001b[38;5;21;01mreport\u001b[39;00m\u001b[38;5;21;01m.\u001b[39;00m\u001b[38;5;21;01mpresentation\u001b[39;00m\u001b[38;5;21;01m.\u001b[39;00m\u001b[38;5;21;01mflavours\u001b[39;00m\u001b[38;5;21;01m.\u001b[39;00m\u001b[38;5;21;01mwidget\u001b[39;00m\u001b[38;5;21;01m.\u001b[39;00m\u001b[38;5;21;01mcontainer\u001b[39;00m \u001b[38;5;28;01mimport\u001b[39;00m (\n\u001b[0;32m      4\u001b[0m     WidgetContainer,\n\u001b[0;32m      5\u001b[0m )\n",
      "File \u001b[1;32m~\\AppData\\Local\\Packages\\PythonSoftwareFoundation.Python.3.11_qbz5n2kfra8p0\\LocalCache\\local-packages\\Python311\\site-packages\\ydata_profiling\\report\\presentation\\flavours\\widget\\alerts.py:3\u001b[0m\n\u001b[0;32m      1\u001b[0m \u001b[38;5;28;01mfrom\u001b[39;00m \u001b[38;5;21;01mtyping\u001b[39;00m \u001b[38;5;28;01mimport\u001b[39;00m List\n\u001b[1;32m----> 3\u001b[0m \u001b[38;5;28;01mfrom\u001b[39;00m \u001b[38;5;21;01mipywidgets\u001b[39;00m \u001b[38;5;28;01mimport\u001b[39;00m HTML, Button, widgets\n\u001b[0;32m      5\u001b[0m \u001b[38;5;28;01mfrom\u001b[39;00m \u001b[38;5;21;01mydata_profiling\u001b[39;00m\u001b[38;5;21;01m.\u001b[39;00m\u001b[38;5;21;01mreport\u001b[39;00m\u001b[38;5;21;01m.\u001b[39;00m\u001b[38;5;21;01mpresentation\u001b[39;00m\u001b[38;5;21;01m.\u001b[39;00m\u001b[38;5;21;01mcore\u001b[39;00m \u001b[38;5;28;01mimport\u001b[39;00m Alerts\n\u001b[0;32m      6\u001b[0m \u001b[38;5;28;01mfrom\u001b[39;00m \u001b[38;5;21;01mydata_profiling\u001b[39;00m\u001b[38;5;21;01m.\u001b[39;00m\u001b[38;5;21;01mreport\u001b[39;00m\u001b[38;5;21;01m.\u001b[39;00m\u001b[38;5;21;01mpresentation\u001b[39;00m\u001b[38;5;21;01m.\u001b[39;00m\u001b[38;5;21;01mflavours\u001b[39;00m\u001b[38;5;21;01m.\u001b[39;00m\u001b[38;5;21;01mhtml\u001b[39;00m \u001b[38;5;28;01mimport\u001b[39;00m templates\n",
      "\u001b[1;31mModuleNotFoundError\u001b[0m: No module named 'ipywidgets'"
     ]
    },
    {
     "data": {
      "text/plain": []
     },
     "execution_count": 740,
     "metadata": {},
     "output_type": "execute_result"
    }
   ],
   "source": [
    "\n",
    "import ydata_profiling\n",
    "df_train.profile_report()\n"
   ]
  },
  {
   "cell_type": "markdown",
   "metadata": {},
   "source": [
    "---"
   ]
  },
  {
   "cell_type": "markdown",
   "metadata": {},
   "source": [
    "### 予測モデルの学習"
   ]
  },
  {
   "cell_type": "code",
   "execution_count": 741,
   "metadata": {},
   "outputs": [],
   "source": [
    "#説明変数X（Rings以外)と目的変数(Rings)に分ける。\n",
    "X = df_train.drop(columns=['id', 'Rings']).to_numpy()\n",
    "y = df_train['Rings'].to_numpy()"
   ]
  },
  {
   "cell_type": "code",
   "execution_count": 742,
   "metadata": {},
   "outputs": [
    {
     "name": "stderr",
     "output_type": "stream",
     "text": [
      "[I 2024-04-27 22:40:02,248] A new study created in memory with name: no-name-f867885e-4c3d-42b7-bdc6-d7e986167587\n",
      "[I 2024-04-27 22:40:03,262] Trial 0 finished with value: 0.14960048739852755 and parameters: {'learning_rate': 0.0249816047538945, 'n_estimators': 591, 'lambda_l1': 0.012319939418114049, 'lambda_l2': 0.04394633936788146, 'max_depth': 7, 'colsample_bytree': 0.3935967122017216, 'subsample': 0.8116167224336399, 'min_child_samples': 45}. Best is trial 0 with value: 0.14960048739852755.\n",
      "[I 2024-04-27 22:40:04,097] Trial 1 finished with value: 0.14922399545456647 and parameters: {'learning_rate': 0.034044600469728355, 'n_estimators': 542, 'lambda_l1': 0.005205844942958024, 'lambda_l2': 0.05879639408647977, 'max_depth': 13, 'colsample_bytree': 0.4274034664069657, 'subsample': 0.8363649934414201, 'min_child_samples': 17}. Best is trial 1 with value: 0.14922399545456647.\n",
      "[I 2024-04-27 22:40:04,942] Trial 2 finished with value: 0.14999885378101685 and parameters: {'learning_rate': 0.02216968971838151, 'n_estimators': 505, 'lambda_l1': 0.009319450186421156, 'lambda_l2': 0.03164916560792168, 'max_depth': 11, 'colsample_bytree': 0.3836963163912251, 'subsample': 0.8584289297070437, 'min_child_samples': 25}. Best is trial 1 with value: 0.14922399545456647.\n",
      "[I 2024-04-27 22:40:05,834] Trial 3 finished with value: 0.14987127921328441 and parameters: {'learning_rate': 0.02824279936868144, 'n_estimators': 557, 'lambda_l1': 0.006996737821583597, 'lambda_l2': 0.040569377536544465, 'max_depth': 11, 'colsample_bytree': 0.3278702476319986, 'subsample': 0.9215089703802877, 'min_child_samples': 16}. Best is trial 1 with value: 0.14922399545456647.\n",
      "[I 2024-04-27 22:40:06,823] Trial 4 finished with value: 0.15099211198373214 and parameters: {'learning_rate': 0.01260206371941118, 'n_estimators': 590, 'lambda_l1': 0.014656320330745591, 'lambda_l2': 0.05233589392465844, 'max_depth': 8, 'colsample_bytree': 0.35860326840383033, 'subsample': 0.9368466053024314, 'min_child_samples': 28}. Best is trial 1 with value: 0.14922399545456647.\n",
      "[I 2024-04-27 22:40:07,655] Trial 5 finished with value: 0.14985550397778702 and parameters: {'learning_rate': 0.014881529393791153, 'n_estimators': 499, 'lambda_l1': 0.005343885211152184, 'lambda_l2': 0.056372816083151284, 'max_depth': 8, 'colsample_bytree': 0.6975133706123893, 'subsample': 0.8623422152178822, 'min_child_samples': 31}. Best is trial 1 with value: 0.14922399545456647.\n",
      "[I 2024-04-27 22:40:08,375] Trial 6 finished with value: 0.14909375608014738 and parameters: {'learning_rate': 0.03186841117373119, 'n_estimators': 437, 'lambda_l1': 0.014695846277645586, 'lambda_l2': 0.051005312934444574, 'max_depth': 14, 'colsample_bytree': 0.8368964102565895, 'subsample': 0.919579995762217, 'min_child_samples': 47}. Best is trial 6 with value: 0.14909375608014738.\n",
      "[I 2024-04-27 22:40:09,203] Trial 7 finished with value: 0.15049769163585688 and parameters: {'learning_rate': 0.013539700082076781, 'n_estimators': 439, 'lambda_l1': 0.005452272889105381, 'lambda_l2': 0.03301321323053057, 'max_depth': 9, 'colsample_bytree': 0.4628094190643376, 'subsample': 0.9657475018303858, 'min_child_samples': 24}. Best is trial 6 with value: 0.14909375608014738.\n",
      "[I 2024-04-27 22:40:09,936] Trial 8 finished with value: 0.14962334611548078 and parameters: {'learning_rate': 0.02123738038749523, 'n_estimators': 509, 'lambda_l1': 0.006409242249747626, 'lambda_l2': 0.05208787923016159, 'max_depth': 6, 'colsample_bytree': 0.8921321619603104, 'subsample': 0.9544489538593315, 'min_child_samples': 18}. Best is trial 6 with value: 0.14909375608014738.\n",
      "[I 2024-04-27 22:40:10,916] Trial 9 finished with value: 0.15319400554717427 and parameters: {'learning_rate': 0.010220884684944096, 'n_estimators': 563, 'lambda_l1': 0.012068573438476171, 'lambda_l2': 0.04916028672163949, 'max_depth': 12, 'colsample_bytree': 0.3444267910404542, 'subsample': 0.8716931457088546, 'min_child_samples': 14}. Best is trial 6 with value: 0.14909375608014738.\n",
      "[I 2024-04-27 22:40:11,588] Trial 10 finished with value: 0.14875033526099496 and parameters: {'learning_rate': 0.04776514518540598, 'n_estimators': 401, 'lambda_l1': 0.014695371107878656, 'lambda_l2': 0.020718475024592783, 'max_depth': 14, 'colsample_bytree': 0.8445988771695108, 'subsample': 0.9919541491890841, 'min_child_samples': 50}. Best is trial 10 with value: 0.14875033526099496.\n",
      "[I 2024-04-27 22:40:12,275] Trial 11 finished with value: 0.1487440663925553 and parameters: {'learning_rate': 0.04787847505560598, 'n_estimators': 400, 'lambda_l1': 0.014924041633401866, 'lambda_l2': 0.02068744601075835, 'max_depth': 14, 'colsample_bytree': 0.8950907663814264, 'subsample': 0.9972956871793692, 'min_child_samples': 49}. Best is trial 11 with value: 0.1487440663925553.\n",
      "[I 2024-04-27 22:40:12,975] Trial 12 finished with value: 0.14874738677222177 and parameters: {'learning_rate': 0.04977359667415945, 'n_estimators': 400, 'lambda_l1': 0.013224640506009631, 'lambda_l2': 0.020145629812324442, 'max_depth': 14, 'colsample_bytree': 0.7577618901311782, 'subsample': 0.9994220714217644, 'min_child_samples': 39}. Best is trial 11 with value: 0.1487440663925553.\n",
      "[I 2024-04-27 22:40:13,667] Trial 13 finished with value: 0.14864032885743683 and parameters: {'learning_rate': 0.049661733310564844, 'n_estimators': 406, 'lambda_l1': 0.01271929583760193, 'lambda_l2': 0.02038863909047579, 'max_depth': 13, 'colsample_bytree': 0.7178040867927077, 'subsample': 0.9998724877283103, 'min_child_samples': 39}. Best is trial 13 with value: 0.14864032885743683.\n",
      "[I 2024-04-27 22:40:14,428] Trial 14 finished with value: 0.1487903084264546 and parameters: {'learning_rate': 0.04127226123980407, 'n_estimators': 439, 'lambda_l1': 0.010589446508358, 'lambda_l2': 0.02638123593227387, 'max_depth': 12, 'colsample_bytree': 0.5894516608259593, 'subsample': 0.9730467823103742, 'min_child_samples': 39}. Best is trial 13 with value: 0.14864032885743683.\n",
      "[I 2024-04-27 22:40:15,272] Trial 15 finished with value: 0.1487229204055059 and parameters: {'learning_rate': 0.04214285456828254, 'n_estimators': 458, 'lambda_l1': 0.013119512043958295, 'lambda_l2': 0.027427760078053833, 'max_depth': 13, 'colsample_bytree': 0.5853705354163228, 'subsample': 0.8915720044201024, 'min_child_samples': 39}. Best is trial 13 with value: 0.14864032885743683.\n",
      "[I 2024-04-27 22:40:16,074] Trial 16 finished with value: 0.14870646958122608 and parameters: {'learning_rate': 0.04072941192876474, 'n_estimators': 470, 'lambda_l1': 0.010540339782946474, 'lambda_l2': 0.027433683417340725, 'max_depth': 10, 'colsample_bytree': 0.5691702751642564, 'subsample': 0.8792067438915175, 'min_child_samples': 36}. Best is trial 13 with value: 0.14864032885743683.\n",
      "[I 2024-04-27 22:40:16,859] Trial 17 finished with value: 0.1490782237286343 and parameters: {'learning_rate': 0.03777201055416398, 'n_estimators': 474, 'lambda_l1': 0.009592662611529306, 'lambda_l2': 0.0338350106886333, 'max_depth': 10, 'colsample_bytree': 0.5171688306558249, 'subsample': 0.8907756725941252, 'min_child_samples': 34}. Best is trial 13 with value: 0.14864032885743683.\n",
      "[I 2024-04-27 22:40:17,631] Trial 18 finished with value: 0.14853668396650788 and parameters: {'learning_rate': 0.04333996454046668, 'n_estimators': 473, 'lambda_l1': 0.010783436902384893, 'lambda_l2': 0.025794527340589523, 'max_depth': 10, 'colsample_bytree': 0.6764518959689808, 'subsample': 0.8072609626464237, 'min_child_samples': 43}. Best is trial 18 with value: 0.14853668396650788.\n",
      "[I 2024-04-27 22:40:18,338] Trial 19 finished with value: 0.14858003674387246 and parameters: {'learning_rate': 0.044969271162206184, 'n_estimators': 427, 'lambda_l1': 0.008343753541610457, 'lambda_l2': 0.037309824447219656, 'max_depth': 9, 'colsample_bytree': 0.6790441095290508, 'subsample': 0.8012909431951816, 'min_child_samples': 43}. Best is trial 18 with value: 0.14853668396650788.\n",
      "[I 2024-04-27 22:40:19,122] Trial 20 finished with value: 0.14850985212562423 and parameters: {'learning_rate': 0.04416913091082212, 'n_estimators': 483, 'lambda_l1': 0.008794605621813535, 'lambda_l2': 0.03922781773351895, 'max_depth': 9, 'colsample_bytree': 0.6582074332198886, 'subsample': 0.8015399361125182, 'min_child_samples': 44}. Best is trial 20 with value: 0.14850985212562423.\n",
      "[I 2024-04-27 22:40:19,882] Trial 21 finished with value: 0.14857142813206012 and parameters: {'learning_rate': 0.044508240443530855, 'n_estimators': 491, 'lambda_l1': 0.008585302684441886, 'lambda_l2': 0.03905700524094412, 'max_depth': 9, 'colsample_bytree': 0.6635307961687846, 'subsample': 0.8030042423251375, 'min_child_samples': 44}. Best is trial 20 with value: 0.14850985212562423.\n",
      "[I 2024-04-27 22:40:20,666] Trial 22 finished with value: 0.14869862879207096 and parameters: {'learning_rate': 0.037490926983094475, 'n_estimators': 492, 'lambda_l1': 0.008065146234094276, 'lambda_l2': 0.04519416923901438, 'max_depth': 9, 'colsample_bytree': 0.6582268050236642, 'subsample': 0.824651388685747, 'min_child_samples': 43}. Best is trial 20 with value: 0.14850985212562423.\n",
      "[I 2024-04-27 22:40:21,449] Trial 23 finished with value: 0.1484772188377627 and parameters: {'learning_rate': 0.04402468530565208, 'n_estimators': 521, 'lambda_l1': 0.011396695252596154, 'lambda_l2': 0.03818666496608906, 'max_depth': 8, 'colsample_bytree': 0.6355165751793314, 'subsample': 0.8335491018153541, 'min_child_samples': 43}. Best is trial 23 with value: 0.1484772188377627.\n",
      "[I 2024-04-27 22:40:22,269] Trial 24 finished with value: 0.1486251251918612 and parameters: {'learning_rate': 0.036724143615997, 'n_estimators': 515, 'lambda_l1': 0.011136080369719864, 'lambda_l2': 0.036268264056185134, 'max_depth': 8, 'colsample_bytree': 0.7722342120608596, 'subsample': 0.841435168137949, 'min_child_samples': 47}. Best is trial 23 with value: 0.1484772188377627.\n",
      "[I 2024-04-27 22:40:23,059] Trial 25 finished with value: 0.148686881131109 and parameters: {'learning_rate': 0.045527698093871985, 'n_estimators': 525, 'lambda_l1': 0.011516177111131712, 'lambda_l2': 0.043993347250062945, 'max_depth': 7, 'colsample_bytree': 0.6287500741477564, 'subsample': 0.8225785832682307, 'min_child_samples': 10}. Best is trial 23 with value: 0.1484772188377627.\n",
      "[I 2024-04-27 22:40:23,799] Trial 26 finished with value: 0.14895750748840422 and parameters: {'learning_rate': 0.039645214795308616, 'n_estimators': 474, 'lambda_l1': 0.010063324794409018, 'lambda_l2': 0.04163583436621576, 'max_depth': 7, 'colsample_bytree': 0.5339553829922855, 'subsample': 0.8439421987072394, 'min_child_samples': 36}. Best is trial 23 with value: 0.1484772188377627.\n",
      "[I 2024-04-27 22:40:24,615] Trial 27 finished with value: 0.14855852998270444 and parameters: {'learning_rate': 0.04314716497098344, 'n_estimators': 528, 'lambda_l1': 0.00915093358483085, 'lambda_l2': 0.030830844008148783, 'max_depth': 11, 'colsample_bytree': 0.7518537459102609, 'subsample': 0.8189594025247251, 'min_child_samples': 42}. Best is trial 23 with value: 0.1484772188377627.\n",
      "[I 2024-04-27 22:40:25,382] Trial 28 finished with value: 0.14895654893518057 and parameters: {'learning_rate': 0.034455090355469155, 'n_estimators': 456, 'lambda_l1': 0.007664100759684166, 'lambda_l2': 0.02520614002729568, 'max_depth': 10, 'colsample_bytree': 0.6282422272148985, 'subsample': 0.8352970670034142, 'min_child_samples': 32}. Best is trial 23 with value: 0.1484772188377627.\n",
      "[I 2024-04-27 22:40:26,133] Trial 29 finished with value: 0.1494833406203603 and parameters: {'learning_rate': 0.028672882567903728, 'n_estimators': 485, 'lambda_l1': 0.01183468006945025, 'lambda_l2': 0.03585682038597635, 'max_depth': 6, 'colsample_bytree': 0.5123894587016596, 'subsample': 0.8141411496883437, 'min_child_samples': 46}. Best is trial 23 with value: 0.1484772188377627.\n",
      "[I 2024-04-27 22:40:27,034] Trial 30 finished with value: 0.14840497343480477 and parameters: {'learning_rate': 0.04588237266614188, 'n_estimators': 541, 'lambda_l1': 0.010974743162688162, 'lambda_l2': 0.04751525138600024, 'max_depth': 8, 'colsample_bytree': 0.6171696849305701, 'subsample': 0.8522629286675953, 'min_child_samples': 41}. Best is trial 30 with value: 0.14840497343480477.\n",
      "[I 2024-04-27 22:40:28,037] Trial 31 finished with value: 0.148447307545498 and parameters: {'learning_rate': 0.04660352123559594, 'n_estimators': 541, 'lambda_l1': 0.01066314265383997, 'lambda_l2': 0.04760514735654307, 'max_depth': 8, 'colsample_bytree': 0.6269982355478348, 'subsample': 0.8526935964291056, 'min_child_samples': 41}. Best is trial 30 with value: 0.14840497343480477.\n",
      "[I 2024-04-27 22:40:29,007] Trial 32 finished with value: 0.14848071454141382 and parameters: {'learning_rate': 0.04691557573464815, 'n_estimators': 547, 'lambda_l1': 0.009965343260771087, 'lambda_l2': 0.047106668881308794, 'max_depth': 8, 'colsample_bytree': 0.625599112252158, 'subsample': 0.8466986979341461, 'min_child_samples': 40}. Best is trial 30 with value: 0.14840497343480477.\n",
      "[I 2024-04-27 22:40:29,924] Trial 33 finished with value: 0.14835600967500376 and parameters: {'learning_rate': 0.04678381778758313, 'n_estimators': 548, 'lambda_l1': 0.00996816235378092, 'lambda_l2': 0.04723315995013983, 'max_depth': 8, 'colsample_bytree': 0.6159961949637588, 'subsample': 0.851365507096108, 'min_child_samples': 41}. Best is trial 33 with value: 0.14835600967500376.\n",
      "[I 2024-04-27 22:40:30,841] Trial 34 finished with value: 0.1486954933699934 and parameters: {'learning_rate': 0.047198441435856664, 'n_estimators': 578, 'lambda_l1': 0.011297356189771799, 'lambda_l2': 0.055564623377500504, 'max_depth': 7, 'colsample_bytree': 0.478947113618762, 'subsample': 0.8544284960858346, 'min_child_samples': 36}. Best is trial 33 with value: 0.14835600967500376.\n",
      "[I 2024-04-27 22:40:31,702] Trial 35 finished with value: 0.14894061904095604 and parameters: {'learning_rate': 0.03884361204203449, 'n_estimators': 537, 'lambda_l1': 0.013865579127718845, 'lambda_l2': 0.04718561246201131, 'max_depth': 8, 'colsample_bytree': 0.5462259399648921, 'subsample': 0.8632729622070434, 'min_child_samples': 28}. Best is trial 33 with value: 0.14835600967500376.\n",
      "[I 2024-04-27 22:40:32,645] Trial 36 finished with value: 0.14913480333406307 and parameters: {'learning_rate': 0.023725712752320313, 'n_estimators': 561, 'lambda_l1': 0.012307089075354419, 'lambda_l2': 0.042557987625413914, 'max_depth': 7, 'colsample_bytree': 0.7187546005683478, 'subsample': 0.8310768264961981, 'min_child_samples': 34}. Best is trial 33 with value: 0.14835600967500376.\n",
      "[I 2024-04-27 22:40:33,508] Trial 37 finished with value: 0.14869000726898127 and parameters: {'learning_rate': 0.03423811436920813, 'n_estimators': 572, 'lambda_l1': 0.010174790517945278, 'lambda_l2': 0.05533462775401281, 'max_depth': 7, 'colsample_bytree': 0.6210155231173772, 'subsample': 0.9089125829236234, 'min_child_samples': 41}. Best is trial 33 with value: 0.14835600967500376.\n",
      "[I 2024-04-27 22:40:34,374] Trial 38 finished with value: 0.1492147123974222 and parameters: {'learning_rate': 0.04652155789743323, 'n_estimators': 546, 'lambda_l1': 0.00943692176419731, 'lambda_l2': 0.04880576316485511, 'max_depth': 8, 'colsample_bytree': 0.301600776766369, 'subsample': 0.8723805334508222, 'min_child_samples': 46}. Best is trial 33 with value: 0.14835600967500376.\n",
      "[I 2024-04-27 22:40:35,351] Trial 39 finished with value: 0.14876795721396333 and parameters: {'learning_rate': 0.031303959172498744, 'n_estimators': 589, 'lambda_l1': 0.011002218656149518, 'lambda_l2': 0.05803352379816823, 'max_depth': 8, 'colsample_bytree': 0.5519804513447658, 'subsample': 0.8501788196527422, 'min_child_samples': 24}. Best is trial 33 with value: 0.14835600967500376.\n",
      "[I 2024-04-27 22:40:36,136] Trial 40 finished with value: 0.1488071296548046 and parameters: {'learning_rate': 0.049409658798049885, 'n_estimators': 520, 'lambda_l1': 0.011749876096178079, 'lambda_l2': 0.04527801867996673, 'max_depth': 6, 'colsample_bytree': 0.4537730468474609, 'subsample': 0.8825870812271909, 'min_child_samples': 47}. Best is trial 33 with value: 0.14835600967500376.\n",
      "[I 2024-04-27 22:40:37,057] Trial 41 finished with value: 0.14848496432272001 and parameters: {'learning_rate': 0.04666939715016214, 'n_estimators': 548, 'lambda_l1': 0.009778378184476499, 'lambda_l2': 0.04781993943628844, 'max_depth': 8, 'colsample_bytree': 0.6112508118320362, 'subsample': 0.8466993971835514, 'min_child_samples': 40}. Best is trial 33 with value: 0.14835600967500376.\n",
      "[I 2024-04-27 22:40:37,954] Trial 42 finished with value: 0.14955546363818686 and parameters: {'learning_rate': 0.018356845694624167, 'n_estimators': 535, 'lambda_l1': 0.010174856859815333, 'lambda_l2': 0.05044949679947873, 'max_depth': 8, 'colsample_bytree': 0.6417524593416503, 'subsample': 0.8599401891771512, 'min_child_samples': 37}. Best is trial 33 with value: 0.14835600967500376.\n",
      "[I 2024-04-27 22:40:38,885] Trial 43 finished with value: 0.1484511160645418 and parameters: {'learning_rate': 0.04165353020718129, 'n_estimators': 552, 'lambda_l1': 0.009151414083317537, 'lambda_l2': 0.052989648290846215, 'max_depth': 9, 'colsample_bytree': 0.5907699781137089, 'subsample': 0.8355934856609456, 'min_child_samples': 41}. Best is trial 33 with value: 0.14835600967500376.\n",
      "[I 2024-04-27 22:40:39,740] Trial 44 finished with value: 0.1483706700715142 and parameters: {'learning_rate': 0.04224383195722923, 'n_estimators': 555, 'lambda_l1': 0.009085463514405303, 'lambda_l2': 0.0544532357682156, 'max_depth': 9, 'colsample_bytree': 0.5926433723887573, 'subsample': 0.8336714627923003, 'min_child_samples': 49}. Best is trial 33 with value: 0.14835600967500376.\n",
      "[I 2024-04-27 22:40:40,652] Trial 45 finished with value: 0.14880630371497341 and parameters: {'learning_rate': 0.0412373251478967, 'n_estimators': 571, 'lambda_l1': 0.007510064162330335, 'lambda_l2': 0.05303336011210302, 'max_depth': 9, 'colsample_bytree': 0.3953013082238467, 'subsample': 0.8668498418486417, 'min_child_samples': 49}. Best is trial 33 with value: 0.14835600967500376.\n",
      "[I 2024-04-27 22:40:41,619] Trial 46 finished with value: 0.14856138606314392 and parameters: {'learning_rate': 0.035990141478561714, 'n_estimators': 557, 'lambda_l1': 0.00905718556766659, 'lambda_l2': 0.0535045158588983, 'max_depth': 9, 'colsample_bytree': 0.5796276144854862, 'subsample': 0.8250567577469615, 'min_child_samples': 50}. Best is trial 33 with value: 0.14835600967500376.\n",
      "[I 2024-04-27 22:40:42,480] Trial 47 finished with value: 0.14869311770237933 and parameters: {'learning_rate': 0.0485410869900665, 'n_estimators': 555, 'lambda_l1': 0.0065050503043932294, 'lambda_l2': 0.058732163371692736, 'max_depth': 10, 'colsample_bytree': 0.501708955069406, 'subsample': 0.9045489952307592, 'min_child_samples': 33}. Best is trial 33 with value: 0.14835600967500376.\n",
      "[I 2024-04-27 22:40:43,368] Trial 48 finished with value: 0.14862479978199408 and parameters: {'learning_rate': 0.042106374678793884, 'n_estimators': 580, 'lambda_l1': 0.010484842076855861, 'lambda_l2': 0.05106303035609797, 'max_depth': 11, 'colsample_bytree': 0.7019381044416243, 'subsample': 0.8550924237931671, 'min_child_samples': 27}. Best is trial 33 with value: 0.14835600967500376.\n",
      "[I 2024-04-27 22:40:44,192] Trial 49 finished with value: 0.1486688874934796 and parameters: {'learning_rate': 0.04028281166132057, 'n_estimators': 508, 'lambda_l1': 0.009473919201243925, 'lambda_l2': 0.05991822314343472, 'max_depth': 9, 'colsample_bytree': 0.5650261281121851, 'subsample': 0.9383839628899836, 'min_child_samples': 20}. Best is trial 33 with value: 0.14835600967500376.\n",
      "[I 2024-04-27 22:40:45,094] Trial 50 finished with value: 0.14823163556859414 and parameters: {'learning_rate': 0.04589841728953228, 'n_estimators': 598, 'lambda_l1': 0.007908573373481824, 'lambda_l2': 0.04964203352854557, 'max_depth': 9, 'colsample_bytree': 0.6080518153358139, 'subsample': 0.8392638803714021, 'min_child_samples': 38}. Best is trial 50 with value: 0.14823163556859414.\n",
      "[I 2024-04-27 22:40:45,962] Trial 51 finished with value: 0.1483025726381934 and parameters: {'learning_rate': 0.045621924197823675, 'n_estimators': 597, 'lambda_l1': 0.008011251423036278, 'lambda_l2': 0.05443828896396832, 'max_depth': 9, 'colsample_bytree': 0.5949200515524284, 'subsample': 0.8379578941087912, 'min_child_samples': 41}. Best is trial 50 with value: 0.14823163556859414.\n",
      "[I 2024-04-27 22:40:46,870] Trial 52 finished with value: 0.14831638505375666 and parameters: {'learning_rate': 0.04561897413457084, 'n_estimators': 600, 'lambda_l1': 0.007136445851394201, 'lambda_l2': 0.05459439540601001, 'max_depth': 10, 'colsample_bytree': 0.5978317932752559, 'subsample': 0.8129108279335999, 'min_child_samples': 38}. Best is trial 50 with value: 0.14823163556859414.\n",
      "[I 2024-04-27 22:40:47,763] Trial 53 finished with value: 0.14826580211900847 and parameters: {'learning_rate': 0.045451727004610455, 'n_estimators': 600, 'lambda_l1': 0.006608528668894935, 'lambda_l2': 0.05683150755862386, 'max_depth': 10, 'colsample_bytree': 0.6077561260424367, 'subsample': 0.8157509192577412, 'min_child_samples': 38}. Best is trial 50 with value: 0.14823163556859414.\n",
      "[I 2024-04-27 22:40:48,670] Trial 54 finished with value: 0.14831873893539324 and parameters: {'learning_rate': 0.04868204332853737, 'n_estimators': 599, 'lambda_l1': 0.00581011491557695, 'lambda_l2': 0.05712376059024672, 'max_depth': 10, 'colsample_bytree': 0.5940363764715028, 'subsample': 0.8120108929166278, 'min_child_samples': 38}. Best is trial 50 with value: 0.14823163556859414.\n",
      "[I 2024-04-27 22:40:49,577] Trial 55 finished with value: 0.14861041796654662 and parameters: {'learning_rate': 0.04843937150665154, 'n_estimators': 600, 'lambda_l1': 0.005804602843188446, 'lambda_l2': 0.05619168579904165, 'max_depth': 10, 'colsample_bytree': 0.5385083087132785, 'subsample': 0.8120311093645052, 'min_child_samples': 38}. Best is trial 50 with value: 0.14823163556859414.\n",
      "[I 2024-04-27 22:40:50,468] Trial 56 finished with value: 0.14842482785623218 and parameters: {'learning_rate': 0.049784588672650655, 'n_estimators': 600, 'lambda_l1': 0.006841038579487659, 'lambda_l2': 0.057817863370932816, 'max_depth': 11, 'colsample_bytree': 0.5695086837866197, 'subsample': 0.813151950322661, 'min_child_samples': 35}. Best is trial 50 with value: 0.14823163556859414.\n",
      "[I 2024-04-27 22:40:51,407] Trial 57 finished with value: 0.14838449395100833 and parameters: {'learning_rate': 0.044464809592095395, 'n_estimators': 591, 'lambda_l1': 0.005804697183090266, 'lambda_l2': 0.056893579074446164, 'max_depth': 10, 'colsample_bytree': 0.5942131226300592, 'subsample': 0.8158659508510828, 'min_child_samples': 31}. Best is trial 50 with value: 0.14823163556859414.\n",
      "[I 2024-04-27 22:40:52,250] Trial 58 finished with value: 0.14827368023511092 and parameters: {'learning_rate': 0.047995779729718545, 'n_estimators': 584, 'lambda_l1': 0.0073120487984571995, 'lambda_l2': 0.05131730589450799, 'max_depth': 11, 'colsample_bytree': 0.6836877556481813, 'subsample': 0.8268832431423502, 'min_child_samples': 38}. Best is trial 50 with value: 0.14823163556859414.\n",
      "[I 2024-04-27 22:40:53,125] Trial 59 finished with value: 0.14833415980472317 and parameters: {'learning_rate': 0.04829946756063611, 'n_estimators': 585, 'lambda_l1': 0.005094678567114595, 'lambda_l2': 0.051104988033385895, 'max_depth': 11, 'colsample_bytree': 0.7013845412155373, 'subsample': 0.8273231124578617, 'min_child_samples': 38}. Best is trial 50 with value: 0.14823163556859414.\n",
      "[I 2024-04-27 22:40:54,007] Trial 60 finished with value: 0.14832876683682375 and parameters: {'learning_rate': 0.04560109199529054, 'n_estimators': 594, 'lambda_l1': 0.007436426175321808, 'lambda_l2': 0.05459184589495413, 'max_depth': 11, 'colsample_bytree': 0.6782193167498162, 'subsample': 0.810169196640655, 'min_child_samples': 37}. Best is trial 50 with value: 0.14823163556859414.\n",
      "[I 2024-04-27 22:40:54,900] Trial 61 finished with value: 0.14849633906445311 and parameters: {'learning_rate': 0.04521203915877936, 'n_estimators': 596, 'lambda_l1': 0.007264468755601395, 'lambda_l2': 0.05469609677445828, 'max_depth': 12, 'colsample_bytree': 0.6530014024895218, 'subsample': 0.8064927598509283, 'min_child_samples': 37}. Best is trial 50 with value: 0.14823163556859414.\n",
      "[I 2024-04-27 22:40:55,780] Trial 62 finished with value: 0.14850541417608132 and parameters: {'learning_rate': 0.04337274351013531, 'n_estimators': 583, 'lambda_l1': 0.008059839330618095, 'lambda_l2': 0.05711404238244627, 'max_depth': 11, 'colsample_bytree': 0.67527281375177, 'subsample': 0.8085993736296645, 'min_child_samples': 34}. Best is trial 50 with value: 0.14823163556859414.\n",
      "[I 2024-04-27 22:40:56,690] Trial 63 finished with value: 0.14846798284573426 and parameters: {'learning_rate': 0.04547835190802617, 'n_estimators': 573, 'lambda_l1': 0.006437268126191832, 'lambda_l2': 0.05984336925930705, 'max_depth': 10, 'colsample_bytree': 0.7924304694130208, 'subsample': 0.8193809504434328, 'min_child_samples': 38}. Best is trial 50 with value: 0.14823163556859414.\n",
      "[I 2024-04-27 22:40:57,632] Trial 64 finished with value: 0.14829336596737674 and parameters: {'learning_rate': 0.04994958699917948, 'n_estimators': 595, 'lambda_l1': 0.006887093500343944, 'lambda_l2': 0.052047626950207364, 'max_depth': 11, 'colsample_bytree': 0.7460110468148664, 'subsample': 0.8400942528010532, 'min_child_samples': 29}. Best is trial 50 with value: 0.14823163556859414.\n",
      "[I 2024-04-27 22:40:58,708] Trial 65 finished with value: 0.14834585613542525 and parameters: {'learning_rate': 0.049973614386478314, 'n_estimators': 588, 'lambda_l1': 0.006948802949352711, 'lambda_l2': 0.051745695520986214, 'max_depth': 12, 'colsample_bytree': 0.729819839066405, 'subsample': 0.8409757946722572, 'min_child_samples': 30}. Best is trial 50 with value: 0.14823163556859414.\n",
      "[I 2024-04-27 22:40:59,770] Trial 66 finished with value: 0.14840921554987466 and parameters: {'learning_rate': 0.04831808625564772, 'n_estimators': 568, 'lambda_l1': 0.006043340550625115, 'lambda_l2': 0.049536648251670715, 'max_depth': 10, 'colsample_bytree': 0.8120134042452667, 'subsample': 0.825982303069723, 'min_child_samples': 29}. Best is trial 50 with value: 0.14823163556859414.\n",
      "[I 2024-04-27 22:41:01,012] Trial 67 finished with value: 0.14832799630676805 and parameters: {'learning_rate': 0.047765450087849104, 'n_estimators': 595, 'lambda_l1': 0.008059210487276973, 'lambda_l2': 0.05364819753436276, 'max_depth': 10, 'colsample_bytree': 0.741475975682572, 'subsample': 0.8189317948190593, 'min_child_samples': 25}. Best is trial 50 with value: 0.14823163556859414.\n",
      "[I 2024-04-27 22:41:02,064] Trial 68 finished with value: 0.14855248402558902 and parameters: {'learning_rate': 0.04311045114836448, 'n_estimators': 581, 'lambda_l1': 0.006783330993932021, 'lambda_l2': 0.05204916199271146, 'max_depth': 11, 'colsample_bytree': 0.7796656180039652, 'subsample': 0.8397927061849729, 'min_child_samples': 32}. Best is trial 50 with value: 0.14823163556859414.\n",
      "[I 2024-04-27 22:41:03,270] Trial 69 finished with value: 0.14903400175828252 and parameters: {'learning_rate': 0.02720788633806918, 'n_estimators': 576, 'lambda_l1': 0.006147507446538764, 'lambda_l2': 0.056248334267768034, 'max_depth': 10, 'colsample_bytree': 0.6493487926959953, 'subsample': 0.8283173190644372, 'min_child_samples': 35}. Best is trial 50 with value: 0.14823163556859414.\n",
      "[I 2024-04-27 22:41:04,353] Trial 70 finished with value: 0.1486697438126571 and parameters: {'learning_rate': 0.04916381912031712, 'n_estimators': 600, 'lambda_l1': 0.008349596022368535, 'lambda_l2': 0.04973133057486946, 'max_depth': 11, 'colsample_bytree': 0.522711214567281, 'subsample': 0.8000750923145495, 'min_child_samples': 39}. Best is trial 50 with value: 0.14823163556859414.\n",
      "[I 2024-04-27 22:41:05,405] Trial 71 finished with value: 0.14852220979026368 and parameters: {'learning_rate': 0.04765400721264605, 'n_estimators': 593, 'lambda_l1': 0.007895638814921337, 'lambda_l2': 0.053888200812031974, 'max_depth': 10, 'colsample_bytree': 0.743384196744669, 'subsample': 0.8214798194191336, 'min_child_samples': 25}. Best is trial 50 with value: 0.14823163556859414.\n",
      "[I 2024-04-27 22:41:06,510] Trial 72 finished with value: 0.14876149196173205 and parameters: {'learning_rate': 0.0476025513592264, 'n_estimators': 587, 'lambda_l1': 0.005422895501322388, 'lambda_l2': 0.052563794820914875, 'max_depth': 12, 'colsample_bytree': 0.8630095525394618, 'subsample': 0.8170004441540916, 'min_child_samples': 27}. Best is trial 50 with value: 0.14823163556859414.\n",
      "[I 2024-04-27 22:41:07,558] Trial 73 finished with value: 0.14841670020356967 and parameters: {'learning_rate': 0.04415476636765037, 'n_estimators': 593, 'lambda_l1': 0.007201291308424682, 'lambda_l2': 0.05771570747260588, 'max_depth': 10, 'colsample_bytree': 0.6075837268387303, 'subsample': 0.8301371103614017, 'min_child_samples': 22}. Best is trial 50 with value: 0.14823163556859414.\n",
      "[I 2024-04-27 22:41:08,674] Trial 74 finished with value: 0.14829691911408355 and parameters: {'learning_rate': 0.04622739367609243, 'n_estimators': 564, 'lambda_l1': 0.0077452711416832395, 'lambda_l2': 0.05515809182444749, 'max_depth': 9, 'colsample_bytree': 0.689704284509899, 'subsample': 0.8073160589027473, 'min_child_samples': 25}. Best is trial 50 with value: 0.14823163556859414.\n",
      "[I 2024-04-27 22:41:09,750] Trial 75 finished with value: 0.14850812556773682 and parameters: {'learning_rate': 0.04636573157739008, 'n_estimators': 563, 'lambda_l1': 0.0077034260399396525, 'lambda_l2': 0.05545110005557277, 'max_depth': 9, 'colsample_bytree': 0.6958088825176569, 'subsample': 0.8037270984676809, 'min_child_samples': 23}. Best is trial 50 with value: 0.14823163556859414.\n",
      "[I 2024-04-27 22:41:10,819] Trial 76 finished with value: 0.14828529017696523 and parameters: {'learning_rate': 0.043339680028692665, 'n_estimators': 584, 'lambda_l1': 0.006675446968877534, 'lambda_l2': 0.05640700430909453, 'max_depth': 9, 'colsample_bytree': 0.5559132183485798, 'subsample': 0.8081276273048444, 'min_child_samples': 44}. Best is trial 50 with value: 0.14823163556859414.\n",
      "[I 2024-04-27 22:41:11,942] Trial 77 finished with value: 0.14833933864000848 and parameters: {'learning_rate': 0.04496070653663525, 'n_estimators': 584, 'lambda_l1': 0.007057604137610785, 'lambda_l2': 0.05860584741527808, 'max_depth': 9, 'colsample_bytree': 0.5545998909618982, 'subsample': 0.8379724998782234, 'min_child_samples': 45}. Best is trial 50 with value: 0.14823163556859414.\n",
      "[I 2024-04-27 22:41:12,986] Trial 78 finished with value: 0.1489286563158556 and parameters: {'learning_rate': 0.03914154076687273, 'n_estimators': 567, 'lambda_l1': 0.008490301857903787, 'lambda_l2': 0.04868398058695844, 'max_depth': 9, 'colsample_bytree': 0.48154878208144697, 'subsample': 0.8235985811309353, 'min_child_samples': 40}. Best is trial 50 with value: 0.14823163556859414.\n",
      "[I 2024-04-27 22:41:13,998] Trial 79 finished with value: 0.14833017049329214 and parameters: {'learning_rate': 0.04330798100259507, 'n_estimators': 577, 'lambda_l1': 0.006497970822419925, 'lambda_l2': 0.05043465827799335, 'max_depth': 9, 'colsample_bytree': 0.6666211849909678, 'subsample': 0.9819519548253904, 'min_child_samples': 44}. Best is trial 50 with value: 0.14823163556859414.\n",
      "[I 2024-04-27 22:41:15,055] Trial 80 finished with value: 0.14833888244757462 and parameters: {'learning_rate': 0.0425867030587471, 'n_estimators': 589, 'lambda_l1': 0.006626569041016597, 'lambda_l2': 0.055442092985615456, 'max_depth': 12, 'colsample_bytree': 0.718617580805661, 'subsample': 0.8067136938276787, 'min_child_samples': 42}. Best is trial 50 with value: 0.14823163556859414.\n",
      "[I 2024-04-27 22:41:16,168] Trial 81 finished with value: 0.14821905802669752 and parameters: {'learning_rate': 0.04905465286224006, 'n_estimators': 595, 'lambda_l1': 0.005630795819099714, 'lambda_l2': 0.056504100870946435, 'max_depth': 10, 'colsample_bytree': 0.5762265539561713, 'subsample': 0.8111745024809555, 'min_child_samples': 42}. Best is trial 81 with value: 0.14821905802669752.\n",
      "[I 2024-04-27 22:41:17,231] Trial 82 finished with value: 0.14844213059988387 and parameters: {'learning_rate': 0.04580986781592637, 'n_estimators': 584, 'lambda_l1': 0.00732732076750532, 'lambda_l2': 0.052206934075372614, 'max_depth': 9, 'colsample_bytree': 0.563996222384633, 'subsample': 0.8167772238378914, 'min_child_samples': 42}. Best is trial 81 with value: 0.14821905802669752.\n",
      "[I 2024-04-27 22:41:18,276] Trial 83 finished with value: 0.14834246217371222 and parameters: {'learning_rate': 0.04715573753485577, 'n_estimators': 591, 'lambda_l1': 0.006192771098659487, 'lambda_l2': 0.05442067732420318, 'max_depth': 11, 'colsample_bytree': 0.5786671112845535, 'subsample': 0.8323810279492316, 'min_child_samples': 45}. Best is trial 81 with value: 0.14821905802669752.\n",
      "[I 2024-04-27 22:41:19,405] Trial 84 finished with value: 0.14851732588935584 and parameters: {'learning_rate': 0.04441679542088755, 'n_estimators': 577, 'lambda_l1': 0.0076932739510530476, 'lambda_l2': 0.05585249829411629, 'max_depth': 10, 'colsample_bytree': 0.6030820147078978, 'subsample': 0.8451340991757716, 'min_child_samples': 43}. Best is trial 81 with value: 0.14821905802669752.\n",
      "[I 2024-04-27 22:41:20,498] Trial 85 finished with value: 0.14835577302453135 and parameters: {'learning_rate': 0.04894273010441313, 'n_estimators': 595, 'lambda_l1': 0.007029666750934152, 'lambda_l2': 0.045926434447994886, 'max_depth': 9, 'colsample_bytree': 0.6914926001520068, 'subsample': 0.8069263133645523, 'min_child_samples': 40}. Best is trial 81 with value: 0.14821905802669752.\n",
      "[I 2024-04-27 22:41:21,548] Trial 86 finished with value: 0.1487687451272964 and parameters: {'learning_rate': 0.046159507939073106, 'n_estimators': 587, 'lambda_l1': 0.006651668844417961, 'lambda_l2': 0.059431321845622595, 'max_depth': 10, 'colsample_bytree': 0.5287815755913539, 'subsample': 0.8005771423865485, 'min_child_samples': 15}. Best is trial 81 with value: 0.14821905802669752.\n",
      "[I 2024-04-27 22:41:22,666] Trial 87 finished with value: 0.14939483900924344 and parameters: {'learning_rate': 0.020719015397160583, 'n_estimators': 582, 'lambda_l1': 0.005578681565237356, 'lambda_l2': 0.05314494468652845, 'max_depth': 9, 'colsample_bytree': 0.5058212467422928, 'subsample': 0.8211982592469429, 'min_child_samples': 21}. Best is trial 81 with value: 0.14821905802669752.\n",
      "[I 2024-04-27 22:41:23,898] Trial 88 finished with value: 0.15013298866002708 and parameters: {'learning_rate': 0.010842064523612891, 'n_estimators': 565, 'lambda_l1': 0.006335944285757701, 'lambda_l2': 0.05672061763802769, 'max_depth': 10, 'colsample_bytree': 0.6374752545166217, 'subsample': 0.8123130209293977, 'min_child_samples': 36}. Best is trial 81 with value: 0.14821905802669752.\n",
      "[I 2024-04-27 22:41:24,997] Trial 89 finished with value: 0.148454281203493 and parameters: {'learning_rate': 0.040271853049961184, 'n_estimators': 574, 'lambda_l1': 0.008831180400906302, 'lambda_l2': 0.05166677378997731, 'max_depth': 11, 'colsample_bytree': 0.550628891228413, 'subsample': 0.934867138434178, 'min_child_samples': 26}. Best is trial 81 with value: 0.14821905802669752.\n",
      "[I 2024-04-27 22:41:26,030] Trial 90 finished with value: 0.14844156111927334 and parameters: {'learning_rate': 0.04987925919363586, 'n_estimators': 600, 'lambda_l1': 0.007679696708915822, 'lambda_l2': 0.058828147342880804, 'max_depth': 13, 'colsample_bytree': 0.5756350523616409, 'subsample': 0.8363559468151975, 'min_child_samples': 29}. Best is trial 81 with value: 0.14821905802669752.\n",
      "[I 2024-04-27 22:41:27,130] Trial 91 finished with value: 0.14831390814005344 and parameters: {'learning_rate': 0.04884458959394188, 'n_estimators': 597, 'lambda_l1': 0.005796011968531585, 'lambda_l2': 0.05733159530408395, 'max_depth': 10, 'colsample_bytree': 0.6014817421250477, 'subsample': 0.8128379850164705, 'min_child_samples': 39}. Best is trial 81 with value: 0.14821905802669752.\n",
      "[I 2024-04-27 22:41:28,217] Trial 92 finished with value: 0.14836505599571295 and parameters: {'learning_rate': 0.04708305476017608, 'n_estimators': 596, 'lambda_l1': 0.00523624276413608, 'lambda_l2': 0.0580011353967818, 'max_depth': 9, 'colsample_bytree': 0.617842833096453, 'subsample': 0.8155042047218101, 'min_child_samples': 39}. Best is trial 81 with value: 0.14821905802669752.\n",
      "[I 2024-04-27 22:41:29,375] Trial 93 finished with value: 0.148443191642825 and parameters: {'learning_rate': 0.04794448495205307, 'n_estimators': 590, 'lambda_l1': 0.005612956768017428, 'lambda_l2': 0.05393907202335699, 'max_depth': 10, 'colsample_bytree': 0.6412824223098067, 'subsample': 0.8060156618278705, 'min_child_samples': 35}. Best is trial 81 with value: 0.14821905802669752.\n",
      "[I 2024-04-27 22:41:30,586] Trial 94 finished with value: 0.1484745944026584 and parameters: {'learning_rate': 0.04387536034916633, 'n_estimators': 596, 'lambda_l1': 0.006016438812183255, 'lambda_l2': 0.055467242770009674, 'max_depth': 10, 'colsample_bytree': 0.6040062486109367, 'subsample': 0.826329856891975, 'min_child_samples': 18}. Best is trial 81 with value: 0.14821905802669752.\n",
      "[I 2024-04-27 22:41:31,682] Trial 95 finished with value: 0.14825526414543427 and parameters: {'learning_rate': 0.049089825367964225, 'n_estimators': 580, 'lambda_l1': 0.007089228579886361, 'lambda_l2': 0.054796216367112405, 'max_depth': 11, 'colsample_bytree': 0.5830404984856404, 'subsample': 0.8097491568965286, 'min_child_samples': 42}. Best is trial 81 with value: 0.14821905802669752.\n",
      "[I 2024-04-27 22:41:32,824] Trial 96 finished with value: 0.1484117902301518 and parameters: {'learning_rate': 0.048703055804516136, 'n_estimators': 570, 'lambda_l1': 0.005008858249068917, 'lambda_l2': 0.05712086731818085, 'max_depth': 12, 'colsample_bytree': 0.7672181106923641, 'subsample': 0.829828639899616, 'min_child_samples': 44}. Best is trial 81 with value: 0.14821905802669752.\n",
      "[I 2024-04-27 22:41:33,905] Trial 97 finished with value: 0.14861997947634362 and parameters: {'learning_rate': 0.04911721172194588, 'n_estimators': 580, 'lambda_l1': 0.006819675638281563, 'lambda_l2': 0.052756918766899794, 'max_depth': 11, 'colsample_bytree': 0.5390051034593448, 'subsample': 0.8223121302721514, 'min_child_samples': 41}. Best is trial 81 with value: 0.14821905802669752.\n",
      "[I 2024-04-27 22:41:34,986] Trial 98 finished with value: 0.14838553227053883 and parameters: {'learning_rate': 0.046430329888967135, 'n_estimators': 586, 'lambda_l1': 0.007890918128122284, 'lambda_l2': 0.056221947841808124, 'max_depth': 11, 'colsample_bytree': 0.5838498675894498, 'subsample': 0.8044079110596312, 'min_child_samples': 42}. Best is trial 81 with value: 0.14821905802669752.\n",
      "[I 2024-04-27 22:41:36,151] Trial 99 finished with value: 0.14830090847473568 and parameters: {'learning_rate': 0.04762735469723302, 'n_estimators': 578, 'lambda_l1': 0.00746781457486684, 'lambda_l2': 0.05013719726892627, 'max_depth': 11, 'colsample_bytree': 0.563047185422424, 'subsample': 0.8098435088852601, 'min_child_samples': 46}. Best is trial 81 with value: 0.14821905802669752.\n"
     ]
    },
    {
     "name": "stdout",
     "output_type": "stream",
     "text": [
      "==================================================\n",
      "{'learning_rate': 0.04905465286224006, 'n_estimators': 595, 'lambda_l1': 0.005630795819099714, 'lambda_l2': 0.056504100870946435, 'max_depth': 10, 'colsample_bytree': 0.5762265539561713, 'subsample': 0.8111745024809555, 'min_child_samples': 42}\n"
     ]
    }
   ],
   "source": [
    "import optuna\n",
    "from lightgbm import LGBMRegressor\n",
    "from sklearn.model_selection import train_test_split\n",
    "from sklearn.metrics import mean_squared_log_error\n",
    "\n",
    "def objective(trial, X_train, y_train, X_test, y_test):\n",
    "    # LGBMRegressor に最適化するパラメータを定義する\n",
    "    param = {\n",
    "        \"objective\": \"regression\",\n",
    "        \"metric\": \"None\",  # デフォルトのメトリクスを無効にする\n",
    "        \"verbosity\": -1,\n",
    "        \"boosting_type\": \"gbdt\",\n",
    "        \"random_state\": 42,\n",
    "        \"learning_rate\": trial.suggest_float(\"learning_rate\", 0.01, 0.05),\n",
    "        \"n_estimators\": trial.suggest_int(\"n_estimators\", 400, 600), #決定木の数を指定\n",
    "        \"lambda_l1\": trial.suggest_float(\"lambda_l1\", 0.005, 0.015),\n",
    "        \"lambda_l2\": trial.suggest_float(\"lambda_l2\", 0.02, 0.06),\n",
    "        \"max_depth\": trial.suggest_int(\"max_depth\", 6, 14),\n",
    "        \"colsample_bytree\": trial.suggest_float(\"colsample_bytree\", 0.3, 0.9),\n",
    "        \"subsample\": trial.suggest_float(\"subsample\", 0.8, 1.0),\n",
    "        \"min_child_samples\": trial.suggest_int(\"min_child_samples\", 10, 50),\n",
    "    }\n",
    "\n",
    "    # 提案されたパラメータを使用して LGBMRegressor のインスタンスを作成します\n",
    "    lgbm_regressor = LGBMRegressor(**param)\n",
    "    \n",
    "    # トレーニングデータにリグレッサーを当てはめる\n",
    "    lgbm_regressor.fit(X_train, y_train)\n",
    "\n",
    "    # テストデータから予測する\n",
    "    y_pred = lgbm_regressor.predict(X_test)\n",
    "\n",
    "    # RMSLE を計算する\n",
    "    score = np.sqrt(mean_squared_log_error(y_test, y_pred))\n",
    "    \n",
    "    return score  # RMSLE を最小化する\n",
    "\n",
    "# データをトレーニング セットとテスト セットに分割する\n",
    "X_train, X_test, y_train, y_test = train_test_split(X, y, test_size=0.2, random_state=42)  # 必要に応じて test_size を調整します\n",
    "\n",
    "# Optuna 最適化用のサンプラーをセットアップする\n",
    "sampler = optuna.samplers.TPESampler(seed=42)  # 最適化のためにツリー構造の Parzen Estimator サンプラーを使用する\n",
    "\n",
    "# Optuna 最適化のためのスタディ オブジェクトを作成する\n",
    "study = optuna.create_study(direction=\"minimize\", sampler=sampler)  # RMSLE を最小化する\n",
    "\n",
    "# 最適化プロセスを実行する\n",
    "study.optimize(lambda trial: objective(trial, X_train, y_train, X_test, y_test), n_trials=100)\n",
    "\n",
    "# 最適化後に最適なパラメータを取得する\n",
    "best_params = study.best_params\n",
    "\n",
    "print('='*50)\n",
    "print(best_params)"
   ]
  },
  {
   "cell_type": "code",
   "execution_count": 743,
   "metadata": {},
   "outputs": [
    {
     "data": {
      "text/plain": [
       "{'learning_rate': 0.04905465286224006,\n",
       " 'n_estimators': 595,\n",
       " 'lambda_l1': 0.005630795819099714,\n",
       " 'lambda_l2': 0.056504100870946435,\n",
       " 'max_depth': 10,\n",
       " 'colsample_bytree': 0.5762265539561713,\n",
       " 'subsample': 0.8111745024809555,\n",
       " 'min_child_samples': 42}"
      ]
     },
     "execution_count": 743,
     "metadata": {},
     "output_type": "execute_result"
    }
   ],
   "source": [
    "best_params"
   ]
  },
  {
   "cell_type": "markdown",
   "metadata": {},
   "source": [
    "目につくmax_depthが大きくなった時よい結果となる気がする。<br>\n",
    "⇒調べた：大きくなったとか以前に\"max_depth\" は、決定木の深さを制御するパラメータだから単純に複雑なモデルになったというだけの話だった。"
   ]
  },
  {
   "cell_type": "code",
   "execution_count": 744,
   "metadata": {},
   "outputs": [
    {
     "name": "stdout",
     "output_type": "stream",
     "text": [
      "[LightGBM] [Warning] lambda_l1 is set=0.005630795819099714, reg_alpha=0.0 will be ignored. Current value: lambda_l1=0.005630795819099714\n",
      "[LightGBM] [Warning] lambda_l2 is set=0.056504100870946435, reg_lambda=0.0 will be ignored. Current value: lambda_l2=0.056504100870946435\n",
      "[LightGBM] [Warning] Accuracy may be bad since you didn't explicitly set num_leaves OR 2^max_depth > num_leaves. (num_leaves=31).\n",
      "[LightGBM] [Warning] lambda_l1 is set=0.005630795819099714, reg_alpha=0.0 will be ignored. Current value: lambda_l1=0.005630795819099714\n",
      "[LightGBM] [Warning] lambda_l2 is set=0.056504100870946435, reg_lambda=0.0 will be ignored. Current value: lambda_l2=0.056504100870946435\n",
      "[LightGBM] [Warning] Accuracy may be bad since you didn't explicitly set num_leaves OR 2^max_depth > num_leaves. (num_leaves=31).\n",
      "[LightGBM] [Info] Auto-choosing col-wise multi-threading, the overhead of testing was 0.001336 seconds.\n",
      "You can set `force_col_wise=true` to remove the overhead.\n",
      "[LightGBM] [Info] Total Bins 1332\n",
      "[LightGBM] [Info] Number of data points in the train set: 72487, number of used features: 10\n",
      "[LightGBM] [Info] Start training from score 9.692966\n",
      "[LightGBM] [Warning] No further splits with positive gain, best gain: -inf\n",
      "[LightGBM] [Warning] No further splits with positive gain, best gain: -inf\n",
      "[LightGBM] [Warning] No further splits with positive gain, best gain: -inf\n",
      "[LightGBM] [Warning] No further splits with positive gain, best gain: -inf\n",
      "[LightGBM] [Warning] No further splits with positive gain, best gain: -inf\n",
      "[LightGBM] [Warning] No further splits with positive gain, best gain: -inf\n",
      "[LightGBM] [Warning] No further splits with positive gain, best gain: -inf\n",
      "[LightGBM] [Warning] No further splits with positive gain, best gain: -inf\n",
      "[LightGBM] [Warning] No further splits with positive gain, best gain: -inf\n",
      "[LightGBM] [Warning] No further splits with positive gain, best gain: -inf\n",
      "[LightGBM] [Warning] No further splits with positive gain, best gain: -inf\n",
      "[LightGBM] [Warning] No further splits with positive gain, best gain: -inf\n",
      "[LightGBM] [Warning] No further splits with positive gain, best gain: -inf\n",
      "[LightGBM] [Warning] No further splits with positive gain, best gain: -inf\n",
      "[LightGBM] [Warning] No further splits with positive gain, best gain: -inf\n",
      "[LightGBM] [Warning] No further splits with positive gain, best gain: -inf\n",
      "[LightGBM] [Warning] No further splits with positive gain, best gain: -inf\n",
      "[LightGBM] [Warning] No further splits with positive gain, best gain: -inf\n",
      "[LightGBM] [Warning] No further splits with positive gain, best gain: -inf\n",
      "[LightGBM] [Warning] No further splits with positive gain, best gain: -inf\n"
     ]
    },
    {
     "data": {
      "text/html": [
       "<style>#sk-container-id-11 {\n",
       "  /* Definition of color scheme common for light and dark mode */\n",
       "  --sklearn-color-text: black;\n",
       "  --sklearn-color-line: gray;\n",
       "  /* Definition of color scheme for unfitted estimators */\n",
       "  --sklearn-color-unfitted-level-0: #fff5e6;\n",
       "  --sklearn-color-unfitted-level-1: #f6e4d2;\n",
       "  --sklearn-color-unfitted-level-2: #ffe0b3;\n",
       "  --sklearn-color-unfitted-level-3: chocolate;\n",
       "  /* Definition of color scheme for fitted estimators */\n",
       "  --sklearn-color-fitted-level-0: #f0f8ff;\n",
       "  --sklearn-color-fitted-level-1: #d4ebff;\n",
       "  --sklearn-color-fitted-level-2: #b3dbfd;\n",
       "  --sklearn-color-fitted-level-3: cornflowerblue;\n",
       "\n",
       "  /* Specific color for light theme */\n",
       "  --sklearn-color-text-on-default-background: var(--sg-text-color, var(--theme-code-foreground, var(--jp-content-font-color1, black)));\n",
       "  --sklearn-color-background: var(--sg-background-color, var(--theme-background, var(--jp-layout-color0, white)));\n",
       "  --sklearn-color-border-box: var(--sg-text-color, var(--theme-code-foreground, var(--jp-content-font-color1, black)));\n",
       "  --sklearn-color-icon: #696969;\n",
       "\n",
       "  @media (prefers-color-scheme: dark) {\n",
       "    /* Redefinition of color scheme for dark theme */\n",
       "    --sklearn-color-text-on-default-background: var(--sg-text-color, var(--theme-code-foreground, var(--jp-content-font-color1, white)));\n",
       "    --sklearn-color-background: var(--sg-background-color, var(--theme-background, var(--jp-layout-color0, #111)));\n",
       "    --sklearn-color-border-box: var(--sg-text-color, var(--theme-code-foreground, var(--jp-content-font-color1, white)));\n",
       "    --sklearn-color-icon: #878787;\n",
       "  }\n",
       "}\n",
       "\n",
       "#sk-container-id-11 {\n",
       "  color: var(--sklearn-color-text);\n",
       "}\n",
       "\n",
       "#sk-container-id-11 pre {\n",
       "  padding: 0;\n",
       "}\n",
       "\n",
       "#sk-container-id-11 input.sk-hidden--visually {\n",
       "  border: 0;\n",
       "  clip: rect(1px 1px 1px 1px);\n",
       "  clip: rect(1px, 1px, 1px, 1px);\n",
       "  height: 1px;\n",
       "  margin: -1px;\n",
       "  overflow: hidden;\n",
       "  padding: 0;\n",
       "  position: absolute;\n",
       "  width: 1px;\n",
       "}\n",
       "\n",
       "#sk-container-id-11 div.sk-dashed-wrapped {\n",
       "  border: 1px dashed var(--sklearn-color-line);\n",
       "  margin: 0 0.4em 0.5em 0.4em;\n",
       "  box-sizing: border-box;\n",
       "  padding-bottom: 0.4em;\n",
       "  background-color: var(--sklearn-color-background);\n",
       "}\n",
       "\n",
       "#sk-container-id-11 div.sk-container {\n",
       "  /* jupyter's `normalize.less` sets `[hidden] { display: none; }`\n",
       "     but bootstrap.min.css set `[hidden] { display: none !important; }`\n",
       "     so we also need the `!important` here to be able to override the\n",
       "     default hidden behavior on the sphinx rendered scikit-learn.org.\n",
       "     See: https://github.com/scikit-learn/scikit-learn/issues/21755 */\n",
       "  display: inline-block !important;\n",
       "  position: relative;\n",
       "}\n",
       "\n",
       "#sk-container-id-11 div.sk-text-repr-fallback {\n",
       "  display: none;\n",
       "}\n",
       "\n",
       "div.sk-parallel-item,\n",
       "div.sk-serial,\n",
       "div.sk-item {\n",
       "  /* draw centered vertical line to link estimators */\n",
       "  background-image: linear-gradient(var(--sklearn-color-text-on-default-background), var(--sklearn-color-text-on-default-background));\n",
       "  background-size: 2px 100%;\n",
       "  background-repeat: no-repeat;\n",
       "  background-position: center center;\n",
       "}\n",
       "\n",
       "/* Parallel-specific style estimator block */\n",
       "\n",
       "#sk-container-id-11 div.sk-parallel-item::after {\n",
       "  content: \"\";\n",
       "  width: 100%;\n",
       "  border-bottom: 2px solid var(--sklearn-color-text-on-default-background);\n",
       "  flex-grow: 1;\n",
       "}\n",
       "\n",
       "#sk-container-id-11 div.sk-parallel {\n",
       "  display: flex;\n",
       "  align-items: stretch;\n",
       "  justify-content: center;\n",
       "  background-color: var(--sklearn-color-background);\n",
       "  position: relative;\n",
       "}\n",
       "\n",
       "#sk-container-id-11 div.sk-parallel-item {\n",
       "  display: flex;\n",
       "  flex-direction: column;\n",
       "}\n",
       "\n",
       "#sk-container-id-11 div.sk-parallel-item:first-child::after {\n",
       "  align-self: flex-end;\n",
       "  width: 50%;\n",
       "}\n",
       "\n",
       "#sk-container-id-11 div.sk-parallel-item:last-child::after {\n",
       "  align-self: flex-start;\n",
       "  width: 50%;\n",
       "}\n",
       "\n",
       "#sk-container-id-11 div.sk-parallel-item:only-child::after {\n",
       "  width: 0;\n",
       "}\n",
       "\n",
       "/* Serial-specific style estimator block */\n",
       "\n",
       "#sk-container-id-11 div.sk-serial {\n",
       "  display: flex;\n",
       "  flex-direction: column;\n",
       "  align-items: center;\n",
       "  background-color: var(--sklearn-color-background);\n",
       "  padding-right: 1em;\n",
       "  padding-left: 1em;\n",
       "}\n",
       "\n",
       "\n",
       "/* Toggleable style: style used for estimator/Pipeline/ColumnTransformer box that is\n",
       "clickable and can be expanded/collapsed.\n",
       "- Pipeline and ColumnTransformer use this feature and define the default style\n",
       "- Estimators will overwrite some part of the style using the `sk-estimator` class\n",
       "*/\n",
       "\n",
       "/* Pipeline and ColumnTransformer style (default) */\n",
       "\n",
       "#sk-container-id-11 div.sk-toggleable {\n",
       "  /* Default theme specific background. It is overwritten whether we have a\n",
       "  specific estimator or a Pipeline/ColumnTransformer */\n",
       "  background-color: var(--sklearn-color-background);\n",
       "}\n",
       "\n",
       "/* Toggleable label */\n",
       "#sk-container-id-11 label.sk-toggleable__label {\n",
       "  cursor: pointer;\n",
       "  display: block;\n",
       "  width: 100%;\n",
       "  margin-bottom: 0;\n",
       "  padding: 0.5em;\n",
       "  box-sizing: border-box;\n",
       "  text-align: center;\n",
       "}\n",
       "\n",
       "#sk-container-id-11 label.sk-toggleable__label-arrow:before {\n",
       "  /* Arrow on the left of the label */\n",
       "  content: \"▸\";\n",
       "  float: left;\n",
       "  margin-right: 0.25em;\n",
       "  color: var(--sklearn-color-icon);\n",
       "}\n",
       "\n",
       "#sk-container-id-11 label.sk-toggleable__label-arrow:hover:before {\n",
       "  color: var(--sklearn-color-text);\n",
       "}\n",
       "\n",
       "/* Toggleable content - dropdown */\n",
       "\n",
       "#sk-container-id-11 div.sk-toggleable__content {\n",
       "  max-height: 0;\n",
       "  max-width: 0;\n",
       "  overflow: hidden;\n",
       "  text-align: left;\n",
       "  /* unfitted */\n",
       "  background-color: var(--sklearn-color-unfitted-level-0);\n",
       "}\n",
       "\n",
       "#sk-container-id-11 div.sk-toggleable__content.fitted {\n",
       "  /* fitted */\n",
       "  background-color: var(--sklearn-color-fitted-level-0);\n",
       "}\n",
       "\n",
       "#sk-container-id-11 div.sk-toggleable__content pre {\n",
       "  margin: 0.2em;\n",
       "  border-radius: 0.25em;\n",
       "  color: var(--sklearn-color-text);\n",
       "  /* unfitted */\n",
       "  background-color: var(--sklearn-color-unfitted-level-0);\n",
       "}\n",
       "\n",
       "#sk-container-id-11 div.sk-toggleable__content.fitted pre {\n",
       "  /* unfitted */\n",
       "  background-color: var(--sklearn-color-fitted-level-0);\n",
       "}\n",
       "\n",
       "#sk-container-id-11 input.sk-toggleable__control:checked~div.sk-toggleable__content {\n",
       "  /* Expand drop-down */\n",
       "  max-height: 200px;\n",
       "  max-width: 100%;\n",
       "  overflow: auto;\n",
       "}\n",
       "\n",
       "#sk-container-id-11 input.sk-toggleable__control:checked~label.sk-toggleable__label-arrow:before {\n",
       "  content: \"▾\";\n",
       "}\n",
       "\n",
       "/* Pipeline/ColumnTransformer-specific style */\n",
       "\n",
       "#sk-container-id-11 div.sk-label input.sk-toggleable__control:checked~label.sk-toggleable__label {\n",
       "  color: var(--sklearn-color-text);\n",
       "  background-color: var(--sklearn-color-unfitted-level-2);\n",
       "}\n",
       "\n",
       "#sk-container-id-11 div.sk-label.fitted input.sk-toggleable__control:checked~label.sk-toggleable__label {\n",
       "  background-color: var(--sklearn-color-fitted-level-2);\n",
       "}\n",
       "\n",
       "/* Estimator-specific style */\n",
       "\n",
       "/* Colorize estimator box */\n",
       "#sk-container-id-11 div.sk-estimator input.sk-toggleable__control:checked~label.sk-toggleable__label {\n",
       "  /* unfitted */\n",
       "  background-color: var(--sklearn-color-unfitted-level-2);\n",
       "}\n",
       "\n",
       "#sk-container-id-11 div.sk-estimator.fitted input.sk-toggleable__control:checked~label.sk-toggleable__label {\n",
       "  /* fitted */\n",
       "  background-color: var(--sklearn-color-fitted-level-2);\n",
       "}\n",
       "\n",
       "#sk-container-id-11 div.sk-label label.sk-toggleable__label,\n",
       "#sk-container-id-11 div.sk-label label {\n",
       "  /* The background is the default theme color */\n",
       "  color: var(--sklearn-color-text-on-default-background);\n",
       "}\n",
       "\n",
       "/* On hover, darken the color of the background */\n",
       "#sk-container-id-11 div.sk-label:hover label.sk-toggleable__label {\n",
       "  color: var(--sklearn-color-text);\n",
       "  background-color: var(--sklearn-color-unfitted-level-2);\n",
       "}\n",
       "\n",
       "/* Label box, darken color on hover, fitted */\n",
       "#sk-container-id-11 div.sk-label.fitted:hover label.sk-toggleable__label.fitted {\n",
       "  color: var(--sklearn-color-text);\n",
       "  background-color: var(--sklearn-color-fitted-level-2);\n",
       "}\n",
       "\n",
       "/* Estimator label */\n",
       "\n",
       "#sk-container-id-11 div.sk-label label {\n",
       "  font-family: monospace;\n",
       "  font-weight: bold;\n",
       "  display: inline-block;\n",
       "  line-height: 1.2em;\n",
       "}\n",
       "\n",
       "#sk-container-id-11 div.sk-label-container {\n",
       "  text-align: center;\n",
       "}\n",
       "\n",
       "/* Estimator-specific */\n",
       "#sk-container-id-11 div.sk-estimator {\n",
       "  font-family: monospace;\n",
       "  border: 1px dotted var(--sklearn-color-border-box);\n",
       "  border-radius: 0.25em;\n",
       "  box-sizing: border-box;\n",
       "  margin-bottom: 0.5em;\n",
       "  /* unfitted */\n",
       "  background-color: var(--sklearn-color-unfitted-level-0);\n",
       "}\n",
       "\n",
       "#sk-container-id-11 div.sk-estimator.fitted {\n",
       "  /* fitted */\n",
       "  background-color: var(--sklearn-color-fitted-level-0);\n",
       "}\n",
       "\n",
       "/* on hover */\n",
       "#sk-container-id-11 div.sk-estimator:hover {\n",
       "  /* unfitted */\n",
       "  background-color: var(--sklearn-color-unfitted-level-2);\n",
       "}\n",
       "\n",
       "#sk-container-id-11 div.sk-estimator.fitted:hover {\n",
       "  /* fitted */\n",
       "  background-color: var(--sklearn-color-fitted-level-2);\n",
       "}\n",
       "\n",
       "/* Specification for estimator info (e.g. \"i\" and \"?\") */\n",
       "\n",
       "/* Common style for \"i\" and \"?\" */\n",
       "\n",
       ".sk-estimator-doc-link,\n",
       "a:link.sk-estimator-doc-link,\n",
       "a:visited.sk-estimator-doc-link {\n",
       "  float: right;\n",
       "  font-size: smaller;\n",
       "  line-height: 1em;\n",
       "  font-family: monospace;\n",
       "  background-color: var(--sklearn-color-background);\n",
       "  border-radius: 1em;\n",
       "  height: 1em;\n",
       "  width: 1em;\n",
       "  text-decoration: none !important;\n",
       "  margin-left: 1ex;\n",
       "  /* unfitted */\n",
       "  border: var(--sklearn-color-unfitted-level-1) 1pt solid;\n",
       "  color: var(--sklearn-color-unfitted-level-1);\n",
       "}\n",
       "\n",
       ".sk-estimator-doc-link.fitted,\n",
       "a:link.sk-estimator-doc-link.fitted,\n",
       "a:visited.sk-estimator-doc-link.fitted {\n",
       "  /* fitted */\n",
       "  border: var(--sklearn-color-fitted-level-1) 1pt solid;\n",
       "  color: var(--sklearn-color-fitted-level-1);\n",
       "}\n",
       "\n",
       "/* On hover */\n",
       "div.sk-estimator:hover .sk-estimator-doc-link:hover,\n",
       ".sk-estimator-doc-link:hover,\n",
       "div.sk-label-container:hover .sk-estimator-doc-link:hover,\n",
       ".sk-estimator-doc-link:hover {\n",
       "  /* unfitted */\n",
       "  background-color: var(--sklearn-color-unfitted-level-3);\n",
       "  color: var(--sklearn-color-background);\n",
       "  text-decoration: none;\n",
       "}\n",
       "\n",
       "div.sk-estimator.fitted:hover .sk-estimator-doc-link.fitted:hover,\n",
       ".sk-estimator-doc-link.fitted:hover,\n",
       "div.sk-label-container:hover .sk-estimator-doc-link.fitted:hover,\n",
       ".sk-estimator-doc-link.fitted:hover {\n",
       "  /* fitted */\n",
       "  background-color: var(--sklearn-color-fitted-level-3);\n",
       "  color: var(--sklearn-color-background);\n",
       "  text-decoration: none;\n",
       "}\n",
       "\n",
       "/* Span, style for the box shown on hovering the info icon */\n",
       ".sk-estimator-doc-link span {\n",
       "  display: none;\n",
       "  z-index: 9999;\n",
       "  position: relative;\n",
       "  font-weight: normal;\n",
       "  right: .2ex;\n",
       "  padding: .5ex;\n",
       "  margin: .5ex;\n",
       "  width: min-content;\n",
       "  min-width: 20ex;\n",
       "  max-width: 50ex;\n",
       "  color: var(--sklearn-color-text);\n",
       "  box-shadow: 2pt 2pt 4pt #999;\n",
       "  /* unfitted */\n",
       "  background: var(--sklearn-color-unfitted-level-0);\n",
       "  border: .5pt solid var(--sklearn-color-unfitted-level-3);\n",
       "}\n",
       "\n",
       ".sk-estimator-doc-link.fitted span {\n",
       "  /* fitted */\n",
       "  background: var(--sklearn-color-fitted-level-0);\n",
       "  border: var(--sklearn-color-fitted-level-3);\n",
       "}\n",
       "\n",
       ".sk-estimator-doc-link:hover span {\n",
       "  display: block;\n",
       "}\n",
       "\n",
       "/* \"?\"-specific style due to the `<a>` HTML tag */\n",
       "\n",
       "#sk-container-id-11 a.estimator_doc_link {\n",
       "  float: right;\n",
       "  font-size: 1rem;\n",
       "  line-height: 1em;\n",
       "  font-family: monospace;\n",
       "  background-color: var(--sklearn-color-background);\n",
       "  border-radius: 1rem;\n",
       "  height: 1rem;\n",
       "  width: 1rem;\n",
       "  text-decoration: none;\n",
       "  /* unfitted */\n",
       "  color: var(--sklearn-color-unfitted-level-1);\n",
       "  border: var(--sklearn-color-unfitted-level-1) 1pt solid;\n",
       "}\n",
       "\n",
       "#sk-container-id-11 a.estimator_doc_link.fitted {\n",
       "  /* fitted */\n",
       "  border: var(--sklearn-color-fitted-level-1) 1pt solid;\n",
       "  color: var(--sklearn-color-fitted-level-1);\n",
       "}\n",
       "\n",
       "/* On hover */\n",
       "#sk-container-id-11 a.estimator_doc_link:hover {\n",
       "  /* unfitted */\n",
       "  background-color: var(--sklearn-color-unfitted-level-3);\n",
       "  color: var(--sklearn-color-background);\n",
       "  text-decoration: none;\n",
       "}\n",
       "\n",
       "#sk-container-id-11 a.estimator_doc_link.fitted:hover {\n",
       "  /* fitted */\n",
       "  background-color: var(--sklearn-color-fitted-level-3);\n",
       "}\n",
       "</style><div id=\"sk-container-id-11\" class=\"sk-top-container\"><div class=\"sk-text-repr-fallback\"><pre>LGBMRegressor(colsample_bytree=0.5762265539561713,\n",
       "              lambda_l1=0.005630795819099714, lambda_l2=0.056504100870946435,\n",
       "              learning_rate=0.04905465286224006, max_depth=10,\n",
       "              min_child_samples=42, n_estimators=595,\n",
       "              subsample=0.8111745024809555)</pre><b>In a Jupyter environment, please rerun this cell to show the HTML representation or trust the notebook. <br />On GitHub, the HTML representation is unable to render, please try loading this page with nbviewer.org.</b></div><div class=\"sk-container\" hidden><div class=\"sk-item\"><div class=\"sk-estimator fitted sk-toggleable\"><input class=\"sk-toggleable__control sk-hidden--visually\" id=\"sk-estimator-id-11\" type=\"checkbox\" checked><label for=\"sk-estimator-id-11\" class=\"sk-toggleable__label fitted sk-toggleable__label-arrow fitted\">&nbsp;LGBMRegressor<span class=\"sk-estimator-doc-link fitted\">i<span>Fitted</span></span></label><div class=\"sk-toggleable__content fitted\"><pre>LGBMRegressor(colsample_bytree=0.5762265539561713,\n",
       "              lambda_l1=0.005630795819099714, lambda_l2=0.056504100870946435,\n",
       "              learning_rate=0.04905465286224006, max_depth=10,\n",
       "              min_child_samples=42, n_estimators=595,\n",
       "              subsample=0.8111745024809555)</pre></div> </div></div></div></div>"
      ],
      "text/plain": [
       "LGBMRegressor(colsample_bytree=0.5762265539561713,\n",
       "              lambda_l1=0.005630795819099714, lambda_l2=0.056504100870946435,\n",
       "              learning_rate=0.04905465286224006, max_depth=10,\n",
       "              min_child_samples=42, n_estimators=595,\n",
       "              subsample=0.8111745024809555)"
      ]
     },
     "execution_count": 744,
     "metadata": {},
     "output_type": "execute_result"
    }
   ],
   "source": [
    "from lightgbm import LGBMRegressor\n",
    "model = LGBMRegressor(**best_params)\n",
    "model.fit(X_train, y_train)"
   ]
  },
  {
   "cell_type": "markdown",
   "metadata": {},
   "source": [
    "---"
   ]
  },
  {
   "cell_type": "markdown",
   "metadata": {},
   "source": [
    "# 評価"
   ]
  },
  {
   "cell_type": "code",
   "execution_count": 745,
   "metadata": {},
   "outputs": [
    {
     "name": "stdout",
     "output_type": "stream",
     "text": [
      "[LightGBM] [Warning] lambda_l1 is set=0.005630795819099714, reg_alpha=0.0 will be ignored. Current value: lambda_l1=0.005630795819099714\n",
      "[LightGBM] [Warning] lambda_l2 is set=0.056504100870946435, reg_lambda=0.0 will be ignored. Current value: lambda_l2=0.056504100870946435\n",
      "[LightGBM] [Warning] Accuracy may be bad since you didn't explicitly set num_leaves OR 2^max_depth > num_leaves. (num_leaves=31).\n"
     ]
    },
    {
     "data": {
      "text/plain": [
       "0.7149188783666007"
      ]
     },
     "execution_count": 745,
     "metadata": {},
     "output_type": "execute_result"
    }
   ],
   "source": [
    "model.score(X_train, y_train)"
   ]
  },
  {
   "cell_type": "code",
   "execution_count": 746,
   "metadata": {},
   "outputs": [
    {
     "name": "stdout",
     "output_type": "stream",
     "text": [
      "[LightGBM] [Warning] lambda_l1 is set=0.005630795819099714, reg_alpha=0.0 will be ignored. Current value: lambda_l1=0.005630795819099714\n",
      "[LightGBM] [Warning] lambda_l2 is set=0.056504100870946435, reg_lambda=0.0 will be ignored. Current value: lambda_l2=0.056504100870946435\n",
      "[LightGBM] [Warning] Accuracy may be bad since you didn't explicitly set num_leaves OR 2^max_depth > num_leaves. (num_leaves=31).\n"
     ]
    },
    {
     "data": {
      "text/plain": [
       "0.6713143336561522"
      ]
     },
     "execution_count": 746,
     "metadata": {},
     "output_type": "execute_result"
    }
   ],
   "source": [
    "model.score(X_test, y_test)"
   ]
  },
  {
   "cell_type": "code",
   "execution_count": 747,
   "metadata": {},
   "outputs": [
    {
     "name": "stdout",
     "output_type": "stream",
     "text": [
      "[LightGBM] [Warning] lambda_l1 is set=0.005630795819099714, reg_alpha=0.0 will be ignored. Current value: lambda_l1=0.005630795819099714\n",
      "[LightGBM] [Warning] lambda_l2 is set=0.056504100870946435, reg_lambda=0.0 will be ignored. Current value: lambda_l2=0.056504100870946435\n",
      "[LightGBM] [Warning] Accuracy may be bad since you didn't explicitly set num_leaves OR 2^max_depth > num_leaves. (num_leaves=31).\n",
      "[LightGBM] [Warning] lambda_l1 is set=0.005630795819099714, reg_alpha=0.0 will be ignored. Current value: lambda_l1=0.005630795819099714\n",
      "[LightGBM] [Warning] lambda_l2 is set=0.056504100870946435, reg_lambda=0.0 will be ignored. Current value: lambda_l2=0.056504100870946435\n",
      "[LightGBM] [Warning] Accuracy may be bad since you didn't explicitly set num_leaves OR 2^max_depth > num_leaves. (num_leaves=31).\n",
      "[LightGBM] [Info] Auto-choosing row-wise multi-threading, the overhead of testing was 0.000393 seconds.\n",
      "You can set `force_row_wise=true` to remove the overhead.\n",
      "And if memory is not enough, you can set `force_col_wise=true`.\n",
      "[LightGBM] [Info] Total Bins 1332\n",
      "[LightGBM] [Info] Number of data points in the train set: 72487, number of used features: 10\n",
      "[LightGBM] [Info] Start training from score 9.692966\n",
      "[LightGBM] [Warning] No further splits with positive gain, best gain: -inf\n",
      "[LightGBM] [Warning] No further splits with positive gain, best gain: -inf\n",
      "[LightGBM] [Warning] No further splits with positive gain, best gain: -inf\n",
      "[LightGBM] [Warning] No further splits with positive gain, best gain: -inf\n",
      "[LightGBM] [Warning] No further splits with positive gain, best gain: -inf\n",
      "[LightGBM] [Warning] No further splits with positive gain, best gain: -inf\n",
      "[LightGBM] [Warning] No further splits with positive gain, best gain: -inf\n",
      "[LightGBM] [Warning] No further splits with positive gain, best gain: -inf\n",
      "[LightGBM] [Warning] No further splits with positive gain, best gain: -inf\n",
      "[LightGBM] [Warning] No further splits with positive gain, best gain: -inf\n",
      "[LightGBM] [Warning] No further splits with positive gain, best gain: -inf\n",
      "[LightGBM] [Warning] No further splits with positive gain, best gain: -inf\n",
      "[LightGBM] [Warning] No further splits with positive gain, best gain: -inf\n",
      "[LightGBM] [Warning] No further splits with positive gain, best gain: -inf\n",
      "[LightGBM] [Warning] No further splits with positive gain, best gain: -inf\n",
      "[LightGBM] [Warning] No further splits with positive gain, best gain: -inf\n",
      "[LightGBM] [Warning] No further splits with positive gain, best gain: -inf\n",
      "[LightGBM] [Warning] No further splits with positive gain, best gain: -inf\n",
      "[LightGBM] [Warning] No further splits with positive gain, best gain: -inf\n",
      "[LightGBM] [Warning] No further splits with positive gain, best gain: -inf\n",
      "[LightGBM] [Warning] lambda_l1 is set=0.005630795819099714, reg_alpha=0.0 will be ignored. Current value: lambda_l1=0.005630795819099714\n",
      "[LightGBM] [Warning] lambda_l2 is set=0.056504100870946435, reg_lambda=0.0 will be ignored. Current value: lambda_l2=0.056504100870946435\n",
      "[LightGBM] [Warning] Accuracy may be bad since you didn't explicitly set num_leaves OR 2^max_depth > num_leaves. (num_leaves=31).\n",
      "RMSE: 1.821753699461719\n"
     ]
    }
   ],
   "source": [
    "from sklearn.metrics import mean_squared_error\n",
    "\n",
    "# 最適なハイパーパラメータを使用してモデルをトレーニングする\n",
    "best_lgbm_regressor = LGBMRegressor(**study.best_params)\n",
    "best_lgbm_regressor.fit(X_train, y_train)\n",
    "\n",
    "# テストデータでの予測を行う\n",
    "y_pred_test = best_lgbm_regressor.predict(X_test)\n",
    "\n",
    "# RMSEを計算する\n",
    "rmse = np.sqrt(mean_squared_error(y_test, y_pred_test))\n",
    "\n",
    "print(\"RMSE:\", rmse)\n"
   ]
  },
  {
   "cell_type": "markdown",
   "metadata": {},
   "source": [
    "決定係数の当てはまりの良さを<br><br>\n",
    "0.8<  精度良い<br>\n",
    "0.5<= 精度普通 <=0.8<br>\n",
    "0.5>  精度悪い<br><br>\n",
    "を参考に**0.8**を目指してみる。<br>\n",
    "\n",
    "基準モデル0.7130482126220046から開始"
   ]
  },
  {
   "cell_type": "markdown",
   "metadata": {},
   "source": []
  },
  {
   "cell_type": "markdown",
   "metadata": {},
   "source": [
    "---"
   ]
  },
  {
   "cell_type": "code",
   "execution_count": 748,
   "metadata": {},
   "outputs": [
    {
     "data": {
      "text/plain": [
       "\"learn_log = pd.read_csv('learn_log1.csv')\\nlearn_log.tail()\""
      ]
     },
     "execution_count": 748,
     "metadata": {},
     "output_type": "execute_result"
    }
   ],
   "source": [
    "'''learn_log = pd.read_csv('learn_log1.csv')\n",
    "learn_log.tail()'''"
   ]
  },
  {
   "cell_type": "markdown",
   "metadata": {},
   "source": [
    "---"
   ]
  },
  {
   "cell_type": "code",
   "execution_count": 749,
   "metadata": {},
   "outputs": [
    {
     "name": "stdout",
     "output_type": "stream",
     "text": [
      "[LightGBM] [Warning] lambda_l1 is set=0.005630795819099714, reg_alpha=0.0 will be ignored. Current value: lambda_l1=0.005630795819099714\n",
      "[LightGBM] [Warning] lambda_l2 is set=0.056504100870946435, reg_lambda=0.0 will be ignored. Current value: lambda_l2=0.056504100870946435\n",
      "[LightGBM] [Warning] Accuracy may be bad since you didn't explicitly set num_leaves OR 2^max_depth > num_leaves. (num_leaves=31).\n"
     ]
    }
   ],
   "source": [
    "features = df_test.drop(['id'], axis=1)\n",
    "predictions = model.predict(features)"
   ]
  },
  {
   "cell_type": "code",
   "execution_count": 750,
   "metadata": {},
   "outputs": [],
   "source": [
    "submission = pd.DataFrame()\n",
    "submission['id']=df_test['id']\n",
    "submission['Rings']=predictions"
   ]
  },
  {
   "cell_type": "code",
   "execution_count": 751,
   "metadata": {},
   "outputs": [
    {
     "data": {
      "text/html": [
       "<div>\n",
       "<style scoped>\n",
       "    .dataframe tbody tr th:only-of-type {\n",
       "        vertical-align: middle;\n",
       "    }\n",
       "\n",
       "    .dataframe tbody tr th {\n",
       "        vertical-align: top;\n",
       "    }\n",
       "\n",
       "    .dataframe thead th {\n",
       "        text-align: right;\n",
       "    }\n",
       "</style>\n",
       "<table border=\"1\" class=\"dataframe\">\n",
       "  <thead>\n",
       "    <tr style=\"text-align: right;\">\n",
       "      <th></th>\n",
       "      <th>id</th>\n",
       "      <th>Rings</th>\n",
       "    </tr>\n",
       "  </thead>\n",
       "  <tbody>\n",
       "    <tr>\n",
       "      <th>0</th>\n",
       "      <td>90615</td>\n",
       "      <td>9.740032</td>\n",
       "    </tr>\n",
       "    <tr>\n",
       "      <th>1</th>\n",
       "      <td>90616</td>\n",
       "      <td>9.689813</td>\n",
       "    </tr>\n",
       "    <tr>\n",
       "      <th>2</th>\n",
       "      <td>90617</td>\n",
       "      <td>9.953132</td>\n",
       "    </tr>\n",
       "    <tr>\n",
       "      <th>3</th>\n",
       "      <td>90618</td>\n",
       "      <td>10.606655</td>\n",
       "    </tr>\n",
       "    <tr>\n",
       "      <th>4</th>\n",
       "      <td>90619</td>\n",
       "      <td>7.597403</td>\n",
       "    </tr>\n",
       "    <tr>\n",
       "      <th>...</th>\n",
       "      <td>...</td>\n",
       "      <td>...</td>\n",
       "    </tr>\n",
       "    <tr>\n",
       "      <th>60406</th>\n",
       "      <td>151021</td>\n",
       "      <td>6.331993</td>\n",
       "    </tr>\n",
       "    <tr>\n",
       "      <th>60407</th>\n",
       "      <td>151022</td>\n",
       "      <td>9.403474</td>\n",
       "    </tr>\n",
       "    <tr>\n",
       "      <th>60408</th>\n",
       "      <td>151023</td>\n",
       "      <td>12.818620</td>\n",
       "    </tr>\n",
       "    <tr>\n",
       "      <th>60409</th>\n",
       "      <td>151024</td>\n",
       "      <td>13.570355</td>\n",
       "    </tr>\n",
       "    <tr>\n",
       "      <th>60410</th>\n",
       "      <td>151025</td>\n",
       "      <td>8.285369</td>\n",
       "    </tr>\n",
       "  </tbody>\n",
       "</table>\n",
       "<p>60411 rows × 2 columns</p>\n",
       "</div>"
      ],
      "text/plain": [
       "           id      Rings\n",
       "0       90615   9.740032\n",
       "1       90616   9.689813\n",
       "2       90617   9.953132\n",
       "3       90618  10.606655\n",
       "4       90619   7.597403\n",
       "...       ...        ...\n",
       "60406  151021   6.331993\n",
       "60407  151022   9.403474\n",
       "60408  151023  12.818620\n",
       "60409  151024  13.570355\n",
       "60410  151025   8.285369\n",
       "\n",
       "[60411 rows x 2 columns]"
      ]
     },
     "execution_count": 751,
     "metadata": {},
     "output_type": "execute_result"
    }
   ],
   "source": [
    "submission"
   ]
  },
  {
   "cell_type": "code",
   "execution_count": 752,
   "metadata": {},
   "outputs": [],
   "source": [
    "submission.to_csv('submission.csv', index=False)"
   ]
  },
  {
   "cell_type": "code",
   "execution_count": 753,
   "metadata": {},
   "outputs": [
    {
     "data": {
      "text/plain": [
       "\"\\nimport graphviz\\nfrom lightgbm import plot_tree\\n\\n# ツリーのインデックスを指定\\ntree_index = 0\\n\\n# ツリーを可視化\\ndot_data = plot_tree(model, tree_index=tree_index)\\ngraph = graphviz.Source(dot_data)\\ngraph.render(filename='tree_visualization', format='png', cleanup=True, directory='./')  \\n\""
      ]
     },
     "execution_count": 753,
     "metadata": {},
     "output_type": "execute_result"
    }
   ],
   "source": [
    "'''\n",
    "import graphviz\n",
    "from lightgbm import plot_tree\n",
    "\n",
    "# ツリーのインデックスを指定\n",
    "tree_index = 0\n",
    "\n",
    "# ツリーを可視化\n",
    "dot_data = plot_tree(model, tree_index=tree_index)\n",
    "graph = graphviz.Source(dot_data)\n",
    "graph.render(filename='tree_visualization', format='png', cleanup=True, directory='./')  \n",
    "'''"
   ]
  },
  {
   "cell_type": "markdown",
   "metadata": {},
   "source": [
    "4/13<br>\n",
    "稼働中のkaggleプレイグラウンド:アワビの年齢当て挑戦開始。<br>\n",
    "やったことのある重回帰分析にてとりあえず提出してみる。<br>\n",
    "マイナスが含まれるため平均二乗対数誤差が使用できませんとエラーがでる。<br>\n",
    "そもそも平均二乗対数誤差て。重回帰じゃないということか？<br>\n",
    "↓<br>\n",
    "4/15<br>\n",
    "予測モデルの学習を手筋に倣って初手LGBM。FirstEntry成功。872/1450位<br>\n",
    "↓<br>\n",
    "4/20<br>\n",
    "Code参考にしてパラメータ写経。602/1845位"
   ]
  }
 ],
 "metadata": {
  "kernelspec": {
   "display_name": "Python 3",
   "language": "python",
   "name": "python3"
  },
  "language_info": {
   "codemirror_mode": {
    "name": "ipython",
    "version": 3
   },
   "file_extension": ".py",
   "mimetype": "text/x-python",
   "name": "python",
   "nbconvert_exporter": "python",
   "pygments_lexer": "ipython3",
   "version": "3.11.9"
  }
 },
 "nbformat": 4,
 "nbformat_minor": 2
}
